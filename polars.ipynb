{
 "cells": [
  {
   "cell_type": "code",
   "execution_count": 1,
   "id": "a827612f-43a9-4268-a6e8-4d5899fe67a3",
   "metadata": {},
   "outputs": [],
   "source": [
    "# !pip install polars\n",
    "# !poetry add polars"
   ]
  },
  {
   "cell_type": "code",
   "execution_count": 38,
   "id": "febadf8b-8135-4c03-950d-f42d02245a85",
   "metadata": {},
   "outputs": [],
   "source": [
    "import polars as pl"
   ]
  },
  {
   "attachments": {},
   "cell_type": "markdown",
   "id": "8ad9eed4-b7d0-4e7b-b128-5930c109cd39",
   "metadata": {},
   "source": [
    "### Polars - Blazingly Fast DataFrame Library\n",
    "\n",
    "<img src=\"images/polars_github_banner.svg\" alt=\"drawing\" width=\"500\"/>\n",
    "\n",
    "* [Fancy website](https://pola.rs/)\n",
    "* [GitHub](https://github.com/pola-rs/polars)\n",
    "* [User guide](https://docs.pola.rs/) <-- Очень советую &#x1F525;\n",
    "* [Docs](https://docs.pola.rs/api/python/stable/reference/index.html)"
   ]
  },
  {
   "cell_type": "code",
   "execution_count": 84,
   "id": "2124036b-b295-4e3c-8660-25d593b7c5bd",
   "metadata": {},
   "outputs": [],
   "source": [
    "from datetime import datetime\n",
    "import psutil"
   ]
  },
  {
   "cell_type": "markdown",
   "id": "883c25c5-4436-440d-8442-32af092a302d",
   "metadata": {},
   "source": [
    "#### Reading the data"
   ]
  },
  {
   "cell_type": "code",
   "execution_count": 103,
   "id": "4936a44b-c457-424a-9627-39db01c9295b",
   "metadata": {},
   "outputs": [],
   "source": [
    "df = pl.read_csv(\"data/dummy_dataset_small.csv\")\n",
    "# df.to_csv(path)"
   ]
  },
  {
   "cell_type": "code",
   "execution_count": 104,
   "id": "403cbf37-8b86-41ff-87b2-d681c1f11095",
   "metadata": {},
   "outputs": [
    {
     "data": {
      "text/html": [
       "<div><style>\n",
       ".dataframe > thead > tr,\n",
       ".dataframe > tbody > tr {\n",
       "  text-align: right;\n",
       "  white-space: pre-wrap;\n",
       "}\n",
       "</style>\n",
       "<small>shape: (100_000, 24)</small><table border=\"1\" class=\"dataframe\"><thead><tr><th>id</th><th>name</th><th>birth_date</th><th>hair_color</th><th>is_MU_fan</th><th>iq</th><th>accession_month</th><th>balance</th><th>debt</th><th>country</th><th>city</th><th>street_name</th><th>building_number</th><th>coordinate</th><th>license_plate</th><th>vin</th><th>swift</th><th>company_name</th><th>company_suffix</th><th>job_name</th><th>credit_card_expire</th><th>credit_card_number</th><th>credit_card_security_code</th><th>currency</th></tr><tr><td>i64</td><td>str</td><td>str</td><td>str</td><td>bool</td><td>i64</td><td>i64</td><td>f64</td><td>f64</td><td>str</td><td>str</td><td>str</td><td>i64</td><td>f64</td><td>str</td><td>str</td><td>str</td><td>str</td><td>str</td><td>str</td><td>str</td><td>i64</td><td>i64</td><td>str</td></tr></thead><tbody><tr><td>1379</td><td>&quot;Amber&quot;</td><td>&quot;1998-02-15&quot;</td><td>&quot;Turquoise&quot;</td><td>false</td><td>580</td><td>5</td><td>7.9476e8</td><td>2.1117e9</td><td>&quot;Portugal&quot;</td><td>&quot;East Joannafort&quot;</td><td>&quot;Matthew Estate&quot;</td><td>532</td><td>156.875421</td><td>&quot;77X•751&quot;</td><td>&quot;X2ZCH6JJX6XG0GYFY&quot;</td><td>&quot;NEXTGBHN&quot;</td><td>&quot;Patrick LLC&quot;</td><td>&quot;PLC&quot;</td><td>&quot;Furniture designer&quot;</td><td>&quot;02/26&quot;</td><td>3554507453178061</td><td>162</td><td>&quot;OMR&quot;</td></tr><tr><td>544</td><td>&quot;Karen&quot;</td><td>&quot;2018-09-06&quot;</td><td>&quot;MediumOrchid&quot;</td><td>true</td><td>241</td><td>8</td><td>4.8810e8</td><td>6.8856e9</td><td>&quot;Reunion&quot;</td><td>&quot;Lindaside&quot;</td><td>&quot;Chloe Forest&quot;</td><td>4333</td><td>112.248561</td><td>&quot;05S UF6&quot;</td><td>&quot;Y6Z43F7Y3JGD3KYCE&quot;</td><td>&quot;NNNBGBYS&quot;</td><td>&quot;Mckee Inc&quot;</td><td>&quot;Ltd&quot;</td><td>&quot;Therapist, drama&quot;</td><td>&quot;06/28&quot;</td><td>2517381416513097</td><td>990</td><td>&quot;MMK&quot;</td></tr><tr><td>5667</td><td>&quot;John&quot;</td><td>&quot;2020-11-04&quot;</td><td>&quot;MintCream&quot;</td><td>true</td><td>680</td><td>5</td><td>3.4368e8</td><td>8.7849e9</td><td>&quot;Mongolia&quot;</td><td>&quot;Aaronborough&quot;</td><td>&quot;Logan Lakes&quot;</td><td>49216</td><td>-103.165232</td><td>&quot;191 1GP&quot;</td><td>&quot;RBJ4K19M8T6MTYX5U&quot;</td><td>&quot;EVJLGBNO&quot;</td><td>&quot;Thompson-Choi&quot;</td><td>&quot;Group&quot;</td><td>&quot;Cabin crew&quot;</td><td>&quot;05/27&quot;</td><td>2257264598104972</td><td>79</td><td>&quot;CDF&quot;</td></tr><tr><td>8606</td><td>&quot;Tiffany&quot;</td><td>&quot;2018-06-27&quot;</td><td>&quot;GhostWhite&quot;</td><td>true</td><td>20</td><td>9</td><td>9.8101e8</td><td>7.9324e9</td><td>&quot;Germany&quot;</td><td>&quot;Jillborough&quot;</td><td>&quot;Hess Street&quot;</td><td>55944</td><td>-40.574345</td><td>&quot;05E T01&quot;</td><td>&quot;468207YG6CHZU10CB&quot;</td><td>&quot;MDYQGBH7&quot;</td><td>&quot;Solomon LLC&quot;</td><td>&quot;PLC&quot;</td><td>&quot;Accommodation manager&quot;</td><td>&quot;11/26&quot;</td><td>3560664812925229</td><td>206</td><td>&quot;IDR&quot;</td></tr><tr><td>3341</td><td>&quot;Stacy&quot;</td><td>&quot;2001-05-01&quot;</td><td>&quot;Olive&quot;</td><td>false</td><td>984</td><td>7</td><td>4.6134e7</td><td>7.2156e9</td><td>&quot;Rwanda&quot;</td><td>&quot;East Noahfort&quot;</td><td>&quot;Shannon Bridge&quot;</td><td>61265</td><td>58.009005</td><td>&quot;0NP Z16&quot;</td><td>&quot;TKSNHAT6XK15HCE5Y&quot;</td><td>&quot;KGSCGB6U&quot;</td><td>&quot;Cook, Osborne and Rodriguez&quot;</td><td>&quot;LLC&quot;</td><td>&quot;Dentist&quot;</td><td>&quot;05/32&quot;</td><td>3533986016849507</td><td>911</td><td>&quot;TWD&quot;</td></tr><tr><td>&hellip;</td><td>&hellip;</td><td>&hellip;</td><td>&hellip;</td><td>&hellip;</td><td>&hellip;</td><td>&hellip;</td><td>&hellip;</td><td>&hellip;</td><td>&hellip;</td><td>&hellip;</td><td>&hellip;</td><td>&hellip;</td><td>&hellip;</td><td>&hellip;</td><td>&hellip;</td><td>&hellip;</td><td>&hellip;</td><td>&hellip;</td><td>&hellip;</td><td>&hellip;</td><td>&hellip;</td><td>&hellip;</td><td>&hellip;</td></tr><tr><td>9324</td><td>&quot;Steven&quot;</td><td>&quot;2011-08-25&quot;</td><td>&quot;MediumSpringGreen&quot;</td><td>false</td><td>119</td><td>3</td><td>3.8841e8</td><td>5.0166e9</td><td>&quot;Cook Islands&quot;</td><td>&quot;Harrisonborough&quot;</td><td>&quot;Daniel Crossroad&quot;</td><td>7354</td><td>174.913797</td><td>&quot;164-KPG&quot;</td><td>&quot;17MAVPKN1NHGF2XTD&quot;</td><td>&quot;BTBRGB7P&quot;</td><td>&quot;Simmons-Jenkins&quot;</td><td>&quot;and Sons&quot;</td><td>&quot;Speech and language therapist&quot;</td><td>&quot;07/32&quot;</td><td>4363818815761</td><td>629</td><td>&quot;KMF&quot;</td></tr><tr><td>1441</td><td>&quot;Lauren&quot;</td><td>&quot;1999-12-03&quot;</td><td>&quot;DarkRed&quot;</td><td>false</td><td>945</td><td>10</td><td>1.6875e8</td><td>5.1005e9</td><td>&quot;Kiribati&quot;</td><td>&quot;Cindyburgh&quot;</td><td>&quot;Teresa Knoll&quot;</td><td>298</td><td>-102.709206</td><td>&quot;OVO 2594&quot;</td><td>&quot;DJ8NE5P473JMG4URW&quot;</td><td>&quot;IRZGGBNB&quot;</td><td>&quot;Duncan LLC&quot;</td><td>&quot;Ltd&quot;</td><td>&quot;Speech and language therapist&quot;</td><td>&quot;06/28&quot;</td><td>4147990902517</td><td>519</td><td>&quot;MXN&quot;</td></tr><tr><td>1015</td><td>&quot;Lisa&quot;</td><td>&quot;2008-05-18&quot;</td><td>&quot;DarkRed&quot;</td><td>false</td><td>756</td><td>3</td><td>9.4986e7</td><td>3.8826e9</td><td>&quot;Tanzania&quot;</td><td>&quot;Mackland&quot;</td><td>&quot;Stephen Creek&quot;</td><td>69884</td><td>134.259281</td><td>&quot;UL 61636&quot;</td><td>&quot;FAZ6BV954197FHY7V&quot;</td><td>&quot;XXBJGBTJ&quot;</td><td>&quot;Lane Group&quot;</td><td>&quot;Group&quot;</td><td>&quot;Graphic designer&quot;</td><td>&quot;08/33&quot;</td><td>4766046862604079468</td><td>865</td><td>&quot;DOP&quot;</td></tr><tr><td>1139</td><td>&quot;David&quot;</td><td>&quot;2016-10-20&quot;</td><td>&quot;DarkKhaki&quot;</td><td>true</td><td>530</td><td>2</td><td>6.1544e8</td><td>1.0767e9</td><td>&quot;Puerto Rico&quot;</td><td>&quot;New Elizabethstad&quot;</td><td>&quot;Hayes Forge&quot;</td><td>2582</td><td>-9.646405</td><td>&quot;1GM 124&quot;</td><td>&quot;6E16RZ3V4B49B4ZKM&quot;</td><td>&quot;AOEYGB3A&quot;</td><td>&quot;Fisher LLC&quot;</td><td>&quot;Inc&quot;</td><td>&quot;Occupational psychologist&quot;</td><td>&quot;02/31&quot;</td><td>30526646532133</td><td>956</td><td>&quot;UZS&quot;</td></tr><tr><td>1217</td><td>&quot;Samantha&quot;</td><td>&quot;2004-05-26&quot;</td><td>&quot;LightCyan&quot;</td><td>false</td><td>104</td><td>12</td><td>8.4974e8</td><td>1.5757e9</td><td>&quot;Denmark&quot;</td><td>&quot;Port Allenland&quot;</td><td>&quot;Brooks Villages&quot;</td><td>6544</td><td>-105.041018</td><td>&quot;250-VAPY&quot;</td><td>&quot;3FCLSPCE2750HNW86&quot;</td><td>&quot;OHEVGBGK&quot;</td><td>&quot;Ortiz and Sons&quot;</td><td>&quot;Ltd&quot;</td><td>&quot;Trade union research officer&quot;</td><td>&quot;05/31&quot;</td><td>4387113582642686420</td><td>966</td><td>&quot;GNF&quot;</td></tr></tbody></table></div>"
      ],
      "text/plain": [
       "shape: (100_000, 24)\n",
       "┌──────┬──────────┬────────────┬─────────────┬───┬────────────┬────────────┬────────────┬──────────┐\n",
       "│ id   ┆ name     ┆ birth_date ┆ hair_color  ┆ … ┆ credit_car ┆ credit_car ┆ credit_car ┆ currency │\n",
       "│ ---  ┆ ---      ┆ ---        ┆ ---         ┆   ┆ d_expire   ┆ d_number   ┆ d_security ┆ ---      │\n",
       "│ i64  ┆ str      ┆ str        ┆ str         ┆   ┆ ---        ┆ ---        ┆ _code      ┆ str      │\n",
       "│      ┆          ┆            ┆             ┆   ┆ str        ┆ i64        ┆ ---        ┆          │\n",
       "│      ┆          ┆            ┆             ┆   ┆            ┆            ┆ i64        ┆          │\n",
       "╞══════╪══════════╪════════════╪═════════════╪═══╪════════════╪════════════╪════════════╪══════════╡\n",
       "│ 1379 ┆ Amber    ┆ 1998-02-15 ┆ Turquoise   ┆ … ┆ 02/26      ┆ 3554507453 ┆ 162        ┆ OMR      │\n",
       "│      ┆          ┆            ┆             ┆   ┆            ┆ 178061     ┆            ┆          │\n",
       "│ 544  ┆ Karen    ┆ 2018-09-06 ┆ MediumOrchi ┆ … ┆ 06/28      ┆ 2517381416 ┆ 990        ┆ MMK      │\n",
       "│      ┆          ┆            ┆ d           ┆   ┆            ┆ 513097     ┆            ┆          │\n",
       "│ 5667 ┆ John     ┆ 2020-11-04 ┆ MintCream   ┆ … ┆ 05/27      ┆ 2257264598 ┆ 79         ┆ CDF      │\n",
       "│      ┆          ┆            ┆             ┆   ┆            ┆ 104972     ┆            ┆          │\n",
       "│ 8606 ┆ Tiffany  ┆ 2018-06-27 ┆ GhostWhite  ┆ … ┆ 11/26      ┆ 3560664812 ┆ 206        ┆ IDR      │\n",
       "│      ┆          ┆            ┆             ┆   ┆            ┆ 925229     ┆            ┆          │\n",
       "│ 3341 ┆ Stacy    ┆ 2001-05-01 ┆ Olive       ┆ … ┆ 05/32      ┆ 3533986016 ┆ 911        ┆ TWD      │\n",
       "│      ┆          ┆            ┆             ┆   ┆            ┆ 849507     ┆            ┆          │\n",
       "│ …    ┆ …        ┆ …          ┆ …           ┆ … ┆ …          ┆ …          ┆ …          ┆ …        │\n",
       "│ 9324 ┆ Steven   ┆ 2011-08-25 ┆ MediumSprin ┆ … ┆ 07/32      ┆ 4363818815 ┆ 629        ┆ KMF      │\n",
       "│      ┆          ┆            ┆ gGreen      ┆   ┆            ┆ 761        ┆            ┆          │\n",
       "│ 1441 ┆ Lauren   ┆ 1999-12-03 ┆ DarkRed     ┆ … ┆ 06/28      ┆ 4147990902 ┆ 519        ┆ MXN      │\n",
       "│      ┆          ┆            ┆             ┆   ┆            ┆ 517        ┆            ┆          │\n",
       "│ 1015 ┆ Lisa     ┆ 2008-05-18 ┆ DarkRed     ┆ … ┆ 08/33      ┆ 4766046862 ┆ 865        ┆ DOP      │\n",
       "│      ┆          ┆            ┆             ┆   ┆            ┆ 604079468  ┆            ┆          │\n",
       "│ 1139 ┆ David    ┆ 2016-10-20 ┆ DarkKhaki   ┆ … ┆ 02/31      ┆ 3052664653 ┆ 956        ┆ UZS      │\n",
       "│      ┆          ┆            ┆             ┆   ┆            ┆ 2133       ┆            ┆          │\n",
       "│ 1217 ┆ Samantha ┆ 2004-05-26 ┆ LightCyan   ┆ … ┆ 05/31      ┆ 4387113582 ┆ 966        ┆ GNF      │\n",
       "│      ┆          ┆            ┆             ┆   ┆            ┆ 642686420  ┆            ┆          │\n",
       "└──────┴──────────┴────────────┴─────────────┴───┴────────────┴────────────┴────────────┴──────────┘"
      ]
     },
     "execution_count": 104,
     "metadata": {},
     "output_type": "execute_result"
    }
   ],
   "source": [
    "df"
   ]
  },
  {
   "cell_type": "code",
   "execution_count": 105,
   "id": "366747c7-f392-4b5f-98a5-1fdbeed30bff",
   "metadata": {},
   "outputs": [
    {
     "data": {
      "text/html": [
       "<div><style>\n",
       ".dataframe > thead > tr,\n",
       ".dataframe > tbody > tr {\n",
       "  text-align: right;\n",
       "  white-space: pre-wrap;\n",
       "}\n",
       "</style>\n",
       "<small>shape: (9, 25)</small><table border=\"1\" class=\"dataframe\"><thead><tr><th>statistic</th><th>id</th><th>name</th><th>birth_date</th><th>hair_color</th><th>is_MU_fan</th><th>iq</th><th>accession_month</th><th>balance</th><th>debt</th><th>country</th><th>city</th><th>street_name</th><th>building_number</th><th>coordinate</th><th>license_plate</th><th>vin</th><th>swift</th><th>company_name</th><th>company_suffix</th><th>job_name</th><th>credit_card_expire</th><th>credit_card_number</th><th>credit_card_security_code</th><th>currency</th></tr><tr><td>str</td><td>f64</td><td>str</td><td>str</td><td>str</td><td>f64</td><td>f64</td><td>f64</td><td>f64</td><td>f64</td><td>str</td><td>str</td><td>str</td><td>f64</td><td>f64</td><td>str</td><td>str</td><td>str</td><td>str</td><td>str</td><td>str</td><td>str</td><td>f64</td><td>f64</td><td>str</td></tr></thead><tbody><tr><td>&quot;count&quot;</td><td>100000.0</td><td>&quot;100000&quot;</td><td>&quot;100000&quot;</td><td>&quot;100000&quot;</td><td>100000.0</td><td>100000.0</td><td>100000.0</td><td>100000.0</td><td>100000.0</td><td>&quot;100000&quot;</td><td>&quot;100000&quot;</td><td>&quot;100000&quot;</td><td>100000.0</td><td>100000.0</td><td>&quot;100000&quot;</td><td>&quot;100000&quot;</td><td>&quot;100000&quot;</td><td>&quot;100000&quot;</td><td>&quot;100000&quot;</td><td>&quot;100000&quot;</td><td>&quot;100000&quot;</td><td>100000.0</td><td>100000.0</td><td>&quot;100000&quot;</td></tr><tr><td>&quot;null_count&quot;</td><td>0.0</td><td>&quot;0&quot;</td><td>&quot;0&quot;</td><td>&quot;0&quot;</td><td>0.0</td><td>0.0</td><td>0.0</td><td>0.0</td><td>0.0</td><td>&quot;0&quot;</td><td>&quot;0&quot;</td><td>&quot;0&quot;</td><td>0.0</td><td>0.0</td><td>&quot;0&quot;</td><td>&quot;0&quot;</td><td>&quot;0&quot;</td><td>&quot;0&quot;</td><td>&quot;0&quot;</td><td>&quot;0&quot;</td><td>&quot;0&quot;</td><td>0.0</td><td>0.0</td><td>&quot;0&quot;</td></tr><tr><td>&quot;mean&quot;</td><td>5001.01494</td><td>null</td><td>null</td><td>null</td><td>0.50174</td><td>499.61479</td><td>6.5039</td><td>4.9833e8</td><td>5.0015e9</td><td>null</td><td>null</td><td>null</td><td>18426.21462</td><td>-0.42714</td><td>null</td><td>null</td><td>null</td><td>null</td><td>null</td><td>null</td><td>null</td><td>3.7464e17</td><td>881.94056</td><td>null</td></tr><tr><td>&quot;std&quot;</td><td>2881.062258</td><td>null</td><td>null</td><td>null</td><td>null</td><td>289.334849</td><td>3.444242</td><td>2.8816e8</td><td>2.8926e9</td><td>null</td><td>null</td><td>null</td><td>27886.376618</td><td>103.875998</td><td>null</td><td>null</td><td>null</td><td>null</td><td>null</td><td>null</td><td>null</td><td>1.2425e18</td><td>1543.585828</td><td>null</td></tr><tr><td>&quot;min&quot;</td><td>0.0</td><td>&quot;Aaron&quot;</td><td>&quot;1994-08-14&quot;</td><td>&quot;AliceBlue&quot;</td><td>0.0</td><td>0.0</td><td>1.0</td><td>13579.321811</td><td>56224.573411</td><td>&quot;Afghanistan&quot;</td><td>&quot;Aaronberg&quot;</td><td>&quot;Aaron Bridge&quot;</td><td>0.0</td><td>-179.99954</td><td>&quot;0-00113&quot;</td><td>&quot;0004EX99XRJK0ERZ1&quot;</td><td>&quot;AAAEGBYP&quot;</td><td>&quot;Abbott Group&quot;</td><td>&quot;Group&quot;</td><td>&quot;Academic librarian&quot;</td><td>&quot;01/25&quot;</td><td>6.0400e10</td><td>0.0</td><td>&quot;AED&quot;</td></tr><tr><td>&quot;25%&quot;</td><td>2509.0</td><td>null</td><td>null</td><td>null</td><td>null</td><td>248.0</td><td>4.0</td><td>2.4863e8</td><td>2.4948e9</td><td>null</td><td>null</td><td>null</td><td>677.0</td><td>-90.104538</td><td>null</td><td>null</td><td>null</td><td>null</td><td>null</td><td>null</td><td>null</td><td>3.8945e13</td><td>270.0</td><td>null</td></tr><tr><td>&quot;50%&quot;</td><td>5002.0</td><td>null</td><td>null</td><td>null</td><td>null</td><td>499.0</td><td>7.0</td><td>4.9787e8</td><td>4.9999e9</td><td>null</td><td>null</td><td>null</td><td>4515.0</td><td>-0.230158</td><td>null</td><td>null</td><td>null</td><td>null</td><td>null</td><td>null</td><td>null</td><td>3.5123e15</td><td>538.0</td><td>null</td></tr><tr><td>&quot;75%&quot;</td><td>7490.0</td><td>null</td><td>null</td><td>null</td><td>null</td><td>750.0</td><td>9.0</td><td>7.4711e8</td><td>7.5048e9</td><td>null</td><td>null</td><td>null</td><td>24679.0</td><td>89.387846</td><td>null</td><td>null</td><td>null</td><td>null</td><td>null</td><td>null</td><td>null</td><td>4.6208e15</td><td>810.0</td><td>null</td></tr><tr><td>&quot;max&quot;</td><td>9999.0</td><td>&quot;Zoe&quot;</td><td>&quot;2024-08-13&quot;</td><td>&quot;YellowGreen&quot;</td><td>1.0</td><td>999.0</td><td>12.0</td><td>9.9999e8</td><td>1.0000e10</td><td>&quot;Zimbabwe&quot;</td><td>&quot;Zunigaview&quot;</td><td>&quot;Zuniga Turnpike&quot;</td><td>99999.0</td><td>179.997304</td><td>&quot;ZZZ-3583&quot;</td><td>&quot;ZZZYTETF7T8VA4X2H&quot;</td><td>&quot;ZZZUGB54&quot;</td><td>&quot;Zuniga-Richards&quot;</td><td>&quot;and Sons&quot;</td><td>&quot;Youth worker&quot;</td><td>&quot;12/33&quot;</td><td>4.9999e18</td><td>9999.0</td><td>&quot;ZWD&quot;</td></tr></tbody></table></div>"
      ],
      "text/plain": [
       "shape: (9, 25)\n",
       "┌────────────┬────────────┬────────┬────────────┬───┬───────────┬───────────┬───────────┬──────────┐\n",
       "│ statistic  ┆ id         ┆ name   ┆ birth_date ┆ … ┆ credit_ca ┆ credit_ca ┆ credit_ca ┆ currency │\n",
       "│ ---        ┆ ---        ┆ ---    ┆ ---        ┆   ┆ rd_expire ┆ rd_number ┆ rd_securi ┆ ---      │\n",
       "│ str        ┆ f64        ┆ str    ┆ str        ┆   ┆ ---       ┆ ---       ┆ ty_code   ┆ str      │\n",
       "│            ┆            ┆        ┆            ┆   ┆ str       ┆ f64       ┆ ---       ┆          │\n",
       "│            ┆            ┆        ┆            ┆   ┆           ┆           ┆ f64       ┆          │\n",
       "╞════════════╪════════════╪════════╪════════════╪═══╪═══════════╪═══════════╪═══════════╪══════════╡\n",
       "│ count      ┆ 100000.0   ┆ 100000 ┆ 100000     ┆ … ┆ 100000    ┆ 100000.0  ┆ 100000.0  ┆ 100000   │\n",
       "│ null_count ┆ 0.0        ┆ 0      ┆ 0          ┆ … ┆ 0         ┆ 0.0       ┆ 0.0       ┆ 0        │\n",
       "│ mean       ┆ 5001.01494 ┆ null   ┆ null       ┆ … ┆ null      ┆ 3.7464e17 ┆ 881.94056 ┆ null     │\n",
       "│ std        ┆ 2881.06225 ┆ null   ┆ null       ┆ … ┆ null      ┆ 1.2425e18 ┆ 1543.5858 ┆ null     │\n",
       "│            ┆ 8          ┆        ┆            ┆   ┆           ┆           ┆ 28        ┆          │\n",
       "│ min        ┆ 0.0        ┆ Aaron  ┆ 1994-08-14 ┆ … ┆ 01/25     ┆ 6.0400e10 ┆ 0.0       ┆ AED      │\n",
       "│ 25%        ┆ 2509.0     ┆ null   ┆ null       ┆ … ┆ null      ┆ 3.8945e13 ┆ 270.0     ┆ null     │\n",
       "│ 50%        ┆ 5002.0     ┆ null   ┆ null       ┆ … ┆ null      ┆ 3.5123e15 ┆ 538.0     ┆ null     │\n",
       "│ 75%        ┆ 7490.0     ┆ null   ┆ null       ┆ … ┆ null      ┆ 4.6208e15 ┆ 810.0     ┆ null     │\n",
       "│ max        ┆ 9999.0     ┆ Zoe    ┆ 2024-08-13 ┆ … ┆ 12/33     ┆ 4.9999e18 ┆ 9999.0    ┆ ZWD      │\n",
       "└────────────┴────────────┴────────┴────────────┴───┴───────────┴───────────┴───────────┴──────────┘"
      ]
     },
     "execution_count": 105,
     "metadata": {},
     "output_type": "execute_result"
    }
   ],
   "source": [
    "df.describe()"
   ]
  },
  {
   "cell_type": "code",
   "execution_count": 106,
   "id": "1f8ce8ac-251a-45ef-9392-0a4788eece7e",
   "metadata": {},
   "outputs": [
    {
     "data": {
      "text/plain": [
       "Schema([('id', Int64),\n",
       "        ('name', String),\n",
       "        ('birth_date', String),\n",
       "        ('hair_color', String),\n",
       "        ('is_MU_fan', Boolean),\n",
       "        ('iq', Int64),\n",
       "        ('accession_month', Int64),\n",
       "        ('balance', Float64),\n",
       "        ('debt', Float64),\n",
       "        ('country', String),\n",
       "        ('city', String),\n",
       "        ('street_name', String),\n",
       "        ('building_number', Int64),\n",
       "        ('coordinate', Float64),\n",
       "        ('license_plate', String),\n",
       "        ('vin', String),\n",
       "        ('swift', String),\n",
       "        ('company_name', String),\n",
       "        ('company_suffix', String),\n",
       "        ('job_name', String),\n",
       "        ('credit_card_expire', String),\n",
       "        ('credit_card_number', Int64),\n",
       "        ('credit_card_security_code', Int64),\n",
       "        ('currency', String)])"
      ]
     },
     "execution_count": 106,
     "metadata": {},
     "output_type": "execute_result"
    }
   ],
   "source": [
    "df.collect_schema()"
   ]
  },
  {
   "cell_type": "code",
   "execution_count": 107,
   "id": "f6bd87b8-7a92-4446-bcf0-63c8749b09b6",
   "metadata": {},
   "outputs": [
    {
     "data": {
      "text/html": [
       "<div><style>\n",
       ".dataframe > thead > tr,\n",
       ".dataframe > tbody > tr {\n",
       "  text-align: right;\n",
       "  white-space: pre-wrap;\n",
       "}\n",
       "</style>\n",
       "<small>shape: (100_000, 24)</small><table border=\"1\" class=\"dataframe\"><thead><tr><th>id</th><th>name</th><th>birth_date</th><th>hair_color</th><th>is_MU_fan</th><th>iq</th><th>accession_month</th><th>balance</th><th>debt</th><th>country</th><th>city</th><th>street_name</th><th>building_number</th><th>coordinate</th><th>license_plate</th><th>vin</th><th>swift</th><th>company_name</th><th>company_suffix</th><th>job_name</th><th>credit_card_expire</th><th>credit_card_number</th><th>credit_card_security_code</th><th>currency</th></tr><tr><td>i64</td><td>str</td><td>date</td><td>str</td><td>bool</td><td>i64</td><td>i64</td><td>f64</td><td>f64</td><td>str</td><td>str</td><td>str</td><td>i64</td><td>f64</td><td>str</td><td>str</td><td>str</td><td>str</td><td>str</td><td>str</td><td>str</td><td>i64</td><td>i64</td><td>str</td></tr></thead><tbody><tr><td>1379</td><td>&quot;Amber&quot;</td><td>1998-02-15</td><td>&quot;Turquoise&quot;</td><td>false</td><td>580</td><td>5</td><td>7.9476e8</td><td>2.1117e9</td><td>&quot;Portugal&quot;</td><td>&quot;East Joannafort&quot;</td><td>&quot;Matthew Estate&quot;</td><td>532</td><td>156.875421</td><td>&quot;77X•751&quot;</td><td>&quot;X2ZCH6JJX6XG0GYFY&quot;</td><td>&quot;NEXTGBHN&quot;</td><td>&quot;Patrick LLC&quot;</td><td>&quot;PLC&quot;</td><td>&quot;Furniture designer&quot;</td><td>&quot;02/26&quot;</td><td>3554507453178061</td><td>162</td><td>&quot;OMR&quot;</td></tr><tr><td>544</td><td>&quot;Karen&quot;</td><td>2018-09-06</td><td>&quot;MediumOrchid&quot;</td><td>true</td><td>241</td><td>8</td><td>4.8810e8</td><td>6.8856e9</td><td>&quot;Reunion&quot;</td><td>&quot;Lindaside&quot;</td><td>&quot;Chloe Forest&quot;</td><td>4333</td><td>112.248561</td><td>&quot;05S UF6&quot;</td><td>&quot;Y6Z43F7Y3JGD3KYCE&quot;</td><td>&quot;NNNBGBYS&quot;</td><td>&quot;Mckee Inc&quot;</td><td>&quot;Ltd&quot;</td><td>&quot;Therapist, drama&quot;</td><td>&quot;06/28&quot;</td><td>2517381416513097</td><td>990</td><td>&quot;MMK&quot;</td></tr><tr><td>5667</td><td>&quot;John&quot;</td><td>2020-11-04</td><td>&quot;MintCream&quot;</td><td>true</td><td>680</td><td>5</td><td>3.4368e8</td><td>8.7849e9</td><td>&quot;Mongolia&quot;</td><td>&quot;Aaronborough&quot;</td><td>&quot;Logan Lakes&quot;</td><td>49216</td><td>-103.165232</td><td>&quot;191 1GP&quot;</td><td>&quot;RBJ4K19M8T6MTYX5U&quot;</td><td>&quot;EVJLGBNO&quot;</td><td>&quot;Thompson-Choi&quot;</td><td>&quot;Group&quot;</td><td>&quot;Cabin crew&quot;</td><td>&quot;05/27&quot;</td><td>2257264598104972</td><td>79</td><td>&quot;CDF&quot;</td></tr><tr><td>8606</td><td>&quot;Tiffany&quot;</td><td>2018-06-27</td><td>&quot;GhostWhite&quot;</td><td>true</td><td>20</td><td>9</td><td>9.8101e8</td><td>7.9324e9</td><td>&quot;Germany&quot;</td><td>&quot;Jillborough&quot;</td><td>&quot;Hess Street&quot;</td><td>55944</td><td>-40.574345</td><td>&quot;05E T01&quot;</td><td>&quot;468207YG6CHZU10CB&quot;</td><td>&quot;MDYQGBH7&quot;</td><td>&quot;Solomon LLC&quot;</td><td>&quot;PLC&quot;</td><td>&quot;Accommodation manager&quot;</td><td>&quot;11/26&quot;</td><td>3560664812925229</td><td>206</td><td>&quot;IDR&quot;</td></tr><tr><td>3341</td><td>&quot;Stacy&quot;</td><td>2001-05-01</td><td>&quot;Olive&quot;</td><td>false</td><td>984</td><td>7</td><td>4.6134e7</td><td>7.2156e9</td><td>&quot;Rwanda&quot;</td><td>&quot;East Noahfort&quot;</td><td>&quot;Shannon Bridge&quot;</td><td>61265</td><td>58.009005</td><td>&quot;0NP Z16&quot;</td><td>&quot;TKSNHAT6XK15HCE5Y&quot;</td><td>&quot;KGSCGB6U&quot;</td><td>&quot;Cook, Osborne and Rodriguez&quot;</td><td>&quot;LLC&quot;</td><td>&quot;Dentist&quot;</td><td>&quot;05/32&quot;</td><td>3533986016849507</td><td>911</td><td>&quot;TWD&quot;</td></tr><tr><td>&hellip;</td><td>&hellip;</td><td>&hellip;</td><td>&hellip;</td><td>&hellip;</td><td>&hellip;</td><td>&hellip;</td><td>&hellip;</td><td>&hellip;</td><td>&hellip;</td><td>&hellip;</td><td>&hellip;</td><td>&hellip;</td><td>&hellip;</td><td>&hellip;</td><td>&hellip;</td><td>&hellip;</td><td>&hellip;</td><td>&hellip;</td><td>&hellip;</td><td>&hellip;</td><td>&hellip;</td><td>&hellip;</td><td>&hellip;</td></tr><tr><td>9324</td><td>&quot;Steven&quot;</td><td>2011-08-25</td><td>&quot;MediumSpringGreen&quot;</td><td>false</td><td>119</td><td>3</td><td>3.8841e8</td><td>5.0166e9</td><td>&quot;Cook Islands&quot;</td><td>&quot;Harrisonborough&quot;</td><td>&quot;Daniel Crossroad&quot;</td><td>7354</td><td>174.913797</td><td>&quot;164-KPG&quot;</td><td>&quot;17MAVPKN1NHGF2XTD&quot;</td><td>&quot;BTBRGB7P&quot;</td><td>&quot;Simmons-Jenkins&quot;</td><td>&quot;and Sons&quot;</td><td>&quot;Speech and language therapist&quot;</td><td>&quot;07/32&quot;</td><td>4363818815761</td><td>629</td><td>&quot;KMF&quot;</td></tr><tr><td>1441</td><td>&quot;Lauren&quot;</td><td>1999-12-03</td><td>&quot;DarkRed&quot;</td><td>false</td><td>945</td><td>10</td><td>1.6875e8</td><td>5.1005e9</td><td>&quot;Kiribati&quot;</td><td>&quot;Cindyburgh&quot;</td><td>&quot;Teresa Knoll&quot;</td><td>298</td><td>-102.709206</td><td>&quot;OVO 2594&quot;</td><td>&quot;DJ8NE5P473JMG4URW&quot;</td><td>&quot;IRZGGBNB&quot;</td><td>&quot;Duncan LLC&quot;</td><td>&quot;Ltd&quot;</td><td>&quot;Speech and language therapist&quot;</td><td>&quot;06/28&quot;</td><td>4147990902517</td><td>519</td><td>&quot;MXN&quot;</td></tr><tr><td>1015</td><td>&quot;Lisa&quot;</td><td>2008-05-18</td><td>&quot;DarkRed&quot;</td><td>false</td><td>756</td><td>3</td><td>9.4986e7</td><td>3.8826e9</td><td>&quot;Tanzania&quot;</td><td>&quot;Mackland&quot;</td><td>&quot;Stephen Creek&quot;</td><td>69884</td><td>134.259281</td><td>&quot;UL 61636&quot;</td><td>&quot;FAZ6BV954197FHY7V&quot;</td><td>&quot;XXBJGBTJ&quot;</td><td>&quot;Lane Group&quot;</td><td>&quot;Group&quot;</td><td>&quot;Graphic designer&quot;</td><td>&quot;08/33&quot;</td><td>4766046862604079468</td><td>865</td><td>&quot;DOP&quot;</td></tr><tr><td>1139</td><td>&quot;David&quot;</td><td>2016-10-20</td><td>&quot;DarkKhaki&quot;</td><td>true</td><td>530</td><td>2</td><td>6.1544e8</td><td>1.0767e9</td><td>&quot;Puerto Rico&quot;</td><td>&quot;New Elizabethstad&quot;</td><td>&quot;Hayes Forge&quot;</td><td>2582</td><td>-9.646405</td><td>&quot;1GM 124&quot;</td><td>&quot;6E16RZ3V4B49B4ZKM&quot;</td><td>&quot;AOEYGB3A&quot;</td><td>&quot;Fisher LLC&quot;</td><td>&quot;Inc&quot;</td><td>&quot;Occupational psychologist&quot;</td><td>&quot;02/31&quot;</td><td>30526646532133</td><td>956</td><td>&quot;UZS&quot;</td></tr><tr><td>1217</td><td>&quot;Samantha&quot;</td><td>2004-05-26</td><td>&quot;LightCyan&quot;</td><td>false</td><td>104</td><td>12</td><td>8.4974e8</td><td>1.5757e9</td><td>&quot;Denmark&quot;</td><td>&quot;Port Allenland&quot;</td><td>&quot;Brooks Villages&quot;</td><td>6544</td><td>-105.041018</td><td>&quot;250-VAPY&quot;</td><td>&quot;3FCLSPCE2750HNW86&quot;</td><td>&quot;OHEVGBGK&quot;</td><td>&quot;Ortiz and Sons&quot;</td><td>&quot;Ltd&quot;</td><td>&quot;Trade union research officer&quot;</td><td>&quot;05/31&quot;</td><td>4387113582642686420</td><td>966</td><td>&quot;GNF&quot;</td></tr></tbody></table></div>"
      ],
      "text/plain": [
       "shape: (100_000, 24)\n",
       "┌──────┬──────────┬────────────┬─────────────┬───┬────────────┬────────────┬────────────┬──────────┐\n",
       "│ id   ┆ name     ┆ birth_date ┆ hair_color  ┆ … ┆ credit_car ┆ credit_car ┆ credit_car ┆ currency │\n",
       "│ ---  ┆ ---      ┆ ---        ┆ ---         ┆   ┆ d_expire   ┆ d_number   ┆ d_security ┆ ---      │\n",
       "│ i64  ┆ str      ┆ date       ┆ str         ┆   ┆ ---        ┆ ---        ┆ _code      ┆ str      │\n",
       "│      ┆          ┆            ┆             ┆   ┆ str        ┆ i64        ┆ ---        ┆          │\n",
       "│      ┆          ┆            ┆             ┆   ┆            ┆            ┆ i64        ┆          │\n",
       "╞══════╪══════════╪════════════╪═════════════╪═══╪════════════╪════════════╪════════════╪══════════╡\n",
       "│ 1379 ┆ Amber    ┆ 1998-02-15 ┆ Turquoise   ┆ … ┆ 02/26      ┆ 3554507453 ┆ 162        ┆ OMR      │\n",
       "│      ┆          ┆            ┆             ┆   ┆            ┆ 178061     ┆            ┆          │\n",
       "│ 544  ┆ Karen    ┆ 2018-09-06 ┆ MediumOrchi ┆ … ┆ 06/28      ┆ 2517381416 ┆ 990        ┆ MMK      │\n",
       "│      ┆          ┆            ┆ d           ┆   ┆            ┆ 513097     ┆            ┆          │\n",
       "│ 5667 ┆ John     ┆ 2020-11-04 ┆ MintCream   ┆ … ┆ 05/27      ┆ 2257264598 ┆ 79         ┆ CDF      │\n",
       "│      ┆          ┆            ┆             ┆   ┆            ┆ 104972     ┆            ┆          │\n",
       "│ 8606 ┆ Tiffany  ┆ 2018-06-27 ┆ GhostWhite  ┆ … ┆ 11/26      ┆ 3560664812 ┆ 206        ┆ IDR      │\n",
       "│      ┆          ┆            ┆             ┆   ┆            ┆ 925229     ┆            ┆          │\n",
       "│ 3341 ┆ Stacy    ┆ 2001-05-01 ┆ Olive       ┆ … ┆ 05/32      ┆ 3533986016 ┆ 911        ┆ TWD      │\n",
       "│      ┆          ┆            ┆             ┆   ┆            ┆ 849507     ┆            ┆          │\n",
       "│ …    ┆ …        ┆ …          ┆ …           ┆ … ┆ …          ┆ …          ┆ …          ┆ …        │\n",
       "│ 9324 ┆ Steven   ┆ 2011-08-25 ┆ MediumSprin ┆ … ┆ 07/32      ┆ 4363818815 ┆ 629        ┆ KMF      │\n",
       "│      ┆          ┆            ┆ gGreen      ┆   ┆            ┆ 761        ┆            ┆          │\n",
       "│ 1441 ┆ Lauren   ┆ 1999-12-03 ┆ DarkRed     ┆ … ┆ 06/28      ┆ 4147990902 ┆ 519        ┆ MXN      │\n",
       "│      ┆          ┆            ┆             ┆   ┆            ┆ 517        ┆            ┆          │\n",
       "│ 1015 ┆ Lisa     ┆ 2008-05-18 ┆ DarkRed     ┆ … ┆ 08/33      ┆ 4766046862 ┆ 865        ┆ DOP      │\n",
       "│      ┆          ┆            ┆             ┆   ┆            ┆ 604079468  ┆            ┆          │\n",
       "│ 1139 ┆ David    ┆ 2016-10-20 ┆ DarkKhaki   ┆ … ┆ 02/31      ┆ 3052664653 ┆ 956        ┆ UZS      │\n",
       "│      ┆          ┆            ┆             ┆   ┆            ┆ 2133       ┆            ┆          │\n",
       "│ 1217 ┆ Samantha ┆ 2004-05-26 ┆ LightCyan   ┆ … ┆ 05/31      ┆ 4387113582 ┆ 966        ┆ GNF      │\n",
       "│      ┆          ┆            ┆             ┆   ┆            ┆ 642686420  ┆            ┆          │\n",
       "└──────┴──────────┴────────────┴─────────────┴───┴────────────┴────────────┴────────────┴──────────┘"
      ]
     },
     "execution_count": 107,
     "metadata": {},
     "output_type": "execute_result"
    }
   ],
   "source": [
    "df = df.with_columns(pl.col(\"birth_date\").cast(pl.Date))\n",
    "df"
   ]
  },
  {
   "cell_type": "markdown",
   "id": "c31a2191-e603-4d7e-99fb-f18e08bbf313",
   "metadata": {},
   "source": [
    "#### Selection"
   ]
  },
  {
   "cell_type": "code",
   "execution_count": 108,
   "id": "c6679ea4-c1e9-46c6-b8eb-3f333aa00b6a",
   "metadata": {},
   "outputs": [
    {
     "data": {
      "text/html": [
       "<div><style>\n",
       ".dataframe > thead > tr,\n",
       ".dataframe > tbody > tr {\n",
       "  text-align: right;\n",
       "  white-space: pre-wrap;\n",
       "}\n",
       "</style>\n",
       "<small>shape: (100_000, 2)</small><table border=\"1\" class=\"dataframe\"><thead><tr><th>balance</th><th>job_name</th></tr><tr><td>f64</td><td>str</td></tr></thead><tbody><tr><td>7.9476e8</td><td>&quot;Furniture designer&quot;</td></tr><tr><td>4.8810e8</td><td>&quot;Therapist, drama&quot;</td></tr><tr><td>3.4368e8</td><td>&quot;Cabin crew&quot;</td></tr><tr><td>9.8101e8</td><td>&quot;Accommodation manager&quot;</td></tr><tr><td>4.6134e7</td><td>&quot;Dentist&quot;</td></tr><tr><td>&hellip;</td><td>&hellip;</td></tr><tr><td>3.8841e8</td><td>&quot;Speech and language therapist&quot;</td></tr><tr><td>1.6875e8</td><td>&quot;Speech and language therapist&quot;</td></tr><tr><td>9.4986e7</td><td>&quot;Graphic designer&quot;</td></tr><tr><td>6.1544e8</td><td>&quot;Occupational psychologist&quot;</td></tr><tr><td>8.4974e8</td><td>&quot;Trade union research officer&quot;</td></tr></tbody></table></div>"
      ],
      "text/plain": [
       "shape: (100_000, 2)\n",
       "┌──────────┬───────────────────────────────┐\n",
       "│ balance  ┆ job_name                      │\n",
       "│ ---      ┆ ---                           │\n",
       "│ f64      ┆ str                           │\n",
       "╞══════════╪═══════════════════════════════╡\n",
       "│ 7.9476e8 ┆ Furniture designer            │\n",
       "│ 4.8810e8 ┆ Therapist, drama              │\n",
       "│ 3.4368e8 ┆ Cabin crew                    │\n",
       "│ 9.8101e8 ┆ Accommodation manager         │\n",
       "│ 4.6134e7 ┆ Dentist                       │\n",
       "│ …        ┆ …                             │\n",
       "│ 3.8841e8 ┆ Speech and language therapist │\n",
       "│ 1.6875e8 ┆ Speech and language therapist │\n",
       "│ 9.4986e7 ┆ Graphic designer              │\n",
       "│ 6.1544e8 ┆ Occupational psychologist     │\n",
       "│ 8.4974e8 ┆ Trade union research officer  │\n",
       "└──────────┴───────────────────────────────┘"
      ]
     },
     "execution_count": 108,
     "metadata": {},
     "output_type": "execute_result"
    }
   ],
   "source": [
    "df.select(\"balance\", \"job_name\")"
   ]
  },
  {
   "cell_type": "code",
   "execution_count": 109,
   "id": "d49c1521-3f68-421c-95e2-6fa576c4aad5",
   "metadata": {},
   "outputs": [
    {
     "data": {
      "text/html": [
       "<div><style>\n",
       ".dataframe > thead > tr,\n",
       ".dataframe > tbody > tr {\n",
       "  text-align: right;\n",
       "  white-space: pre-wrap;\n",
       "}\n",
       "</style>\n",
       "<small>shape: (100_000, 3)</small><table border=\"1\" class=\"dataframe\"><thead><tr><th>balance</th><th>job_name</th><th>balance_in_mill</th></tr><tr><td>f64</td><td>str</td><td>f64</td></tr></thead><tbody><tr><td>7.9476e8</td><td>&quot;FURNITURE DESIGNER&quot;</td><td>794.755747</td></tr><tr><td>4.8810e8</td><td>&quot;THERAPIST, DRAMA&quot;</td><td>488.098144</td></tr><tr><td>3.4368e8</td><td>&quot;CABIN CREW&quot;</td><td>343.675983</td></tr><tr><td>9.8101e8</td><td>&quot;ACCOMMODATION MANAGER&quot;</td><td>981.010821</td></tr><tr><td>4.6134e7</td><td>&quot;DENTIST&quot;</td><td>46.134225</td></tr><tr><td>&hellip;</td><td>&hellip;</td><td>&hellip;</td></tr><tr><td>3.8841e8</td><td>&quot;SPEECH AND LANGUAGE THERAPIST&quot;</td><td>388.412133</td></tr><tr><td>1.6875e8</td><td>&quot;SPEECH AND LANGUAGE THERAPIST&quot;</td><td>168.750132</td></tr><tr><td>9.4986e7</td><td>&quot;GRAPHIC DESIGNER&quot;</td><td>94.986157</td></tr><tr><td>6.1544e8</td><td>&quot;OCCUPATIONAL PSYCHOLOGIST&quot;</td><td>615.444395</td></tr><tr><td>8.4974e8</td><td>&quot;TRADE UNION RESEARCH OFFICER&quot;</td><td>849.73825</td></tr></tbody></table></div>"
      ],
      "text/plain": [
       "shape: (100_000, 3)\n",
       "┌──────────┬───────────────────────────────┬─────────────────┐\n",
       "│ balance  ┆ job_name                      ┆ balance_in_mill │\n",
       "│ ---      ┆ ---                           ┆ ---             │\n",
       "│ f64      ┆ str                           ┆ f64             │\n",
       "╞══════════╪═══════════════════════════════╪═════════════════╡\n",
       "│ 7.9476e8 ┆ FURNITURE DESIGNER            ┆ 794.755747      │\n",
       "│ 4.8810e8 ┆ THERAPIST, DRAMA              ┆ 488.098144      │\n",
       "│ 3.4368e8 ┆ CABIN CREW                    ┆ 343.675983      │\n",
       "│ 9.8101e8 ┆ ACCOMMODATION MANAGER         ┆ 981.010821      │\n",
       "│ 4.6134e7 ┆ DENTIST                       ┆ 46.134225       │\n",
       "│ …        ┆ …                             ┆ …               │\n",
       "│ 3.8841e8 ┆ SPEECH AND LANGUAGE THERAPIST ┆ 388.412133      │\n",
       "│ 1.6875e8 ┆ SPEECH AND LANGUAGE THERAPIST ┆ 168.750132      │\n",
       "│ 9.4986e7 ┆ GRAPHIC DESIGNER              ┆ 94.986157       │\n",
       "│ 6.1544e8 ┆ OCCUPATIONAL PSYCHOLOGIST     ┆ 615.444395      │\n",
       "│ 8.4974e8 ┆ TRADE UNION RESEARCH OFFICER  ┆ 849.73825       │\n",
       "└──────────┴───────────────────────────────┴─────────────────┘"
      ]
     },
     "execution_count": 109,
     "metadata": {},
     "output_type": "execute_result"
    }
   ],
   "source": [
    "(\n",
    "    df.select(\"balance\", \"job_name\").with_columns(\n",
    "        (pl.col(\"balance\") / 1_000_000).alias(\"balance_in_mill\"),\n",
    "        pl.col(\"job_name\").str.to_uppercase(),\n",
    "    )\n",
    ")"
   ]
  },
  {
   "cell_type": "markdown",
   "id": "0f07a6ca-6404-4f45-bb45-703e44006462",
   "metadata": {},
   "source": [
    "#### Filtering"
   ]
  },
  {
   "cell_type": "code",
   "execution_count": 54,
   "id": "7793103f-efae-498f-a4b6-62da335efe53",
   "metadata": {},
   "outputs": [
    {
     "data": {
      "text/html": [
       "<div><style>\n",
       ".dataframe > thead > tr,\n",
       ".dataframe > tbody > tr {\n",
       "  text-align: right;\n",
       "  white-space: pre-wrap;\n",
       "}\n",
       "</style>\n",
       "<small>shape: (1_662, 24)</small><table border=\"1\" class=\"dataframe\"><thead><tr><th>id</th><th>name</th><th>birth_date</th><th>hair_color</th><th>is_MU_fan</th><th>iq</th><th>accession_month</th><th>balance</th><th>debt</th><th>country</th><th>city</th><th>street_name</th><th>building_number</th><th>coordinate</th><th>license_plate</th><th>vin</th><th>swift</th><th>company_name</th><th>company_suffix</th><th>job_name</th><th>credit_card_expire</th><th>credit_card_number</th><th>credit_card_security_code</th><th>currency</th></tr><tr><td>i64</td><td>str</td><td>date</td><td>str</td><td>bool</td><td>i64</td><td>i64</td><td>f64</td><td>f64</td><td>str</td><td>str</td><td>str</td><td>i64</td><td>f64</td><td>str</td><td>str</td><td>str</td><td>str</td><td>str</td><td>str</td><td>str</td><td>i64</td><td>i64</td><td>str</td></tr></thead><tbody><tr><td>5667</td><td>&quot;John&quot;</td><td>2020-11-04</td><td>&quot;MintCream&quot;</td><td>true</td><td>680</td><td>5</td><td>3.4368e8</td><td>8.7849e9</td><td>&quot;Mongolia&quot;</td><td>&quot;Aaronborough&quot;</td><td>&quot;Logan Lakes&quot;</td><td>49216</td><td>-103.165232</td><td>&quot;191 1GP&quot;</td><td>&quot;RBJ4K19M8T6MTYX5U&quot;</td><td>&quot;EVJLGBNO&quot;</td><td>&quot;Thompson-Choi&quot;</td><td>&quot;Group&quot;</td><td>&quot;Cabin crew&quot;</td><td>&quot;05/27&quot;</td><td>2257264598104972</td><td>79</td><td>&quot;CDF&quot;</td></tr><tr><td>3521</td><td>&quot;John&quot;</td><td>2011-12-02</td><td>&quot;Bisque&quot;</td><td>false</td><td>567</td><td>11</td><td>9.6847e8</td><td>1.2323e9</td><td>&quot;Mali&quot;</td><td>&quot;East Michelle&quot;</td><td>&quot;Carl Greens&quot;</td><td>8682</td><td>118.330008</td><td>&quot;WQ-2975&quot;</td><td>&quot;TE3P7AVK1DAHKK1ET&quot;</td><td>&quot;SDFYGBPZ&quot;</td><td>&quot;Dennis PLC&quot;</td><td>&quot;Inc&quot;</td><td>&quot;Tour manager&quot;</td><td>&quot;05/26&quot;</td><td>3543915757879041</td><td>941</td><td>&quot;TTD&quot;</td></tr><tr><td>7907</td><td>&quot;Peter&quot;</td><td>1998-05-19</td><td>&quot;Thistle&quot;</td><td>true</td><td>831</td><td>1</td><td>4.1810e7</td><td>9.4956e9</td><td>&quot;Dominica&quot;</td><td>&quot;New Danielleville&quot;</td><td>&quot;Jackson Lock&quot;</td><td>4517</td><td>-6.177758</td><td>&quot;Y82-94M&quot;</td><td>&quot;KNTTP9F13YLURJ25N&quot;</td><td>&quot;KHAYGB5U&quot;</td><td>&quot;Kemp LLC&quot;</td><td>&quot;and Sons&quot;</td><td>&quot;Computer games developer&quot;</td><td>&quot;01/27&quot;</td><td>30009214342839</td><td>671</td><td>&quot;LBP&quot;</td></tr><tr><td>4337</td><td>&quot;John&quot;</td><td>1995-02-14</td><td>&quot;LightCoral&quot;</td><td>true</td><td>22</td><td>11</td><td>4.2028e8</td><td>1.4145e9</td><td>&quot;Malawi&quot;</td><td>&quot;Haleymouth&quot;</td><td>&quot;Romero Trace&quot;</td><td>36537</td><td>42.162145</td><td>&quot;713NTF&quot;</td><td>&quot;EG0XERF6947NHALYW&quot;</td><td>&quot;QQWPGBKW&quot;</td><td>&quot;Brown-Vance&quot;</td><td>&quot;Group&quot;</td><td>&quot;Software engineer&quot;</td><td>&quot;03/33&quot;</td><td>30069315100544</td><td>497</td><td>&quot;NIS&quot;</td></tr><tr><td>5222</td><td>&quot;John&quot;</td><td>2001-08-15</td><td>&quot;Wheat&quot;</td><td>true</td><td>208</td><td>3</td><td>4.7863e7</td><td>6.8350e9</td><td>&quot;Venezuela&quot;</td><td>&quot;Port Roberto&quot;</td><td>&quot;Rodriguez Valley&quot;</td><td>580</td><td>157.16614</td><td>&quot;FZX 738&quot;</td><td>&quot;PXHTKVFH5UEYDP2SF&quot;</td><td>&quot;IIOGGBTF&quot;</td><td>&quot;Martinez-Long&quot;</td><td>&quot;Inc&quot;</td><td>&quot;Catering manager&quot;</td><td>&quot;11/29&quot;</td><td>6011985178187122</td><td>584</td><td>&quot;GGP&quot;</td></tr><tr><td>&hellip;</td><td>&hellip;</td><td>&hellip;</td><td>&hellip;</td><td>&hellip;</td><td>&hellip;</td><td>&hellip;</td><td>&hellip;</td><td>&hellip;</td><td>&hellip;</td><td>&hellip;</td><td>&hellip;</td><td>&hellip;</td><td>&hellip;</td><td>&hellip;</td><td>&hellip;</td><td>&hellip;</td><td>&hellip;</td><td>&hellip;</td><td>&hellip;</td><td>&hellip;</td><td>&hellip;</td><td>&hellip;</td><td>&hellip;</td></tr><tr><td>3022</td><td>&quot;John&quot;</td><td>2019-02-11</td><td>&quot;GhostWhite&quot;</td><td>true</td><td>188</td><td>2</td><td>3.2928e8</td><td>4.7037e9</td><td>&quot;Netherlands&quot;</td><td>&quot;East Andrea&quot;</td><td>&quot;James Road&quot;</td><td>2715</td><td>75.348415</td><td>&quot;REB 227&quot;</td><td>&quot;KGCYH70158VJ56LRD&quot;</td><td>&quot;RWTMGB3R&quot;</td><td>&quot;Mendez Group&quot;</td><td>&quot;Ltd&quot;</td><td>&quot;Pharmacologist&quot;</td><td>&quot;01/32&quot;</td><td>5443875214377201</td><td>3816</td><td>&quot;TTD&quot;</td></tr><tr><td>9892</td><td>&quot;John&quot;</td><td>2003-11-14</td><td>&quot;WhiteSmoke&quot;</td><td>false</td><td>455</td><td>3</td><td>5.6874e8</td><td>9.7885e9</td><td>&quot;Belize&quot;</td><td>&quot;Bridgettown&quot;</td><td>&quot;Wilkins Loaf&quot;</td><td>890</td><td>-167.954936</td><td>&quot;P55 0ZP&quot;</td><td>&quot;WJNDERGT4GYSZFFWX&quot;</td><td>&quot;RGWFGBB7&quot;</td><td>&quot;Parker LLC&quot;</td><td>&quot;PLC&quot;</td><td>&quot;Museum education officer&quot;</td><td>&quot;05/30&quot;</td><td>4165595401520368</td><td>365</td><td>&quot;SVC&quot;</td></tr><tr><td>3315</td><td>&quot;John&quot;</td><td>1996-09-19</td><td>&quot;RoyalBlue&quot;</td><td>true</td><td>878</td><td>8</td><td>5.7379e8</td><td>6.8871e9</td><td>&quot;Burundi&quot;</td><td>&quot;East Brian&quot;</td><td>&quot;Michael Bridge&quot;</td><td>523</td><td>-97.891205</td><td>&quot;DBY 858&quot;</td><td>&quot;9DR3MSW7779N2NRNB&quot;</td><td>&quot;GHJWGBAX&quot;</td><td>&quot;Bennett Group&quot;</td><td>&quot;Group&quot;</td><td>&quot;Agricultural engineer&quot;</td><td>&quot;01/25&quot;</td><td>3530453250030842</td><td>801</td><td>&quot;FJD&quot;</td></tr><tr><td>8515</td><td>&quot;John&quot;</td><td>2019-05-03</td><td>&quot;DarkRed&quot;</td><td>true</td><td>345</td><td>12</td><td>7.8284e7</td><td>3.4622e9</td><td>&quot;Chile&quot;</td><td>&quot;West William&quot;</td><td>&quot;Joel Crest&quot;</td><td>346</td><td>-5.510008</td><td>&quot;150-241&quot;</td><td>&quot;1UC57ZC9883N0R9AX&quot;</td><td>&quot;BRLZGBT8&quot;</td><td>&quot;Ruiz PLC&quot;</td><td>&quot;Ltd&quot;</td><td>&quot;Engineer, biomedical&quot;</td><td>&quot;08/26&quot;</td><td>2720804179898010</td><td>727</td><td>&quot;BWP&quot;</td></tr><tr><td>6199</td><td>&quot;John&quot;</td><td>2014-08-26</td><td>&quot;SpringGreen&quot;</td><td>false</td><td>98</td><td>1</td><td>4.5576e8</td><td>7.5350e9</td><td>&quot;Swaziland&quot;</td><td>&quot;Hoganton&quot;</td><td>&quot;Andrea Station&quot;</td><td>1937</td><td>3.147951</td><td>&quot;SLQ 050&quot;</td><td>&quot;UP0SKB5L7MH4EA5KP&quot;</td><td>&quot;TXAAGBPP&quot;</td><td>&quot;Smith LLC&quot;</td><td>&quot;Inc&quot;</td><td>&quot;Engineer, energy&quot;</td><td>&quot;04/26&quot;</td><td>36170637135137</td><td>110</td><td>&quot;UAH&quot;</td></tr></tbody></table></div>"
      ],
      "text/plain": [
       "shape: (1_662, 24)\n",
       "┌──────┬───────┬────────────┬─────────────┬───┬─────────────┬─────────────┬─────────────┬──────────┐\n",
       "│ id   ┆ name  ┆ birth_date ┆ hair_color  ┆ … ┆ credit_card ┆ credit_card ┆ credit_card ┆ currency │\n",
       "│ ---  ┆ ---   ┆ ---        ┆ ---         ┆   ┆ _expire     ┆ _number     ┆ _security_c ┆ ---      │\n",
       "│ i64  ┆ str   ┆ date       ┆ str         ┆   ┆ ---         ┆ ---         ┆ ode         ┆ str      │\n",
       "│      ┆       ┆            ┆             ┆   ┆ str         ┆ i64         ┆ ---         ┆          │\n",
       "│      ┆       ┆            ┆             ┆   ┆             ┆             ┆ i64         ┆          │\n",
       "╞══════╪═══════╪════════════╪═════════════╪═══╪═════════════╪═════════════╪═════════════╪══════════╡\n",
       "│ 5667 ┆ John  ┆ 2020-11-04 ┆ MintCream   ┆ … ┆ 05/27       ┆ 22572645981 ┆ 79          ┆ CDF      │\n",
       "│      ┆       ┆            ┆             ┆   ┆             ┆ 04972       ┆             ┆          │\n",
       "│ 3521 ┆ John  ┆ 2011-12-02 ┆ Bisque      ┆ … ┆ 05/26       ┆ 35439157578 ┆ 941         ┆ TTD      │\n",
       "│      ┆       ┆            ┆             ┆   ┆             ┆ 79041       ┆             ┆          │\n",
       "│ 7907 ┆ Peter ┆ 1998-05-19 ┆ Thistle     ┆ … ┆ 01/27       ┆ 30009214342 ┆ 671         ┆ LBP      │\n",
       "│      ┆       ┆            ┆             ┆   ┆             ┆ 839         ┆             ┆          │\n",
       "│ 4337 ┆ John  ┆ 1995-02-14 ┆ LightCoral  ┆ … ┆ 03/33       ┆ 30069315100 ┆ 497         ┆ NIS      │\n",
       "│      ┆       ┆            ┆             ┆   ┆             ┆ 544         ┆             ┆          │\n",
       "│ 5222 ┆ John  ┆ 2001-08-15 ┆ Wheat       ┆ … ┆ 11/29       ┆ 60119851781 ┆ 584         ┆ GGP      │\n",
       "│      ┆       ┆            ┆             ┆   ┆             ┆ 87122       ┆             ┆          │\n",
       "│ …    ┆ …     ┆ …          ┆ …           ┆ … ┆ …           ┆ …           ┆ …           ┆ …        │\n",
       "│ 3022 ┆ John  ┆ 2019-02-11 ┆ GhostWhite  ┆ … ┆ 01/32       ┆ 54438752143 ┆ 3816        ┆ TTD      │\n",
       "│      ┆       ┆            ┆             ┆   ┆             ┆ 77201       ┆             ┆          │\n",
       "│ 9892 ┆ John  ┆ 2003-11-14 ┆ WhiteSmoke  ┆ … ┆ 05/30       ┆ 41655954015 ┆ 365         ┆ SVC      │\n",
       "│      ┆       ┆            ┆             ┆   ┆             ┆ 20368       ┆             ┆          │\n",
       "│ 3315 ┆ John  ┆ 1996-09-19 ┆ RoyalBlue   ┆ … ┆ 01/25       ┆ 35304532500 ┆ 801         ┆ FJD      │\n",
       "│      ┆       ┆            ┆             ┆   ┆             ┆ 30842       ┆             ┆          │\n",
       "│ 8515 ┆ John  ┆ 2019-05-03 ┆ DarkRed     ┆ … ┆ 08/26       ┆ 27208041798 ┆ 727         ┆ BWP      │\n",
       "│      ┆       ┆            ┆             ┆   ┆             ┆ 98010       ┆             ┆          │\n",
       "│ 6199 ┆ John  ┆ 2014-08-26 ┆ SpringGreen ┆ … ┆ 04/26       ┆ 36170637135 ┆ 110         ┆ UAH      │\n",
       "│      ┆       ┆            ┆             ┆   ┆             ┆ 137         ┆             ┆          │\n",
       "└──────┴───────┴────────────┴─────────────┴───┴─────────────┴─────────────┴─────────────┴──────────┘"
      ]
     },
     "execution_count": 54,
     "metadata": {},
     "output_type": "execute_result"
    }
   ],
   "source": [
    "df.filter(pl.col(\"name\").is_in([\"Peter\", \"John\"]))"
   ]
  },
  {
   "cell_type": "code",
   "execution_count": 47,
   "id": "4b49251d-8c68-4ac1-895f-3ddb535e461c",
   "metadata": {},
   "outputs": [
    {
     "data": {
      "text/html": [
       "<div><style>\n",
       ".dataframe > thead > tr,\n",
       ".dataframe > tbody > tr {\n",
       "  text-align: right;\n",
       "  white-space: pre-wrap;\n",
       "}\n",
       "</style>\n",
       "<small>shape: (11, 24)</small><table border=\"1\" class=\"dataframe\"><thead><tr><th>id</th><th>name</th><th>birth_date</th><th>hair_color</th><th>is_MU_fan</th><th>iq</th><th>accession_month</th><th>balance</th><th>debt</th><th>country</th><th>city</th><th>street_name</th><th>building_number</th><th>coordinate</th><th>license_plate</th><th>vin</th><th>swift</th><th>company_name</th><th>company_suffix</th><th>job_name</th><th>credit_card_expire</th><th>credit_card_number</th><th>credit_card_security_code</th><th>currency</th></tr><tr><td>i64</td><td>str</td><td>date</td><td>str</td><td>bool</td><td>i64</td><td>i64</td><td>f64</td><td>f64</td><td>str</td><td>str</td><td>str</td><td>i64</td><td>f64</td><td>str</td><td>str</td><td>str</td><td>str</td><td>str</td><td>str</td><td>str</td><td>i64</td><td>i64</td><td>str</td></tr></thead><tbody><tr><td>2499</td><td>&quot;Tara&quot;</td><td>2023-07-02</td><td>&quot;LemonChiffon&quot;</td><td>true</td><td>462</td><td>9</td><td>8.8604e8</td><td>6.1252e9</td><td>&quot;Cuba&quot;</td><td>&quot;Hartmanton&quot;</td><td>&quot;Gary Meadows&quot;</td><td>71104</td><td>-23.357397</td><td>&quot;NIW 808&quot;</td><td>&quot;ZNC3ZYC12U75SHD9B&quot;</td><td>&quot;AZSDGB3E&quot;</td><td>&quot;Vasquez, Smith and Neal&quot;</td><td>&quot;Ltd&quot;</td><td>&quot;Administrator, education&quot;</td><td>&quot;09/26&quot;</td><td>4023913470952624459</td><td>184</td><td>&quot;LYD&quot;</td></tr><tr><td>6447</td><td>&quot;Mary&quot;</td><td>2023-07-02</td><td>&quot;Ivory&quot;</td><td>true</td><td>463</td><td>7</td><td>6.3459e8</td><td>6.5246e9</td><td>&quot;Lao People&#x27;s Democratic Republ…</td><td>&quot;Tannerport&quot;</td><td>&quot;Pierce Path&quot;</td><td>109</td><td>37.278483</td><td>&quot;512VL&quot;</td><td>&quot;T7CKNVVW71CTLLWRS&quot;</td><td>&quot;MIREGB78&quot;</td><td>&quot;Hall, Sharp and Dean&quot;</td><td>&quot;and Sons&quot;</td><td>&quot;Runner, broadcasting/film/vide…</td><td>&quot;01/34&quot;</td><td>4633480270962757813</td><td>654</td><td>&quot;VEF&quot;</td></tr><tr><td>2042</td><td>&quot;Kimberly&quot;</td><td>2023-07-02</td><td>&quot;Blue&quot;</td><td>false</td><td>835</td><td>8</td><td>7.8227e8</td><td>6.8303e9</td><td>&quot;United Kingdom&quot;</td><td>&quot;North Wayneview&quot;</td><td>&quot;Good Pike&quot;</td><td>466</td><td>-164.297491</td><td>&quot;DLM 693&quot;</td><td>&quot;6P8LVFZ78ZH55KN22&quot;</td><td>&quot;ZUFMGBNV&quot;</td><td>&quot;Ray-Dawson&quot;</td><td>&quot;and Sons&quot;</td><td>&quot;Civil Service fast streamer&quot;</td><td>&quot;10/33&quot;</td><td>3599645155808291</td><td>209</td><td>&quot;HRK&quot;</td></tr><tr><td>7371</td><td>&quot;Richard&quot;</td><td>2023-07-02</td><td>&quot;DarkKhaki&quot;</td><td>false</td><td>507</td><td>9</td><td>4.5118e8</td><td>5.0831e9</td><td>&quot;Papua New Guinea&quot;</td><td>&quot;Millermouth&quot;</td><td>&quot;Snyder Way&quot;</td><td>291</td><td>87.381838</td><td>&quot;646GNB&quot;</td><td>&quot;23WTR6GX73MKHA42Z&quot;</td><td>&quot;VSYFGB6D&quot;</td><td>&quot;Hill, Richards and Murray&quot;</td><td>&quot;PLC&quot;</td><td>&quot;Solicitor&quot;</td><td>&quot;04/27&quot;</td><td>4835654879617139</td><td>371</td><td>&quot;GIP&quot;</td></tr><tr><td>8714</td><td>&quot;Anthony&quot;</td><td>2023-07-02</td><td>&quot;Snow&quot;</td><td>false</td><td>388</td><td>2</td><td>1.3501e8</td><td>4.2652e9</td><td>&quot;Nicaragua&quot;</td><td>&quot;Howehaven&quot;</td><td>&quot;Eric Way&quot;</td><td>33</td><td>92.800831</td><td>&quot;5B024&quot;</td><td>&quot;MB9ZUF3S5Y3TJ0U63&quot;</td><td>&quot;MRDEGBSG&quot;</td><td>&quot;Reynolds-Sharp&quot;</td><td>&quot;Inc&quot;</td><td>&quot;Scientist, research (life scie…</td><td>&quot;01/33&quot;</td><td>213171102393826</td><td>309</td><td>&quot;ANG&quot;</td></tr><tr><td>&hellip;</td><td>&hellip;</td><td>&hellip;</td><td>&hellip;</td><td>&hellip;</td><td>&hellip;</td><td>&hellip;</td><td>&hellip;</td><td>&hellip;</td><td>&hellip;</td><td>&hellip;</td><td>&hellip;</td><td>&hellip;</td><td>&hellip;</td><td>&hellip;</td><td>&hellip;</td><td>&hellip;</td><td>&hellip;</td><td>&hellip;</td><td>&hellip;</td><td>&hellip;</td><td>&hellip;</td><td>&hellip;</td><td>&hellip;</td></tr><tr><td>6190</td><td>&quot;Jennifer&quot;</td><td>2023-07-02</td><td>&quot;MintCream&quot;</td><td>false</td><td>925</td><td>3</td><td>7.9259e8</td><td>7.9766e9</td><td>&quot;Solomon Islands&quot;</td><td>&quot;Rossberg&quot;</td><td>&quot;Davis Underpass&quot;</td><td>1022</td><td>24.270825</td><td>&quot;332-GPK&quot;</td><td>&quot;V16AYJFHXUPBSBNZY&quot;</td><td>&quot;THXXGBY1&quot;</td><td>&quot;Turner, Torres and Roberts&quot;</td><td>&quot;Group&quot;</td><td>&quot;Furniture conservator/restorer&quot;</td><td>&quot;01/26&quot;</td><td>4205128255884508</td><td>998</td><td>&quot;SZL&quot;</td></tr><tr><td>7917</td><td>&quot;Douglas&quot;</td><td>2023-07-02</td><td>&quot;MintCream&quot;</td><td>false</td><td>672</td><td>12</td><td>2.1868e8</td><td>9.0581e9</td><td>&quot;Serbia&quot;</td><td>&quot;Gregorybury&quot;</td><td>&quot;Jose Ridge&quot;</td><td>3580</td><td>-72.899449</td><td>&quot;123254&quot;</td><td>&quot;D79PDRBU5AWVUKT3D&quot;</td><td>&quot;ZBJIGB4X&quot;</td><td>&quot;Delgado, Perkins and Johnson&quot;</td><td>&quot;and Sons&quot;</td><td>&quot;Radiation protection practitio…</td><td>&quot;04/29&quot;</td><td>6599537186495169</td><td>139</td><td>&quot;KRW&quot;</td></tr><tr><td>724</td><td>&quot;Lisa&quot;</td><td>2023-07-02</td><td>&quot;YellowGreen&quot;</td><td>true</td><td>830</td><td>7</td><td>5.8104e8</td><td>4.6085e9</td><td>&quot;Uruguay&quot;</td><td>&quot;West Mitchell&quot;</td><td>&quot;Stewart Fall&quot;</td><td>981</td><td>33.693059</td><td>&quot;2H 0F8HEX&quot;</td><td>&quot;MT3PRP6Y7V70XLD2F&quot;</td><td>&quot;SHGNGB6O&quot;</td><td>&quot;Hines-Anderson&quot;</td><td>&quot;Group&quot;</td><td>&quot;Horticulturist, commercial&quot;</td><td>&quot;03/32&quot;</td><td>676350389430</td><td>224</td><td>&quot;SEK&quot;</td></tr><tr><td>8954</td><td>&quot;Jeffrey&quot;</td><td>2023-07-02</td><td>&quot;AntiqueWhite&quot;</td><td>false</td><td>384</td><td>7</td><td>9.7523e8</td><td>6.0283e9</td><td>&quot;Mozambique&quot;</td><td>&quot;Laurafort&quot;</td><td>&quot;Norma Square&quot;</td><td>5380</td><td>-74.119892</td><td>&quot;J98 4AJ&quot;</td><td>&quot;2WMTURCW3RV7LEWJU&quot;</td><td>&quot;ILVQGBO9&quot;</td><td>&quot;Horton-Andrade&quot;</td><td>&quot;Group&quot;</td><td>&quot;Furniture conservator/restorer&quot;</td><td>&quot;01/29&quot;</td><td>376595615473084</td><td>578</td><td>&quot;BTN&quot;</td></tr><tr><td>3867</td><td>&quot;Joe&quot;</td><td>2023-07-02</td><td>&quot;BlanchedAlmond&quot;</td><td>false</td><td>705</td><td>1</td><td>7.5039e8</td><td>9.6431e9</td><td>&quot;Kazakhstan&quot;</td><td>&quot;Port Aprilport&quot;</td><td>&quot;Allison Bypass&quot;</td><td>209</td><td>62.077921</td><td>&quot;300 BKT&quot;</td><td>&quot;PV2UKK5A9HBFFWHVH&quot;</td><td>&quot;PWBRGB2L&quot;</td><td>&quot;Carlson PLC&quot;</td><td>&quot;Ltd&quot;</td><td>&quot;Office manager&quot;</td><td>&quot;01/29&quot;</td><td>3559372379583190</td><td>85</td><td>&quot;MWK&quot;</td></tr></tbody></table></div>"
      ],
      "text/plain": [
       "shape: (11, 24)\n",
       "┌──────┬──────────┬────────────┬─────────────┬───┬────────────┬────────────┬────────────┬──────────┐\n",
       "│ id   ┆ name     ┆ birth_date ┆ hair_color  ┆ … ┆ credit_car ┆ credit_car ┆ credit_car ┆ currency │\n",
       "│ ---  ┆ ---      ┆ ---        ┆ ---         ┆   ┆ d_expire   ┆ d_number   ┆ d_security ┆ ---      │\n",
       "│ i64  ┆ str      ┆ date       ┆ str         ┆   ┆ ---        ┆ ---        ┆ _code      ┆ str      │\n",
       "│      ┆          ┆            ┆             ┆   ┆ str        ┆ i64        ┆ ---        ┆          │\n",
       "│      ┆          ┆            ┆             ┆   ┆            ┆            ┆ i64        ┆          │\n",
       "╞══════╪══════════╪════════════╪═════════════╪═══╪════════════╪════════════╪════════════╪══════════╡\n",
       "│ 2499 ┆ Tara     ┆ 2023-07-02 ┆ LemonChiffo ┆ … ┆ 09/26      ┆ 4023913470 ┆ 184        ┆ LYD      │\n",
       "│      ┆          ┆            ┆ n           ┆   ┆            ┆ 952624459  ┆            ┆          │\n",
       "│ 6447 ┆ Mary     ┆ 2023-07-02 ┆ Ivory       ┆ … ┆ 01/34      ┆ 4633480270 ┆ 654        ┆ VEF      │\n",
       "│      ┆          ┆            ┆             ┆   ┆            ┆ 962757813  ┆            ┆          │\n",
       "│ 2042 ┆ Kimberly ┆ 2023-07-02 ┆ Blue        ┆ … ┆ 10/33      ┆ 3599645155 ┆ 209        ┆ HRK      │\n",
       "│      ┆          ┆            ┆             ┆   ┆            ┆ 808291     ┆            ┆          │\n",
       "│ 7371 ┆ Richard  ┆ 2023-07-02 ┆ DarkKhaki   ┆ … ┆ 04/27      ┆ 4835654879 ┆ 371        ┆ GIP      │\n",
       "│      ┆          ┆            ┆             ┆   ┆            ┆ 617139     ┆            ┆          │\n",
       "│ 8714 ┆ Anthony  ┆ 2023-07-02 ┆ Snow        ┆ … ┆ 01/33      ┆ 2131711023 ┆ 309        ┆ ANG      │\n",
       "│      ┆          ┆            ┆             ┆   ┆            ┆ 93826      ┆            ┆          │\n",
       "│ …    ┆ …        ┆ …          ┆ …           ┆ … ┆ …          ┆ …          ┆ …          ┆ …        │\n",
       "│ 6190 ┆ Jennifer ┆ 2023-07-02 ┆ MintCream   ┆ … ┆ 01/26      ┆ 4205128255 ┆ 998        ┆ SZL      │\n",
       "│      ┆          ┆            ┆             ┆   ┆            ┆ 884508     ┆            ┆          │\n",
       "│ 7917 ┆ Douglas  ┆ 2023-07-02 ┆ MintCream   ┆ … ┆ 04/29      ┆ 6599537186 ┆ 139        ┆ KRW      │\n",
       "│      ┆          ┆            ┆             ┆   ┆            ┆ 495169     ┆            ┆          │\n",
       "│ 724  ┆ Lisa     ┆ 2023-07-02 ┆ YellowGreen ┆ … ┆ 03/32      ┆ 6763503894 ┆ 224        ┆ SEK      │\n",
       "│      ┆          ┆            ┆             ┆   ┆            ┆ 30         ┆            ┆          │\n",
       "│ 8954 ┆ Jeffrey  ┆ 2023-07-02 ┆ AntiqueWhit ┆ … ┆ 01/29      ┆ 3765956154 ┆ 578        ┆ BTN      │\n",
       "│      ┆          ┆            ┆ e           ┆   ┆            ┆ 73084      ┆            ┆          │\n",
       "│ 3867 ┆ Joe      ┆ 2023-07-02 ┆ BlanchedAlm ┆ … ┆ 01/29      ┆ 3559372379 ┆ 85         ┆ MWK      │\n",
       "│      ┆          ┆            ┆ ond         ┆   ┆            ┆ 583190     ┆            ┆          │\n",
       "└──────┴──────────┴────────────┴─────────────┴───┴────────────┴────────────┴────────────┴──────────┘"
      ]
     },
     "execution_count": 47,
     "metadata": {},
     "output_type": "execute_result"
    }
   ],
   "source": [
    "df.filter(pl.col(\"birth_date\") == datetime(2023, 7, 2))"
   ]
  },
  {
   "cell_type": "code",
   "execution_count": 50,
   "id": "7ab9d925-569b-46cb-88f6-4f9cd44f4623",
   "metadata": {},
   "outputs": [
    {
     "data": {
      "text/html": [
       "<div><style>\n",
       ".dataframe > thead > tr,\n",
       ".dataframe > tbody > tr {\n",
       "  text-align: right;\n",
       "  white-space: pre-wrap;\n",
       "}\n",
       "</style>\n",
       "<small>shape: (1, 24)</small><table border=\"1\" class=\"dataframe\"><thead><tr><th>id</th><th>name</th><th>birth_date</th><th>hair_color</th><th>is_MU_fan</th><th>iq</th><th>accession_month</th><th>balance</th><th>debt</th><th>country</th><th>city</th><th>street_name</th><th>building_number</th><th>coordinate</th><th>license_plate</th><th>vin</th><th>swift</th><th>company_name</th><th>company_suffix</th><th>job_name</th><th>credit_card_expire</th><th>credit_card_number</th><th>credit_card_security_code</th><th>currency</th></tr><tr><td>i64</td><td>str</td><td>date</td><td>str</td><td>bool</td><td>i64</td><td>i64</td><td>f64</td><td>f64</td><td>str</td><td>str</td><td>str</td><td>i64</td><td>f64</td><td>str</td><td>str</td><td>str</td><td>str</td><td>str</td><td>str</td><td>str</td><td>i64</td><td>i64</td><td>str</td></tr></thead><tbody><tr><td>8714</td><td>&quot;Anthony&quot;</td><td>2023-07-02</td><td>&quot;Snow&quot;</td><td>false</td><td>388</td><td>2</td><td>1.3501e8</td><td>4.2652e9</td><td>&quot;Nicaragua&quot;</td><td>&quot;Howehaven&quot;</td><td>&quot;Eric Way&quot;</td><td>33</td><td>92.800831</td><td>&quot;5B024&quot;</td><td>&quot;MB9ZUF3S5Y3TJ0U63&quot;</td><td>&quot;MRDEGBSG&quot;</td><td>&quot;Reynolds-Sharp&quot;</td><td>&quot;Inc&quot;</td><td>&quot;Scientist, research (life scie…</td><td>&quot;01/33&quot;</td><td>213171102393826</td><td>309</td><td>&quot;ANG&quot;</td></tr></tbody></table></div>"
      ],
      "text/plain": [
       "shape: (1, 24)\n",
       "┌──────┬─────────┬────────────┬────────────┬───┬─────────────┬─────────────┬────────────┬──────────┐\n",
       "│ id   ┆ name    ┆ birth_date ┆ hair_color ┆ … ┆ credit_card ┆ credit_card ┆ credit_car ┆ currency │\n",
       "│ ---  ┆ ---     ┆ ---        ┆ ---        ┆   ┆ _expire     ┆ _number     ┆ d_security ┆ ---      │\n",
       "│ i64  ┆ str     ┆ date       ┆ str        ┆   ┆ ---         ┆ ---         ┆ _code      ┆ str      │\n",
       "│      ┆         ┆            ┆            ┆   ┆ str         ┆ i64         ┆ ---        ┆          │\n",
       "│      ┆         ┆            ┆            ┆   ┆             ┆             ┆ i64        ┆          │\n",
       "╞══════╪═════════╪════════════╪════════════╪═══╪═════════════╪═════════════╪════════════╪══════════╡\n",
       "│ 8714 ┆ Anthony ┆ 2023-07-02 ┆ Snow       ┆ … ┆ 01/33       ┆ 21317110239 ┆ 309        ┆ ANG      │\n",
       "│      ┆         ┆            ┆            ┆   ┆             ┆ 3826        ┆            ┆          │\n",
       "└──────┴─────────┴────────────┴────────────┴───┴─────────────┴─────────────┴────────────┴──────────┘"
      ]
     },
     "execution_count": 50,
     "metadata": {},
     "output_type": "execute_result"
    }
   ],
   "source": [
    "df.filter(\n",
    "    pl.col(\"name\").is_in([\"Peter\", \"Anthony\"])\n",
    "    & (pl.col(\"birth_date\") == datetime(2023, 7, 2))\n",
    ")"
   ]
  },
  {
   "cell_type": "markdown",
   "id": "e1d64ac9-c41d-4d9e-8e85-665da020525b",
   "metadata": {},
   "source": [
    "#### Expressions"
   ]
  },
  {
   "cell_type": "code",
   "execution_count": 62,
   "id": "bb967a6f-ee58-4a0a-b64b-3a7b46923533",
   "metadata": {},
   "outputs": [
    {
     "data": {
      "text/html": [
       "<div><style>\n",
       ".dataframe > thead > tr,\n",
       ".dataframe > tbody > tr {\n",
       "  text-align: right;\n",
       "  white-space: pre-wrap;\n",
       "}\n",
       "</style>\n",
       "<small>shape: (2, 7)</small><table border=\"1\" class=\"dataframe\"><thead><tr><th>is_MU_fan</th><th>iq</th><th>count</th><th>balance</th><th>mean_debt</th><th>country</th><th>job_name</th></tr><tr><td>bool</td><td>f64</td><td>u32</td><td>f64</td><td>f64</td><td>str</td><td>str</td></tr></thead><tbody><tr><td>false</td><td>500.055694</td><td>49826</td><td>4.9988e8</td><td>5.0057e9</td><td>&quot;Korea&quot;</td><td>&quot;Neurosurgeon&quot;</td></tr><tr><td>true</td><td>499.176944</td><td>50174</td><td>4.9610e8</td><td>4.9973e9</td><td>&quot;Korea&quot;</td><td>&quot;Social research officer, gover…</td></tr></tbody></table></div>"
      ],
      "text/plain": [
       "shape: (2, 7)\n",
       "┌───────────┬────────────┬───────┬──────────┬───────────┬─────────┬──────────────────────────┐\n",
       "│ is_MU_fan ┆ iq         ┆ count ┆ balance  ┆ mean_debt ┆ country ┆ job_name                 │\n",
       "│ ---       ┆ ---        ┆ ---   ┆ ---      ┆ ---       ┆ ---     ┆ ---                      │\n",
       "│ bool      ┆ f64        ┆ u32   ┆ f64      ┆ f64       ┆ str     ┆ str                      │\n",
       "╞═══════════╪════════════╪═══════╪══════════╪═══════════╪═════════╪══════════════════════════╡\n",
       "│ false     ┆ 500.055694 ┆ 49826 ┆ 4.9988e8 ┆ 5.0057e9  ┆ Korea   ┆ Neurosurgeon             │\n",
       "│ true      ┆ 499.176944 ┆ 50174 ┆ 4.9610e8 ┆ 4.9973e9  ┆ Korea   ┆ Social research officer, │\n",
       "│           ┆            ┆       ┆          ┆           ┆         ┆ gover…                   │\n",
       "└───────────┴────────────┴───────┴──────────┴───────────┴─────────┴──────────────────────────┘"
      ]
     },
     "execution_count": 62,
     "metadata": {},
     "output_type": "execute_result"
    }
   ],
   "source": [
    "df.group_by(pl.col(\"is_MU_fan\")).agg(\n",
    "    pl.mean(\"iq\"),\n",
    "    pl.len().alias(\"count\"),\n",
    "    pl.median(\"balance\"),\n",
    "    pl.mean(\"debt\").alias(\"mean_debt\"),\n",
    "    pl.col(\"country\").mode().first(),\n",
    "    pl.col(\"job_name\").mode().first(),\n",
    ")"
   ]
  },
  {
   "cell_type": "code",
   "execution_count": 66,
   "id": "494829aa-b394-4b4e-bc90-7ad7b8a3433e",
   "metadata": {},
   "outputs": [
    {
     "data": {
      "text/html": [
       "<div><style>\n",
       ".dataframe > thead > tr,\n",
       ".dataframe > tbody > tr {\n",
       "  text-align: right;\n",
       "  white-space: pre-wrap;\n",
       "}\n",
       "</style>\n",
       "<small>shape: (100_000, 30)</small><table border=\"1\" class=\"dataframe\"><thead><tr><th>id</th><th>name</th><th>birth_date</th><th>hair_color</th><th>is_MU_fan</th><th>iq</th><th>accession_month</th><th>balance</th><th>debt</th><th>country</th><th>city</th><th>street_name</th><th>building_number</th><th>coordinate</th><th>license_plate</th><th>vin</th><th>swift</th><th>company_name</th><th>company_suffix</th><th>job_name</th><th>credit_card_expire</th><th>credit_card_number</th><th>credit_card_security_code</th><th>currency</th><th>iq_right</th><th>count</th><th>balance_right</th><th>mean_debt</th><th>country_right</th><th>job_name_right</th></tr><tr><td>i64</td><td>str</td><td>date</td><td>str</td><td>bool</td><td>i64</td><td>i64</td><td>f64</td><td>f64</td><td>str</td><td>str</td><td>str</td><td>i64</td><td>f64</td><td>str</td><td>str</td><td>str</td><td>str</td><td>str</td><td>str</td><td>str</td><td>i64</td><td>i64</td><td>str</td><td>f64</td><td>u32</td><td>f64</td><td>f64</td><td>str</td><td>str</td></tr></thead><tbody><tr><td>1379</td><td>&quot;Amber&quot;</td><td>1998-02-15</td><td>&quot;Turquoise&quot;</td><td>false</td><td>580</td><td>5</td><td>7.9476e8</td><td>2.1117e9</td><td>&quot;Portugal&quot;</td><td>&quot;East Joannafort&quot;</td><td>&quot;Matthew Estate&quot;</td><td>532</td><td>156.875421</td><td>&quot;77X•751&quot;</td><td>&quot;X2ZCH6JJX6XG0GYFY&quot;</td><td>&quot;NEXTGBHN&quot;</td><td>&quot;Patrick LLC&quot;</td><td>&quot;PLC&quot;</td><td>&quot;Furniture designer&quot;</td><td>&quot;02/26&quot;</td><td>3554507453178061</td><td>162</td><td>&quot;OMR&quot;</td><td>516.171271</td><td>362</td><td>5.0252e8</td><td>5.0687e9</td><td>&quot;Australia&quot;</td><td>&quot;Designer, multimedia&quot;</td></tr><tr><td>544</td><td>&quot;Karen&quot;</td><td>2018-09-06</td><td>&quot;MediumOrchid&quot;</td><td>true</td><td>241</td><td>8</td><td>4.8810e8</td><td>6.8856e9</td><td>&quot;Reunion&quot;</td><td>&quot;Lindaside&quot;</td><td>&quot;Chloe Forest&quot;</td><td>4333</td><td>112.248561</td><td>&quot;05S UF6&quot;</td><td>&quot;Y6Z43F7Y3JGD3KYCE&quot;</td><td>&quot;NNNBGBYS&quot;</td><td>&quot;Mckee Inc&quot;</td><td>&quot;Ltd&quot;</td><td>&quot;Therapist, drama&quot;</td><td>&quot;06/28&quot;</td><td>2517381416513097</td><td>990</td><td>&quot;MMK&quot;</td><td>517.053388</td><td>487</td><td>5.1906e8</td><td>5.1452e9</td><td>&quot;British Virgin Islands&quot;</td><td>&quot;Therapist, music&quot;</td></tr><tr><td>5667</td><td>&quot;John&quot;</td><td>2020-11-04</td><td>&quot;MintCream&quot;</td><td>true</td><td>680</td><td>5</td><td>3.4368e8</td><td>8.7849e9</td><td>&quot;Mongolia&quot;</td><td>&quot;Aaronborough&quot;</td><td>&quot;Logan Lakes&quot;</td><td>49216</td><td>-103.165232</td><td>&quot;191 1GP&quot;</td><td>&quot;RBJ4K19M8T6MTYX5U&quot;</td><td>&quot;EVJLGBNO&quot;</td><td>&quot;Thompson-Choi&quot;</td><td>&quot;Group&quot;</td><td>&quot;Cabin crew&quot;</td><td>&quot;05/27&quot;</td><td>2257264598104972</td><td>79</td><td>&quot;CDF&quot;</td><td>504.448966</td><td>1450</td><td>5.0651e8</td><td>5.0164e9</td><td>&quot;Greece&quot;</td><td>&quot;Theatre manager&quot;</td></tr><tr><td>8606</td><td>&quot;Tiffany&quot;</td><td>2018-06-27</td><td>&quot;GhostWhite&quot;</td><td>true</td><td>20</td><td>9</td><td>9.8101e8</td><td>7.9324e9</td><td>&quot;Germany&quot;</td><td>&quot;Jillborough&quot;</td><td>&quot;Hess Street&quot;</td><td>55944</td><td>-40.574345</td><td>&quot;05E T01&quot;</td><td>&quot;468207YG6CHZU10CB&quot;</td><td>&quot;MDYQGBH7&quot;</td><td>&quot;Solomon LLC&quot;</td><td>&quot;PLC&quot;</td><td>&quot;Accommodation manager&quot;</td><td>&quot;11/26&quot;</td><td>3560664812925229</td><td>206</td><td>&quot;IDR&quot;</td><td>506.843648</td><td>307</td><td>5.1999e8</td><td>4.9871e9</td><td>&quot;Romania&quot;</td><td>&quot;Financial planner&quot;</td></tr><tr><td>3341</td><td>&quot;Stacy&quot;</td><td>2001-05-01</td><td>&quot;Olive&quot;</td><td>false</td><td>984</td><td>7</td><td>4.6134e7</td><td>7.2156e9</td><td>&quot;Rwanda&quot;</td><td>&quot;East Noahfort&quot;</td><td>&quot;Shannon Bridge&quot;</td><td>61265</td><td>58.009005</td><td>&quot;0NP Z16&quot;</td><td>&quot;TKSNHAT6XK15HCE5Y&quot;</td><td>&quot;KGSCGB6U&quot;</td><td>&quot;Cook, Osborne and Rodriguez&quot;</td><td>&quot;LLC&quot;</td><td>&quot;Dentist&quot;</td><td>&quot;05/32&quot;</td><td>3533986016849507</td><td>911</td><td>&quot;TWD&quot;</td><td>479.066265</td><td>166</td><td>4.2235e8</td><td>4.9775e9</td><td>&quot;Belize&quot;</td><td>&quot;Charity fundraiser&quot;</td></tr><tr><td>&hellip;</td><td>&hellip;</td><td>&hellip;</td><td>&hellip;</td><td>&hellip;</td><td>&hellip;</td><td>&hellip;</td><td>&hellip;</td><td>&hellip;</td><td>&hellip;</td><td>&hellip;</td><td>&hellip;</td><td>&hellip;</td><td>&hellip;</td><td>&hellip;</td><td>&hellip;</td><td>&hellip;</td><td>&hellip;</td><td>&hellip;</td><td>&hellip;</td><td>&hellip;</td><td>&hellip;</td><td>&hellip;</td><td>&hellip;</td><td>&hellip;</td><td>&hellip;</td><td>&hellip;</td><td>&hellip;</td><td>&hellip;</td><td>&hellip;</td></tr><tr><td>9324</td><td>&quot;Steven&quot;</td><td>2011-08-25</td><td>&quot;MediumSpringGreen&quot;</td><td>false</td><td>119</td><td>3</td><td>3.8841e8</td><td>5.0166e9</td><td>&quot;Cook Islands&quot;</td><td>&quot;Harrisonborough&quot;</td><td>&quot;Daniel Crossroad&quot;</td><td>7354</td><td>174.913797</td><td>&quot;164-KPG&quot;</td><td>&quot;17MAVPKN1NHGF2XTD&quot;</td><td>&quot;BTBRGB7P&quot;</td><td>&quot;Simmons-Jenkins&quot;</td><td>&quot;and Sons&quot;</td><td>&quot;Speech and language therapist&quot;</td><td>&quot;07/32&quot;</td><td>4363818815761</td><td>629</td><td>&quot;KMF&quot;</td><td>491.120061</td><td>658</td><td>5.2968e8</td><td>5.1247e9</td><td>&quot;Congo&quot;</td><td>&quot;Financial adviser&quot;</td></tr><tr><td>1441</td><td>&quot;Lauren&quot;</td><td>1999-12-03</td><td>&quot;DarkRed&quot;</td><td>false</td><td>945</td><td>10</td><td>1.6875e8</td><td>5.1005e9</td><td>&quot;Kiribati&quot;</td><td>&quot;Cindyburgh&quot;</td><td>&quot;Teresa Knoll&quot;</td><td>298</td><td>-102.709206</td><td>&quot;OVO 2594&quot;</td><td>&quot;DJ8NE5P473JMG4URW&quot;</td><td>&quot;IRZGGBNB&quot;</td><td>&quot;Duncan LLC&quot;</td><td>&quot;Ltd&quot;</td><td>&quot;Speech and language therapist&quot;</td><td>&quot;06/28&quot;</td><td>4147990902517</td><td>519</td><td>&quot;MXN&quot;</td><td>474.346995</td><td>366</td><td>4.7760e8</td><td>5.0733e9</td><td>&quot;Turks and Caicos Islands&quot;</td><td>&quot;Building services engineer&quot;</td></tr><tr><td>1015</td><td>&quot;Lisa&quot;</td><td>2008-05-18</td><td>&quot;DarkRed&quot;</td><td>false</td><td>756</td><td>3</td><td>9.4986e7</td><td>3.8826e9</td><td>&quot;Tanzania&quot;</td><td>&quot;Mackland&quot;</td><td>&quot;Stephen Creek&quot;</td><td>69884</td><td>134.259281</td><td>&quot;UL 61636&quot;</td><td>&quot;FAZ6BV954197FHY7V&quot;</td><td>&quot;XXBJGBTJ&quot;</td><td>&quot;Lane Group&quot;</td><td>&quot;Group&quot;</td><td>&quot;Graphic designer&quot;</td><td>&quot;08/33&quot;</td><td>4766046862604079468</td><td>865</td><td>&quot;DOP&quot;</td><td>511.405951</td><td>941</td><td>4.7128e8</td><td>5.0772e9</td><td>&quot;Kuwait&quot;</td><td>&quot;Civil Service fast streamer&quot;</td></tr><tr><td>1139</td><td>&quot;David&quot;</td><td>2016-10-20</td><td>&quot;DarkKhaki&quot;</td><td>true</td><td>530</td><td>2</td><td>6.1544e8</td><td>1.0767e9</td><td>&quot;Puerto Rico&quot;</td><td>&quot;New Elizabethstad&quot;</td><td>&quot;Hayes Forge&quot;</td><td>2582</td><td>-9.646405</td><td>&quot;1GM 124&quot;</td><td>&quot;6E16RZ3V4B49B4ZKM&quot;</td><td>&quot;AOEYGB3A&quot;</td><td>&quot;Fisher LLC&quot;</td><td>&quot;Inc&quot;</td><td>&quot;Occupational psychologist&quot;</td><td>&quot;02/31&quot;</td><td>30526646532133</td><td>956</td><td>&quot;UZS&quot;</td><td>510.455078</td><td>1536</td><td>5.0483e8</td><td>5.0570e9</td><td>&quot;Thailand&quot;</td><td>&quot;Tree surgeon&quot;</td></tr><tr><td>1217</td><td>&quot;Samantha&quot;</td><td>2004-05-26</td><td>&quot;LightCyan&quot;</td><td>false</td><td>104</td><td>12</td><td>8.4974e8</td><td>1.5757e9</td><td>&quot;Denmark&quot;</td><td>&quot;Port Allenland&quot;</td><td>&quot;Brooks Villages&quot;</td><td>6544</td><td>-105.041018</td><td>&quot;250-VAPY&quot;</td><td>&quot;3FCLSPCE2750HNW86&quot;</td><td>&quot;OHEVGBGK&quot;</td><td>&quot;Ortiz and Sons&quot;</td><td>&quot;Ltd&quot;</td><td>&quot;Trade union research officer&quot;</td><td>&quot;05/31&quot;</td><td>4387113582642686420</td><td>966</td><td>&quot;GNF&quot;</td><td>506.206422</td><td>436</td><td>5.0686e8</td><td>4.9849e9</td><td>&quot;Congo&quot;</td><td>&quot;Geochemist&quot;</td></tr></tbody></table></div>"
      ],
      "text/plain": [
       "shape: (100_000, 30)\n",
       "┌──────┬──────────┬────────────┬────────────┬───┬────────────┬───────────┬────────────┬────────────┐\n",
       "│ id   ┆ name     ┆ birth_date ┆ hair_color ┆ … ┆ balance_ri ┆ mean_debt ┆ country_ri ┆ job_name_r │\n",
       "│ ---  ┆ ---      ┆ ---        ┆ ---        ┆   ┆ ght        ┆ ---       ┆ ght        ┆ ight       │\n",
       "│ i64  ┆ str      ┆ date       ┆ str        ┆   ┆ ---        ┆ f64       ┆ ---        ┆ ---        │\n",
       "│      ┆          ┆            ┆            ┆   ┆ f64        ┆           ┆ str        ┆ str        │\n",
       "╞══════╪══════════╪════════════╪════════════╪═══╪════════════╪═══════════╪════════════╪════════════╡\n",
       "│ 1379 ┆ Amber    ┆ 1998-02-15 ┆ Turquoise  ┆ … ┆ 5.0252e8   ┆ 5.0687e9  ┆ Australia  ┆ Designer,  │\n",
       "│      ┆          ┆            ┆            ┆   ┆            ┆           ┆            ┆ multimedia │\n",
       "│ 544  ┆ Karen    ┆ 2018-09-06 ┆ MediumOrch ┆ … ┆ 5.1906e8   ┆ 5.1452e9  ┆ British    ┆ Therapist, │\n",
       "│      ┆          ┆            ┆ id         ┆   ┆            ┆           ┆ Virgin     ┆ music      │\n",
       "│      ┆          ┆            ┆            ┆   ┆            ┆           ┆ Islands    ┆            │\n",
       "│ 5667 ┆ John     ┆ 2020-11-04 ┆ MintCream  ┆ … ┆ 5.0651e8   ┆ 5.0164e9  ┆ Greece     ┆ Theatre    │\n",
       "│      ┆          ┆            ┆            ┆   ┆            ┆           ┆            ┆ manager    │\n",
       "│ 8606 ┆ Tiffany  ┆ 2018-06-27 ┆ GhostWhite ┆ … ┆ 5.1999e8   ┆ 4.9871e9  ┆ Romania    ┆ Financial  │\n",
       "│      ┆          ┆            ┆            ┆   ┆            ┆           ┆            ┆ planner    │\n",
       "│ 3341 ┆ Stacy    ┆ 2001-05-01 ┆ Olive      ┆ … ┆ 4.2235e8   ┆ 4.9775e9  ┆ Belize     ┆ Charity    │\n",
       "│      ┆          ┆            ┆            ┆   ┆            ┆           ┆            ┆ fundraiser │\n",
       "│ …    ┆ …        ┆ …          ┆ …          ┆ … ┆ …          ┆ …         ┆ …          ┆ …          │\n",
       "│ 9324 ┆ Steven   ┆ 2011-08-25 ┆ MediumSpri ┆ … ┆ 5.2968e8   ┆ 5.1247e9  ┆ Congo      ┆ Financial  │\n",
       "│      ┆          ┆            ┆ ngGreen    ┆   ┆            ┆           ┆            ┆ adviser    │\n",
       "│ 1441 ┆ Lauren   ┆ 1999-12-03 ┆ DarkRed    ┆ … ┆ 4.7760e8   ┆ 5.0733e9  ┆ Turks and  ┆ Building   │\n",
       "│      ┆          ┆            ┆            ┆   ┆            ┆           ┆ Caicos     ┆ services   │\n",
       "│      ┆          ┆            ┆            ┆   ┆            ┆           ┆ Islands    ┆ engineer   │\n",
       "│ 1015 ┆ Lisa     ┆ 2008-05-18 ┆ DarkRed    ┆ … ┆ 4.7128e8   ┆ 5.0772e9  ┆ Kuwait     ┆ Civil      │\n",
       "│      ┆          ┆            ┆            ┆   ┆            ┆           ┆            ┆ Service    │\n",
       "│      ┆          ┆            ┆            ┆   ┆            ┆           ┆            ┆ fast       │\n",
       "│      ┆          ┆            ┆            ┆   ┆            ┆           ┆            ┆ streamer   │\n",
       "│ 1139 ┆ David    ┆ 2016-10-20 ┆ DarkKhaki  ┆ … ┆ 5.0483e8   ┆ 5.0570e9  ┆ Thailand   ┆ Tree       │\n",
       "│      ┆          ┆            ┆            ┆   ┆            ┆           ┆            ┆ surgeon    │\n",
       "│ 1217 ┆ Samantha ┆ 2004-05-26 ┆ LightCyan  ┆ … ┆ 5.0686e8   ┆ 4.9849e9  ┆ Congo      ┆ Geochemist │\n",
       "└──────┴──────────┴────────────┴────────────┴───┴────────────┴───────────┴────────────┴────────────┘"
      ]
     },
     "execution_count": 66,
     "metadata": {},
     "output_type": "execute_result"
    }
   ],
   "source": [
    "df.join(\n",
    "    df.group_by(\"name\").agg(\n",
    "        pl.mean(\"iq\"),\n",
    "        pl.len().alias(\"count\"),\n",
    "        pl.median(\"balance\"),\n",
    "        pl.mean(\"debt\").alias(\"mean_debt\"),\n",
    "        pl.col(\"country\").mode().first(),\n",
    "        pl.col(\"job_name\").mode().first(),\n",
    "    ),\n",
    "    how=\"left\",\n",
    "    on=\"name\",\n",
    ")"
   ]
  },
  {
   "cell_type": "markdown",
   "id": "dcc89af0-07a1-4ccf-9f02-8cdc9cf33e23",
   "metadata": {},
   "source": [
    "#### Lazy API"
   ]
  },
  {
   "cell_type": "code",
   "execution_count": 77,
   "id": "2d1dfe6e-9555-4d34-a64a-37b475e88eef",
   "metadata": {},
   "outputs": [
    {
     "data": {
      "text/html": [
       "<h4>NAIVE QUERY PLAN</h4><p>run <b>LazyFrame.show_graph()</b> to see the optimized version</p><?xml version=\"1.0\" encoding=\"UTF-8\" standalone=\"no\"?>\n",
       "<!DOCTYPE svg PUBLIC \"-//W3C//DTD SVG 1.1//EN\"\n",
       " \"http://www.w3.org/Graphics/SVG/1.1/DTD/svg11.dtd\">\n",
       "<!-- Generated by graphviz version 10.0.1 (20240210.2158)\n",
       " -->\n",
       "<!-- Title: polars_query Pages: 1 -->\n",
       "<svg width=\"1310pt\" height=\"346pt\"\n",
       " viewBox=\"0.00 0.00 1309.50 346.00\" xmlns=\"http://www.w3.org/2000/svg\" xmlns:xlink=\"http://www.w3.org/1999/xlink\">\n",
       "<g id=\"graph0\" class=\"graph\" transform=\"scale(1 1) rotate(0) translate(4 342)\">\n",
       "<title>polars_query</title>\n",
       "<polygon fill=\"white\" stroke=\"none\" points=\"-4,4 -4,-342 1305.5,-342 1305.5,4 -4,4\"/>\n",
       "<!-- p1 -->\n",
       "<g id=\"node1\" class=\"node\">\n",
       "<title>p1</title>\n",
       "<polygon fill=\"none\" stroke=\"black\" points=\"553,-338 427.5,-338 427.5,-280.5 553,-280.5 553,-338\"/>\n",
       "<text text-anchor=\"middle\" x=\"490.25\" y=\"-320.7\" font-family=\"Times,serif\" font-size=\"14.00\">JOIN LEFT</text>\n",
       "<text text-anchor=\"middle\" x=\"490.25\" y=\"-304.2\" font-family=\"Times,serif\" font-size=\"14.00\">left: [col(&quot;name&quot;)];</text>\n",
       "<text text-anchor=\"middle\" x=\"490.25\" y=\"-287.7\" font-family=\"Times,serif\" font-size=\"14.00\">right: [col(&quot;name&quot;)]</text>\n",
       "</g>\n",
       "<!-- p2 -->\n",
       "<g id=\"node2\" class=\"node\">\n",
       "<title>p2</title>\n",
       "<polygon fill=\"none\" stroke=\"black\" points=\"320.5,-233.75 0,-233.75 0,-197.75 320.5,-197.75 320.5,-233.75\"/>\n",
       "<text text-anchor=\"middle\" x=\"160.25\" y=\"-210.7\" font-family=\"Times,serif\" font-size=\"14.00\">WITH COLUMNS [col(&quot;birth_date&quot;).strict_cast(Date)]</text>\n",
       "</g>\n",
       "<!-- p1&#45;&#45;p2 -->\n",
       "<g id=\"edge1\" class=\"edge\">\n",
       "<title>p1&#45;&#45;p2</title>\n",
       "<path fill=\"none\" stroke=\"black\" d=\"M427.01,-290.72C368.44,-274.47 281.78,-250.45 223.27,-234.22\"/>\n",
       "</g>\n",
       "<!-- p4 -->\n",
       "<g id=\"node4\" class=\"node\">\n",
       "<title>p4</title>\n",
       "<polygon fill=\"none\" stroke=\"black\" points=\"1301.5,-244.5 339,-244.5 339,-187 1301.5,-187 1301.5,-244.5\"/>\n",
       "<text text-anchor=\"middle\" x=\"820.25\" y=\"-227.2\" font-family=\"Times,serif\" font-size=\"14.00\">AGG [col(&quot;iq&quot;).mean(), len().alias(&quot;count&quot;), col(&quot;balance&quot;).median(), col(&quot;debt&quot;).mean().alias(&quot;mean_debt&quot;), col(&quot;country&quot;).mode().first(), col(&quot;job_name&quot;).mode().first()]</text>\n",
       "<text text-anchor=\"middle\" x=\"820.25\" y=\"-210.7\" font-family=\"Times,serif\" font-size=\"14.00\">BY</text>\n",
       "<text text-anchor=\"middle\" x=\"820.25\" y=\"-194.2\" font-family=\"Times,serif\" font-size=\"14.00\">[col(&quot;name&quot;)]</text>\n",
       "</g>\n",
       "<!-- p1&#45;&#45;p4 -->\n",
       "<g id=\"edge3\" class=\"edge\">\n",
       "<title>p1&#45;&#45;p4</title>\n",
       "<path fill=\"none\" stroke=\"black\" d=\"M553.49,-290.72C600.18,-277.77 664.71,-259.88 718.61,-244.93\"/>\n",
       "</g>\n",
       "<!-- p3 -->\n",
       "<g id=\"node3\" class=\"node\">\n",
       "<title>p3</title>\n",
       "<polygon fill=\"none\" stroke=\"black\" points=\"190,-151 130.5,-151 130.5,-93.5 190,-93.5 190,-151\"/>\n",
       "<text text-anchor=\"middle\" x=\"160.25\" y=\"-133.7\" font-family=\"Times,serif\" font-size=\"14.00\">TABLE</text>\n",
       "<text text-anchor=\"middle\" x=\"160.25\" y=\"-117.2\" font-family=\"Times,serif\" font-size=\"14.00\">π */24;</text>\n",
       "<text text-anchor=\"middle\" x=\"160.25\" y=\"-100.7\" font-family=\"Times,serif\" font-size=\"14.00\">σ None</text>\n",
       "</g>\n",
       "<!-- p2&#45;&#45;p3 -->\n",
       "<g id=\"edge2\" class=\"edge\">\n",
       "<title>p2&#45;&#45;p3</title>\n",
       "<path fill=\"none\" stroke=\"black\" d=\"M160.25,-197.54C160.25,-184.49 160.25,-166.29 160.25,-151.17\"/>\n",
       "</g>\n",
       "<!-- p5 -->\n",
       "<g id=\"node5\" class=\"node\">\n",
       "<title>p5</title>\n",
       "<polygon fill=\"none\" stroke=\"black\" points=\"980.5,-140.25 660,-140.25 660,-104.25 980.5,-104.25 980.5,-140.25\"/>\n",
       "<text text-anchor=\"middle\" x=\"820.25\" y=\"-117.2\" font-family=\"Times,serif\" font-size=\"14.00\">WITH COLUMNS [col(&quot;birth_date&quot;).strict_cast(Date)]</text>\n",
       "</g>\n",
       "<!-- p4&#45;&#45;p5 -->\n",
       "<g id=\"edge4\" class=\"edge\">\n",
       "<title>p4&#45;&#45;p5</title>\n",
       "<path fill=\"none\" stroke=\"black\" d=\"M820.25,-186.8C820.25,-171.77 820.25,-153.7 820.25,-140.68\"/>\n",
       "</g>\n",
       "<!-- p6 -->\n",
       "<g id=\"node6\" class=\"node\">\n",
       "<title>p6</title>\n",
       "<polygon fill=\"none\" stroke=\"black\" points=\"850,-57.5 790.5,-57.5 790.5,0 850,0 850,-57.5\"/>\n",
       "<text text-anchor=\"middle\" x=\"820.25\" y=\"-40.2\" font-family=\"Times,serif\" font-size=\"14.00\">TABLE</text>\n",
       "<text text-anchor=\"middle\" x=\"820.25\" y=\"-23.7\" font-family=\"Times,serif\" font-size=\"14.00\">π */24;</text>\n",
       "<text text-anchor=\"middle\" x=\"820.25\" y=\"-7.2\" font-family=\"Times,serif\" font-size=\"14.00\">σ None</text>\n",
       "</g>\n",
       "<!-- p5&#45;&#45;p6 -->\n",
       "<g id=\"edge5\" class=\"edge\">\n",
       "<title>p5&#45;&#45;p6</title>\n",
       "<path fill=\"none\" stroke=\"black\" d=\"M820.25,-104.04C820.25,-90.99 820.25,-72.79 820.25,-57.67\"/>\n",
       "</g>\n",
       "</g>\n",
       "</svg>\n"
      ],
      "text/plain": [
       "<LazyFrame at 0x14C75F490>"
      ]
     },
     "execution_count": 77,
     "metadata": {},
     "output_type": "execute_result"
    }
   ],
   "source": [
    "df = pl.read_csv(\"data/dummy_dataset_small.csv\").lazy()\n",
    "df = df.with_columns(pl.col(\"birth_date\").cast(pl.Date))\n",
    "df = df.join(\n",
    "    df.group_by(\"name\").agg(\n",
    "        pl.mean(\"iq\"),\n",
    "        pl.len().alias(\"count\"),\n",
    "        pl.median(\"balance\"),\n",
    "        pl.mean(\"debt\").alias(\"mean_debt\"),\n",
    "        pl.col(\"country\").mode().first(),\n",
    "        pl.col(\"job_name\").mode().first(),\n",
    "    ),\n",
    "    how=\"left\",\n",
    "    on=\"name\",\n",
    ")\n",
    "df"
   ]
  },
  {
   "cell_type": "code",
   "execution_count": 79,
   "id": "fdf17ba0-d431-4bf7-be85-7b38a8cc45f5",
   "metadata": {},
   "outputs": [
    {
     "name": "stdout",
     "output_type": "stream",
     "text": [
      "LEFT JOIN:\n",
      "LEFT PLAN ON: [col(\"name\")]\n",
      "  CACHE[id: 0, cache_hits: 1]\n",
      "     WITH_COLUMNS:\n",
      "     [col(\"birth_date\").strict_cast(Date)] \n",
      "      DF [\"id\", \"name\", \"birth_date\", \"hair_color\"]; PROJECT */24 COLUMNS; SELECTION: None\n",
      "RIGHT PLAN ON: [col(\"name\")]\n",
      "  AGGREGATE\n",
      "  \t[col(\"iq\").mean(), len().alias(\"count\"), col(\"balance\").median(), col(\"debt\").mean().alias(\"mean_debt\"), col(\"country\").mode().first(), col(\"job_name\").mode().first()] BY [col(\"name\")] FROM\n",
      "    simple π 6/24 [\"iq\", \"balance\", \"debt\", ... 3 other columns]\n",
      "      CACHE[id: 0, cache_hits: 1]\n",
      "         WITH_COLUMNS:\n",
      "         [col(\"birth_date\").strict_cast(Date)] \n",
      "          DF [\"id\", \"name\", \"birth_date\", \"hair_color\"]; PROJECT */24 COLUMNS; SELECTION: None\n",
      "END LEFT JOIN\n"
     ]
    }
   ],
   "source": [
    "print(df.explain())"
   ]
  },
  {
   "cell_type": "code",
   "execution_count": 80,
   "id": "a6d587f1-50bb-45de-80e1-5fa773d6fdae",
   "metadata": {},
   "outputs": [
    {
     "data": {
      "text/html": [
       "<div><style>\n",
       ".dataframe > thead > tr,\n",
       ".dataframe > tbody > tr {\n",
       "  text-align: right;\n",
       "  white-space: pre-wrap;\n",
       "}\n",
       "</style>\n",
       "<small>shape: (100_000, 30)</small><table border=\"1\" class=\"dataframe\"><thead><tr><th>id</th><th>name</th><th>birth_date</th><th>hair_color</th><th>is_MU_fan</th><th>iq</th><th>accession_month</th><th>balance</th><th>debt</th><th>country</th><th>city</th><th>street_name</th><th>building_number</th><th>coordinate</th><th>license_plate</th><th>vin</th><th>swift</th><th>company_name</th><th>company_suffix</th><th>job_name</th><th>credit_card_expire</th><th>credit_card_number</th><th>credit_card_security_code</th><th>currency</th><th>iq_right</th><th>count</th><th>balance_right</th><th>mean_debt</th><th>country_right</th><th>job_name_right</th></tr><tr><td>i64</td><td>str</td><td>date</td><td>str</td><td>bool</td><td>i64</td><td>i64</td><td>f64</td><td>f64</td><td>str</td><td>str</td><td>str</td><td>i64</td><td>f64</td><td>str</td><td>str</td><td>str</td><td>str</td><td>str</td><td>str</td><td>str</td><td>i64</td><td>i64</td><td>str</td><td>f64</td><td>u32</td><td>f64</td><td>f64</td><td>str</td><td>str</td></tr></thead><tbody><tr><td>1379</td><td>&quot;Amber&quot;</td><td>1998-02-15</td><td>&quot;Turquoise&quot;</td><td>false</td><td>580</td><td>5</td><td>7.9476e8</td><td>2.1117e9</td><td>&quot;Portugal&quot;</td><td>&quot;East Joannafort&quot;</td><td>&quot;Matthew Estate&quot;</td><td>532</td><td>156.875421</td><td>&quot;77X•751&quot;</td><td>&quot;X2ZCH6JJX6XG0GYFY&quot;</td><td>&quot;NEXTGBHN&quot;</td><td>&quot;Patrick LLC&quot;</td><td>&quot;PLC&quot;</td><td>&quot;Furniture designer&quot;</td><td>&quot;02/26&quot;</td><td>3554507453178061</td><td>162</td><td>&quot;OMR&quot;</td><td>516.171271</td><td>362</td><td>5.0252e8</td><td>5.0687e9</td><td>&quot;Australia&quot;</td><td>&quot;Designer, multimedia&quot;</td></tr><tr><td>544</td><td>&quot;Karen&quot;</td><td>2018-09-06</td><td>&quot;MediumOrchid&quot;</td><td>true</td><td>241</td><td>8</td><td>4.8810e8</td><td>6.8856e9</td><td>&quot;Reunion&quot;</td><td>&quot;Lindaside&quot;</td><td>&quot;Chloe Forest&quot;</td><td>4333</td><td>112.248561</td><td>&quot;05S UF6&quot;</td><td>&quot;Y6Z43F7Y3JGD3KYCE&quot;</td><td>&quot;NNNBGBYS&quot;</td><td>&quot;Mckee Inc&quot;</td><td>&quot;Ltd&quot;</td><td>&quot;Therapist, drama&quot;</td><td>&quot;06/28&quot;</td><td>2517381416513097</td><td>990</td><td>&quot;MMK&quot;</td><td>517.053388</td><td>487</td><td>5.1906e8</td><td>5.1452e9</td><td>&quot;British Virgin Islands&quot;</td><td>&quot;Therapist, music&quot;</td></tr><tr><td>5667</td><td>&quot;John&quot;</td><td>2020-11-04</td><td>&quot;MintCream&quot;</td><td>true</td><td>680</td><td>5</td><td>3.4368e8</td><td>8.7849e9</td><td>&quot;Mongolia&quot;</td><td>&quot;Aaronborough&quot;</td><td>&quot;Logan Lakes&quot;</td><td>49216</td><td>-103.165232</td><td>&quot;191 1GP&quot;</td><td>&quot;RBJ4K19M8T6MTYX5U&quot;</td><td>&quot;EVJLGBNO&quot;</td><td>&quot;Thompson-Choi&quot;</td><td>&quot;Group&quot;</td><td>&quot;Cabin crew&quot;</td><td>&quot;05/27&quot;</td><td>2257264598104972</td><td>79</td><td>&quot;CDF&quot;</td><td>504.448966</td><td>1450</td><td>5.0651e8</td><td>5.0164e9</td><td>&quot;Greece&quot;</td><td>&quot;Conservator, museum/gallery&quot;</td></tr><tr><td>8606</td><td>&quot;Tiffany&quot;</td><td>2018-06-27</td><td>&quot;GhostWhite&quot;</td><td>true</td><td>20</td><td>9</td><td>9.8101e8</td><td>7.9324e9</td><td>&quot;Germany&quot;</td><td>&quot;Jillborough&quot;</td><td>&quot;Hess Street&quot;</td><td>55944</td><td>-40.574345</td><td>&quot;05E T01&quot;</td><td>&quot;468207YG6CHZU10CB&quot;</td><td>&quot;MDYQGBH7&quot;</td><td>&quot;Solomon LLC&quot;</td><td>&quot;PLC&quot;</td><td>&quot;Accommodation manager&quot;</td><td>&quot;11/26&quot;</td><td>3560664812925229</td><td>206</td><td>&quot;IDR&quot;</td><td>506.843648</td><td>307</td><td>5.1999e8</td><td>4.9871e9</td><td>&quot;Iraq&quot;</td><td>&quot;Financial planner&quot;</td></tr><tr><td>3341</td><td>&quot;Stacy&quot;</td><td>2001-05-01</td><td>&quot;Olive&quot;</td><td>false</td><td>984</td><td>7</td><td>4.6134e7</td><td>7.2156e9</td><td>&quot;Rwanda&quot;</td><td>&quot;East Noahfort&quot;</td><td>&quot;Shannon Bridge&quot;</td><td>61265</td><td>58.009005</td><td>&quot;0NP Z16&quot;</td><td>&quot;TKSNHAT6XK15HCE5Y&quot;</td><td>&quot;KGSCGB6U&quot;</td><td>&quot;Cook, Osborne and Rodriguez&quot;</td><td>&quot;LLC&quot;</td><td>&quot;Dentist&quot;</td><td>&quot;05/32&quot;</td><td>3533986016849507</td><td>911</td><td>&quot;TWD&quot;</td><td>479.066265</td><td>166</td><td>4.2235e8</td><td>4.9775e9</td><td>&quot;Belize&quot;</td><td>&quot;Retail buyer&quot;</td></tr><tr><td>&hellip;</td><td>&hellip;</td><td>&hellip;</td><td>&hellip;</td><td>&hellip;</td><td>&hellip;</td><td>&hellip;</td><td>&hellip;</td><td>&hellip;</td><td>&hellip;</td><td>&hellip;</td><td>&hellip;</td><td>&hellip;</td><td>&hellip;</td><td>&hellip;</td><td>&hellip;</td><td>&hellip;</td><td>&hellip;</td><td>&hellip;</td><td>&hellip;</td><td>&hellip;</td><td>&hellip;</td><td>&hellip;</td><td>&hellip;</td><td>&hellip;</td><td>&hellip;</td><td>&hellip;</td><td>&hellip;</td><td>&hellip;</td><td>&hellip;</td></tr><tr><td>9324</td><td>&quot;Steven&quot;</td><td>2011-08-25</td><td>&quot;MediumSpringGreen&quot;</td><td>false</td><td>119</td><td>3</td><td>3.8841e8</td><td>5.0166e9</td><td>&quot;Cook Islands&quot;</td><td>&quot;Harrisonborough&quot;</td><td>&quot;Daniel Crossroad&quot;</td><td>7354</td><td>174.913797</td><td>&quot;164-KPG&quot;</td><td>&quot;17MAVPKN1NHGF2XTD&quot;</td><td>&quot;BTBRGB7P&quot;</td><td>&quot;Simmons-Jenkins&quot;</td><td>&quot;and Sons&quot;</td><td>&quot;Speech and language therapist&quot;</td><td>&quot;07/32&quot;</td><td>4363818815761</td><td>629</td><td>&quot;KMF&quot;</td><td>491.120061</td><td>658</td><td>5.2968e8</td><td>5.1247e9</td><td>&quot;Congo&quot;</td><td>&quot;Financial adviser&quot;</td></tr><tr><td>1441</td><td>&quot;Lauren&quot;</td><td>1999-12-03</td><td>&quot;DarkRed&quot;</td><td>false</td><td>945</td><td>10</td><td>1.6875e8</td><td>5.1005e9</td><td>&quot;Kiribati&quot;</td><td>&quot;Cindyburgh&quot;</td><td>&quot;Teresa Knoll&quot;</td><td>298</td><td>-102.709206</td><td>&quot;OVO 2594&quot;</td><td>&quot;DJ8NE5P473JMG4URW&quot;</td><td>&quot;IRZGGBNB&quot;</td><td>&quot;Duncan LLC&quot;</td><td>&quot;Ltd&quot;</td><td>&quot;Speech and language therapist&quot;</td><td>&quot;06/28&quot;</td><td>4147990902517</td><td>519</td><td>&quot;MXN&quot;</td><td>474.346995</td><td>366</td><td>4.7760e8</td><td>5.0733e9</td><td>&quot;Turks and Caicos Islands&quot;</td><td>&quot;Building services engineer&quot;</td></tr><tr><td>1015</td><td>&quot;Lisa&quot;</td><td>2008-05-18</td><td>&quot;DarkRed&quot;</td><td>false</td><td>756</td><td>3</td><td>9.4986e7</td><td>3.8826e9</td><td>&quot;Tanzania&quot;</td><td>&quot;Mackland&quot;</td><td>&quot;Stephen Creek&quot;</td><td>69884</td><td>134.259281</td><td>&quot;UL 61636&quot;</td><td>&quot;FAZ6BV954197FHY7V&quot;</td><td>&quot;XXBJGBTJ&quot;</td><td>&quot;Lane Group&quot;</td><td>&quot;Group&quot;</td><td>&quot;Graphic designer&quot;</td><td>&quot;08/33&quot;</td><td>4766046862604079468</td><td>865</td><td>&quot;DOP&quot;</td><td>511.405951</td><td>941</td><td>4.7128e8</td><td>5.0772e9</td><td>&quot;Saint Vincent and the Grenadin…</td><td>&quot;Civil Service fast streamer&quot;</td></tr><tr><td>1139</td><td>&quot;David&quot;</td><td>2016-10-20</td><td>&quot;DarkKhaki&quot;</td><td>true</td><td>530</td><td>2</td><td>6.1544e8</td><td>1.0767e9</td><td>&quot;Puerto Rico&quot;</td><td>&quot;New Elizabethstad&quot;</td><td>&quot;Hayes Forge&quot;</td><td>2582</td><td>-9.646405</td><td>&quot;1GM 124&quot;</td><td>&quot;6E16RZ3V4B49B4ZKM&quot;</td><td>&quot;AOEYGB3A&quot;</td><td>&quot;Fisher LLC&quot;</td><td>&quot;Inc&quot;</td><td>&quot;Occupational psychologist&quot;</td><td>&quot;02/31&quot;</td><td>30526646532133</td><td>956</td><td>&quot;UZS&quot;</td><td>510.455078</td><td>1536</td><td>5.0483e8</td><td>5.0570e9</td><td>&quot;Thailand&quot;</td><td>&quot;Chartered public finance accou…</td></tr><tr><td>1217</td><td>&quot;Samantha&quot;</td><td>2004-05-26</td><td>&quot;LightCyan&quot;</td><td>false</td><td>104</td><td>12</td><td>8.4974e8</td><td>1.5757e9</td><td>&quot;Denmark&quot;</td><td>&quot;Port Allenland&quot;</td><td>&quot;Brooks Villages&quot;</td><td>6544</td><td>-105.041018</td><td>&quot;250-VAPY&quot;</td><td>&quot;3FCLSPCE2750HNW86&quot;</td><td>&quot;OHEVGBGK&quot;</td><td>&quot;Ortiz and Sons&quot;</td><td>&quot;Ltd&quot;</td><td>&quot;Trade union research officer&quot;</td><td>&quot;05/31&quot;</td><td>4387113582642686420</td><td>966</td><td>&quot;GNF&quot;</td><td>506.206422</td><td>436</td><td>5.0686e8</td><td>4.9849e9</td><td>&quot;Congo&quot;</td><td>&quot;Geochemist&quot;</td></tr></tbody></table></div>"
      ],
      "text/plain": [
       "shape: (100_000, 30)\n",
       "┌──────┬──────────┬────────────┬────────────┬───┬────────────┬───────────┬────────────┬────────────┐\n",
       "│ id   ┆ name     ┆ birth_date ┆ hair_color ┆ … ┆ balance_ri ┆ mean_debt ┆ country_ri ┆ job_name_r │\n",
       "│ ---  ┆ ---      ┆ ---        ┆ ---        ┆   ┆ ght        ┆ ---       ┆ ght        ┆ ight       │\n",
       "│ i64  ┆ str      ┆ date       ┆ str        ┆   ┆ ---        ┆ f64       ┆ ---        ┆ ---        │\n",
       "│      ┆          ┆            ┆            ┆   ┆ f64        ┆           ┆ str        ┆ str        │\n",
       "╞══════╪══════════╪════════════╪════════════╪═══╪════════════╪═══════════╪════════════╪════════════╡\n",
       "│ 1379 ┆ Amber    ┆ 1998-02-15 ┆ Turquoise  ┆ … ┆ 5.0252e8   ┆ 5.0687e9  ┆ Australia  ┆ Designer,  │\n",
       "│      ┆          ┆            ┆            ┆   ┆            ┆           ┆            ┆ multimedia │\n",
       "│ 544  ┆ Karen    ┆ 2018-09-06 ┆ MediumOrch ┆ … ┆ 5.1906e8   ┆ 5.1452e9  ┆ British    ┆ Therapist, │\n",
       "│      ┆          ┆            ┆ id         ┆   ┆            ┆           ┆ Virgin     ┆ music      │\n",
       "│      ┆          ┆            ┆            ┆   ┆            ┆           ┆ Islands    ┆            │\n",
       "│ 5667 ┆ John     ┆ 2020-11-04 ┆ MintCream  ┆ … ┆ 5.0651e8   ┆ 5.0164e9  ┆ Greece     ┆ Conservato │\n",
       "│      ┆          ┆            ┆            ┆   ┆            ┆           ┆            ┆ r, museum/ │\n",
       "│      ┆          ┆            ┆            ┆   ┆            ┆           ┆            ┆ gallery    │\n",
       "│ 8606 ┆ Tiffany  ┆ 2018-06-27 ┆ GhostWhite ┆ … ┆ 5.1999e8   ┆ 4.9871e9  ┆ Iraq       ┆ Financial  │\n",
       "│      ┆          ┆            ┆            ┆   ┆            ┆           ┆            ┆ planner    │\n",
       "│ 3341 ┆ Stacy    ┆ 2001-05-01 ┆ Olive      ┆ … ┆ 4.2235e8   ┆ 4.9775e9  ┆ Belize     ┆ Retail     │\n",
       "│      ┆          ┆            ┆            ┆   ┆            ┆           ┆            ┆ buyer      │\n",
       "│ …    ┆ …        ┆ …          ┆ …          ┆ … ┆ …          ┆ …         ┆ …          ┆ …          │\n",
       "│ 9324 ┆ Steven   ┆ 2011-08-25 ┆ MediumSpri ┆ … ┆ 5.2968e8   ┆ 5.1247e9  ┆ Congo      ┆ Financial  │\n",
       "│      ┆          ┆            ┆ ngGreen    ┆   ┆            ┆           ┆            ┆ adviser    │\n",
       "│ 1441 ┆ Lauren   ┆ 1999-12-03 ┆ DarkRed    ┆ … ┆ 4.7760e8   ┆ 5.0733e9  ┆ Turks and  ┆ Building   │\n",
       "│      ┆          ┆            ┆            ┆   ┆            ┆           ┆ Caicos     ┆ services   │\n",
       "│      ┆          ┆            ┆            ┆   ┆            ┆           ┆ Islands    ┆ engineer   │\n",
       "│ 1015 ┆ Lisa     ┆ 2008-05-18 ┆ DarkRed    ┆ … ┆ 4.7128e8   ┆ 5.0772e9  ┆ Saint      ┆ Civil      │\n",
       "│      ┆          ┆            ┆            ┆   ┆            ┆           ┆ Vincent    ┆ Service    │\n",
       "│      ┆          ┆            ┆            ┆   ┆            ┆           ┆ and the    ┆ fast       │\n",
       "│      ┆          ┆            ┆            ┆   ┆            ┆           ┆ Grenadin…  ┆ streamer   │\n",
       "│ 1139 ┆ David    ┆ 2016-10-20 ┆ DarkKhaki  ┆ … ┆ 5.0483e8   ┆ 5.0570e9  ┆ Thailand   ┆ Chartered  │\n",
       "│      ┆          ┆            ┆            ┆   ┆            ┆           ┆            ┆ public     │\n",
       "│      ┆          ┆            ┆            ┆   ┆            ┆           ┆            ┆ finance    │\n",
       "│      ┆          ┆            ┆            ┆   ┆            ┆           ┆            ┆ accou…     │\n",
       "│ 1217 ┆ Samantha ┆ 2004-05-26 ┆ LightCyan  ┆ … ┆ 5.0686e8   ┆ 4.9849e9  ┆ Congo      ┆ Geochemist │\n",
       "└──────┴──────────┴────────────┴────────────┴───┴────────────┴───────────┴────────────┴────────────┘"
      ]
     },
     "execution_count": 80,
     "metadata": {},
     "output_type": "execute_result"
    }
   ],
   "source": [
    "df.collect()"
   ]
  },
  {
   "cell_type": "markdown",
   "id": "e2eb0157-c77a-4b0c-bc15-6f4c2b2b448b",
   "metadata": {},
   "source": [
    "#### Streaming api\n",
    "Still under the development"
   ]
  },
  {
   "cell_type": "code",
   "execution_count": 81,
   "id": "d5535647-79a7-4f2c-ba67-630d8d1eaa8b",
   "metadata": {},
   "outputs": [
    {
     "data": {
      "text/plain": [
       "Schema([('id', Int64),\n",
       "        ('name', String),\n",
       "        ('birth_date', String),\n",
       "        ('hair_color', String),\n",
       "        ('is_MU_fan', Boolean),\n",
       "        ('iq', Int64),\n",
       "        ('accession_month', Int64),\n",
       "        ('balance', Float64),\n",
       "        ('debt', Float64),\n",
       "        ('country', String),\n",
       "        ('city', String),\n",
       "        ('street_name', String),\n",
       "        ('building_number', Int64),\n",
       "        ('coordinate', Float64),\n",
       "        ('license_plate', String),\n",
       "        ('vin', String),\n",
       "        ('swift', String),\n",
       "        ('company_name', String),\n",
       "        ('company_suffix', String),\n",
       "        ('job_name', String),\n",
       "        ('credit_card_expire', String),\n",
       "        ('credit_card_number', Int64),\n",
       "        ('credit_card_security_code', Int64),\n",
       "        ('currency', String)])"
      ]
     },
     "execution_count": 81,
     "metadata": {},
     "output_type": "execute_result"
    }
   ],
   "source": [
    "df = pl.scan_csv(\"data/dummy_dataset_small.csv\")\n",
    "df.collect_schema()"
   ]
  },
  {
   "cell_type": "code",
   "execution_count": 83,
   "id": "f3791a28-931a-45ee-83e6-6e7ce85d2396",
   "metadata": {},
   "outputs": [
    {
     "data": {
      "text/html": [
       "<div><style>\n",
       ".dataframe > thead > tr,\n",
       ".dataframe > tbody > tr {\n",
       "  text-align: right;\n",
       "  white-space: pre-wrap;\n",
       "}\n",
       "</style>\n",
       "<small>shape: (212, 24)</small><table border=\"1\" class=\"dataframe\"><thead><tr><th>id</th><th>name</th><th>birth_date</th><th>hair_color</th><th>is_MU_fan</th><th>iq</th><th>accession_month</th><th>balance</th><th>debt</th><th>country</th><th>city</th><th>street_name</th><th>building_number</th><th>coordinate</th><th>license_plate</th><th>vin</th><th>swift</th><th>company_name</th><th>company_suffix</th><th>job_name</th><th>credit_card_expire</th><th>credit_card_number</th><th>credit_card_security_code</th><th>currency</th></tr><tr><td>i64</td><td>str</td><td>str</td><td>str</td><td>bool</td><td>i64</td><td>i64</td><td>f64</td><td>f64</td><td>str</td><td>str</td><td>str</td><td>i64</td><td>f64</td><td>str</td><td>str</td><td>str</td><td>str</td><td>str</td><td>str</td><td>str</td><td>i64</td><td>i64</td><td>str</td></tr></thead><tbody><tr><td>7907</td><td>&quot;Peter&quot;</td><td>&quot;1998-05-19&quot;</td><td>&quot;Thistle&quot;</td><td>true</td><td>831</td><td>1</td><td>4.1810e7</td><td>9.4956e9</td><td>&quot;Dominica&quot;</td><td>&quot;New Danielleville&quot;</td><td>&quot;Jackson Lock&quot;</td><td>4517</td><td>-6.177758</td><td>&quot;Y82-94M&quot;</td><td>&quot;KNTTP9F13YLURJ25N&quot;</td><td>&quot;KHAYGB5U&quot;</td><td>&quot;Kemp LLC&quot;</td><td>&quot;and Sons&quot;</td><td>&quot;Computer games developer&quot;</td><td>&quot;01/27&quot;</td><td>30009214342839</td><td>671</td><td>&quot;LBP&quot;</td></tr><tr><td>1919</td><td>&quot;Peter&quot;</td><td>&quot;2003-02-21&quot;</td><td>&quot;SlateBlue&quot;</td><td>true</td><td>153</td><td>6</td><td>9.4695e8</td><td>8.0105e9</td><td>&quot;Isle of Man&quot;</td><td>&quot;South Robertberg&quot;</td><td>&quot;Nicholas Knolls&quot;</td><td>7450</td><td>40.014531</td><td>&quot;3W 25984&quot;</td><td>&quot;7R10M9SK41814VEWU&quot;</td><td>&quot;BCVUGBRA&quot;</td><td>&quot;Foster-Weaver&quot;</td><td>&quot;Inc&quot;</td><td>&quot;Company secretary&quot;</td><td>&quot;04/34&quot;</td><td>6505330750153965</td><td>869</td><td>&quot;HKD&quot;</td></tr><tr><td>6076</td><td>&quot;Peter&quot;</td><td>&quot;2018-12-28&quot;</td><td>&quot;MediumAquaMarine&quot;</td><td>false</td><td>376</td><td>7</td><td>2.8695e8</td><td>1.1330e8</td><td>&quot;Tuvalu&quot;</td><td>&quot;Kaitlynmouth&quot;</td><td>&quot;Hannah Causeway&quot;</td><td>45030</td><td>-79.575689</td><td>&quot;Y79 5YS&quot;</td><td>&quot;ESWWS62X6UPUHFEHT&quot;</td><td>&quot;NJCXGB8O&quot;</td><td>&quot;Curtis Group&quot;</td><td>&quot;and Sons&quot;</td><td>&quot;Graphic designer&quot;</td><td>&quot;04/32&quot;</td><td>180056249464946</td><td>26</td><td>&quot;BWP&quot;</td></tr><tr><td>9037</td><td>&quot;Peter&quot;</td><td>&quot;2010-09-20&quot;</td><td>&quot;PaleGoldenRod&quot;</td><td>false</td><td>164</td><td>6</td><td>6.4810e8</td><td>5.5090e9</td><td>&quot;Puerto Rico&quot;</td><td>&quot;Robertsfurt&quot;</td><td>&quot;Kimberly Point&quot;</td><td>634</td><td>137.036202</td><td>&quot;17N•521&quot;</td><td>&quot;RRE86UDW6356P7R55&quot;</td><td>&quot;BXBSGB31&quot;</td><td>&quot;Williams-Hernandez&quot;</td><td>&quot;Group&quot;</td><td>&quot;Actuary&quot;</td><td>&quot;04/29&quot;</td><td>4477237775687193381</td><td>541</td><td>&quot;MXN&quot;</td></tr><tr><td>9527</td><td>&quot;Peter&quot;</td><td>&quot;2000-02-01&quot;</td><td>&quot;Aqua&quot;</td><td>true</td><td>636</td><td>11</td><td>6.7550e8</td><td>7.0202e9</td><td>&quot;Korea&quot;</td><td>&quot;Valeriemouth&quot;</td><td>&quot;Jonathan View&quot;</td><td>26177</td><td>-91.960223</td><td>&quot;6QN1817&quot;</td><td>&quot;R73YMYE36HEVNZ7FZ&quot;</td><td>&quot;JPQAGBDG&quot;</td><td>&quot;Aguilar, Jones and Williams&quot;</td><td>&quot;PLC&quot;</td><td>&quot;Education officer, museum&quot;</td><td>&quot;08/24&quot;</td><td>630481246043</td><td>386</td><td>&quot;SGD&quot;</td></tr><tr><td>&hellip;</td><td>&hellip;</td><td>&hellip;</td><td>&hellip;</td><td>&hellip;</td><td>&hellip;</td><td>&hellip;</td><td>&hellip;</td><td>&hellip;</td><td>&hellip;</td><td>&hellip;</td><td>&hellip;</td><td>&hellip;</td><td>&hellip;</td><td>&hellip;</td><td>&hellip;</td><td>&hellip;</td><td>&hellip;</td><td>&hellip;</td><td>&hellip;</td><td>&hellip;</td><td>&hellip;</td><td>&hellip;</td><td>&hellip;</td></tr><tr><td>1921</td><td>&quot;Peter&quot;</td><td>&quot;1996-07-26&quot;</td><td>&quot;LightCyan&quot;</td><td>false</td><td>180</td><td>9</td><td>7.0799e7</td><td>1.8135e9</td><td>&quot;Nauru&quot;</td><td>&quot;North Jasminhaven&quot;</td><td>&quot;White Ridge&quot;</td><td>103</td><td>14.082752</td><td>&quot;G09 1YV&quot;</td><td>&quot;SCXBFPH45374CDJDJ&quot;</td><td>&quot;VYHEGBWT&quot;</td><td>&quot;Brown Ltd&quot;</td><td>&quot;Inc&quot;</td><td>&quot;Accountant, chartered manageme…</td><td>&quot;07/33&quot;</td><td>4024230488861946</td><td>753</td><td>&quot;EGP&quot;</td></tr><tr><td>4347</td><td>&quot;Peter&quot;</td><td>&quot;2006-07-22&quot;</td><td>&quot;LightSeaGreen&quot;</td><td>true</td><td>593</td><td>5</td><td>2.0670e8</td><td>5.2027e9</td><td>&quot;Mozambique&quot;</td><td>&quot;New William&quot;</td><td>&quot;Ryan Course&quot;</td><td>858</td><td>-174.677278</td><td>&quot;AAM 425&quot;</td><td>&quot;F6U25URA9JTLVJ80F&quot;</td><td>&quot;RTPXGB8T&quot;</td><td>&quot;Riley Inc&quot;</td><td>&quot;Inc&quot;</td><td>&quot;Race relations officer&quot;</td><td>&quot;01/25&quot;</td><td>502038759952</td><td>34</td><td>&quot;TJS&quot;</td></tr><tr><td>1864</td><td>&quot;Peter&quot;</td><td>&quot;2005-09-12&quot;</td><td>&quot;Gainsboro&quot;</td><td>false</td><td>538</td><td>5</td><td>5.4538e8</td><td>9.4950e9</td><td>&quot;United Arab Emirates&quot;</td><td>&quot;Shannonview&quot;</td><td>&quot;Micheal Place&quot;</td><td>6196</td><td>-153.471469</td><td>&quot;MBB 318&quot;</td><td>&quot;05AH0PHA043DB7MYY&quot;</td><td>&quot;HDJCGBFT&quot;</td><td>&quot;Conway, Hatfield and Velasquez&quot;</td><td>&quot;Group&quot;</td><td>&quot;Financial planner&quot;</td><td>&quot;08/31&quot;</td><td>2707046763828857</td><td>323</td><td>&quot;YER&quot;</td></tr><tr><td>7894</td><td>&quot;Peter&quot;</td><td>&quot;2003-05-21&quot;</td><td>&quot;PaleGoldenRod&quot;</td><td>false</td><td>407</td><td>9</td><td>7.2629e7</td><td>9.3645e9</td><td>&quot;Saudi Arabia&quot;</td><td>&quot;Rachelhaven&quot;</td><td>&quot;Santos Lock&quot;</td><td>942</td><td>-0.60457</td><td>&quot;253WR&quot;</td><td>&quot;DDN9LD9RX8A0N9M3X&quot;</td><td>&quot;GQRWGBKN&quot;</td><td>&quot;Buckley, Washington and Cook&quot;</td><td>&quot;LLC&quot;</td><td>&quot;Designer, furniture&quot;</td><td>&quot;03/31&quot;</td><td>375122922987416</td><td>407</td><td>&quot;HNL&quot;</td></tr><tr><td>7522</td><td>&quot;Peter&quot;</td><td>&quot;2011-01-24&quot;</td><td>&quot;Violet&quot;</td><td>true</td><td>756</td><td>5</td><td>1.6418e7</td><td>4.3182e7</td><td>&quot;Namibia&quot;</td><td>&quot;Townsendland&quot;</td><td>&quot;Stein Flats&quot;</td><td>67618</td><td>-71.540518</td><td>&quot;OLS-1264&quot;</td><td>&quot;AAPJ9B3J46AU8KYHN&quot;</td><td>&quot;LAGPGBM8&quot;</td><td>&quot;Palmer-Bennett&quot;</td><td>&quot;Inc&quot;</td><td>&quot;Outdoor activities/education m…</td><td>&quot;05/25&quot;</td><td>4047337593214763802</td><td>859</td><td>&quot;KMF&quot;</td></tr></tbody></table></div>"
      ],
      "text/plain": [
       "shape: (212, 24)\n",
       "┌──────┬───────┬────────────┬─────────────┬───┬─────────────┬─────────────┬─────────────┬──────────┐\n",
       "│ id   ┆ name  ┆ birth_date ┆ hair_color  ┆ … ┆ credit_card ┆ credit_card ┆ credit_card ┆ currency │\n",
       "│ ---  ┆ ---   ┆ ---        ┆ ---         ┆   ┆ _expire     ┆ _number     ┆ _security_c ┆ ---      │\n",
       "│ i64  ┆ str   ┆ str        ┆ str         ┆   ┆ ---         ┆ ---         ┆ ode         ┆ str      │\n",
       "│      ┆       ┆            ┆             ┆   ┆ str         ┆ i64         ┆ ---         ┆          │\n",
       "│      ┆       ┆            ┆             ┆   ┆             ┆             ┆ i64         ┆          │\n",
       "╞══════╪═══════╪════════════╪═════════════╪═══╪═════════════╪═════════════╪═════════════╪══════════╡\n",
       "│ 7907 ┆ Peter ┆ 1998-05-19 ┆ Thistle     ┆ … ┆ 01/27       ┆ 30009214342 ┆ 671         ┆ LBP      │\n",
       "│      ┆       ┆            ┆             ┆   ┆             ┆ 839         ┆             ┆          │\n",
       "│ 1919 ┆ Peter ┆ 2003-02-21 ┆ SlateBlue   ┆ … ┆ 04/34       ┆ 65053307501 ┆ 869         ┆ HKD      │\n",
       "│      ┆       ┆            ┆             ┆   ┆             ┆ 53965       ┆             ┆          │\n",
       "│ 6076 ┆ Peter ┆ 2018-12-28 ┆ MediumAquaM ┆ … ┆ 04/32       ┆ 18005624946 ┆ 26          ┆ BWP      │\n",
       "│      ┆       ┆            ┆ arine       ┆   ┆             ┆ 4946        ┆             ┆          │\n",
       "│ 9037 ┆ Peter ┆ 2010-09-20 ┆ PaleGoldenR ┆ … ┆ 04/29       ┆ 44772377756 ┆ 541         ┆ MXN      │\n",
       "│      ┆       ┆            ┆ od          ┆   ┆             ┆ 87193381    ┆             ┆          │\n",
       "│ 9527 ┆ Peter ┆ 2000-02-01 ┆ Aqua        ┆ … ┆ 08/24       ┆ 63048124604 ┆ 386         ┆ SGD      │\n",
       "│      ┆       ┆            ┆             ┆   ┆             ┆ 3           ┆             ┆          │\n",
       "│ …    ┆ …     ┆ …          ┆ …           ┆ … ┆ …           ┆ …           ┆ …           ┆ …        │\n",
       "│ 1921 ┆ Peter ┆ 1996-07-26 ┆ LightCyan   ┆ … ┆ 07/33       ┆ 40242304888 ┆ 753         ┆ EGP      │\n",
       "│      ┆       ┆            ┆             ┆   ┆             ┆ 61946       ┆             ┆          │\n",
       "│ 4347 ┆ Peter ┆ 2006-07-22 ┆ LightSeaGre ┆ … ┆ 01/25       ┆ 50203875995 ┆ 34          ┆ TJS      │\n",
       "│      ┆       ┆            ┆ en          ┆   ┆             ┆ 2           ┆             ┆          │\n",
       "│ 1864 ┆ Peter ┆ 2005-09-12 ┆ Gainsboro   ┆ … ┆ 08/31       ┆ 27070467638 ┆ 323         ┆ YER      │\n",
       "│      ┆       ┆            ┆             ┆   ┆             ┆ 28857       ┆             ┆          │\n",
       "│ 7894 ┆ Peter ┆ 2003-05-21 ┆ PaleGoldenR ┆ … ┆ 03/31       ┆ 37512292298 ┆ 407         ┆ HNL      │\n",
       "│      ┆       ┆            ┆ od          ┆   ┆             ┆ 7416        ┆             ┆          │\n",
       "│ 7522 ┆ Peter ┆ 2011-01-24 ┆ Violet      ┆ … ┆ 05/25       ┆ 40473375932 ┆ 859         ┆ KMF      │\n",
       "│      ┆       ┆            ┆             ┆   ┆             ┆ 14763802    ┆             ┆          │\n",
       "└──────┴───────┴────────────┴─────────────┴───┴─────────────┴─────────────┴─────────────┴──────────┘"
      ]
     },
     "execution_count": 83,
     "metadata": {},
     "output_type": "execute_result"
    }
   ],
   "source": [
    "df.filter(pl.col(\"name\") == \"Peter\").collect()"
   ]
  },
  {
   "cell_type": "markdown",
   "id": "ba9827c4-b08d-4558-82c7-f3619561b4ea",
   "metadata": {},
   "source": [
    "#### Ecosystem"
   ]
  },
  {
   "cell_type": "code",
   "execution_count": null,
   "id": "5a01daa9-b44f-4477-8577-64485e670d8b",
   "metadata": {},
   "outputs": [],
   "source": []
  }
 ],
 "metadata": {
  "kernelspec": {
   "display_name": "Python 3 (ipykernel)",
   "language": "python",
   "name": "python3"
  },
  "language_info": {
   "codemirror_mode": {
    "name": "ipython",
    "version": 3
   },
   "file_extension": ".py",
   "mimetype": "text/x-python",
   "name": "python",
   "nbconvert_exporter": "python",
   "pygments_lexer": "ipython3",
   "version": "3.10.13"
  }
 },
 "nbformat": 4,
 "nbformat_minor": 5
}
