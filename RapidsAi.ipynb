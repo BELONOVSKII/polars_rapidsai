{
  "nbformat": 4,
  "nbformat_minor": 0,
  "metadata": {
    "colab": {
      "provenance": [],
      "gpuType": "T4"
    },
    "kernelspec": {
      "name": "python3",
      "display_name": "Python 3"
    },
    "language_info": {
      "name": "python"
    },
    "accelerator": "GPU",
    "widgets": {
      "application/vnd.jupyter.widget-state+json": {
        "252efdabbe3549d4ad874807ad9db9a1": {
          "model_module": "@jupyter-widgets/controls",
          "model_name": "HBoxModel",
          "model_module_version": "1.5.0",
          "state": {
            "_dom_classes": [],
            "_model_module": "@jupyter-widgets/controls",
            "_model_module_version": "1.5.0",
            "_model_name": "HBoxModel",
            "_view_count": null,
            "_view_module": "@jupyter-widgets/controls",
            "_view_module_version": "1.5.0",
            "_view_name": "HBoxView",
            "box_style": "",
            "children": [
              "IPY_MODEL_e931da68c38e41419ed3fd6305fa7508",
              "IPY_MODEL_9757b4b20a324198b9d513ff3cad0c66",
              "IPY_MODEL_e745a7b72b93416eb68569c13215571b"
            ],
            "layout": "IPY_MODEL_429348e290594ec7842cdadce13712b4"
          }
        },
        "e931da68c38e41419ed3fd6305fa7508": {
          "model_module": "@jupyter-widgets/controls",
          "model_name": "HTMLModel",
          "model_module_version": "1.5.0",
          "state": {
            "_dom_classes": [],
            "_model_module": "@jupyter-widgets/controls",
            "_model_module_version": "1.5.0",
            "_model_name": "HTMLModel",
            "_view_count": null,
            "_view_module": "@jupyter-widgets/controls",
            "_view_module_version": "1.5.0",
            "_view_name": "HTMLView",
            "description": "",
            "description_tooltip": null,
            "layout": "IPY_MODEL_110374f4a136432bb6665360966285d8",
            "placeholder": "​",
            "style": "IPY_MODEL_02cb2cb97ed9431381bf4e0dd2eca228",
            "value": "100%"
          }
        },
        "9757b4b20a324198b9d513ff3cad0c66": {
          "model_module": "@jupyter-widgets/controls",
          "model_name": "FloatProgressModel",
          "model_module_version": "1.5.0",
          "state": {
            "_dom_classes": [],
            "_model_module": "@jupyter-widgets/controls",
            "_model_module_version": "1.5.0",
            "_model_name": "FloatProgressModel",
            "_view_count": null,
            "_view_module": "@jupyter-widgets/controls",
            "_view_module_version": "1.5.0",
            "_view_name": "ProgressView",
            "bar_style": "success",
            "description": "",
            "description_tooltip": null,
            "layout": "IPY_MODEL_c7a3f480dba2410d9b86c3a2041c132f",
            "max": 6,
            "min": 0,
            "orientation": "horizontal",
            "style": "IPY_MODEL_14bd39bf1f37455f9007ddebd842ac13",
            "value": 6
          }
        },
        "e745a7b72b93416eb68569c13215571b": {
          "model_module": "@jupyter-widgets/controls",
          "model_name": "HTMLModel",
          "model_module_version": "1.5.0",
          "state": {
            "_dom_classes": [],
            "_model_module": "@jupyter-widgets/controls",
            "_model_module_version": "1.5.0",
            "_model_name": "HTMLModel",
            "_view_count": null,
            "_view_module": "@jupyter-widgets/controls",
            "_view_module_version": "1.5.0",
            "_view_name": "HTMLView",
            "description": "",
            "description_tooltip": null,
            "layout": "IPY_MODEL_30405380e6104953b0c148d7b243a0b8",
            "placeholder": "​",
            "style": "IPY_MODEL_e5712936a5514e55b77adbfa5fac5edb",
            "value": " 6/6 [00:02&lt;00:00,  2.04it/s]"
          }
        },
        "429348e290594ec7842cdadce13712b4": {
          "model_module": "@jupyter-widgets/base",
          "model_name": "LayoutModel",
          "model_module_version": "1.2.0",
          "state": {
            "_model_module": "@jupyter-widgets/base",
            "_model_module_version": "1.2.0",
            "_model_name": "LayoutModel",
            "_view_count": null,
            "_view_module": "@jupyter-widgets/base",
            "_view_module_version": "1.2.0",
            "_view_name": "LayoutView",
            "align_content": null,
            "align_items": null,
            "align_self": null,
            "border": null,
            "bottom": null,
            "display": null,
            "flex": null,
            "flex_flow": null,
            "grid_area": null,
            "grid_auto_columns": null,
            "grid_auto_flow": null,
            "grid_auto_rows": null,
            "grid_column": null,
            "grid_gap": null,
            "grid_row": null,
            "grid_template_areas": null,
            "grid_template_columns": null,
            "grid_template_rows": null,
            "height": null,
            "justify_content": null,
            "justify_items": null,
            "left": null,
            "margin": null,
            "max_height": null,
            "max_width": null,
            "min_height": null,
            "min_width": null,
            "object_fit": null,
            "object_position": null,
            "order": null,
            "overflow": null,
            "overflow_x": null,
            "overflow_y": null,
            "padding": null,
            "right": null,
            "top": null,
            "visibility": null,
            "width": null
          }
        },
        "110374f4a136432bb6665360966285d8": {
          "model_module": "@jupyter-widgets/base",
          "model_name": "LayoutModel",
          "model_module_version": "1.2.0",
          "state": {
            "_model_module": "@jupyter-widgets/base",
            "_model_module_version": "1.2.0",
            "_model_name": "LayoutModel",
            "_view_count": null,
            "_view_module": "@jupyter-widgets/base",
            "_view_module_version": "1.2.0",
            "_view_name": "LayoutView",
            "align_content": null,
            "align_items": null,
            "align_self": null,
            "border": null,
            "bottom": null,
            "display": null,
            "flex": null,
            "flex_flow": null,
            "grid_area": null,
            "grid_auto_columns": null,
            "grid_auto_flow": null,
            "grid_auto_rows": null,
            "grid_column": null,
            "grid_gap": null,
            "grid_row": null,
            "grid_template_areas": null,
            "grid_template_columns": null,
            "grid_template_rows": null,
            "height": null,
            "justify_content": null,
            "justify_items": null,
            "left": null,
            "margin": null,
            "max_height": null,
            "max_width": null,
            "min_height": null,
            "min_width": null,
            "object_fit": null,
            "object_position": null,
            "order": null,
            "overflow": null,
            "overflow_x": null,
            "overflow_y": null,
            "padding": null,
            "right": null,
            "top": null,
            "visibility": null,
            "width": null
          }
        },
        "02cb2cb97ed9431381bf4e0dd2eca228": {
          "model_module": "@jupyter-widgets/controls",
          "model_name": "DescriptionStyleModel",
          "model_module_version": "1.5.0",
          "state": {
            "_model_module": "@jupyter-widgets/controls",
            "_model_module_version": "1.5.0",
            "_model_name": "DescriptionStyleModel",
            "_view_count": null,
            "_view_module": "@jupyter-widgets/base",
            "_view_module_version": "1.2.0",
            "_view_name": "StyleView",
            "description_width": ""
          }
        },
        "c7a3f480dba2410d9b86c3a2041c132f": {
          "model_module": "@jupyter-widgets/base",
          "model_name": "LayoutModel",
          "model_module_version": "1.2.0",
          "state": {
            "_model_module": "@jupyter-widgets/base",
            "_model_module_version": "1.2.0",
            "_model_name": "LayoutModel",
            "_view_count": null,
            "_view_module": "@jupyter-widgets/base",
            "_view_module_version": "1.2.0",
            "_view_name": "LayoutView",
            "align_content": null,
            "align_items": null,
            "align_self": null,
            "border": null,
            "bottom": null,
            "display": null,
            "flex": null,
            "flex_flow": null,
            "grid_area": null,
            "grid_auto_columns": null,
            "grid_auto_flow": null,
            "grid_auto_rows": null,
            "grid_column": null,
            "grid_gap": null,
            "grid_row": null,
            "grid_template_areas": null,
            "grid_template_columns": null,
            "grid_template_rows": null,
            "height": null,
            "justify_content": null,
            "justify_items": null,
            "left": null,
            "margin": null,
            "max_height": null,
            "max_width": null,
            "min_height": null,
            "min_width": null,
            "object_fit": null,
            "object_position": null,
            "order": null,
            "overflow": null,
            "overflow_x": null,
            "overflow_y": null,
            "padding": null,
            "right": null,
            "top": null,
            "visibility": null,
            "width": null
          }
        },
        "14bd39bf1f37455f9007ddebd842ac13": {
          "model_module": "@jupyter-widgets/controls",
          "model_name": "ProgressStyleModel",
          "model_module_version": "1.5.0",
          "state": {
            "_model_module": "@jupyter-widgets/controls",
            "_model_module_version": "1.5.0",
            "_model_name": "ProgressStyleModel",
            "_view_count": null,
            "_view_module": "@jupyter-widgets/base",
            "_view_module_version": "1.2.0",
            "_view_name": "StyleView",
            "bar_color": null,
            "description_width": ""
          }
        },
        "30405380e6104953b0c148d7b243a0b8": {
          "model_module": "@jupyter-widgets/base",
          "model_name": "LayoutModel",
          "model_module_version": "1.2.0",
          "state": {
            "_model_module": "@jupyter-widgets/base",
            "_model_module_version": "1.2.0",
            "_model_name": "LayoutModel",
            "_view_count": null,
            "_view_module": "@jupyter-widgets/base",
            "_view_module_version": "1.2.0",
            "_view_name": "LayoutView",
            "align_content": null,
            "align_items": null,
            "align_self": null,
            "border": null,
            "bottom": null,
            "display": null,
            "flex": null,
            "flex_flow": null,
            "grid_area": null,
            "grid_auto_columns": null,
            "grid_auto_flow": null,
            "grid_auto_rows": null,
            "grid_column": null,
            "grid_gap": null,
            "grid_row": null,
            "grid_template_areas": null,
            "grid_template_columns": null,
            "grid_template_rows": null,
            "height": null,
            "justify_content": null,
            "justify_items": null,
            "left": null,
            "margin": null,
            "max_height": null,
            "max_width": null,
            "min_height": null,
            "min_width": null,
            "object_fit": null,
            "object_position": null,
            "order": null,
            "overflow": null,
            "overflow_x": null,
            "overflow_y": null,
            "padding": null,
            "right": null,
            "top": null,
            "visibility": null,
            "width": null
          }
        },
        "e5712936a5514e55b77adbfa5fac5edb": {
          "model_module": "@jupyter-widgets/controls",
          "model_name": "DescriptionStyleModel",
          "model_module_version": "1.5.0",
          "state": {
            "_model_module": "@jupyter-widgets/controls",
            "_model_module_version": "1.5.0",
            "_model_name": "DescriptionStyleModel",
            "_view_count": null,
            "_view_module": "@jupyter-widgets/base",
            "_view_module_version": "1.2.0",
            "_view_name": "StyleView",
            "description_width": ""
          }
        },
        "7ae401ec94ce4843b77399bd2ce6c5ab": {
          "model_module": "@jupyter-widgets/controls",
          "model_name": "HBoxModel",
          "model_module_version": "1.5.0",
          "state": {
            "_dom_classes": [],
            "_model_module": "@jupyter-widgets/controls",
            "_model_module_version": "1.5.0",
            "_model_name": "HBoxModel",
            "_view_count": null,
            "_view_module": "@jupyter-widgets/controls",
            "_view_module_version": "1.5.0",
            "_view_name": "HBoxView",
            "box_style": "",
            "children": [
              "IPY_MODEL_0d92ce97d98543d4a4a2f4875553698b",
              "IPY_MODEL_7a2e3a8080904f368133bd7274dea39b",
              "IPY_MODEL_ab872292ef624b5db1af6673fc4dc3a5"
            ],
            "layout": "IPY_MODEL_6614754e9e4e4d0dbbf5a9c4485f0f84"
          }
        },
        "0d92ce97d98543d4a4a2f4875553698b": {
          "model_module": "@jupyter-widgets/controls",
          "model_name": "HTMLModel",
          "model_module_version": "1.5.0",
          "state": {
            "_dom_classes": [],
            "_model_module": "@jupyter-widgets/controls",
            "_model_module_version": "1.5.0",
            "_model_name": "HTMLModel",
            "_view_count": null,
            "_view_module": "@jupyter-widgets/controls",
            "_view_module_version": "1.5.0",
            "_view_name": "HTMLView",
            "description": "",
            "description_tooltip": null,
            "layout": "IPY_MODEL_9dce19505c6a44e593b6dcad9d1dffe7",
            "placeholder": "​",
            "style": "IPY_MODEL_712066aa3efc4c428e51022699964ea6",
            "value": "100%"
          }
        },
        "7a2e3a8080904f368133bd7274dea39b": {
          "model_module": "@jupyter-widgets/controls",
          "model_name": "FloatProgressModel",
          "model_module_version": "1.5.0",
          "state": {
            "_dom_classes": [],
            "_model_module": "@jupyter-widgets/controls",
            "_model_module_version": "1.5.0",
            "_model_name": "FloatProgressModel",
            "_view_count": null,
            "_view_module": "@jupyter-widgets/controls",
            "_view_module_version": "1.5.0",
            "_view_name": "ProgressView",
            "bar_style": "success",
            "description": "",
            "description_tooltip": null,
            "layout": "IPY_MODEL_32034590ab984b4881317744939fc967",
            "max": 3,
            "min": 0,
            "orientation": "horizontal",
            "style": "IPY_MODEL_e02757113784481a89fe6b3f5ab2b602",
            "value": 3
          }
        },
        "ab872292ef624b5db1af6673fc4dc3a5": {
          "model_module": "@jupyter-widgets/controls",
          "model_name": "HTMLModel",
          "model_module_version": "1.5.0",
          "state": {
            "_dom_classes": [],
            "_model_module": "@jupyter-widgets/controls",
            "_model_module_version": "1.5.0",
            "_model_name": "HTMLModel",
            "_view_count": null,
            "_view_module": "@jupyter-widgets/controls",
            "_view_module_version": "1.5.0",
            "_view_name": "HTMLView",
            "description": "",
            "description_tooltip": null,
            "layout": "IPY_MODEL_6dc537582be949e5ab00218433840e67",
            "placeholder": "​",
            "style": "IPY_MODEL_11c6974ea62d44eb8527c5ef6686b3b6",
            "value": " 3/3 [00:03&lt;00:00,  1.22s/it]"
          }
        },
        "6614754e9e4e4d0dbbf5a9c4485f0f84": {
          "model_module": "@jupyter-widgets/base",
          "model_name": "LayoutModel",
          "model_module_version": "1.2.0",
          "state": {
            "_model_module": "@jupyter-widgets/base",
            "_model_module_version": "1.2.0",
            "_model_name": "LayoutModel",
            "_view_count": null,
            "_view_module": "@jupyter-widgets/base",
            "_view_module_version": "1.2.0",
            "_view_name": "LayoutView",
            "align_content": null,
            "align_items": null,
            "align_self": null,
            "border": null,
            "bottom": null,
            "display": null,
            "flex": null,
            "flex_flow": null,
            "grid_area": null,
            "grid_auto_columns": null,
            "grid_auto_flow": null,
            "grid_auto_rows": null,
            "grid_column": null,
            "grid_gap": null,
            "grid_row": null,
            "grid_template_areas": null,
            "grid_template_columns": null,
            "grid_template_rows": null,
            "height": null,
            "justify_content": null,
            "justify_items": null,
            "left": null,
            "margin": null,
            "max_height": null,
            "max_width": null,
            "min_height": null,
            "min_width": null,
            "object_fit": null,
            "object_position": null,
            "order": null,
            "overflow": null,
            "overflow_x": null,
            "overflow_y": null,
            "padding": null,
            "right": null,
            "top": null,
            "visibility": null,
            "width": null
          }
        },
        "9dce19505c6a44e593b6dcad9d1dffe7": {
          "model_module": "@jupyter-widgets/base",
          "model_name": "LayoutModel",
          "model_module_version": "1.2.0",
          "state": {
            "_model_module": "@jupyter-widgets/base",
            "_model_module_version": "1.2.0",
            "_model_name": "LayoutModel",
            "_view_count": null,
            "_view_module": "@jupyter-widgets/base",
            "_view_module_version": "1.2.0",
            "_view_name": "LayoutView",
            "align_content": null,
            "align_items": null,
            "align_self": null,
            "border": null,
            "bottom": null,
            "display": null,
            "flex": null,
            "flex_flow": null,
            "grid_area": null,
            "grid_auto_columns": null,
            "grid_auto_flow": null,
            "grid_auto_rows": null,
            "grid_column": null,
            "grid_gap": null,
            "grid_row": null,
            "grid_template_areas": null,
            "grid_template_columns": null,
            "grid_template_rows": null,
            "height": null,
            "justify_content": null,
            "justify_items": null,
            "left": null,
            "margin": null,
            "max_height": null,
            "max_width": null,
            "min_height": null,
            "min_width": null,
            "object_fit": null,
            "object_position": null,
            "order": null,
            "overflow": null,
            "overflow_x": null,
            "overflow_y": null,
            "padding": null,
            "right": null,
            "top": null,
            "visibility": null,
            "width": null
          }
        },
        "712066aa3efc4c428e51022699964ea6": {
          "model_module": "@jupyter-widgets/controls",
          "model_name": "DescriptionStyleModel",
          "model_module_version": "1.5.0",
          "state": {
            "_model_module": "@jupyter-widgets/controls",
            "_model_module_version": "1.5.0",
            "_model_name": "DescriptionStyleModel",
            "_view_count": null,
            "_view_module": "@jupyter-widgets/base",
            "_view_module_version": "1.2.0",
            "_view_name": "StyleView",
            "description_width": ""
          }
        },
        "32034590ab984b4881317744939fc967": {
          "model_module": "@jupyter-widgets/base",
          "model_name": "LayoutModel",
          "model_module_version": "1.2.0",
          "state": {
            "_model_module": "@jupyter-widgets/base",
            "_model_module_version": "1.2.0",
            "_model_name": "LayoutModel",
            "_view_count": null,
            "_view_module": "@jupyter-widgets/base",
            "_view_module_version": "1.2.0",
            "_view_name": "LayoutView",
            "align_content": null,
            "align_items": null,
            "align_self": null,
            "border": null,
            "bottom": null,
            "display": null,
            "flex": null,
            "flex_flow": null,
            "grid_area": null,
            "grid_auto_columns": null,
            "grid_auto_flow": null,
            "grid_auto_rows": null,
            "grid_column": null,
            "grid_gap": null,
            "grid_row": null,
            "grid_template_areas": null,
            "grid_template_columns": null,
            "grid_template_rows": null,
            "height": null,
            "justify_content": null,
            "justify_items": null,
            "left": null,
            "margin": null,
            "max_height": null,
            "max_width": null,
            "min_height": null,
            "min_width": null,
            "object_fit": null,
            "object_position": null,
            "order": null,
            "overflow": null,
            "overflow_x": null,
            "overflow_y": null,
            "padding": null,
            "right": null,
            "top": null,
            "visibility": null,
            "width": null
          }
        },
        "e02757113784481a89fe6b3f5ab2b602": {
          "model_module": "@jupyter-widgets/controls",
          "model_name": "ProgressStyleModel",
          "model_module_version": "1.5.0",
          "state": {
            "_model_module": "@jupyter-widgets/controls",
            "_model_module_version": "1.5.0",
            "_model_name": "ProgressStyleModel",
            "_view_count": null,
            "_view_module": "@jupyter-widgets/base",
            "_view_module_version": "1.2.0",
            "_view_name": "StyleView",
            "bar_color": null,
            "description_width": ""
          }
        },
        "6dc537582be949e5ab00218433840e67": {
          "model_module": "@jupyter-widgets/base",
          "model_name": "LayoutModel",
          "model_module_version": "1.2.0",
          "state": {
            "_model_module": "@jupyter-widgets/base",
            "_model_module_version": "1.2.0",
            "_model_name": "LayoutModel",
            "_view_count": null,
            "_view_module": "@jupyter-widgets/base",
            "_view_module_version": "1.2.0",
            "_view_name": "LayoutView",
            "align_content": null,
            "align_items": null,
            "align_self": null,
            "border": null,
            "bottom": null,
            "display": null,
            "flex": null,
            "flex_flow": null,
            "grid_area": null,
            "grid_auto_columns": null,
            "grid_auto_flow": null,
            "grid_auto_rows": null,
            "grid_column": null,
            "grid_gap": null,
            "grid_row": null,
            "grid_template_areas": null,
            "grid_template_columns": null,
            "grid_template_rows": null,
            "height": null,
            "justify_content": null,
            "justify_items": null,
            "left": null,
            "margin": null,
            "max_height": null,
            "max_width": null,
            "min_height": null,
            "min_width": null,
            "object_fit": null,
            "object_position": null,
            "order": null,
            "overflow": null,
            "overflow_x": null,
            "overflow_y": null,
            "padding": null,
            "right": null,
            "top": null,
            "visibility": null,
            "width": null
          }
        },
        "11c6974ea62d44eb8527c5ef6686b3b6": {
          "model_module": "@jupyter-widgets/controls",
          "model_name": "DescriptionStyleModel",
          "model_module_version": "1.5.0",
          "state": {
            "_model_module": "@jupyter-widgets/controls",
            "_model_module_version": "1.5.0",
            "_model_name": "DescriptionStyleModel",
            "_view_count": null,
            "_view_module": "@jupyter-widgets/base",
            "_view_module_version": "1.2.0",
            "_view_name": "StyleView",
            "description_width": ""
          }
        },
        "688e27db23e143abad2c9c9051219ae1": {
          "model_module": "@jupyter-widgets/controls",
          "model_name": "HBoxModel",
          "model_module_version": "1.5.0",
          "state": {
            "_dom_classes": [],
            "_model_module": "@jupyter-widgets/controls",
            "_model_module_version": "1.5.0",
            "_model_name": "HBoxModel",
            "_view_count": null,
            "_view_module": "@jupyter-widgets/controls",
            "_view_module_version": "1.5.0",
            "_view_name": "HBoxView",
            "box_style": "",
            "children": [
              "IPY_MODEL_f8edc21deb934fd6bef15977feba54ee",
              "IPY_MODEL_bc9f1e855fab4921a853924a64ab1a12",
              "IPY_MODEL_f8dcf518f0084e94a63e7517bffd6ff9"
            ],
            "layout": "IPY_MODEL_53ef98dbc3dc418da06e13bc9ab8848e"
          }
        },
        "f8edc21deb934fd6bef15977feba54ee": {
          "model_module": "@jupyter-widgets/controls",
          "model_name": "HTMLModel",
          "model_module_version": "1.5.0",
          "state": {
            "_dom_classes": [],
            "_model_module": "@jupyter-widgets/controls",
            "_model_module_version": "1.5.0",
            "_model_name": "HTMLModel",
            "_view_count": null,
            "_view_module": "@jupyter-widgets/controls",
            "_view_module_version": "1.5.0",
            "_view_name": "HTMLView",
            "description": "",
            "description_tooltip": null,
            "layout": "IPY_MODEL_05f422335bd946168a4823f54fb58b7d",
            "placeholder": "​",
            "style": "IPY_MODEL_168be84eeb224142adb338eb93d6eeef",
            "value": "100%"
          }
        },
        "bc9f1e855fab4921a853924a64ab1a12": {
          "model_module": "@jupyter-widgets/controls",
          "model_name": "FloatProgressModel",
          "model_module_version": "1.5.0",
          "state": {
            "_dom_classes": [],
            "_model_module": "@jupyter-widgets/controls",
            "_model_module_version": "1.5.0",
            "_model_name": "FloatProgressModel",
            "_view_count": null,
            "_view_module": "@jupyter-widgets/controls",
            "_view_module_version": "1.5.0",
            "_view_name": "ProgressView",
            "bar_style": "success",
            "description": "",
            "description_tooltip": null,
            "layout": "IPY_MODEL_40d868acd72348f6ab834232b3b7821e",
            "max": 6,
            "min": 0,
            "orientation": "horizontal",
            "style": "IPY_MODEL_5c2f42e7a3d44d8a874bbcfb7ecdffd9",
            "value": 6
          }
        },
        "f8dcf518f0084e94a63e7517bffd6ff9": {
          "model_module": "@jupyter-widgets/controls",
          "model_name": "HTMLModel",
          "model_module_version": "1.5.0",
          "state": {
            "_dom_classes": [],
            "_model_module": "@jupyter-widgets/controls",
            "_model_module_version": "1.5.0",
            "_model_name": "HTMLModel",
            "_view_count": null,
            "_view_module": "@jupyter-widgets/controls",
            "_view_module_version": "1.5.0",
            "_view_name": "HTMLView",
            "description": "",
            "description_tooltip": null,
            "layout": "IPY_MODEL_7c169438d9ce441081c86c3071d1ff97",
            "placeholder": "​",
            "style": "IPY_MODEL_58de36068021418e85ef2be10a2ba315",
            "value": " 6/6 [00:02&lt;00:00,  3.79it/s]"
          }
        },
        "53ef98dbc3dc418da06e13bc9ab8848e": {
          "model_module": "@jupyter-widgets/base",
          "model_name": "LayoutModel",
          "model_module_version": "1.2.0",
          "state": {
            "_model_module": "@jupyter-widgets/base",
            "_model_module_version": "1.2.0",
            "_model_name": "LayoutModel",
            "_view_count": null,
            "_view_module": "@jupyter-widgets/base",
            "_view_module_version": "1.2.0",
            "_view_name": "LayoutView",
            "align_content": null,
            "align_items": null,
            "align_self": null,
            "border": null,
            "bottom": null,
            "display": null,
            "flex": null,
            "flex_flow": null,
            "grid_area": null,
            "grid_auto_columns": null,
            "grid_auto_flow": null,
            "grid_auto_rows": null,
            "grid_column": null,
            "grid_gap": null,
            "grid_row": null,
            "grid_template_areas": null,
            "grid_template_columns": null,
            "grid_template_rows": null,
            "height": null,
            "justify_content": null,
            "justify_items": null,
            "left": null,
            "margin": null,
            "max_height": null,
            "max_width": null,
            "min_height": null,
            "min_width": null,
            "object_fit": null,
            "object_position": null,
            "order": null,
            "overflow": null,
            "overflow_x": null,
            "overflow_y": null,
            "padding": null,
            "right": null,
            "top": null,
            "visibility": null,
            "width": null
          }
        },
        "05f422335bd946168a4823f54fb58b7d": {
          "model_module": "@jupyter-widgets/base",
          "model_name": "LayoutModel",
          "model_module_version": "1.2.0",
          "state": {
            "_model_module": "@jupyter-widgets/base",
            "_model_module_version": "1.2.0",
            "_model_name": "LayoutModel",
            "_view_count": null,
            "_view_module": "@jupyter-widgets/base",
            "_view_module_version": "1.2.0",
            "_view_name": "LayoutView",
            "align_content": null,
            "align_items": null,
            "align_self": null,
            "border": null,
            "bottom": null,
            "display": null,
            "flex": null,
            "flex_flow": null,
            "grid_area": null,
            "grid_auto_columns": null,
            "grid_auto_flow": null,
            "grid_auto_rows": null,
            "grid_column": null,
            "grid_gap": null,
            "grid_row": null,
            "grid_template_areas": null,
            "grid_template_columns": null,
            "grid_template_rows": null,
            "height": null,
            "justify_content": null,
            "justify_items": null,
            "left": null,
            "margin": null,
            "max_height": null,
            "max_width": null,
            "min_height": null,
            "min_width": null,
            "object_fit": null,
            "object_position": null,
            "order": null,
            "overflow": null,
            "overflow_x": null,
            "overflow_y": null,
            "padding": null,
            "right": null,
            "top": null,
            "visibility": null,
            "width": null
          }
        },
        "168be84eeb224142adb338eb93d6eeef": {
          "model_module": "@jupyter-widgets/controls",
          "model_name": "DescriptionStyleModel",
          "model_module_version": "1.5.0",
          "state": {
            "_model_module": "@jupyter-widgets/controls",
            "_model_module_version": "1.5.0",
            "_model_name": "DescriptionStyleModel",
            "_view_count": null,
            "_view_module": "@jupyter-widgets/base",
            "_view_module_version": "1.2.0",
            "_view_name": "StyleView",
            "description_width": ""
          }
        },
        "40d868acd72348f6ab834232b3b7821e": {
          "model_module": "@jupyter-widgets/base",
          "model_name": "LayoutModel",
          "model_module_version": "1.2.0",
          "state": {
            "_model_module": "@jupyter-widgets/base",
            "_model_module_version": "1.2.0",
            "_model_name": "LayoutModel",
            "_view_count": null,
            "_view_module": "@jupyter-widgets/base",
            "_view_module_version": "1.2.0",
            "_view_name": "LayoutView",
            "align_content": null,
            "align_items": null,
            "align_self": null,
            "border": null,
            "bottom": null,
            "display": null,
            "flex": null,
            "flex_flow": null,
            "grid_area": null,
            "grid_auto_columns": null,
            "grid_auto_flow": null,
            "grid_auto_rows": null,
            "grid_column": null,
            "grid_gap": null,
            "grid_row": null,
            "grid_template_areas": null,
            "grid_template_columns": null,
            "grid_template_rows": null,
            "height": null,
            "justify_content": null,
            "justify_items": null,
            "left": null,
            "margin": null,
            "max_height": null,
            "max_width": null,
            "min_height": null,
            "min_width": null,
            "object_fit": null,
            "object_position": null,
            "order": null,
            "overflow": null,
            "overflow_x": null,
            "overflow_y": null,
            "padding": null,
            "right": null,
            "top": null,
            "visibility": null,
            "width": null
          }
        },
        "5c2f42e7a3d44d8a874bbcfb7ecdffd9": {
          "model_module": "@jupyter-widgets/controls",
          "model_name": "ProgressStyleModel",
          "model_module_version": "1.5.0",
          "state": {
            "_model_module": "@jupyter-widgets/controls",
            "_model_module_version": "1.5.0",
            "_model_name": "ProgressStyleModel",
            "_view_count": null,
            "_view_module": "@jupyter-widgets/base",
            "_view_module_version": "1.2.0",
            "_view_name": "StyleView",
            "bar_color": null,
            "description_width": ""
          }
        },
        "7c169438d9ce441081c86c3071d1ff97": {
          "model_module": "@jupyter-widgets/base",
          "model_name": "LayoutModel",
          "model_module_version": "1.2.0",
          "state": {
            "_model_module": "@jupyter-widgets/base",
            "_model_module_version": "1.2.0",
            "_model_name": "LayoutModel",
            "_view_count": null,
            "_view_module": "@jupyter-widgets/base",
            "_view_module_version": "1.2.0",
            "_view_name": "LayoutView",
            "align_content": null,
            "align_items": null,
            "align_self": null,
            "border": null,
            "bottom": null,
            "display": null,
            "flex": null,
            "flex_flow": null,
            "grid_area": null,
            "grid_auto_columns": null,
            "grid_auto_flow": null,
            "grid_auto_rows": null,
            "grid_column": null,
            "grid_gap": null,
            "grid_row": null,
            "grid_template_areas": null,
            "grid_template_columns": null,
            "grid_template_rows": null,
            "height": null,
            "justify_content": null,
            "justify_items": null,
            "left": null,
            "margin": null,
            "max_height": null,
            "max_width": null,
            "min_height": null,
            "min_width": null,
            "object_fit": null,
            "object_position": null,
            "order": null,
            "overflow": null,
            "overflow_x": null,
            "overflow_y": null,
            "padding": null,
            "right": null,
            "top": null,
            "visibility": null,
            "width": null
          }
        },
        "58de36068021418e85ef2be10a2ba315": {
          "model_module": "@jupyter-widgets/controls",
          "model_name": "DescriptionStyleModel",
          "model_module_version": "1.5.0",
          "state": {
            "_model_module": "@jupyter-widgets/controls",
            "_model_module_version": "1.5.0",
            "_model_name": "DescriptionStyleModel",
            "_view_count": null,
            "_view_module": "@jupyter-widgets/base",
            "_view_module_version": "1.2.0",
            "_view_name": "StyleView",
            "description_width": ""
          }
        },
        "e57f955a72e44ea49f2f9f61d1130380": {
          "model_module": "@jupyter-widgets/controls",
          "model_name": "HBoxModel",
          "model_module_version": "1.5.0",
          "state": {
            "_dom_classes": [],
            "_model_module": "@jupyter-widgets/controls",
            "_model_module_version": "1.5.0",
            "_model_name": "HBoxModel",
            "_view_count": null,
            "_view_module": "@jupyter-widgets/controls",
            "_view_module_version": "1.5.0",
            "_view_name": "HBoxView",
            "box_style": "",
            "children": [
              "IPY_MODEL_407420eafc714f7eae123ad751b94c78",
              "IPY_MODEL_d58358935ec649f0a108ffe5bc285946",
              "IPY_MODEL_0d8f7f77f06b4399a1836ff976811127"
            ],
            "layout": "IPY_MODEL_4dc68b9045714841bc7f976e26bb8033"
          }
        },
        "407420eafc714f7eae123ad751b94c78": {
          "model_module": "@jupyter-widgets/controls",
          "model_name": "HTMLModel",
          "model_module_version": "1.5.0",
          "state": {
            "_dom_classes": [],
            "_model_module": "@jupyter-widgets/controls",
            "_model_module_version": "1.5.0",
            "_model_name": "HTMLModel",
            "_view_count": null,
            "_view_module": "@jupyter-widgets/controls",
            "_view_module_version": "1.5.0",
            "_view_name": "HTMLView",
            "description": "",
            "description_tooltip": null,
            "layout": "IPY_MODEL_b6fa50ceaa404477b0aab2975745c93e",
            "placeholder": "​",
            "style": "IPY_MODEL_85a4a8d62bda4aeaa986ca0b6c97796c",
            "value": "100%"
          }
        },
        "d58358935ec649f0a108ffe5bc285946": {
          "model_module": "@jupyter-widgets/controls",
          "model_name": "FloatProgressModel",
          "model_module_version": "1.5.0",
          "state": {
            "_dom_classes": [],
            "_model_module": "@jupyter-widgets/controls",
            "_model_module_version": "1.5.0",
            "_model_name": "FloatProgressModel",
            "_view_count": null,
            "_view_module": "@jupyter-widgets/controls",
            "_view_module_version": "1.5.0",
            "_view_name": "ProgressView",
            "bar_style": "success",
            "description": "",
            "description_tooltip": null,
            "layout": "IPY_MODEL_a4754a5177ad48e59c725b33c46d13a1",
            "max": 3,
            "min": 0,
            "orientation": "horizontal",
            "style": "IPY_MODEL_95a80bb2390846e495301b929121eb20",
            "value": 3
          }
        },
        "0d8f7f77f06b4399a1836ff976811127": {
          "model_module": "@jupyter-widgets/controls",
          "model_name": "HTMLModel",
          "model_module_version": "1.5.0",
          "state": {
            "_dom_classes": [],
            "_model_module": "@jupyter-widgets/controls",
            "_model_module_version": "1.5.0",
            "_model_name": "HTMLModel",
            "_view_count": null,
            "_view_module": "@jupyter-widgets/controls",
            "_view_module_version": "1.5.0",
            "_view_name": "HTMLView",
            "description": "",
            "description_tooltip": null,
            "layout": "IPY_MODEL_1b3d70b108eb41528d91af7b95592af4",
            "placeholder": "​",
            "style": "IPY_MODEL_601bdc25eda3434297ea26e94fad69d3",
            "value": " 3/3 [00:00&lt;00:00, 10.88it/s]"
          }
        },
        "4dc68b9045714841bc7f976e26bb8033": {
          "model_module": "@jupyter-widgets/base",
          "model_name": "LayoutModel",
          "model_module_version": "1.2.0",
          "state": {
            "_model_module": "@jupyter-widgets/base",
            "_model_module_version": "1.2.0",
            "_model_name": "LayoutModel",
            "_view_count": null,
            "_view_module": "@jupyter-widgets/base",
            "_view_module_version": "1.2.0",
            "_view_name": "LayoutView",
            "align_content": null,
            "align_items": null,
            "align_self": null,
            "border": null,
            "bottom": null,
            "display": null,
            "flex": null,
            "flex_flow": null,
            "grid_area": null,
            "grid_auto_columns": null,
            "grid_auto_flow": null,
            "grid_auto_rows": null,
            "grid_column": null,
            "grid_gap": null,
            "grid_row": null,
            "grid_template_areas": null,
            "grid_template_columns": null,
            "grid_template_rows": null,
            "height": null,
            "justify_content": null,
            "justify_items": null,
            "left": null,
            "margin": null,
            "max_height": null,
            "max_width": null,
            "min_height": null,
            "min_width": null,
            "object_fit": null,
            "object_position": null,
            "order": null,
            "overflow": null,
            "overflow_x": null,
            "overflow_y": null,
            "padding": null,
            "right": null,
            "top": null,
            "visibility": null,
            "width": null
          }
        },
        "b6fa50ceaa404477b0aab2975745c93e": {
          "model_module": "@jupyter-widgets/base",
          "model_name": "LayoutModel",
          "model_module_version": "1.2.0",
          "state": {
            "_model_module": "@jupyter-widgets/base",
            "_model_module_version": "1.2.0",
            "_model_name": "LayoutModel",
            "_view_count": null,
            "_view_module": "@jupyter-widgets/base",
            "_view_module_version": "1.2.0",
            "_view_name": "LayoutView",
            "align_content": null,
            "align_items": null,
            "align_self": null,
            "border": null,
            "bottom": null,
            "display": null,
            "flex": null,
            "flex_flow": null,
            "grid_area": null,
            "grid_auto_columns": null,
            "grid_auto_flow": null,
            "grid_auto_rows": null,
            "grid_column": null,
            "grid_gap": null,
            "grid_row": null,
            "grid_template_areas": null,
            "grid_template_columns": null,
            "grid_template_rows": null,
            "height": null,
            "justify_content": null,
            "justify_items": null,
            "left": null,
            "margin": null,
            "max_height": null,
            "max_width": null,
            "min_height": null,
            "min_width": null,
            "object_fit": null,
            "object_position": null,
            "order": null,
            "overflow": null,
            "overflow_x": null,
            "overflow_y": null,
            "padding": null,
            "right": null,
            "top": null,
            "visibility": null,
            "width": null
          }
        },
        "85a4a8d62bda4aeaa986ca0b6c97796c": {
          "model_module": "@jupyter-widgets/controls",
          "model_name": "DescriptionStyleModel",
          "model_module_version": "1.5.0",
          "state": {
            "_model_module": "@jupyter-widgets/controls",
            "_model_module_version": "1.5.0",
            "_model_name": "DescriptionStyleModel",
            "_view_count": null,
            "_view_module": "@jupyter-widgets/base",
            "_view_module_version": "1.2.0",
            "_view_name": "StyleView",
            "description_width": ""
          }
        },
        "a4754a5177ad48e59c725b33c46d13a1": {
          "model_module": "@jupyter-widgets/base",
          "model_name": "LayoutModel",
          "model_module_version": "1.2.0",
          "state": {
            "_model_module": "@jupyter-widgets/base",
            "_model_module_version": "1.2.0",
            "_model_name": "LayoutModel",
            "_view_count": null,
            "_view_module": "@jupyter-widgets/base",
            "_view_module_version": "1.2.0",
            "_view_name": "LayoutView",
            "align_content": null,
            "align_items": null,
            "align_self": null,
            "border": null,
            "bottom": null,
            "display": null,
            "flex": null,
            "flex_flow": null,
            "grid_area": null,
            "grid_auto_columns": null,
            "grid_auto_flow": null,
            "grid_auto_rows": null,
            "grid_column": null,
            "grid_gap": null,
            "grid_row": null,
            "grid_template_areas": null,
            "grid_template_columns": null,
            "grid_template_rows": null,
            "height": null,
            "justify_content": null,
            "justify_items": null,
            "left": null,
            "margin": null,
            "max_height": null,
            "max_width": null,
            "min_height": null,
            "min_width": null,
            "object_fit": null,
            "object_position": null,
            "order": null,
            "overflow": null,
            "overflow_x": null,
            "overflow_y": null,
            "padding": null,
            "right": null,
            "top": null,
            "visibility": null,
            "width": null
          }
        },
        "95a80bb2390846e495301b929121eb20": {
          "model_module": "@jupyter-widgets/controls",
          "model_name": "ProgressStyleModel",
          "model_module_version": "1.5.0",
          "state": {
            "_model_module": "@jupyter-widgets/controls",
            "_model_module_version": "1.5.0",
            "_model_name": "ProgressStyleModel",
            "_view_count": null,
            "_view_module": "@jupyter-widgets/base",
            "_view_module_version": "1.2.0",
            "_view_name": "StyleView",
            "bar_color": null,
            "description_width": ""
          }
        },
        "1b3d70b108eb41528d91af7b95592af4": {
          "model_module": "@jupyter-widgets/base",
          "model_name": "LayoutModel",
          "model_module_version": "1.2.0",
          "state": {
            "_model_module": "@jupyter-widgets/base",
            "_model_module_version": "1.2.0",
            "_model_name": "LayoutModel",
            "_view_count": null,
            "_view_module": "@jupyter-widgets/base",
            "_view_module_version": "1.2.0",
            "_view_name": "LayoutView",
            "align_content": null,
            "align_items": null,
            "align_self": null,
            "border": null,
            "bottom": null,
            "display": null,
            "flex": null,
            "flex_flow": null,
            "grid_area": null,
            "grid_auto_columns": null,
            "grid_auto_flow": null,
            "grid_auto_rows": null,
            "grid_column": null,
            "grid_gap": null,
            "grid_row": null,
            "grid_template_areas": null,
            "grid_template_columns": null,
            "grid_template_rows": null,
            "height": null,
            "justify_content": null,
            "justify_items": null,
            "left": null,
            "margin": null,
            "max_height": null,
            "max_width": null,
            "min_height": null,
            "min_width": null,
            "object_fit": null,
            "object_position": null,
            "order": null,
            "overflow": null,
            "overflow_x": null,
            "overflow_y": null,
            "padding": null,
            "right": null,
            "top": null,
            "visibility": null,
            "width": null
          }
        },
        "601bdc25eda3434297ea26e94fad69d3": {
          "model_module": "@jupyter-widgets/controls",
          "model_name": "DescriptionStyleModel",
          "model_module_version": "1.5.0",
          "state": {
            "_model_module": "@jupyter-widgets/controls",
            "_model_module_version": "1.5.0",
            "_model_name": "DescriptionStyleModel",
            "_view_count": null,
            "_view_module": "@jupyter-widgets/base",
            "_view_module_version": "1.2.0",
            "_view_name": "StyleView",
            "description_width": ""
          }
        }
      }
    }
  },
  "cells": [
    {
      "cell_type": "code",
      "execution_count": null,
      "metadata": {
        "colab": {
          "base_uri": "https://localhost:8080/"
        },
        "id": "b1LyHsTrbmRO",
        "outputId": "bd495a0c-c0b9-4e12-a978-d834e2b95a74"
      },
      "outputs": [
        {
          "output_type": "stream",
          "name": "stdout",
          "text": [
            "Drive already mounted at /content/drive/; to attempt to forcibly remount, call drive.mount(\"/content/drive/\", force_remount=True).\n"
          ]
        }
      ],
      "source": [
        "from google.colab import drive\n",
        "drive.mount('/content/drive/')"
      ]
    },
    {
      "cell_type": "markdown",
      "source": [
        "![image.png](data:image/png;base64,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)"
      ],
      "metadata": {
        "id": "UepEclmTae0k"
      }
    },
    {
      "cell_type": "markdown",
      "source": [
        "* [Fancy website](https://rapids.ai/#quick-start)\n",
        "* [Github](https://github.com/rapidsai/)\n",
        "* [Docs](https://docs.rapids.ai/api/cudf/stable/)\n",
        "\n",
        "____\n",
        "\n",
        "WHAT IS **RAPIDS**\n",
        "\n",
        "**RAPIDS** provides unmatched speed with familiar APIs that match the most popular PyData libraries. Built on state-of-the-art foundations like NVIDIA CUDA and Apache Arrow, it unlocks the speed of GPUs with code you already know.\n",
        "\n",
        "* Dataframe processing with cuDF (similar API to pandas)\n",
        "* Machine learning with cuML (similar API to scikit-learn)\n",
        "* Graph processing with cuGraph (similar API to networkX)\n",
        "* Spatial analytics with cuSpatial (similar API to geoPandas)\n",
        "* Image processing with cuCIM (similar API to scikit-image)\n",
        "* Seamless cross-filtered dashboards with cuxfilter\n",
        "* Low level compute primitives with RAFT\n",
        "* Apache Spark acceleration with Spark RAPIDS"
      ],
      "metadata": {
        "id": "y2Y0gPTyag12"
      }
    },
    {
      "cell_type": "code",
      "source": [
        "import pandas as pd\n",
        "from tqdm.auto import tqdm\n",
        "import random\n",
        "import numpy as np"
      ],
      "metadata": {
        "id": "UbW5RBurdEDr"
      },
      "execution_count": null,
      "outputs": []
    },
    {
      "cell_type": "code",
      "source": [
        "!lscpu"
      ],
      "metadata": {
        "colab": {
          "base_uri": "https://localhost:8080/"
        },
        "id": "r3UjTq7Qda7-",
        "outputId": "8eb14433-7ab1-49fa-8f6a-c608a4874476"
      },
      "execution_count": null,
      "outputs": [
        {
          "output_type": "stream",
          "name": "stdout",
          "text": [
            "Architecture:             x86_64\n",
            "  CPU op-mode(s):         32-bit, 64-bit\n",
            "  Address sizes:          46 bits physical, 48 bits virtual\n",
            "  Byte Order:             Little Endian\n",
            "CPU(s):                   2\n",
            "  On-line CPU(s) list:    0,1\n",
            "Vendor ID:                GenuineIntel\n",
            "  Model name:             Intel(R) Xeon(R) CPU @ 2.00GHz\n",
            "    CPU family:           6\n",
            "    Model:                85\n",
            "    Thread(s) per core:   2\n",
            "    Core(s) per socket:   1\n",
            "    Socket(s):            1\n",
            "    Stepping:             3\n",
            "    BogoMIPS:             4000.32\n",
            "    Flags:                fpu vme de pse tsc msr pae mce cx8 apic sep mtrr pge mca cmov pat pse36 cl\n",
            "                          flush mmx fxsr sse sse2 ss ht syscall nx pdpe1gb rdtscp lm constant_tsc re\n",
            "                          p_good nopl xtopology nonstop_tsc cpuid tsc_known_freq pni pclmulqdq ssse3\n",
            "                           fma cx16 pcid sse4_1 sse4_2 x2apic movbe popcnt aes xsave avx f16c rdrand\n",
            "                           hypervisor lahf_lm abm 3dnowprefetch invpcid_single ssbd ibrs ibpb stibp \n",
            "                          fsgsbase tsc_adjust bmi1 hle avx2 smep bmi2 erms invpcid rtm mpx avx512f a\n",
            "                          vx512dq rdseed adx smap clflushopt clwb avx512cd avx512bw avx512vl xsaveop\n",
            "                          t xsavec xgetbv1 xsaves arat md_clear arch_capabilities\n",
            "Virtualization features:  \n",
            "  Hypervisor vendor:      KVM\n",
            "  Virtualization type:    full\n",
            "Caches (sum of all):      \n",
            "  L1d:                    32 KiB (1 instance)\n",
            "  L1i:                    32 KiB (1 instance)\n",
            "  L2:                     1 MiB (1 instance)\n",
            "  L3:                     38.5 MiB (1 instance)\n",
            "NUMA:                     \n",
            "  NUMA node(s):           1\n",
            "  NUMA node0 CPU(s):      0,1\n",
            "Vulnerabilities:          \n",
            "  Gather data sampling:   Not affected\n",
            "  Itlb multihit:          Not affected\n",
            "  L1tf:                   Mitigation; PTE Inversion\n",
            "  Mds:                    Vulnerable; SMT Host state unknown\n",
            "  Meltdown:               Vulnerable\n",
            "  Mmio stale data:        Vulnerable\n",
            "  Reg file data sampling: Not affected\n",
            "  Retbleed:               Vulnerable\n",
            "  Spec rstack overflow:   Not affected\n",
            "  Spec store bypass:      Vulnerable\n",
            "  Spectre v1:             Vulnerable: __user pointer sanitization and usercopy barriers only; no swa\n",
            "                          pgs barriers\n",
            "  Spectre v2:             Vulnerable; IBPB: disabled; STIBP: disabled; PBRSB-eIBRS: Not affected; BH\n",
            "                          I: Vulnerable (Syscall hardening enabled)\n",
            "  Srbds:                  Not affected\n",
            "  Tsx async abort:        Vulnerable\n"
          ]
        }
      ]
    },
    {
      "cell_type": "code",
      "source": [
        "!nvidia-smi"
      ],
      "metadata": {
        "colab": {
          "base_uri": "https://localhost:8080/"
        },
        "id": "av-gQF76eFXl",
        "outputId": "2a753bf4-e753-477d-ce83-2fd378c1256b"
      },
      "execution_count": null,
      "outputs": [
        {
          "output_type": "stream",
          "name": "stdout",
          "text": [
            "Fri Aug 16 10:25:03 2024       \n",
            "+---------------------------------------------------------------------------------------+\n",
            "| NVIDIA-SMI 535.104.05             Driver Version: 535.104.05   CUDA Version: 12.2     |\n",
            "|-----------------------------------------+----------------------+----------------------+\n",
            "| GPU  Name                 Persistence-M | Bus-Id        Disp.A | Volatile Uncorr. ECC |\n",
            "| Fan  Temp   Perf          Pwr:Usage/Cap |         Memory-Usage | GPU-Util  Compute M. |\n",
            "|                                         |                      |               MIG M. |\n",
            "|=========================================+======================+======================|\n",
            "|   0  Tesla T4                       Off | 00000000:00:04.0 Off |                    0 |\n",
            "| N/A   39C    P8              11W /  70W |      0MiB / 15360MiB |      0%      Default |\n",
            "|                                         |                      |                  N/A |\n",
            "+-----------------------------------------+----------------------+----------------------+\n",
            "                                                                                         \n",
            "+---------------------------------------------------------------------------------------+\n",
            "| Processes:                                                                            |\n",
            "|  GPU   GI   CI        PID   Type   Process name                            GPU Memory |\n",
            "|        ID   ID                                                             Usage      |\n",
            "|=======================================================================================|\n",
            "|  No running processes found                                                           |\n",
            "+---------------------------------------------------------------------------------------+\n"
          ]
        }
      ]
    },
    {
      "cell_type": "markdown",
      "source": [
        "## Pandas"
      ],
      "metadata": {
        "id": "Dsr8xkqGvX_b"
      }
    },
    {
      "cell_type": "code",
      "source": [
        "%%time\n",
        "df = pd.read_csv(\"drive/MyDrive/dummy_dataset.csv\").sample(1_000_000, random_state=77)"
      ],
      "metadata": {
        "colab": {
          "base_uri": "https://localhost:8080/",
          "height": 622
        },
        "id": "A_87xI7pdFce",
        "outputId": "b242cc05-ab32-495c-9908-633b3b57bcaa"
      },
      "execution_count": null,
      "outputs": [
        {
          "output_type": "error",
          "ename": "ParserError",
          "evalue": "Error tokenizing data. C error: Calling read(nbytes) on source failed. Try engine='python'.",
          "traceback": [
            "\u001b[0;31m---------------------------------------------------------------------------\u001b[0m",
            "\u001b[0;31mParserError\u001b[0m                               Traceback (most recent call last)",
            "\u001b[0;32m<timed exec>\u001b[0m in \u001b[0;36m<module>\u001b[0;34m\u001b[0m\n",
            "\u001b[0;32m/usr/local/lib/python3.10/dist-packages/pandas/io/parsers/readers.py\u001b[0m in \u001b[0;36mread_csv\u001b[0;34m(filepath_or_buffer, sep, delimiter, header, names, index_col, usecols, dtype, engine, converters, true_values, false_values, skipinitialspace, skiprows, skipfooter, nrows, na_values, keep_default_na, na_filter, verbose, skip_blank_lines, parse_dates, infer_datetime_format, keep_date_col, date_parser, date_format, dayfirst, cache_dates, iterator, chunksize, compression, thousands, decimal, lineterminator, quotechar, quoting, doublequote, escapechar, comment, encoding, encoding_errors, dialect, on_bad_lines, delim_whitespace, low_memory, memory_map, float_precision, storage_options, dtype_backend)\u001b[0m\n\u001b[1;32m    946\u001b[0m     \u001b[0mkwds\u001b[0m\u001b[0;34m.\u001b[0m\u001b[0mupdate\u001b[0m\u001b[0;34m(\u001b[0m\u001b[0mkwds_defaults\u001b[0m\u001b[0;34m)\u001b[0m\u001b[0;34m\u001b[0m\u001b[0;34m\u001b[0m\u001b[0m\n\u001b[1;32m    947\u001b[0m \u001b[0;34m\u001b[0m\u001b[0m\n\u001b[0;32m--> 948\u001b[0;31m     \u001b[0;32mreturn\u001b[0m \u001b[0m_read\u001b[0m\u001b[0;34m(\u001b[0m\u001b[0mfilepath_or_buffer\u001b[0m\u001b[0;34m,\u001b[0m \u001b[0mkwds\u001b[0m\u001b[0;34m)\u001b[0m\u001b[0;34m\u001b[0m\u001b[0;34m\u001b[0m\u001b[0m\n\u001b[0m\u001b[1;32m    949\u001b[0m \u001b[0;34m\u001b[0m\u001b[0m\n\u001b[1;32m    950\u001b[0m \u001b[0;34m\u001b[0m\u001b[0m\n",
            "\u001b[0;32m/usr/local/lib/python3.10/dist-packages/pandas/io/parsers/readers.py\u001b[0m in \u001b[0;36m_read\u001b[0;34m(filepath_or_buffer, kwds)\u001b[0m\n\u001b[1;32m    615\u001b[0m \u001b[0;34m\u001b[0m\u001b[0m\n\u001b[1;32m    616\u001b[0m     \u001b[0;32mwith\u001b[0m \u001b[0mparser\u001b[0m\u001b[0;34m:\u001b[0m\u001b[0;34m\u001b[0m\u001b[0;34m\u001b[0m\u001b[0m\n\u001b[0;32m--> 617\u001b[0;31m         \u001b[0;32mreturn\u001b[0m \u001b[0mparser\u001b[0m\u001b[0;34m.\u001b[0m\u001b[0mread\u001b[0m\u001b[0;34m(\u001b[0m\u001b[0mnrows\u001b[0m\u001b[0;34m)\u001b[0m\u001b[0;34m\u001b[0m\u001b[0;34m\u001b[0m\u001b[0m\n\u001b[0m\u001b[1;32m    618\u001b[0m \u001b[0;34m\u001b[0m\u001b[0m\n\u001b[1;32m    619\u001b[0m \u001b[0;34m\u001b[0m\u001b[0m\n",
            "\u001b[0;32m/usr/local/lib/python3.10/dist-packages/pandas/io/parsers/readers.py\u001b[0m in \u001b[0;36mread\u001b[0;34m(self, nrows)\u001b[0m\n\u001b[1;32m   1746\u001b[0m                     \u001b[0mcolumns\u001b[0m\u001b[0;34m,\u001b[0m\u001b[0;34m\u001b[0m\u001b[0;34m\u001b[0m\u001b[0m\n\u001b[1;32m   1747\u001b[0m                     \u001b[0mcol_dict\u001b[0m\u001b[0;34m,\u001b[0m\u001b[0;34m\u001b[0m\u001b[0;34m\u001b[0m\u001b[0m\n\u001b[0;32m-> 1748\u001b[0;31m                 \u001b[0;34m)\u001b[0m \u001b[0;34m=\u001b[0m \u001b[0mself\u001b[0m\u001b[0;34m.\u001b[0m\u001b[0m_engine\u001b[0m\u001b[0;34m.\u001b[0m\u001b[0mread\u001b[0m\u001b[0;34m(\u001b[0m  \u001b[0;31m# type: ignore[attr-defined]\u001b[0m\u001b[0;34m\u001b[0m\u001b[0;34m\u001b[0m\u001b[0m\n\u001b[0m\u001b[1;32m   1749\u001b[0m                     \u001b[0mnrows\u001b[0m\u001b[0;34m\u001b[0m\u001b[0;34m\u001b[0m\u001b[0m\n\u001b[1;32m   1750\u001b[0m                 )\n",
            "\u001b[0;32m/usr/local/lib/python3.10/dist-packages/pandas/io/parsers/c_parser_wrapper.py\u001b[0m in \u001b[0;36mread\u001b[0;34m(self, nrows)\u001b[0m\n\u001b[1;32m    232\u001b[0m         \u001b[0;32mtry\u001b[0m\u001b[0;34m:\u001b[0m\u001b[0;34m\u001b[0m\u001b[0;34m\u001b[0m\u001b[0m\n\u001b[1;32m    233\u001b[0m             \u001b[0;32mif\u001b[0m \u001b[0mself\u001b[0m\u001b[0;34m.\u001b[0m\u001b[0mlow_memory\u001b[0m\u001b[0;34m:\u001b[0m\u001b[0;34m\u001b[0m\u001b[0;34m\u001b[0m\u001b[0m\n\u001b[0;32m--> 234\u001b[0;31m                 \u001b[0mchunks\u001b[0m \u001b[0;34m=\u001b[0m \u001b[0mself\u001b[0m\u001b[0;34m.\u001b[0m\u001b[0m_reader\u001b[0m\u001b[0;34m.\u001b[0m\u001b[0mread_low_memory\u001b[0m\u001b[0;34m(\u001b[0m\u001b[0mnrows\u001b[0m\u001b[0;34m)\u001b[0m\u001b[0;34m\u001b[0m\u001b[0;34m\u001b[0m\u001b[0m\n\u001b[0m\u001b[1;32m    235\u001b[0m                 \u001b[0;31m# destructive to chunks\u001b[0m\u001b[0;34m\u001b[0m\u001b[0;34m\u001b[0m\u001b[0m\n\u001b[1;32m    236\u001b[0m                 \u001b[0mdata\u001b[0m \u001b[0;34m=\u001b[0m \u001b[0m_concatenate_chunks\u001b[0m\u001b[0;34m(\u001b[0m\u001b[0mchunks\u001b[0m\u001b[0;34m)\u001b[0m\u001b[0;34m\u001b[0m\u001b[0;34m\u001b[0m\u001b[0m\n",
            "\u001b[0;32mparsers.pyx\u001b[0m in \u001b[0;36mpandas._libs.parsers.TextReader.read_low_memory\u001b[0;34m()\u001b[0m\n",
            "\u001b[0;32mparsers.pyx\u001b[0m in \u001b[0;36mpandas._libs.parsers.TextReader._read_rows\u001b[0;34m()\u001b[0m\n",
            "\u001b[0;32mparsers.pyx\u001b[0m in \u001b[0;36mpandas._libs.parsers.TextReader._tokenize_rows\u001b[0;34m()\u001b[0m\n",
            "\u001b[0;32mparsers.pyx\u001b[0m in \u001b[0;36mpandas._libs.parsers.TextReader._check_tokenize_status\u001b[0;34m()\u001b[0m\n",
            "\u001b[0;32mparsers.pyx\u001b[0m in \u001b[0;36mpandas._libs.parsers.raise_parser_error\u001b[0;34m()\u001b[0m\n",
            "\u001b[0;31mParserError\u001b[0m: Error tokenizing data. C error: Calling read(nbytes) on source failed. Try engine='python'."
          ]
        }
      ]
    },
    {
      "cell_type": "code",
      "source": [
        "%%time\n",
        "cols_for_groupping = [\"name\", \"hair_color\", \"accession_month\", \"credit_card_expire\", \"currency\", \"city\"]\n",
        "cols_for_aggregation_num = [\"balance\", \"debt\", \"building_number\", \"credit_card_number\", \"credit_card_security_code\", \"coordinate\"]\n",
        "cols_for_aggregation_cat = [\"country\", \"street_name\", \"credit_card_expire\"]\n",
        "for col in tqdm(cols_for_groupping):\n",
        "    aggs = {num: [\"mean\", \"median\", \"std\"] for num in cols_for_aggregation_num}\n",
        "    #aggs.update({cat: pd.Series.mode for cat in cols_for_aggregation_cat})\n",
        "    temp = df.groupby(by=col).agg(aggs)\n",
        "    del temp"
      ],
      "metadata": {
        "colab": {
          "base_uri": "https://localhost:8080/",
          "height": 83,
          "referenced_widgets": [
            "252efdabbe3549d4ad874807ad9db9a1",
            "e931da68c38e41419ed3fd6305fa7508",
            "9757b4b20a324198b9d513ff3cad0c66",
            "e745a7b72b93416eb68569c13215571b",
            "429348e290594ec7842cdadce13712b4",
            "110374f4a136432bb6665360966285d8",
            "02cb2cb97ed9431381bf4e0dd2eca228",
            "c7a3f480dba2410d9b86c3a2041c132f",
            "14bd39bf1f37455f9007ddebd842ac13",
            "30405380e6104953b0c148d7b243a0b8",
            "e5712936a5514e55b77adbfa5fac5edb"
          ]
        },
        "id": "YuGtR019bunb",
        "outputId": "ac228a09-161f-43d9-8d4f-8ed95aecab65"
      },
      "execution_count": null,
      "outputs": [
        {
          "output_type": "display_data",
          "data": {
            "text/plain": [
              "  0%|          | 0/6 [00:00<?, ?it/s]"
            ],
            "application/vnd.jupyter.widget-view+json": {
              "version_major": 2,
              "version_minor": 0,
              "model_id": "252efdabbe3549d4ad874807ad9db9a1"
            }
          },
          "metadata": {}
        },
        {
          "output_type": "stream",
          "name": "stdout",
          "text": [
            "CPU times: user 2.39 s, sys: 10.5 ms, total: 2.4 s\n",
            "Wall time: 2.41 s\n"
          ]
        }
      ]
    },
    {
      "cell_type": "code",
      "source": [
        "arr = []\n",
        "for i in range(3):\n",
        "    aggs = {num: [\"mean\", \"median\", \"std\"] for num in cols_for_aggregation_num}\n",
        "    arr.append(df.groupby(by=cols_for_groupping[i], as_index=False)\n",
        "               .agg(aggs).droplevel(level=0, axis=1)\n",
        "               .rename(columns=lambda x: x + f\"_{i}_{random.random()}\" if x != \"\" else cols_for_groupping[i]))"
      ],
      "metadata": {
        "id": "rXW3cFYKbyBa"
      },
      "execution_count": null,
      "outputs": []
    },
    {
      "cell_type": "code",
      "source": [
        "%%time\n",
        "for i in tqdm(range(3)):\n",
        "    df = df.merge(arr[i], on=cols_for_groupping[i], how=\"left\")"
      ],
      "metadata": {
        "colab": {
          "base_uri": "https://localhost:8080/",
          "height": 83,
          "referenced_widgets": [
            "7ae401ec94ce4843b77399bd2ce6c5ab",
            "0d92ce97d98543d4a4a2f4875553698b",
            "7a2e3a8080904f368133bd7274dea39b",
            "ab872292ef624b5db1af6673fc4dc3a5",
            "6614754e9e4e4d0dbbf5a9c4485f0f84",
            "9dce19505c6a44e593b6dcad9d1dffe7",
            "712066aa3efc4c428e51022699964ea6",
            "32034590ab984b4881317744939fc967",
            "e02757113784481a89fe6b3f5ab2b602",
            "6dc537582be949e5ab00218433840e67",
            "11c6974ea62d44eb8527c5ef6686b3b6"
          ]
        },
        "id": "u-WVzRQZb08o",
        "outputId": "e60ac8fd-a933-4ba0-d118-ef0c71219b22"
      },
      "execution_count": null,
      "outputs": [
        {
          "output_type": "display_data",
          "data": {
            "text/plain": [
              "  0%|          | 0/3 [00:00<?, ?it/s]"
            ],
            "application/vnd.jupyter.widget-view+json": {
              "version_major": 2,
              "version_minor": 0,
              "model_id": "7ae401ec94ce4843b77399bd2ce6c5ab"
            }
          },
          "metadata": {}
        },
        {
          "output_type": "stream",
          "name": "stdout",
          "text": [
            "CPU times: user 2.42 s, sys: 838 ms, total: 3.26 s\n",
            "Wall time: 3.32 s\n"
          ]
        }
      ]
    },
    {
      "cell_type": "code",
      "source": [
        "del arr; del df"
      ],
      "metadata": {
        "id": "xN9mVTyZcH-E"
      },
      "execution_count": null,
      "outputs": []
    },
    {
      "cell_type": "code",
      "source": [
        "df = pd.read_csv(\"drive/MyDrive/dummy_dataset.csv\").sample(1_000_000, random_state=77)"
      ],
      "metadata": {
        "id": "n5uwfM1Ec0Eu"
      },
      "execution_count": null,
      "outputs": []
    },
    {
      "cell_type": "code",
      "source": [
        "num_cols = df.select_dtypes(include='number').columns\n",
        "cat_cols = df.select_dtypes(include=\"object\").columns"
      ],
      "metadata": {
        "id": "Hj1Mp9tbb4NS"
      },
      "execution_count": null,
      "outputs": []
    },
    {
      "cell_type": "code",
      "source": [
        "%%time\n",
        "df[[col + \"_sqrt\" for col in num_cols]] = df[num_cols].pow(0.5)\n",
        "df[[col + \"_add\" for col in num_cols]] = df[num_cols] + 5\n",
        "df.assign(**{col + \"_tail\": df[col].str[-3:] for col in cat_cols})"
      ],
      "metadata": {
        "colab": {
          "base_uri": "https://localhost:8080/",
          "height": 609
        },
        "id": "ywXjFYh6b8D2",
        "outputId": "78d500fb-6424-403a-c49f-270b4efdce12"
      },
      "execution_count": null,
      "outputs": [
        {
          "output_type": "stream",
          "name": "stdout",
          "text": [
            "CPU times: user 8.03 s, sys: 112 ms, total: 8.15 s\n",
            "Wall time: 8.14 s\n"
          ]
        },
        {
          "output_type": "execute_result",
          "data": {
            "text/plain": [
              "           id      name  birth_date            hair_color  is_MU_fan   iq  \\\n",
              "3887690   962  Danielle  2007-06-11                Sienna      False  466   \n",
              "84319    4952   Jeffrey  2020-01-01       MediumVioletRed       True  971   \n",
              "1194275   316     Bruce  2001-11-04  LightGoldenRodYellow      False  326   \n",
              "1153913  7474      Kyle  2005-11-13            PapayaWhip       True  592   \n",
              "13267    8317     Kayla  2014-05-10                Tomato       True   87   \n",
              "...       ...       ...         ...                   ...        ...  ...   \n",
              "1138277   946    Brandy  2007-10-13            PapayaWhip       True  416   \n",
              "1421804  3027   Stephen  2012-03-27             CadetBlue      False  448   \n",
              "4998499  8317  Jennifer  2020-09-26                Silver       True  974   \n",
              "2355658  4587     Tyler  2020-06-29                  Plum       True  530   \n",
              "833015    524    Stacey  2022-06-02            LightGreen       True  346   \n",
              "\n",
              "         accession_month       balance          debt  \\\n",
              "3887690                5  2.374911e+08  2.933001e+09   \n",
              "84319                 12  3.399260e+08  7.442588e+09   \n",
              "1194275                8  3.368817e+08  8.865531e+09   \n",
              "1153913                7  8.786440e+07  2.925486e+09   \n",
              "13267                 10  3.520182e+08  9.450922e+09   \n",
              "...                  ...           ...           ...   \n",
              "1138277                9  9.128475e+08  4.211934e+09   \n",
              "1421804                4  2.963725e+08  9.953720e+09   \n",
              "4998499                8  8.265195e+08  4.028849e+09   \n",
              "2355658               10  4.601135e+08  6.819438e+09   \n",
              "833015                 2  9.027157e+08  7.653146e+09   \n",
              "\n",
              "                                                   country  ... city_tail  \\\n",
              "3887690                                             Jersey  ...       ort   \n",
              "84319                                               Monaco  ...       ugh   \n",
              "1194275                                           Mongolia  ...       ort   \n",
              "1153913                             Bosnia and Herzegovina  ...       ori   \n",
              "13267                                             Barbados  ...       tin   \n",
              "...                                                    ...  ...       ...   \n",
              "1138277                                        Puerto Rico  ...       ire   \n",
              "1421804                                       Burkina Faso  ...       ury   \n",
              "4998499                                        Afghanistan  ...       ugh   \n",
              "2355658  British Indian Ocean Territory (Chagos Archipe...  ...       erg   \n",
              "833015                               Palestinian Territory  ...       urt   \n",
              "\n",
              "        street_name_tail  license_plate_tail  vin_tail swift_tail  \\\n",
              "3887690              nch                 KRQ       9RJ        B5Q   \n",
              "84319                dow                 RBX       V1Z        B85   \n",
              "1194275              ove                 U56       5CK        BMQ   \n",
              "1153913              eld                 397       ZH5        B0C   \n",
              "13267                rgs                 060       EM8        BT3   \n",
              "...                  ...                 ...       ...        ...   \n",
              "1138277              nds                 49O       H9J        B0F   \n",
              "1421804              dge                 5VO       TJ6        BGJ   \n",
              "4998499              eys                 215       LPV        BIL   \n",
              "2355658              way                 UL2       PJ3        BWY   \n",
              "833015               eet                 U87       9F5        BW7   \n",
              "\n",
              "        company_name_tail company_suffix_tail job_name_tail  \\\n",
              "3887690               don                 ons           ist   \n",
              "84319                 ate                 oup           ger   \n",
              "1194275               Ltd                 LLC           yor   \n",
              "1153913               oup                 oup           ial   \n",
              "13267                 una                 Inc           ist   \n",
              "...                   ...                 ...           ...   \n",
              "1138277               non                 LLC            IT   \n",
              "1421804               aig                 LLC           ter   \n",
              "4998499               ite                 LLC           cer   \n",
              "2355658               ble                 LLC           tus   \n",
              "833015                oup                 Inc           ary   \n",
              "\n",
              "        credit_card_expire_tail currency_tail  \n",
              "3887690                     /34           JEP  \n",
              "84319                       /25           DKK  \n",
              "1194275                     /26           BAM  \n",
              "1153913                     /26           BYR  \n",
              "13267                       /28           VND  \n",
              "...                         ...           ...  \n",
              "1138277                     /29           COP  \n",
              "1421804                     /26           YER  \n",
              "4998499                     /29           TMT  \n",
              "2355658                     /34           MYR  \n",
              "833015                      /33           AOA  \n",
              "\n",
              "[1000000 rows x 56 columns]"
            ],
            "text/html": [
              "\n",
              "  <div id=\"df-78a2387d-1b28-4dc5-a3e4-41e436074835\" class=\"colab-df-container\">\n",
              "    <div>\n",
              "<style scoped>\n",
              "    .dataframe tbody tr th:only-of-type {\n",
              "        vertical-align: middle;\n",
              "    }\n",
              "\n",
              "    .dataframe tbody tr th {\n",
              "        vertical-align: top;\n",
              "    }\n",
              "\n",
              "    .dataframe thead th {\n",
              "        text-align: right;\n",
              "    }\n",
              "</style>\n",
              "<table border=\"1\" class=\"dataframe\">\n",
              "  <thead>\n",
              "    <tr style=\"text-align: right;\">\n",
              "      <th></th>\n",
              "      <th>id</th>\n",
              "      <th>name</th>\n",
              "      <th>birth_date</th>\n",
              "      <th>hair_color</th>\n",
              "      <th>is_MU_fan</th>\n",
              "      <th>iq</th>\n",
              "      <th>accession_month</th>\n",
              "      <th>balance</th>\n",
              "      <th>debt</th>\n",
              "      <th>country</th>\n",
              "      <th>...</th>\n",
              "      <th>city_tail</th>\n",
              "      <th>street_name_tail</th>\n",
              "      <th>license_plate_tail</th>\n",
              "      <th>vin_tail</th>\n",
              "      <th>swift_tail</th>\n",
              "      <th>company_name_tail</th>\n",
              "      <th>company_suffix_tail</th>\n",
              "      <th>job_name_tail</th>\n",
              "      <th>credit_card_expire_tail</th>\n",
              "      <th>currency_tail</th>\n",
              "    </tr>\n",
              "  </thead>\n",
              "  <tbody>\n",
              "    <tr>\n",
              "      <th>3887690</th>\n",
              "      <td>962</td>\n",
              "      <td>Danielle</td>\n",
              "      <td>2007-06-11</td>\n",
              "      <td>Sienna</td>\n",
              "      <td>False</td>\n",
              "      <td>466</td>\n",
              "      <td>5</td>\n",
              "      <td>2.374911e+08</td>\n",
              "      <td>2.933001e+09</td>\n",
              "      <td>Jersey</td>\n",
              "      <td>...</td>\n",
              "      <td>ort</td>\n",
              "      <td>nch</td>\n",
              "      <td>KRQ</td>\n",
              "      <td>9RJ</td>\n",
              "      <td>B5Q</td>\n",
              "      <td>don</td>\n",
              "      <td>ons</td>\n",
              "      <td>ist</td>\n",
              "      <td>/34</td>\n",
              "      <td>JEP</td>\n",
              "    </tr>\n",
              "    <tr>\n",
              "      <th>84319</th>\n",
              "      <td>4952</td>\n",
              "      <td>Jeffrey</td>\n",
              "      <td>2020-01-01</td>\n",
              "      <td>MediumVioletRed</td>\n",
              "      <td>True</td>\n",
              "      <td>971</td>\n",
              "      <td>12</td>\n",
              "      <td>3.399260e+08</td>\n",
              "      <td>7.442588e+09</td>\n",
              "      <td>Monaco</td>\n",
              "      <td>...</td>\n",
              "      <td>ugh</td>\n",
              "      <td>dow</td>\n",
              "      <td>RBX</td>\n",
              "      <td>V1Z</td>\n",
              "      <td>B85</td>\n",
              "      <td>ate</td>\n",
              "      <td>oup</td>\n",
              "      <td>ger</td>\n",
              "      <td>/25</td>\n",
              "      <td>DKK</td>\n",
              "    </tr>\n",
              "    <tr>\n",
              "      <th>1194275</th>\n",
              "      <td>316</td>\n",
              "      <td>Bruce</td>\n",
              "      <td>2001-11-04</td>\n",
              "      <td>LightGoldenRodYellow</td>\n",
              "      <td>False</td>\n",
              "      <td>326</td>\n",
              "      <td>8</td>\n",
              "      <td>3.368817e+08</td>\n",
              "      <td>8.865531e+09</td>\n",
              "      <td>Mongolia</td>\n",
              "      <td>...</td>\n",
              "      <td>ort</td>\n",
              "      <td>ove</td>\n",
              "      <td>U56</td>\n",
              "      <td>5CK</td>\n",
              "      <td>BMQ</td>\n",
              "      <td>Ltd</td>\n",
              "      <td>LLC</td>\n",
              "      <td>yor</td>\n",
              "      <td>/26</td>\n",
              "      <td>BAM</td>\n",
              "    </tr>\n",
              "    <tr>\n",
              "      <th>1153913</th>\n",
              "      <td>7474</td>\n",
              "      <td>Kyle</td>\n",
              "      <td>2005-11-13</td>\n",
              "      <td>PapayaWhip</td>\n",
              "      <td>True</td>\n",
              "      <td>592</td>\n",
              "      <td>7</td>\n",
              "      <td>8.786440e+07</td>\n",
              "      <td>2.925486e+09</td>\n",
              "      <td>Bosnia and Herzegovina</td>\n",
              "      <td>...</td>\n",
              "      <td>ori</td>\n",
              "      <td>eld</td>\n",
              "      <td>397</td>\n",
              "      <td>ZH5</td>\n",
              "      <td>B0C</td>\n",
              "      <td>oup</td>\n",
              "      <td>oup</td>\n",
              "      <td>ial</td>\n",
              "      <td>/26</td>\n",
              "      <td>BYR</td>\n",
              "    </tr>\n",
              "    <tr>\n",
              "      <th>13267</th>\n",
              "      <td>8317</td>\n",
              "      <td>Kayla</td>\n",
              "      <td>2014-05-10</td>\n",
              "      <td>Tomato</td>\n",
              "      <td>True</td>\n",
              "      <td>87</td>\n",
              "      <td>10</td>\n",
              "      <td>3.520182e+08</td>\n",
              "      <td>9.450922e+09</td>\n",
              "      <td>Barbados</td>\n",
              "      <td>...</td>\n",
              "      <td>tin</td>\n",
              "      <td>rgs</td>\n",
              "      <td>060</td>\n",
              "      <td>EM8</td>\n",
              "      <td>BT3</td>\n",
              "      <td>una</td>\n",
              "      <td>Inc</td>\n",
              "      <td>ist</td>\n",
              "      <td>/28</td>\n",
              "      <td>VND</td>\n",
              "    </tr>\n",
              "    <tr>\n",
              "      <th>...</th>\n",
              "      <td>...</td>\n",
              "      <td>...</td>\n",
              "      <td>...</td>\n",
              "      <td>...</td>\n",
              "      <td>...</td>\n",
              "      <td>...</td>\n",
              "      <td>...</td>\n",
              "      <td>...</td>\n",
              "      <td>...</td>\n",
              "      <td>...</td>\n",
              "      <td>...</td>\n",
              "      <td>...</td>\n",
              "      <td>...</td>\n",
              "      <td>...</td>\n",
              "      <td>...</td>\n",
              "      <td>...</td>\n",
              "      <td>...</td>\n",
              "      <td>...</td>\n",
              "      <td>...</td>\n",
              "      <td>...</td>\n",
              "      <td>...</td>\n",
              "    </tr>\n",
              "    <tr>\n",
              "      <th>1138277</th>\n",
              "      <td>946</td>\n",
              "      <td>Brandy</td>\n",
              "      <td>2007-10-13</td>\n",
              "      <td>PapayaWhip</td>\n",
              "      <td>True</td>\n",
              "      <td>416</td>\n",
              "      <td>9</td>\n",
              "      <td>9.128475e+08</td>\n",
              "      <td>4.211934e+09</td>\n",
              "      <td>Puerto Rico</td>\n",
              "      <td>...</td>\n",
              "      <td>ire</td>\n",
              "      <td>nds</td>\n",
              "      <td>49O</td>\n",
              "      <td>H9J</td>\n",
              "      <td>B0F</td>\n",
              "      <td>non</td>\n",
              "      <td>LLC</td>\n",
              "      <td>IT</td>\n",
              "      <td>/29</td>\n",
              "      <td>COP</td>\n",
              "    </tr>\n",
              "    <tr>\n",
              "      <th>1421804</th>\n",
              "      <td>3027</td>\n",
              "      <td>Stephen</td>\n",
              "      <td>2012-03-27</td>\n",
              "      <td>CadetBlue</td>\n",
              "      <td>False</td>\n",
              "      <td>448</td>\n",
              "      <td>4</td>\n",
              "      <td>2.963725e+08</td>\n",
              "      <td>9.953720e+09</td>\n",
              "      <td>Burkina Faso</td>\n",
              "      <td>...</td>\n",
              "      <td>ury</td>\n",
              "      <td>dge</td>\n",
              "      <td>5VO</td>\n",
              "      <td>TJ6</td>\n",
              "      <td>BGJ</td>\n",
              "      <td>aig</td>\n",
              "      <td>LLC</td>\n",
              "      <td>ter</td>\n",
              "      <td>/26</td>\n",
              "      <td>YER</td>\n",
              "    </tr>\n",
              "    <tr>\n",
              "      <th>4998499</th>\n",
              "      <td>8317</td>\n",
              "      <td>Jennifer</td>\n",
              "      <td>2020-09-26</td>\n",
              "      <td>Silver</td>\n",
              "      <td>True</td>\n",
              "      <td>974</td>\n",
              "      <td>8</td>\n",
              "      <td>8.265195e+08</td>\n",
              "      <td>4.028849e+09</td>\n",
              "      <td>Afghanistan</td>\n",
              "      <td>...</td>\n",
              "      <td>ugh</td>\n",
              "      <td>eys</td>\n",
              "      <td>215</td>\n",
              "      <td>LPV</td>\n",
              "      <td>BIL</td>\n",
              "      <td>ite</td>\n",
              "      <td>LLC</td>\n",
              "      <td>cer</td>\n",
              "      <td>/29</td>\n",
              "      <td>TMT</td>\n",
              "    </tr>\n",
              "    <tr>\n",
              "      <th>2355658</th>\n",
              "      <td>4587</td>\n",
              "      <td>Tyler</td>\n",
              "      <td>2020-06-29</td>\n",
              "      <td>Plum</td>\n",
              "      <td>True</td>\n",
              "      <td>530</td>\n",
              "      <td>10</td>\n",
              "      <td>4.601135e+08</td>\n",
              "      <td>6.819438e+09</td>\n",
              "      <td>British Indian Ocean Territory (Chagos Archipe...</td>\n",
              "      <td>...</td>\n",
              "      <td>erg</td>\n",
              "      <td>way</td>\n",
              "      <td>UL2</td>\n",
              "      <td>PJ3</td>\n",
              "      <td>BWY</td>\n",
              "      <td>ble</td>\n",
              "      <td>LLC</td>\n",
              "      <td>tus</td>\n",
              "      <td>/34</td>\n",
              "      <td>MYR</td>\n",
              "    </tr>\n",
              "    <tr>\n",
              "      <th>833015</th>\n",
              "      <td>524</td>\n",
              "      <td>Stacey</td>\n",
              "      <td>2022-06-02</td>\n",
              "      <td>LightGreen</td>\n",
              "      <td>True</td>\n",
              "      <td>346</td>\n",
              "      <td>2</td>\n",
              "      <td>9.027157e+08</td>\n",
              "      <td>7.653146e+09</td>\n",
              "      <td>Palestinian Territory</td>\n",
              "      <td>...</td>\n",
              "      <td>urt</td>\n",
              "      <td>eet</td>\n",
              "      <td>U87</td>\n",
              "      <td>9F5</td>\n",
              "      <td>BW7</td>\n",
              "      <td>oup</td>\n",
              "      <td>Inc</td>\n",
              "      <td>ary</td>\n",
              "      <td>/33</td>\n",
              "      <td>AOA</td>\n",
              "    </tr>\n",
              "  </tbody>\n",
              "</table>\n",
              "<p>1000000 rows × 56 columns</p>\n",
              "</div>\n",
              "    <div class=\"colab-df-buttons\">\n",
              "\n",
              "  <div class=\"colab-df-container\">\n",
              "    <button class=\"colab-df-convert\" onclick=\"convertToInteractive('df-78a2387d-1b28-4dc5-a3e4-41e436074835')\"\n",
              "            title=\"Convert this dataframe to an interactive table.\"\n",
              "            style=\"display:none;\">\n",
              "\n",
              "  <svg xmlns=\"http://www.w3.org/2000/svg\" height=\"24px\" viewBox=\"0 -960 960 960\">\n",
              "    <path d=\"M120-120v-720h720v720H120Zm60-500h600v-160H180v160Zm220 220h160v-160H400v160Zm0 220h160v-160H400v160ZM180-400h160v-160H180v160Zm440 0h160v-160H620v160ZM180-180h160v-160H180v160Zm440 0h160v-160H620v160Z\"/>\n",
              "  </svg>\n",
              "    </button>\n",
              "\n",
              "  <style>\n",
              "    .colab-df-container {\n",
              "      display:flex;\n",
              "      gap: 12px;\n",
              "    }\n",
              "\n",
              "    .colab-df-convert {\n",
              "      background-color: #E8F0FE;\n",
              "      border: none;\n",
              "      border-radius: 50%;\n",
              "      cursor: pointer;\n",
              "      display: none;\n",
              "      fill: #1967D2;\n",
              "      height: 32px;\n",
              "      padding: 0 0 0 0;\n",
              "      width: 32px;\n",
              "    }\n",
              "\n",
              "    .colab-df-convert:hover {\n",
              "      background-color: #E2EBFA;\n",
              "      box-shadow: 0px 1px 2px rgba(60, 64, 67, 0.3), 0px 1px 3px 1px rgba(60, 64, 67, 0.15);\n",
              "      fill: #174EA6;\n",
              "    }\n",
              "\n",
              "    .colab-df-buttons div {\n",
              "      margin-bottom: 4px;\n",
              "    }\n",
              "\n",
              "    [theme=dark] .colab-df-convert {\n",
              "      background-color: #3B4455;\n",
              "      fill: #D2E3FC;\n",
              "    }\n",
              "\n",
              "    [theme=dark] .colab-df-convert:hover {\n",
              "      background-color: #434B5C;\n",
              "      box-shadow: 0px 1px 3px 1px rgba(0, 0, 0, 0.15);\n",
              "      filter: drop-shadow(0px 1px 2px rgba(0, 0, 0, 0.3));\n",
              "      fill: #FFFFFF;\n",
              "    }\n",
              "  </style>\n",
              "\n",
              "    <script>\n",
              "      const buttonEl =\n",
              "        document.querySelector('#df-78a2387d-1b28-4dc5-a3e4-41e436074835 button.colab-df-convert');\n",
              "      buttonEl.style.display =\n",
              "        google.colab.kernel.accessAllowed ? 'block' : 'none';\n",
              "\n",
              "      async function convertToInteractive(key) {\n",
              "        const element = document.querySelector('#df-78a2387d-1b28-4dc5-a3e4-41e436074835');\n",
              "        const dataTable =\n",
              "          await google.colab.kernel.invokeFunction('convertToInteractive',\n",
              "                                                    [key], {});\n",
              "        if (!dataTable) return;\n",
              "\n",
              "        const docLinkHtml = 'Like what you see? Visit the ' +\n",
              "          '<a target=\"_blank\" href=https://colab.research.google.com/notebooks/data_table.ipynb>data table notebook</a>'\n",
              "          + ' to learn more about interactive tables.';\n",
              "        element.innerHTML = '';\n",
              "        dataTable['output_type'] = 'display_data';\n",
              "        await google.colab.output.renderOutput(dataTable, element);\n",
              "        const docLink = document.createElement('div');\n",
              "        docLink.innerHTML = docLinkHtml;\n",
              "        element.appendChild(docLink);\n",
              "      }\n",
              "    </script>\n",
              "  </div>\n",
              "\n",
              "\n",
              "<div id=\"df-81c0e4ff-fcc8-4edb-a45d-f91535ef862a\">\n",
              "  <button class=\"colab-df-quickchart\" onclick=\"quickchart('df-81c0e4ff-fcc8-4edb-a45d-f91535ef862a')\"\n",
              "            title=\"Suggest charts\"\n",
              "            style=\"display:none;\">\n",
              "\n",
              "<svg xmlns=\"http://www.w3.org/2000/svg\" height=\"24px\"viewBox=\"0 0 24 24\"\n",
              "     width=\"24px\">\n",
              "    <g>\n",
              "        <path d=\"M19 3H5c-1.1 0-2 .9-2 2v14c0 1.1.9 2 2 2h14c1.1 0 2-.9 2-2V5c0-1.1-.9-2-2-2zM9 17H7v-7h2v7zm4 0h-2V7h2v10zm4 0h-2v-4h2v4z\"/>\n",
              "    </g>\n",
              "</svg>\n",
              "  </button>\n",
              "\n",
              "<style>\n",
              "  .colab-df-quickchart {\n",
              "      --bg-color: #E8F0FE;\n",
              "      --fill-color: #1967D2;\n",
              "      --hover-bg-color: #E2EBFA;\n",
              "      --hover-fill-color: #174EA6;\n",
              "      --disabled-fill-color: #AAA;\n",
              "      --disabled-bg-color: #DDD;\n",
              "  }\n",
              "\n",
              "  [theme=dark] .colab-df-quickchart {\n",
              "      --bg-color: #3B4455;\n",
              "      --fill-color: #D2E3FC;\n",
              "      --hover-bg-color: #434B5C;\n",
              "      --hover-fill-color: #FFFFFF;\n",
              "      --disabled-bg-color: #3B4455;\n",
              "      --disabled-fill-color: #666;\n",
              "  }\n",
              "\n",
              "  .colab-df-quickchart {\n",
              "    background-color: var(--bg-color);\n",
              "    border: none;\n",
              "    border-radius: 50%;\n",
              "    cursor: pointer;\n",
              "    display: none;\n",
              "    fill: var(--fill-color);\n",
              "    height: 32px;\n",
              "    padding: 0;\n",
              "    width: 32px;\n",
              "  }\n",
              "\n",
              "  .colab-df-quickchart:hover {\n",
              "    background-color: var(--hover-bg-color);\n",
              "    box-shadow: 0 1px 2px rgba(60, 64, 67, 0.3), 0 1px 3px 1px rgba(60, 64, 67, 0.15);\n",
              "    fill: var(--button-hover-fill-color);\n",
              "  }\n",
              "\n",
              "  .colab-df-quickchart-complete:disabled,\n",
              "  .colab-df-quickchart-complete:disabled:hover {\n",
              "    background-color: var(--disabled-bg-color);\n",
              "    fill: var(--disabled-fill-color);\n",
              "    box-shadow: none;\n",
              "  }\n",
              "\n",
              "  .colab-df-spinner {\n",
              "    border: 2px solid var(--fill-color);\n",
              "    border-color: transparent;\n",
              "    border-bottom-color: var(--fill-color);\n",
              "    animation:\n",
              "      spin 1s steps(1) infinite;\n",
              "  }\n",
              "\n",
              "  @keyframes spin {\n",
              "    0% {\n",
              "      border-color: transparent;\n",
              "      border-bottom-color: var(--fill-color);\n",
              "      border-left-color: var(--fill-color);\n",
              "    }\n",
              "    20% {\n",
              "      border-color: transparent;\n",
              "      border-left-color: var(--fill-color);\n",
              "      border-top-color: var(--fill-color);\n",
              "    }\n",
              "    30% {\n",
              "      border-color: transparent;\n",
              "      border-left-color: var(--fill-color);\n",
              "      border-top-color: var(--fill-color);\n",
              "      border-right-color: var(--fill-color);\n",
              "    }\n",
              "    40% {\n",
              "      border-color: transparent;\n",
              "      border-right-color: var(--fill-color);\n",
              "      border-top-color: var(--fill-color);\n",
              "    }\n",
              "    60% {\n",
              "      border-color: transparent;\n",
              "      border-right-color: var(--fill-color);\n",
              "    }\n",
              "    80% {\n",
              "      border-color: transparent;\n",
              "      border-right-color: var(--fill-color);\n",
              "      border-bottom-color: var(--fill-color);\n",
              "    }\n",
              "    90% {\n",
              "      border-color: transparent;\n",
              "      border-bottom-color: var(--fill-color);\n",
              "    }\n",
              "  }\n",
              "</style>\n",
              "\n",
              "  <script>\n",
              "    async function quickchart(key) {\n",
              "      const quickchartButtonEl =\n",
              "        document.querySelector('#' + key + ' button');\n",
              "      quickchartButtonEl.disabled = true;  // To prevent multiple clicks.\n",
              "      quickchartButtonEl.classList.add('colab-df-spinner');\n",
              "      try {\n",
              "        const charts = await google.colab.kernel.invokeFunction(\n",
              "            'suggestCharts', [key], {});\n",
              "      } catch (error) {\n",
              "        console.error('Error during call to suggestCharts:', error);\n",
              "      }\n",
              "      quickchartButtonEl.classList.remove('colab-df-spinner');\n",
              "      quickchartButtonEl.classList.add('colab-df-quickchart-complete');\n",
              "    }\n",
              "    (() => {\n",
              "      let quickchartButtonEl =\n",
              "        document.querySelector('#df-81c0e4ff-fcc8-4edb-a45d-f91535ef862a button');\n",
              "      quickchartButtonEl.style.display =\n",
              "        google.colab.kernel.accessAllowed ? 'block' : 'none';\n",
              "    })();\n",
              "  </script>\n",
              "</div>\n",
              "    </div>\n",
              "  </div>\n"
            ],
            "application/vnd.google.colaboratory.intrinsic+json": {
              "type": "dataframe"
            }
          },
          "metadata": {},
          "execution_count": 12
        }
      ]
    },
    {
      "cell_type": "code",
      "source": [
        "del df"
      ],
      "metadata": {
        "id": "zmTkMbzYdYXH"
      },
      "execution_count": null,
      "outputs": []
    },
    {
      "cell_type": "markdown",
      "source": [
        "## CuDF"
      ],
      "metadata": {
        "id": "Zf-AnctUvU0R"
      }
    },
    {
      "cell_type": "code",
      "source": [
        "import cudf\n",
        "%load_ext cudf.pandas"
      ],
      "metadata": {
        "id": "2ytB8iz6b7qb"
      },
      "execution_count": null,
      "outputs": []
    },
    {
      "cell_type": "code",
      "source": [
        "%%time\n",
        "import pandas as pd\n",
        "df = pd.read_csv(\"drive/MyDrive/dummy_dataset.csv\").sample(1_000_000, random_state=77)\n",
        "df[\"coordinate\"] = df[\"coordinate\"].astype(float)"
      ],
      "metadata": {
        "colab": {
          "base_uri": "https://localhost:8080/"
        },
        "id": "nT2bF4v2dvaF",
        "outputId": "613f11e4-263c-4f1c-e9c3-cda9584956db"
      },
      "execution_count": null,
      "outputs": [
        {
          "output_type": "stream",
          "name": "stdout",
          "text": [
            "CPU times: user 1.3 s, sys: 906 ms, total: 2.2 s\n",
            "Wall time: 5.05 s\n"
          ]
        }
      ]
    },
    {
      "cell_type": "code",
      "source": [
        "%%time\n",
        "cols_for_groupping = [\"name\", \"hair_color\", \"accession_month\", \"credit_card_expire\", \"currency\", \"city\"]\n",
        "cols_for_aggregation_num = [\"balance\", \"debt\", \"building_number\", \"credit_card_number\", \"credit_card_security_code\", \"coordinate\"]\n",
        "cols_for_aggregation_cat = [\"country\", \"street_name\", \"credit_card_expire\"]\n",
        "for col in tqdm(cols_for_groupping):\n",
        "    aggs = {num: [\"mean\", \"median\", \"std\"] for num in cols_for_aggregation_num}\n",
        "    #aggs.update({cat: pd.Series.mode for cat in cols_for_aggregation_cat})\n",
        "    temp = df.groupby(by=col).agg(aggs)\n",
        "    del temp"
      ],
      "metadata": {
        "colab": {
          "base_uri": "https://localhost:8080/",
          "height": 83,
          "referenced_widgets": [
            "688e27db23e143abad2c9c9051219ae1",
            "f8edc21deb934fd6bef15977feba54ee",
            "bc9f1e855fab4921a853924a64ab1a12",
            "f8dcf518f0084e94a63e7517bffd6ff9",
            "53ef98dbc3dc418da06e13bc9ab8848e",
            "05f422335bd946168a4823f54fb58b7d",
            "168be84eeb224142adb338eb93d6eeef",
            "40d868acd72348f6ab834232b3b7821e",
            "5c2f42e7a3d44d8a874bbcfb7ecdffd9",
            "7c169438d9ce441081c86c3071d1ff97",
            "58de36068021418e85ef2be10a2ba315"
          ]
        },
        "id": "39aSQj5Fc_r0",
        "outputId": "603c7738-d0bb-42bc-d3ba-d68d86ffb87e"
      },
      "execution_count": null,
      "outputs": [
        {
          "output_type": "display_data",
          "data": {
            "text/plain": [
              "  0%|          | 0/6 [00:00<?, ?it/s]"
            ],
            "application/vnd.jupyter.widget-view+json": {
              "version_major": 2,
              "version_minor": 0,
              "model_id": "688e27db23e143abad2c9c9051219ae1"
            }
          },
          "metadata": {}
        },
        {
          "output_type": "stream",
          "name": "stdout",
          "text": [
            "CPU times: user 649 ms, sys: 172 ms, total: 820 ms\n",
            "Wall time: 2.07 s\n"
          ]
        }
      ]
    },
    {
      "cell_type": "code",
      "source": [
        "arr = []\n",
        "for i in range(3):\n",
        "    aggs = {num: [\"mean\", \"median\", \"std\"] for num in cols_for_aggregation_num}\n",
        "    arr.append(df.groupby(by=cols_for_groupping[i], as_index=False)\n",
        "               .agg(aggs).droplevel(level=0, axis=1)\n",
        "               .rename(columns=lambda x: x + f\"_{i}_{random.random()}\" if x != \"\" else cols_for_groupping[i]))"
      ],
      "metadata": {
        "id": "DEbZrACHedfE"
      },
      "execution_count": null,
      "outputs": []
    },
    {
      "cell_type": "code",
      "source": [
        "%%time\n",
        "for i in tqdm(range(3)):\n",
        "    df = df.merge(arr[i], on=cols_for_groupping[i], how=\"left\")"
      ],
      "metadata": {
        "colab": {
          "base_uri": "https://localhost:8080/",
          "height": 83,
          "referenced_widgets": [
            "e57f955a72e44ea49f2f9f61d1130380",
            "407420eafc714f7eae123ad751b94c78",
            "d58358935ec649f0a108ffe5bc285946",
            "0d8f7f77f06b4399a1836ff976811127",
            "4dc68b9045714841bc7f976e26bb8033",
            "b6fa50ceaa404477b0aab2975745c93e",
            "85a4a8d62bda4aeaa986ca0b6c97796c",
            "a4754a5177ad48e59c725b33c46d13a1",
            "95a80bb2390846e495301b929121eb20",
            "1b3d70b108eb41528d91af7b95592af4",
            "601bdc25eda3434297ea26e94fad69d3"
          ]
        },
        "id": "fAo2vhxugNOH",
        "outputId": "9316f2fe-6690-4df9-bd1d-8841154810c6"
      },
      "execution_count": null,
      "outputs": [
        {
          "output_type": "display_data",
          "data": {
            "text/plain": [
              "  0%|          | 0/3 [00:00<?, ?it/s]"
            ],
            "application/vnd.jupyter.widget-view+json": {
              "version_major": 2,
              "version_minor": 0,
              "model_id": "e57f955a72e44ea49f2f9f61d1130380"
            }
          },
          "metadata": {}
        },
        {
          "output_type": "stream",
          "name": "stdout",
          "text": [
            "CPU times: user 186 ms, sys: 59.1 ms, total: 245 ms\n",
            "Wall time: 308 ms\n"
          ]
        }
      ]
    },
    {
      "cell_type": "code",
      "source": [
        "num_cols = df.select_dtypes(include='number').columns\n",
        "cat_cols = df.select_dtypes(include=\"object\").columns"
      ],
      "metadata": {
        "id": "ErSBFv4ygezI"
      },
      "execution_count": null,
      "outputs": []
    },
    {
      "cell_type": "code",
      "source": [
        "%%time\n",
        "df[[col + \"_sqrt\" for col in num_cols]] = df[num_cols].pow(0.5)\n",
        "df[[col + \"_add\" for col in num_cols]] = df[num_cols] + 5\n",
        "df.assign(**{col + \"_tail\": df[col].str[-3:] for col in cat_cols})"
      ],
      "metadata": {
        "colab": {
          "base_uri": "https://localhost:8080/",
          "height": 554
        },
        "id": "ZNWEYchUgQ1e",
        "outputId": "7c159d10-973c-4f75-e46f-395a89563581"
      },
      "execution_count": null,
      "outputs": [
        {
          "output_type": "stream",
          "name": "stdout",
          "text": [
            "CPU times: user 15.7 s, sys: 7.7 s, total: 23.4 s\n",
            "Wall time: 22.8 s\n"
          ]
        },
        {
          "output_type": "error",
          "ename": "KeyboardInterrupt",
          "evalue": "",
          "traceback": [
            "\u001b[0;31m---------------------------------------------------------------------------\u001b[0m",
            "\u001b[0;31mKeyError\u001b[0m                                  Traceback (most recent call last)",
            "\u001b[0;32m/usr/local/lib/python3.10/dist-packages/cudf/utils/utils.py\u001b[0m in \u001b[0;36m__getattr__\u001b[0;34m(self, key)\u001b[0m\n\u001b[1;32m    228\u001b[0m         \u001b[0;32mtry\u001b[0m\u001b[0;34m:\u001b[0m\u001b[0;34m\u001b[0m\u001b[0;34m\u001b[0m\u001b[0m\n\u001b[0;32m--> 229\u001b[0;31m             \u001b[0;32mreturn\u001b[0m \u001b[0mself\u001b[0m\u001b[0;34m[\u001b[0m\u001b[0mkey\u001b[0m\u001b[0;34m]\u001b[0m\u001b[0;34m\u001b[0m\u001b[0;34m\u001b[0m\u001b[0m\n\u001b[0m\u001b[1;32m    230\u001b[0m         \u001b[0;32mexcept\u001b[0m \u001b[0mKeyError\u001b[0m\u001b[0;34m:\u001b[0m\u001b[0;34m\u001b[0m\u001b[0;34m\u001b[0m\u001b[0m\n",
            "\u001b[0;32m/usr/local/lib/python3.10/dist-packages/cudf/utils/performance_tracking.py\u001b[0m in \u001b[0;36mwrapper\u001b[0;34m(*args, **kwargs)\u001b[0m\n\u001b[1;32m     50\u001b[0m                 )\n\u001b[0;32m---> 51\u001b[0;31m             \u001b[0;32mreturn\u001b[0m \u001b[0mfunc\u001b[0m\u001b[0;34m(\u001b[0m\u001b[0;34m*\u001b[0m\u001b[0margs\u001b[0m\u001b[0;34m,\u001b[0m \u001b[0;34m**\u001b[0m\u001b[0mkwargs\u001b[0m\u001b[0;34m)\u001b[0m\u001b[0;34m\u001b[0m\u001b[0;34m\u001b[0m\u001b[0m\n\u001b[0m\u001b[1;32m     52\u001b[0m \u001b[0;34m\u001b[0m\u001b[0m\n",
            "\u001b[0;32m/usr/local/lib/python3.10/dist-packages/cudf/core/dataframe.py\u001b[0m in \u001b[0;36m__getitem__\u001b[0;34m(self, arg)\u001b[0m\n\u001b[1;32m   1341\u001b[0m         \u001b[0;32mif\u001b[0m \u001b[0m_is_scalar_or_zero_d_array\u001b[0m\u001b[0;34m(\u001b[0m\u001b[0marg\u001b[0m\u001b[0;34m)\u001b[0m \u001b[0;32mor\u001b[0m \u001b[0misinstance\u001b[0m\u001b[0;34m(\u001b[0m\u001b[0marg\u001b[0m\u001b[0;34m,\u001b[0m \u001b[0mtuple\u001b[0m\u001b[0;34m)\u001b[0m\u001b[0;34m:\u001b[0m\u001b[0;34m\u001b[0m\u001b[0;34m\u001b[0m\u001b[0m\n\u001b[0;32m-> 1342\u001b[0;31m             \u001b[0mout\u001b[0m \u001b[0;34m=\u001b[0m \u001b[0mself\u001b[0m\u001b[0;34m.\u001b[0m\u001b[0m_get_columns_by_label\u001b[0m\u001b[0;34m(\u001b[0m\u001b[0marg\u001b[0m\u001b[0;34m)\u001b[0m\u001b[0;34m\u001b[0m\u001b[0;34m\u001b[0m\u001b[0m\n\u001b[0m\u001b[1;32m   1343\u001b[0m             \u001b[0;32mif\u001b[0m \u001b[0mis_scalar\u001b[0m\u001b[0;34m(\u001b[0m\u001b[0marg\u001b[0m\u001b[0;34m)\u001b[0m\u001b[0;34m:\u001b[0m\u001b[0;34m\u001b[0m\u001b[0;34m\u001b[0m\u001b[0m\n",
            "\u001b[0;32m/usr/local/lib/python3.10/dist-packages/cudf/utils/performance_tracking.py\u001b[0m in \u001b[0;36mwrapper\u001b[0;34m(*args, **kwargs)\u001b[0m\n\u001b[1;32m     50\u001b[0m                 )\n\u001b[0;32m---> 51\u001b[0;31m             \u001b[0;32mreturn\u001b[0m \u001b[0mfunc\u001b[0m\u001b[0;34m(\u001b[0m\u001b[0;34m*\u001b[0m\u001b[0margs\u001b[0m\u001b[0;34m,\u001b[0m \u001b[0;34m**\u001b[0m\u001b[0mkwargs\u001b[0m\u001b[0;34m)\u001b[0m\u001b[0;34m\u001b[0m\u001b[0;34m\u001b[0m\u001b[0m\n\u001b[0m\u001b[1;32m     52\u001b[0m \u001b[0;34m\u001b[0m\u001b[0m\n",
            "\u001b[0;32m/usr/local/lib/python3.10/dist-packages/cudf/core/frame.py\u001b[0m in \u001b[0;36m_get_columns_by_label\u001b[0;34m(self, labels)\u001b[0m\n\u001b[1;32m    356\u001b[0m         \"\"\"\n\u001b[0;32m--> 357\u001b[0;31m         \u001b[0;32mreturn\u001b[0m \u001b[0mself\u001b[0m\u001b[0;34m.\u001b[0m\u001b[0m_from_data_like_self\u001b[0m\u001b[0;34m(\u001b[0m\u001b[0mself\u001b[0m\u001b[0;34m.\u001b[0m\u001b[0m_data\u001b[0m\u001b[0;34m.\u001b[0m\u001b[0mselect_by_label\u001b[0m\u001b[0;34m(\u001b[0m\u001b[0mlabels\u001b[0m\u001b[0;34m)\u001b[0m\u001b[0;34m)\u001b[0m\u001b[0;34m\u001b[0m\u001b[0;34m\u001b[0m\u001b[0m\n\u001b[0m\u001b[1;32m    358\u001b[0m \u001b[0;34m\u001b[0m\u001b[0m\n",
            "\u001b[0;32m/usr/local/lib/python3.10/dist-packages/cudf/core/column_accessor.py\u001b[0m in \u001b[0;36mselect_by_label\u001b[0;34m(self, key)\u001b[0m\n\u001b[1;32m    393\u001b[0m                     \u001b[0;32mreturn\u001b[0m \u001b[0mself\u001b[0m\u001b[0;34m.\u001b[0m\u001b[0m_select_by_label_with_wildcard\u001b[0m\u001b[0;34m(\u001b[0m\u001b[0mkey\u001b[0m\u001b[0;34m)\u001b[0m\u001b[0;34m\u001b[0m\u001b[0;34m\u001b[0m\u001b[0m\n\u001b[0;32m--> 394\u001b[0;31m             \u001b[0;32mreturn\u001b[0m \u001b[0mself\u001b[0m\u001b[0;34m.\u001b[0m\u001b[0m_select_by_label_grouped\u001b[0m\u001b[0;34m(\u001b[0m\u001b[0mkey\u001b[0m\u001b[0;34m)\u001b[0m\u001b[0;34m\u001b[0m\u001b[0;34m\u001b[0m\u001b[0m\n\u001b[0m\u001b[1;32m    395\u001b[0m \u001b[0;34m\u001b[0m\u001b[0m\n",
            "\u001b[0;32m/usr/local/lib/python3.10/dist-packages/cudf/core/column_accessor.py\u001b[0m in \u001b[0;36m_select_by_label_grouped\u001b[0;34m(self, key)\u001b[0m\n\u001b[1;32m    541\u001b[0m     \u001b[0;32mdef\u001b[0m \u001b[0m_select_by_label_grouped\u001b[0m\u001b[0;34m(\u001b[0m\u001b[0mself\u001b[0m\u001b[0;34m,\u001b[0m \u001b[0mkey\u001b[0m\u001b[0;34m:\u001b[0m \u001b[0mAny\u001b[0m\u001b[0;34m)\u001b[0m \u001b[0;34m->\u001b[0m \u001b[0mColumnAccessor\u001b[0m\u001b[0;34m:\u001b[0m\u001b[0;34m\u001b[0m\u001b[0;34m\u001b[0m\u001b[0m\n\u001b[0;32m--> 542\u001b[0;31m         \u001b[0mresult\u001b[0m \u001b[0;34m=\u001b[0m \u001b[0mself\u001b[0m\u001b[0;34m.\u001b[0m\u001b[0m_grouped_data\u001b[0m\u001b[0;34m[\u001b[0m\u001b[0mkey\u001b[0m\u001b[0;34m]\u001b[0m\u001b[0;34m\u001b[0m\u001b[0;34m\u001b[0m\u001b[0m\n\u001b[0m\u001b[1;32m    543\u001b[0m         \u001b[0;32mif\u001b[0m \u001b[0misinstance\u001b[0m\u001b[0;34m(\u001b[0m\u001b[0mresult\u001b[0m\u001b[0;34m,\u001b[0m \u001b[0mcolumn\u001b[0m\u001b[0;34m.\u001b[0m\u001b[0mColumnBase\u001b[0m\u001b[0;34m)\u001b[0m\u001b[0;34m:\u001b[0m\u001b[0;34m\u001b[0m\u001b[0;34m\u001b[0m\u001b[0m\n",
            "\u001b[0;31mKeyError\u001b[0m: '_repr_jpeg_'",
            "\nDuring handling of the above exception, another exception occurred:\n",
            "\u001b[0;31mAttributeError\u001b[0m                            Traceback (most recent call last)",
            "\u001b[0;32m/usr/local/lib/python3.10/dist-packages/cudf/pandas/fast_slow_proxy.py\u001b[0m in \u001b[0;36m_fast_slow_function_call\u001b[0;34m(func, *args, **kwargs)\u001b[0m\n\u001b[1;32m    896\u001b[0m             \u001b[0mfast_args\u001b[0m\u001b[0;34m,\u001b[0m \u001b[0mfast_kwargs\u001b[0m \u001b[0;34m=\u001b[0m \u001b[0m_fast_arg\u001b[0m\u001b[0;34m(\u001b[0m\u001b[0margs\u001b[0m\u001b[0;34m)\u001b[0m\u001b[0;34m,\u001b[0m \u001b[0m_fast_arg\u001b[0m\u001b[0;34m(\u001b[0m\u001b[0mkwargs\u001b[0m\u001b[0;34m)\u001b[0m\u001b[0;34m\u001b[0m\u001b[0;34m\u001b[0m\u001b[0m\n\u001b[0;32m--> 897\u001b[0;31m             \u001b[0mresult\u001b[0m \u001b[0;34m=\u001b[0m \u001b[0mfunc\u001b[0m\u001b[0;34m(\u001b[0m\u001b[0;34m*\u001b[0m\u001b[0mfast_args\u001b[0m\u001b[0;34m,\u001b[0m \u001b[0;34m**\u001b[0m\u001b[0mfast_kwargs\u001b[0m\u001b[0;34m)\u001b[0m\u001b[0;34m\u001b[0m\u001b[0;34m\u001b[0m\u001b[0m\n\u001b[0m\u001b[1;32m    898\u001b[0m             \u001b[0;32mif\u001b[0m \u001b[0mresult\u001b[0m \u001b[0;32mis\u001b[0m \u001b[0mNotImplemented\u001b[0m\u001b[0;34m:\u001b[0m\u001b[0;34m\u001b[0m\u001b[0;34m\u001b[0m\u001b[0m\n",
            "\u001b[0;32m/usr/local/lib/python3.10/dist-packages/cudf/pandas/fast_slow_proxy.py\u001b[0m in \u001b[0;36mcall_operator\u001b[0;34m(fn, args, kwargs)\u001b[0m\n\u001b[1;32m     24\u001b[0m \u001b[0;32mdef\u001b[0m \u001b[0mcall_operator\u001b[0m\u001b[0;34m(\u001b[0m\u001b[0mfn\u001b[0m\u001b[0;34m,\u001b[0m \u001b[0margs\u001b[0m\u001b[0;34m,\u001b[0m \u001b[0mkwargs\u001b[0m\u001b[0;34m)\u001b[0m\u001b[0;34m:\u001b[0m\u001b[0;34m\u001b[0m\u001b[0;34m\u001b[0m\u001b[0m\n\u001b[0;32m---> 25\u001b[0;31m     \u001b[0;32mreturn\u001b[0m \u001b[0mfn\u001b[0m\u001b[0;34m(\u001b[0m\u001b[0;34m*\u001b[0m\u001b[0margs\u001b[0m\u001b[0;34m,\u001b[0m \u001b[0;34m**\u001b[0m\u001b[0mkwargs\u001b[0m\u001b[0;34m)\u001b[0m\u001b[0;34m\u001b[0m\u001b[0;34m\u001b[0m\u001b[0m\n\u001b[0m\u001b[1;32m     26\u001b[0m \u001b[0;34m\u001b[0m\u001b[0m\n",
            "\u001b[0;32m/usr/local/lib/python3.10/dist-packages/cudf/utils/utils.py\u001b[0m in \u001b[0;36m__getattr__\u001b[0;34m(self, key)\u001b[0m\n\u001b[1;32m    230\u001b[0m         \u001b[0;32mexcept\u001b[0m \u001b[0mKeyError\u001b[0m\u001b[0;34m:\u001b[0m\u001b[0;34m\u001b[0m\u001b[0;34m\u001b[0m\u001b[0m\n\u001b[0;32m--> 231\u001b[0;31m             raise AttributeError(\n\u001b[0m\u001b[1;32m    232\u001b[0m                 \u001b[0;34mf\"{type(self).__name__} object has no attribute {key}\"\u001b[0m\u001b[0;34m\u001b[0m\u001b[0;34m\u001b[0m\u001b[0m\n",
            "\u001b[0;31mAttributeError\u001b[0m: DataFrame object has no attribute _repr_jpeg_",
            "\nDuring handling of the above exception, another exception occurred:\n",
            "\u001b[0;31mKeyboardInterrupt\u001b[0m                         Traceback (most recent call last)",
            "\u001b[0;32m<ipython-input-9-400231112f01>\u001b[0m in \u001b[0;36m<cell line: 1>\u001b[0;34m()\u001b[0m\n\u001b[0;32m----> 1\u001b[0;31m \u001b[0mget_ipython\u001b[0m\u001b[0;34m(\u001b[0m\u001b[0;34m)\u001b[0m\u001b[0;34m.\u001b[0m\u001b[0mrun_cell_magic\u001b[0m\u001b[0;34m(\u001b[0m\u001b[0;34m'time'\u001b[0m\u001b[0;34m,\u001b[0m \u001b[0;34m''\u001b[0m\u001b[0;34m,\u001b[0m \u001b[0;34m'df[[col + \"_sqrt\" for col in num_cols]] = df[num_cols].pow(0.5)\\ndf[[col + \"_add\" for col in num_cols]] = df[num_cols] + 5\\ndf.assign(**{col + \"_tail\": df[col].str[-3:] for col in cat_cols})\\n'\u001b[0m\u001b[0;34m)\u001b[0m\u001b[0;34m\u001b[0m\u001b[0;34m\u001b[0m\u001b[0m\n\u001b[0m",
            "\u001b[0;32m/usr/local/lib/python3.10/dist-packages/IPython/core/displayhook.py\u001b[0m in \u001b[0;36m__call__\u001b[0;34m(self, result)\u001b[0m\n\u001b[1;32m    260\u001b[0m             \u001b[0mself\u001b[0m\u001b[0;34m.\u001b[0m\u001b[0mstart_displayhook\u001b[0m\u001b[0;34m(\u001b[0m\u001b[0;34m)\u001b[0m\u001b[0;34m\u001b[0m\u001b[0;34m\u001b[0m\u001b[0m\n\u001b[1;32m    261\u001b[0m             \u001b[0mself\u001b[0m\u001b[0;34m.\u001b[0m\u001b[0mwrite_output_prompt\u001b[0m\u001b[0;34m(\u001b[0m\u001b[0;34m)\u001b[0m\u001b[0;34m\u001b[0m\u001b[0;34m\u001b[0m\u001b[0m\n\u001b[0;32m--> 262\u001b[0;31m             \u001b[0mformat_dict\u001b[0m\u001b[0;34m,\u001b[0m \u001b[0mmd_dict\u001b[0m \u001b[0;34m=\u001b[0m \u001b[0mself\u001b[0m\u001b[0;34m.\u001b[0m\u001b[0mcompute_format_data\u001b[0m\u001b[0;34m(\u001b[0m\u001b[0mresult\u001b[0m\u001b[0;34m)\u001b[0m\u001b[0;34m\u001b[0m\u001b[0;34m\u001b[0m\u001b[0m\n\u001b[0m\u001b[1;32m    263\u001b[0m             \u001b[0mself\u001b[0m\u001b[0;34m.\u001b[0m\u001b[0mupdate_user_ns\u001b[0m\u001b[0;34m(\u001b[0m\u001b[0mresult\u001b[0m\u001b[0;34m)\u001b[0m\u001b[0;34m\u001b[0m\u001b[0;34m\u001b[0m\u001b[0m\n\u001b[1;32m    264\u001b[0m             \u001b[0mself\u001b[0m\u001b[0;34m.\u001b[0m\u001b[0mfill_exec_result\u001b[0m\u001b[0;34m(\u001b[0m\u001b[0mresult\u001b[0m\u001b[0;34m)\u001b[0m\u001b[0;34m\u001b[0m\u001b[0;34m\u001b[0m\u001b[0m\n",
            "\u001b[0;32m/usr/local/lib/python3.10/dist-packages/IPython/core/displayhook.py\u001b[0m in \u001b[0;36mcompute_format_data\u001b[0;34m(self, result)\u001b[0m\n\u001b[1;32m    149\u001b[0m \u001b[0;34m\u001b[0m\u001b[0m\n\u001b[1;32m    150\u001b[0m         \"\"\"\n\u001b[0;32m--> 151\u001b[0;31m         \u001b[0;32mreturn\u001b[0m \u001b[0mself\u001b[0m\u001b[0;34m.\u001b[0m\u001b[0mshell\u001b[0m\u001b[0;34m.\u001b[0m\u001b[0mdisplay_formatter\u001b[0m\u001b[0;34m.\u001b[0m\u001b[0mformat\u001b[0m\u001b[0;34m(\u001b[0m\u001b[0mresult\u001b[0m\u001b[0;34m)\u001b[0m\u001b[0;34m\u001b[0m\u001b[0;34m\u001b[0m\u001b[0m\n\u001b[0m\u001b[1;32m    152\u001b[0m \u001b[0;34m\u001b[0m\u001b[0m\n\u001b[1;32m    153\u001b[0m     \u001b[0;31m# This can be set to True by the write_output_prompt method in a subclass\u001b[0m\u001b[0;34m\u001b[0m\u001b[0;34m\u001b[0m\u001b[0m\n",
            "\u001b[0;32m/usr/local/lib/python3.10/dist-packages/IPython/core/formatters.py\u001b[0m in \u001b[0;36mformat\u001b[0;34m(self, obj, include, exclude)\u001b[0m\n\u001b[1;32m    178\u001b[0m             \u001b[0mmd\u001b[0m \u001b[0;34m=\u001b[0m \u001b[0;32mNone\u001b[0m\u001b[0;34m\u001b[0m\u001b[0;34m\u001b[0m\u001b[0m\n\u001b[1;32m    179\u001b[0m             \u001b[0;32mtry\u001b[0m\u001b[0;34m:\u001b[0m\u001b[0;34m\u001b[0m\u001b[0;34m\u001b[0m\u001b[0m\n\u001b[0;32m--> 180\u001b[0;31m                 \u001b[0mdata\u001b[0m \u001b[0;34m=\u001b[0m \u001b[0mformatter\u001b[0m\u001b[0;34m(\u001b[0m\u001b[0mobj\u001b[0m\u001b[0;34m)\u001b[0m\u001b[0;34m\u001b[0m\u001b[0;34m\u001b[0m\u001b[0m\n\u001b[0m\u001b[1;32m    181\u001b[0m             \u001b[0;32mexcept\u001b[0m\u001b[0;34m:\u001b[0m\u001b[0;34m\u001b[0m\u001b[0;34m\u001b[0m\u001b[0m\n\u001b[1;32m    182\u001b[0m                 \u001b[0;31m# FIXME: log the exception\u001b[0m\u001b[0;34m\u001b[0m\u001b[0;34m\u001b[0m\u001b[0m\n",
            "\u001b[0;32m<decorator-gen-2>\u001b[0m in \u001b[0;36m__call__\u001b[0;34m(self, obj)\u001b[0m\n",
            "\u001b[0;32m/usr/local/lib/python3.10/dist-packages/IPython/core/formatters.py\u001b[0m in \u001b[0;36mcatch_format_error\u001b[0;34m(method, self, *args, **kwargs)\u001b[0m\n\u001b[1;32m    222\u001b[0m     \u001b[0;34m\"\"\"show traceback on failed format call\"\"\"\u001b[0m\u001b[0;34m\u001b[0m\u001b[0;34m\u001b[0m\u001b[0m\n\u001b[1;32m    223\u001b[0m     \u001b[0;32mtry\u001b[0m\u001b[0;34m:\u001b[0m\u001b[0;34m\u001b[0m\u001b[0;34m\u001b[0m\u001b[0m\n\u001b[0;32m--> 224\u001b[0;31m         \u001b[0mr\u001b[0m \u001b[0;34m=\u001b[0m \u001b[0mmethod\u001b[0m\u001b[0;34m(\u001b[0m\u001b[0mself\u001b[0m\u001b[0;34m,\u001b[0m \u001b[0;34m*\u001b[0m\u001b[0margs\u001b[0m\u001b[0;34m,\u001b[0m \u001b[0;34m**\u001b[0m\u001b[0mkwargs\u001b[0m\u001b[0;34m)\u001b[0m\u001b[0;34m\u001b[0m\u001b[0;34m\u001b[0m\u001b[0m\n\u001b[0m\u001b[1;32m    225\u001b[0m     \u001b[0;32mexcept\u001b[0m \u001b[0mNotImplementedError\u001b[0m\u001b[0;34m:\u001b[0m\u001b[0;34m\u001b[0m\u001b[0;34m\u001b[0m\u001b[0m\n\u001b[1;32m    226\u001b[0m         \u001b[0;31m# don't warn on NotImplementedErrors\u001b[0m\u001b[0;34m\u001b[0m\u001b[0;34m\u001b[0m\u001b[0m\n",
            "\u001b[0;32m/usr/local/lib/python3.10/dist-packages/IPython/core/formatters.py\u001b[0m in \u001b[0;36m__call__\u001b[0;34m(self, obj)\u001b[0m\n\u001b[1;32m    341\u001b[0m                 \u001b[0;32mreturn\u001b[0m \u001b[0mprinter\u001b[0m\u001b[0;34m(\u001b[0m\u001b[0mobj\u001b[0m\u001b[0;34m)\u001b[0m\u001b[0;34m\u001b[0m\u001b[0;34m\u001b[0m\u001b[0m\n\u001b[1;32m    342\u001b[0m             \u001b[0;31m# Finally look for special method names\u001b[0m\u001b[0;34m\u001b[0m\u001b[0;34m\u001b[0m\u001b[0m\n\u001b[0;32m--> 343\u001b[0;31m             \u001b[0mmethod\u001b[0m \u001b[0;34m=\u001b[0m \u001b[0mget_real_method\u001b[0m\u001b[0;34m(\u001b[0m\u001b[0mobj\u001b[0m\u001b[0;34m,\u001b[0m \u001b[0mself\u001b[0m\u001b[0;34m.\u001b[0m\u001b[0mprint_method\u001b[0m\u001b[0;34m)\u001b[0m\u001b[0;34m\u001b[0m\u001b[0;34m\u001b[0m\u001b[0m\n\u001b[0m\u001b[1;32m    344\u001b[0m             \u001b[0;32mif\u001b[0m \u001b[0mmethod\u001b[0m \u001b[0;32mis\u001b[0m \u001b[0;32mnot\u001b[0m \u001b[0;32mNone\u001b[0m\u001b[0;34m:\u001b[0m\u001b[0;34m\u001b[0m\u001b[0;34m\u001b[0m\u001b[0m\n\u001b[1;32m    345\u001b[0m                 \u001b[0;32mreturn\u001b[0m \u001b[0mmethod\u001b[0m\u001b[0;34m(\u001b[0m\u001b[0;34m)\u001b[0m\u001b[0;34m\u001b[0m\u001b[0;34m\u001b[0m\u001b[0m\n",
            "\u001b[0;32m/usr/local/lib/python3.10/dist-packages/IPython/utils/dir2.py\u001b[0m in \u001b[0;36mget_real_method\u001b[0;34m(obj, name)\u001b[0m\n\u001b[1;32m     72\u001b[0m \u001b[0;34m\u001b[0m\u001b[0m\n\u001b[1;32m     73\u001b[0m     \u001b[0;32mtry\u001b[0m\u001b[0;34m:\u001b[0m\u001b[0;34m\u001b[0m\u001b[0;34m\u001b[0m\u001b[0m\n\u001b[0;32m---> 74\u001b[0;31m         \u001b[0mm\u001b[0m \u001b[0;34m=\u001b[0m \u001b[0mgetattr\u001b[0m\u001b[0;34m(\u001b[0m\u001b[0mobj\u001b[0m\u001b[0;34m,\u001b[0m \u001b[0mname\u001b[0m\u001b[0;34m,\u001b[0m \u001b[0;32mNone\u001b[0m\u001b[0;34m)\u001b[0m\u001b[0;34m\u001b[0m\u001b[0;34m\u001b[0m\u001b[0m\n\u001b[0m\u001b[1;32m     75\u001b[0m     \u001b[0;32mexcept\u001b[0m \u001b[0mException\u001b[0m\u001b[0;34m:\u001b[0m\u001b[0;34m\u001b[0m\u001b[0;34m\u001b[0m\u001b[0m\n\u001b[1;32m     76\u001b[0m         \u001b[0;32mreturn\u001b[0m \u001b[0;32mNone\u001b[0m\u001b[0;34m\u001b[0m\u001b[0;34m\u001b[0m\u001b[0m\n",
            "\u001b[0;32m/usr/local/lib/python3.10/dist-packages/cudf/pandas/fast_slow_proxy.py\u001b[0m in \u001b[0;36m__call__\u001b[0;34m(self, *args, **kwargs)\u001b[0m\n\u001b[1;32m    684\u001b[0m \u001b[0;34m\u001b[0m\u001b[0m\n\u001b[1;32m    685\u001b[0m     \u001b[0;32mdef\u001b[0m \u001b[0m__call__\u001b[0m\u001b[0;34m(\u001b[0m\u001b[0mself\u001b[0m\u001b[0;34m,\u001b[0m \u001b[0;34m*\u001b[0m\u001b[0margs\u001b[0m\u001b[0;34m,\u001b[0m \u001b[0;34m**\u001b[0m\u001b[0mkwargs\u001b[0m\u001b[0;34m)\u001b[0m \u001b[0;34m->\u001b[0m \u001b[0mAny\u001b[0m\u001b[0;34m:\u001b[0m\u001b[0;34m\u001b[0m\u001b[0;34m\u001b[0m\u001b[0m\n\u001b[0;32m--> 686\u001b[0;31m         result, _ = _fast_slow_function_call(\n\u001b[0m\u001b[1;32m    687\u001b[0m             \u001b[0;31m# We cannot directly call self here because we need it to be\u001b[0m\u001b[0;34m\u001b[0m\u001b[0;34m\u001b[0m\u001b[0m\n\u001b[1;32m    688\u001b[0m             \u001b[0;31m# converted into either the fast or slow object (by\u001b[0m\u001b[0;34m\u001b[0m\u001b[0;34m\u001b[0m\u001b[0m\n",
            "\u001b[0;32m/usr/local/lib/python3.10/dist-packages/cudf/pandas/fast_slow_proxy.py\u001b[0m in \u001b[0;36m_fast_slow_function_call\u001b[0;34m(func, *args, **kwargs)\u001b[0m\n\u001b[1;32m    937\u001b[0m             \u001b[0mdomain\u001b[0m\u001b[0;34m=\u001b[0m\u001b[0;34m\"cudf_pandas\"\u001b[0m\u001b[0;34m,\u001b[0m\u001b[0;34m\u001b[0m\u001b[0;34m\u001b[0m\u001b[0m\n\u001b[1;32m    938\u001b[0m         ):\n\u001b[0;32m--> 939\u001b[0;31m             \u001b[0mslow_args\u001b[0m\u001b[0;34m,\u001b[0m \u001b[0mslow_kwargs\u001b[0m \u001b[0;34m=\u001b[0m \u001b[0m_slow_arg\u001b[0m\u001b[0;34m(\u001b[0m\u001b[0margs\u001b[0m\u001b[0;34m)\u001b[0m\u001b[0;34m,\u001b[0m \u001b[0m_slow_arg\u001b[0m\u001b[0;34m(\u001b[0m\u001b[0mkwargs\u001b[0m\u001b[0;34m)\u001b[0m\u001b[0;34m\u001b[0m\u001b[0;34m\u001b[0m\u001b[0m\n\u001b[0m\u001b[1;32m    940\u001b[0m             \u001b[0;32mwith\u001b[0m \u001b[0mdisable_module_accelerator\u001b[0m\u001b[0;34m(\u001b[0m\u001b[0;34m)\u001b[0m\u001b[0;34m:\u001b[0m\u001b[0;34m\u001b[0m\u001b[0;34m\u001b[0m\u001b[0m\n\u001b[1;32m    941\u001b[0m                 \u001b[0mresult\u001b[0m \u001b[0;34m=\u001b[0m \u001b[0mfunc\u001b[0m\u001b[0;34m(\u001b[0m\u001b[0;34m*\u001b[0m\u001b[0mslow_args\u001b[0m\u001b[0;34m,\u001b[0m \u001b[0;34m**\u001b[0m\u001b[0mslow_kwargs\u001b[0m\u001b[0;34m)\u001b[0m\u001b[0;34m\u001b[0m\u001b[0;34m\u001b[0m\u001b[0m\n",
            "\u001b[0;32m/usr/local/lib/python3.10/dist-packages/cudf/pandas/fast_slow_proxy.py\u001b[0m in \u001b[0;36m_slow_arg\u001b[0;34m(arg)\u001b[0m\n\u001b[1;32m   1052\u001b[0m     \"\"\"\n\u001b[1;32m   1053\u001b[0m     \u001b[0mseen\u001b[0m\u001b[0;34m:\u001b[0m \u001b[0mset\u001b[0m\u001b[0;34m[\u001b[0m\u001b[0mint\u001b[0m\u001b[0;34m]\u001b[0m \u001b[0;34m=\u001b[0m \u001b[0mset\u001b[0m\u001b[0;34m(\u001b[0m\u001b[0;34m)\u001b[0m\u001b[0;34m\u001b[0m\u001b[0;34m\u001b[0m\u001b[0m\n\u001b[0;32m-> 1054\u001b[0;31m     \u001b[0;32mreturn\u001b[0m \u001b[0m_transform_arg\u001b[0m\u001b[0;34m(\u001b[0m\u001b[0marg\u001b[0m\u001b[0;34m,\u001b[0m \u001b[0;34m\"_fsproxy_slow\"\u001b[0m\u001b[0;34m,\u001b[0m \u001b[0mseen\u001b[0m\u001b[0;34m)\u001b[0m\u001b[0;34m\u001b[0m\u001b[0;34m\u001b[0m\u001b[0m\n\u001b[0m\u001b[1;32m   1055\u001b[0m \u001b[0;34m\u001b[0m\u001b[0m\n\u001b[1;32m   1056\u001b[0m \u001b[0;34m\u001b[0m\u001b[0m\n",
            "\u001b[0;32m/usr/local/lib/python3.10/dist-packages/cudf/pandas/fast_slow_proxy.py\u001b[0m in \u001b[0;36m_transform_arg\u001b[0;34m(arg, attribute_name, seen)\u001b[0m\n\u001b[1;32m    971\u001b[0m         \u001b[0;32mif\u001b[0m \u001b[0mtype\u001b[0m\u001b[0;34m(\u001b[0m\u001b[0marg\u001b[0m\u001b[0;34m)\u001b[0m \u001b[0;32mis\u001b[0m \u001b[0mtuple\u001b[0m\u001b[0;34m:\u001b[0m\u001b[0;34m\u001b[0m\u001b[0;34m\u001b[0m\u001b[0m\n\u001b[1;32m    972\u001b[0m             \u001b[0;31m# Must come first to avoid infinite recursion\u001b[0m\u001b[0;34m\u001b[0m\u001b[0;34m\u001b[0m\u001b[0m\n\u001b[0;32m--> 973\u001b[0;31m             \u001b[0;32mreturn\u001b[0m \u001b[0mtuple\u001b[0m\u001b[0;34m(\u001b[0m\u001b[0m_transform_arg\u001b[0m\u001b[0;34m(\u001b[0m\u001b[0ma\u001b[0m\u001b[0;34m,\u001b[0m \u001b[0mattribute_name\u001b[0m\u001b[0;34m,\u001b[0m \u001b[0mseen\u001b[0m\u001b[0;34m)\u001b[0m \u001b[0;32mfor\u001b[0m \u001b[0ma\u001b[0m \u001b[0;32min\u001b[0m \u001b[0marg\u001b[0m\u001b[0;34m)\u001b[0m\u001b[0;34m\u001b[0m\u001b[0;34m\u001b[0m\u001b[0m\n\u001b[0m\u001b[1;32m    974\u001b[0m         \u001b[0;32melif\u001b[0m \u001b[0mhasattr\u001b[0m\u001b[0;34m(\u001b[0m\u001b[0marg\u001b[0m\u001b[0;34m,\u001b[0m \u001b[0;34m\"__getnewargs_ex__\"\u001b[0m\u001b[0;34m)\u001b[0m\u001b[0;34m:\u001b[0m\u001b[0;34m\u001b[0m\u001b[0;34m\u001b[0m\u001b[0m\n\u001b[1;32m    975\u001b[0m             \u001b[0;31m# Partial implementation of to reconstruct with\u001b[0m\u001b[0;34m\u001b[0m\u001b[0;34m\u001b[0m\u001b[0m\n",
            "\u001b[0;32m/usr/local/lib/python3.10/dist-packages/cudf/pandas/fast_slow_proxy.py\u001b[0m in \u001b[0;36m<genexpr>\u001b[0;34m(.0)\u001b[0m\n\u001b[1;32m    971\u001b[0m         \u001b[0;32mif\u001b[0m \u001b[0mtype\u001b[0m\u001b[0;34m(\u001b[0m\u001b[0marg\u001b[0m\u001b[0;34m)\u001b[0m \u001b[0;32mis\u001b[0m \u001b[0mtuple\u001b[0m\u001b[0;34m:\u001b[0m\u001b[0;34m\u001b[0m\u001b[0;34m\u001b[0m\u001b[0m\n\u001b[1;32m    972\u001b[0m             \u001b[0;31m# Must come first to avoid infinite recursion\u001b[0m\u001b[0;34m\u001b[0m\u001b[0;34m\u001b[0m\u001b[0m\n\u001b[0;32m--> 973\u001b[0;31m             \u001b[0;32mreturn\u001b[0m \u001b[0mtuple\u001b[0m\u001b[0;34m(\u001b[0m\u001b[0m_transform_arg\u001b[0m\u001b[0;34m(\u001b[0m\u001b[0ma\u001b[0m\u001b[0;34m,\u001b[0m \u001b[0mattribute_name\u001b[0m\u001b[0;34m,\u001b[0m \u001b[0mseen\u001b[0m\u001b[0;34m)\u001b[0m \u001b[0;32mfor\u001b[0m \u001b[0ma\u001b[0m \u001b[0;32min\u001b[0m \u001b[0marg\u001b[0m\u001b[0;34m)\u001b[0m\u001b[0;34m\u001b[0m\u001b[0;34m\u001b[0m\u001b[0m\n\u001b[0m\u001b[1;32m    974\u001b[0m         \u001b[0;32melif\u001b[0m \u001b[0mhasattr\u001b[0m\u001b[0;34m(\u001b[0m\u001b[0marg\u001b[0m\u001b[0;34m,\u001b[0m \u001b[0;34m\"__getnewargs_ex__\"\u001b[0m\u001b[0;34m)\u001b[0m\u001b[0;34m:\u001b[0m\u001b[0;34m\u001b[0m\u001b[0;34m\u001b[0m\u001b[0m\n\u001b[1;32m    975\u001b[0m             \u001b[0;31m# Partial implementation of to reconstruct with\u001b[0m\u001b[0;34m\u001b[0m\u001b[0;34m\u001b[0m\u001b[0m\n",
            "\u001b[0;32m/usr/local/lib/python3.10/dist-packages/cudf/pandas/fast_slow_proxy.py\u001b[0m in \u001b[0;36m_transform_arg\u001b[0;34m(arg, attribute_name, seen)\u001b[0m\n\u001b[1;32m    971\u001b[0m         \u001b[0;32mif\u001b[0m \u001b[0mtype\u001b[0m\u001b[0;34m(\u001b[0m\u001b[0marg\u001b[0m\u001b[0;34m)\u001b[0m \u001b[0;32mis\u001b[0m \u001b[0mtuple\u001b[0m\u001b[0;34m:\u001b[0m\u001b[0;34m\u001b[0m\u001b[0;34m\u001b[0m\u001b[0m\n\u001b[1;32m    972\u001b[0m             \u001b[0;31m# Must come first to avoid infinite recursion\u001b[0m\u001b[0;34m\u001b[0m\u001b[0;34m\u001b[0m\u001b[0m\n\u001b[0;32m--> 973\u001b[0;31m             \u001b[0;32mreturn\u001b[0m \u001b[0mtuple\u001b[0m\u001b[0;34m(\u001b[0m\u001b[0m_transform_arg\u001b[0m\u001b[0;34m(\u001b[0m\u001b[0ma\u001b[0m\u001b[0;34m,\u001b[0m \u001b[0mattribute_name\u001b[0m\u001b[0;34m,\u001b[0m \u001b[0mseen\u001b[0m\u001b[0;34m)\u001b[0m \u001b[0;32mfor\u001b[0m \u001b[0ma\u001b[0m \u001b[0;32min\u001b[0m \u001b[0marg\u001b[0m\u001b[0;34m)\u001b[0m\u001b[0;34m\u001b[0m\u001b[0;34m\u001b[0m\u001b[0m\n\u001b[0m\u001b[1;32m    974\u001b[0m         \u001b[0;32melif\u001b[0m \u001b[0mhasattr\u001b[0m\u001b[0;34m(\u001b[0m\u001b[0marg\u001b[0m\u001b[0;34m,\u001b[0m \u001b[0;34m\"__getnewargs_ex__\"\u001b[0m\u001b[0;34m)\u001b[0m\u001b[0;34m:\u001b[0m\u001b[0;34m\u001b[0m\u001b[0;34m\u001b[0m\u001b[0m\n\u001b[1;32m    975\u001b[0m             \u001b[0;31m# Partial implementation of to reconstruct with\u001b[0m\u001b[0;34m\u001b[0m\u001b[0;34m\u001b[0m\u001b[0m\n",
            "\u001b[0;32m/usr/local/lib/python3.10/dist-packages/cudf/pandas/fast_slow_proxy.py\u001b[0m in \u001b[0;36m<genexpr>\u001b[0;34m(.0)\u001b[0m\n\u001b[1;32m    971\u001b[0m         \u001b[0;32mif\u001b[0m \u001b[0mtype\u001b[0m\u001b[0;34m(\u001b[0m\u001b[0marg\u001b[0m\u001b[0;34m)\u001b[0m \u001b[0;32mis\u001b[0m \u001b[0mtuple\u001b[0m\u001b[0;34m:\u001b[0m\u001b[0;34m\u001b[0m\u001b[0;34m\u001b[0m\u001b[0m\n\u001b[1;32m    972\u001b[0m             \u001b[0;31m# Must come first to avoid infinite recursion\u001b[0m\u001b[0;34m\u001b[0m\u001b[0;34m\u001b[0m\u001b[0m\n\u001b[0;32m--> 973\u001b[0;31m             \u001b[0;32mreturn\u001b[0m \u001b[0mtuple\u001b[0m\u001b[0;34m(\u001b[0m\u001b[0m_transform_arg\u001b[0m\u001b[0;34m(\u001b[0m\u001b[0ma\u001b[0m\u001b[0;34m,\u001b[0m \u001b[0mattribute_name\u001b[0m\u001b[0;34m,\u001b[0m \u001b[0mseen\u001b[0m\u001b[0;34m)\u001b[0m \u001b[0;32mfor\u001b[0m \u001b[0ma\u001b[0m \u001b[0;32min\u001b[0m \u001b[0marg\u001b[0m\u001b[0;34m)\u001b[0m\u001b[0;34m\u001b[0m\u001b[0;34m\u001b[0m\u001b[0m\n\u001b[0m\u001b[1;32m    974\u001b[0m         \u001b[0;32melif\u001b[0m \u001b[0mhasattr\u001b[0m\u001b[0;34m(\u001b[0m\u001b[0marg\u001b[0m\u001b[0;34m,\u001b[0m \u001b[0;34m\"__getnewargs_ex__\"\u001b[0m\u001b[0;34m)\u001b[0m\u001b[0;34m:\u001b[0m\u001b[0;34m\u001b[0m\u001b[0;34m\u001b[0m\u001b[0m\n\u001b[1;32m    975\u001b[0m             \u001b[0;31m# Partial implementation of to reconstruct with\u001b[0m\u001b[0;34m\u001b[0m\u001b[0;34m\u001b[0m\u001b[0m\n",
            "\u001b[0;32m/usr/local/lib/python3.10/dist-packages/cudf/pandas/fast_slow_proxy.py\u001b[0m in \u001b[0;36m_transform_arg\u001b[0;34m(arg, attribute_name, seen)\u001b[0m\n\u001b[1;32m    954\u001b[0m \u001b[0;34m\u001b[0m\u001b[0m\n\u001b[1;32m    955\u001b[0m     \u001b[0;32mif\u001b[0m \u001b[0misinstance\u001b[0m\u001b[0;34m(\u001b[0m\u001b[0marg\u001b[0m\u001b[0;34m,\u001b[0m \u001b[0;34m(\u001b[0m\u001b[0m_FastSlowProxy\u001b[0m\u001b[0;34m,\u001b[0m \u001b[0m_FastSlowProxyMeta\u001b[0m\u001b[0;34m,\u001b[0m \u001b[0m_FunctionProxy\u001b[0m\u001b[0;34m)\u001b[0m\u001b[0;34m)\u001b[0m\u001b[0;34m:\u001b[0m\u001b[0;34m\u001b[0m\u001b[0;34m\u001b[0m\u001b[0m\n\u001b[0;32m--> 956\u001b[0;31m         \u001b[0mtyp\u001b[0m \u001b[0;34m=\u001b[0m \u001b[0mgetattr\u001b[0m\u001b[0;34m(\u001b[0m\u001b[0marg\u001b[0m\u001b[0;34m,\u001b[0m \u001b[0mattribute_name\u001b[0m\u001b[0;34m)\u001b[0m\u001b[0;34m\u001b[0m\u001b[0;34m\u001b[0m\u001b[0m\n\u001b[0m\u001b[1;32m    957\u001b[0m         \u001b[0;32mif\u001b[0m \u001b[0mtyp\u001b[0m \u001b[0;32mis\u001b[0m \u001b[0m_Unusable\u001b[0m\u001b[0;34m:\u001b[0m\u001b[0;34m\u001b[0m\u001b[0;34m\u001b[0m\u001b[0m\n\u001b[1;32m    958\u001b[0m             \u001b[0;32mraise\u001b[0m \u001b[0mException\u001b[0m\u001b[0;34m(\u001b[0m\u001b[0;34m\"Cannot transform _Unusable\"\u001b[0m\u001b[0;34m)\u001b[0m\u001b[0;34m\u001b[0m\u001b[0;34m\u001b[0m\u001b[0m\n",
            "\u001b[0;32m/usr/local/lib/python3.10/dist-packages/cudf/pandas/fast_slow_proxy.py\u001b[0m in \u001b[0;36m_fsproxy_slow\u001b[0;34m(self)\u001b[0m\n\u001b[1;32m    512\u001b[0m         \u001b[0mreturning\u001b[0m \u001b[0mit\u001b[0m\u001b[0;34m.\u001b[0m\u001b[0;34m\u001b[0m\u001b[0;34m\u001b[0m\u001b[0m\n\u001b[1;32m    513\u001b[0m         \"\"\"\n\u001b[0;32m--> 514\u001b[0;31m         \u001b[0mself\u001b[0m\u001b[0;34m.\u001b[0m\u001b[0m_fsproxy_wrapped\u001b[0m \u001b[0;34m=\u001b[0m \u001b[0mself\u001b[0m\u001b[0;34m.\u001b[0m\u001b[0m_fsproxy_fast_to_slow\u001b[0m\u001b[0;34m(\u001b[0m\u001b[0;34m)\u001b[0m\u001b[0;34m\u001b[0m\u001b[0;34m\u001b[0m\u001b[0m\n\u001b[0m\u001b[1;32m    515\u001b[0m         \u001b[0;32mreturn\u001b[0m \u001b[0mself\u001b[0m\u001b[0;34m.\u001b[0m\u001b[0m_fsproxy_wrapped\u001b[0m\u001b[0;34m\u001b[0m\u001b[0;34m\u001b[0m\u001b[0m\n\u001b[1;32m    516\u001b[0m \u001b[0;34m\u001b[0m\u001b[0m\n",
            "\u001b[0;32m/usr/local/lib/python3.10/dist-packages/nvtx/nvtx.py\u001b[0m in \u001b[0;36minner\u001b[0;34m(*args, **kwargs)\u001b[0m\n\u001b[1;32m    114\u001b[0m         \u001b[0;32mdef\u001b[0m \u001b[0minner\u001b[0m\u001b[0;34m(\u001b[0m\u001b[0;34m*\u001b[0m\u001b[0margs\u001b[0m\u001b[0;34m,\u001b[0m \u001b[0;34m**\u001b[0m\u001b[0mkwargs\u001b[0m\u001b[0;34m)\u001b[0m\u001b[0;34m:\u001b[0m\u001b[0;34m\u001b[0m\u001b[0;34m\u001b[0m\u001b[0m\n\u001b[1;32m    115\u001b[0m             \u001b[0mlibnvtx_push_range\u001b[0m\u001b[0;34m(\u001b[0m\u001b[0mself\u001b[0m\u001b[0;34m.\u001b[0m\u001b[0mattributes\u001b[0m\u001b[0;34m,\u001b[0m \u001b[0mself\u001b[0m\u001b[0;34m.\u001b[0m\u001b[0mdomain\u001b[0m\u001b[0;34m.\u001b[0m\u001b[0mhandle\u001b[0m\u001b[0;34m)\u001b[0m\u001b[0;34m\u001b[0m\u001b[0;34m\u001b[0m\u001b[0m\n\u001b[0;32m--> 116\u001b[0;31m             \u001b[0mresult\u001b[0m \u001b[0;34m=\u001b[0m \u001b[0mfunc\u001b[0m\u001b[0;34m(\u001b[0m\u001b[0;34m*\u001b[0m\u001b[0margs\u001b[0m\u001b[0;34m,\u001b[0m \u001b[0;34m**\u001b[0m\u001b[0mkwargs\u001b[0m\u001b[0;34m)\u001b[0m\u001b[0;34m\u001b[0m\u001b[0;34m\u001b[0m\u001b[0m\n\u001b[0m\u001b[1;32m    117\u001b[0m             \u001b[0mlibnvtx_pop_range\u001b[0m\u001b[0;34m(\u001b[0m\u001b[0mself\u001b[0m\u001b[0;34m.\u001b[0m\u001b[0mdomain\u001b[0m\u001b[0;34m.\u001b[0m\u001b[0mhandle\u001b[0m\u001b[0;34m)\u001b[0m\u001b[0;34m\u001b[0m\u001b[0;34m\u001b[0m\u001b[0m\n\u001b[1;32m    118\u001b[0m             \u001b[0;32mreturn\u001b[0m \u001b[0mresult\u001b[0m\u001b[0;34m\u001b[0m\u001b[0;34m\u001b[0m\u001b[0m\n",
            "\u001b[0;32m/usr/local/lib/python3.10/dist-packages/cudf/pandas/fast_slow_proxy.py\u001b[0m in \u001b[0;36m_fsproxy_fast_to_slow\u001b[0;34m(self)\u001b[0m\n\u001b[1;32m    185\u001b[0m         \u001b[0;31m# convert it to a slow one\u001b[0m\u001b[0;34m\u001b[0m\u001b[0;34m\u001b[0m\u001b[0m\n\u001b[1;32m    186\u001b[0m         \u001b[0;32mif\u001b[0m \u001b[0mself\u001b[0m\u001b[0;34m.\u001b[0m\u001b[0m_fsproxy_state\u001b[0m \u001b[0;32mis\u001b[0m \u001b[0m_State\u001b[0m\u001b[0;34m.\u001b[0m\u001b[0mFAST\u001b[0m\u001b[0;34m:\u001b[0m\u001b[0;34m\u001b[0m\u001b[0;34m\u001b[0m\u001b[0m\n\u001b[0;32m--> 187\u001b[0;31m             \u001b[0;32mreturn\u001b[0m \u001b[0mfast_to_slow\u001b[0m\u001b[0;34m(\u001b[0m\u001b[0mself\u001b[0m\u001b[0;34m.\u001b[0m\u001b[0m_fsproxy_wrapped\u001b[0m\u001b[0;34m)\u001b[0m\u001b[0;34m\u001b[0m\u001b[0;34m\u001b[0m\u001b[0m\n\u001b[0m\u001b[1;32m    188\u001b[0m         \u001b[0;32mreturn\u001b[0m \u001b[0mself\u001b[0m\u001b[0;34m.\u001b[0m\u001b[0m_fsproxy_wrapped\u001b[0m\u001b[0;34m\u001b[0m\u001b[0;34m\u001b[0m\u001b[0m\n\u001b[1;32m    189\u001b[0m \u001b[0;34m\u001b[0m\u001b[0m\n",
            "\u001b[0;32m/usr/local/lib/python3.10/dist-packages/cudf/pandas/_wrappers/pandas.py\u001b[0m in \u001b[0;36m<lambda>\u001b[0;34m(fast)\u001b[0m\n\u001b[1;32m    213\u001b[0m     \u001b[0mcudf\u001b[0m\u001b[0;34m.\u001b[0m\u001b[0mDataFrame\u001b[0m\u001b[0;34m,\u001b[0m\u001b[0;34m\u001b[0m\u001b[0;34m\u001b[0m\u001b[0m\n\u001b[1;32m    214\u001b[0m     \u001b[0mpd\u001b[0m\u001b[0;34m.\u001b[0m\u001b[0mDataFrame\u001b[0m\u001b[0;34m,\u001b[0m\u001b[0;34m\u001b[0m\u001b[0;34m\u001b[0m\u001b[0m\n\u001b[0;32m--> 215\u001b[0;31m     \u001b[0mfast_to_slow\u001b[0m\u001b[0;34m=\u001b[0m\u001b[0;32mlambda\u001b[0m \u001b[0mfast\u001b[0m\u001b[0;34m:\u001b[0m \u001b[0mfast\u001b[0m\u001b[0;34m.\u001b[0m\u001b[0mto_pandas\u001b[0m\u001b[0;34m(\u001b[0m\u001b[0;34m)\u001b[0m\u001b[0;34m,\u001b[0m\u001b[0;34m\u001b[0m\u001b[0;34m\u001b[0m\u001b[0m\n\u001b[0m\u001b[1;32m    216\u001b[0m     \u001b[0mslow_to_fast\u001b[0m\u001b[0;34m=\u001b[0m\u001b[0mcudf\u001b[0m\u001b[0;34m.\u001b[0m\u001b[0mfrom_pandas\u001b[0m\u001b[0;34m,\u001b[0m\u001b[0;34m\u001b[0m\u001b[0;34m\u001b[0m\u001b[0m\n\u001b[1;32m    217\u001b[0m     additional_attributes={\n",
            "\u001b[0;32m/usr/local/lib/python3.10/dist-packages/cudf/utils/performance_tracking.py\u001b[0m in \u001b[0;36mwrapper\u001b[0;34m(*args, **kwargs)\u001b[0m\n\u001b[1;32m     49\u001b[0m                     )\n\u001b[1;32m     50\u001b[0m                 )\n\u001b[0;32m---> 51\u001b[0;31m             \u001b[0;32mreturn\u001b[0m \u001b[0mfunc\u001b[0m\u001b[0;34m(\u001b[0m\u001b[0;34m*\u001b[0m\u001b[0margs\u001b[0m\u001b[0;34m,\u001b[0m \u001b[0;34m**\u001b[0m\u001b[0mkwargs\u001b[0m\u001b[0;34m)\u001b[0m\u001b[0;34m\u001b[0m\u001b[0;34m\u001b[0m\u001b[0m\n\u001b[0m\u001b[1;32m     52\u001b[0m \u001b[0;34m\u001b[0m\u001b[0m\n\u001b[1;32m     53\u001b[0m     \u001b[0;32mreturn\u001b[0m \u001b[0mwrapper\u001b[0m\u001b[0;34m\u001b[0m\u001b[0;34m\u001b[0m\u001b[0m\n",
            "\u001b[0;32m/usr/local/lib/python3.10/dist-packages/cudf/core/dataframe.py\u001b[0m in \u001b[0;36mto_pandas\u001b[0;34m(self, nullable, arrow_type)\u001b[0m\n\u001b[1;32m   5426\u001b[0m         }\n\u001b[1;32m   5427\u001b[0m \u001b[0;34m\u001b[0m\u001b[0m\n\u001b[0;32m-> 5428\u001b[0;31m         \u001b[0mout_df\u001b[0m \u001b[0;34m=\u001b[0m \u001b[0mpd\u001b[0m\u001b[0;34m.\u001b[0m\u001b[0mDataFrame\u001b[0m\u001b[0;34m(\u001b[0m\u001b[0mout_data\u001b[0m\u001b[0;34m,\u001b[0m \u001b[0mindex\u001b[0m\u001b[0;34m=\u001b[0m\u001b[0mout_index\u001b[0m\u001b[0;34m)\u001b[0m\u001b[0;34m\u001b[0m\u001b[0;34m\u001b[0m\u001b[0m\n\u001b[0m\u001b[1;32m   5429\u001b[0m         \u001b[0mout_df\u001b[0m\u001b[0;34m.\u001b[0m\u001b[0mcolumns\u001b[0m \u001b[0;34m=\u001b[0m \u001b[0mself\u001b[0m\u001b[0;34m.\u001b[0m\u001b[0m_data\u001b[0m\u001b[0;34m.\u001b[0m\u001b[0mto_pandas_index\u001b[0m\u001b[0;34m(\u001b[0m\u001b[0;34m)\u001b[0m\u001b[0;34m\u001b[0m\u001b[0;34m\u001b[0m\u001b[0m\n\u001b[1;32m   5430\u001b[0m \u001b[0;34m\u001b[0m\u001b[0m\n",
            "\u001b[0;32m/usr/local/lib/python3.10/dist-packages/pandas/core/frame.py\u001b[0m in \u001b[0;36m__init__\u001b[0;34m(self, data, index, columns, dtype, copy)\u001b[0m\n\u001b[1;32m    731\u001b[0m         \u001b[0;32melif\u001b[0m \u001b[0misinstance\u001b[0m\u001b[0;34m(\u001b[0m\u001b[0mdata\u001b[0m\u001b[0;34m,\u001b[0m \u001b[0mdict\u001b[0m\u001b[0;34m)\u001b[0m\u001b[0;34m:\u001b[0m\u001b[0;34m\u001b[0m\u001b[0;34m\u001b[0m\u001b[0m\n\u001b[1;32m    732\u001b[0m             \u001b[0;31m# GH#38939 de facto copy defaults to False only in non-dict cases\u001b[0m\u001b[0;34m\u001b[0m\u001b[0;34m\u001b[0m\u001b[0m\n\u001b[0;32m--> 733\u001b[0;31m             \u001b[0mmgr\u001b[0m \u001b[0;34m=\u001b[0m \u001b[0mdict_to_mgr\u001b[0m\u001b[0;34m(\u001b[0m\u001b[0mdata\u001b[0m\u001b[0;34m,\u001b[0m \u001b[0mindex\u001b[0m\u001b[0;34m,\u001b[0m \u001b[0mcolumns\u001b[0m\u001b[0;34m,\u001b[0m \u001b[0mdtype\u001b[0m\u001b[0;34m=\u001b[0m\u001b[0mdtype\u001b[0m\u001b[0;34m,\u001b[0m \u001b[0mcopy\u001b[0m\u001b[0;34m=\u001b[0m\u001b[0mcopy\u001b[0m\u001b[0;34m,\u001b[0m \u001b[0mtyp\u001b[0m\u001b[0;34m=\u001b[0m\u001b[0mmanager\u001b[0m\u001b[0;34m)\u001b[0m\u001b[0;34m\u001b[0m\u001b[0;34m\u001b[0m\u001b[0m\n\u001b[0m\u001b[1;32m    734\u001b[0m         \u001b[0;32melif\u001b[0m \u001b[0misinstance\u001b[0m\u001b[0;34m(\u001b[0m\u001b[0mdata\u001b[0m\u001b[0;34m,\u001b[0m \u001b[0mma\u001b[0m\u001b[0;34m.\u001b[0m\u001b[0mMaskedArray\u001b[0m\u001b[0;34m)\u001b[0m\u001b[0;34m:\u001b[0m\u001b[0;34m\u001b[0m\u001b[0;34m\u001b[0m\u001b[0m\n\u001b[1;32m    735\u001b[0m             \u001b[0;32mfrom\u001b[0m \u001b[0mnumpy\u001b[0m\u001b[0;34m.\u001b[0m\u001b[0mma\u001b[0m \u001b[0;32mimport\u001b[0m \u001b[0mmrecords\u001b[0m\u001b[0;34m\u001b[0m\u001b[0;34m\u001b[0m\u001b[0m\n",
            "\u001b[0;32m/usr/local/lib/python3.10/dist-packages/pandas/core/internals/construction.py\u001b[0m in \u001b[0;36mdict_to_mgr\u001b[0;34m(data, index, columns, dtype, typ, copy)\u001b[0m\n\u001b[1;32m    501\u001b[0m             \u001b[0marrays\u001b[0m \u001b[0;34m=\u001b[0m \u001b[0;34m[\u001b[0m\u001b[0mx\u001b[0m\u001b[0;34m.\u001b[0m\u001b[0mcopy\u001b[0m\u001b[0;34m(\u001b[0m\u001b[0;34m)\u001b[0m \u001b[0;32mif\u001b[0m \u001b[0mhasattr\u001b[0m\u001b[0;34m(\u001b[0m\u001b[0mx\u001b[0m\u001b[0;34m,\u001b[0m \u001b[0;34m\"dtype\"\u001b[0m\u001b[0;34m)\u001b[0m \u001b[0;32melse\u001b[0m \u001b[0mx\u001b[0m \u001b[0;32mfor\u001b[0m \u001b[0mx\u001b[0m \u001b[0;32min\u001b[0m \u001b[0marrays\u001b[0m\u001b[0;34m]\u001b[0m\u001b[0;34m\u001b[0m\u001b[0;34m\u001b[0m\u001b[0m\n\u001b[1;32m    502\u001b[0m \u001b[0;34m\u001b[0m\u001b[0m\n\u001b[0;32m--> 503\u001b[0;31m     \u001b[0;32mreturn\u001b[0m \u001b[0marrays_to_mgr\u001b[0m\u001b[0;34m(\u001b[0m\u001b[0marrays\u001b[0m\u001b[0;34m,\u001b[0m \u001b[0mcolumns\u001b[0m\u001b[0;34m,\u001b[0m \u001b[0mindex\u001b[0m\u001b[0;34m,\u001b[0m \u001b[0mdtype\u001b[0m\u001b[0;34m=\u001b[0m\u001b[0mdtype\u001b[0m\u001b[0;34m,\u001b[0m \u001b[0mtyp\u001b[0m\u001b[0;34m=\u001b[0m\u001b[0mtyp\u001b[0m\u001b[0;34m,\u001b[0m \u001b[0mconsolidate\u001b[0m\u001b[0;34m=\u001b[0m\u001b[0mcopy\u001b[0m\u001b[0;34m)\u001b[0m\u001b[0;34m\u001b[0m\u001b[0;34m\u001b[0m\u001b[0m\n\u001b[0m\u001b[1;32m    504\u001b[0m \u001b[0;34m\u001b[0m\u001b[0m\n\u001b[1;32m    505\u001b[0m \u001b[0;34m\u001b[0m\u001b[0m\n",
            "\u001b[0;32m/usr/local/lib/python3.10/dist-packages/pandas/core/internals/construction.py\u001b[0m in \u001b[0;36marrays_to_mgr\u001b[0;34m(arrays, columns, index, dtype, verify_integrity, typ, consolidate)\u001b[0m\n\u001b[1;32m    150\u001b[0m \u001b[0;34m\u001b[0m\u001b[0m\n\u001b[1;32m    151\u001b[0m     \u001b[0;32mif\u001b[0m \u001b[0mtyp\u001b[0m \u001b[0;34m==\u001b[0m \u001b[0;34m\"block\"\u001b[0m\u001b[0;34m:\u001b[0m\u001b[0;34m\u001b[0m\u001b[0;34m\u001b[0m\u001b[0m\n\u001b[0;32m--> 152\u001b[0;31m         return create_block_manager_from_column_arrays(\n\u001b[0m\u001b[1;32m    153\u001b[0m             \u001b[0marrays\u001b[0m\u001b[0;34m,\u001b[0m \u001b[0maxes\u001b[0m\u001b[0;34m,\u001b[0m \u001b[0mconsolidate\u001b[0m\u001b[0;34m=\u001b[0m\u001b[0mconsolidate\u001b[0m\u001b[0;34m,\u001b[0m \u001b[0mrefs\u001b[0m\u001b[0;34m=\u001b[0m\u001b[0mrefs\u001b[0m\u001b[0;34m\u001b[0m\u001b[0;34m\u001b[0m\u001b[0m\n\u001b[1;32m    154\u001b[0m         )\n",
            "\u001b[0;32m/usr/local/lib/python3.10/dist-packages/pandas/core/internals/managers.py\u001b[0m in \u001b[0;36mcreate_block_manager_from_column_arrays\u001b[0;34m(arrays, axes, consolidate, refs)\u001b[0m\n\u001b[1;32m   2089\u001b[0m         \u001b[0mraise_construction_error\u001b[0m\u001b[0;34m(\u001b[0m\u001b[0mlen\u001b[0m\u001b[0;34m(\u001b[0m\u001b[0marrays\u001b[0m\u001b[0;34m)\u001b[0m\u001b[0;34m,\u001b[0m \u001b[0marrays\u001b[0m\u001b[0;34m[\u001b[0m\u001b[0;36m0\u001b[0m\u001b[0;34m]\u001b[0m\u001b[0;34m.\u001b[0m\u001b[0mshape\u001b[0m\u001b[0;34m,\u001b[0m \u001b[0maxes\u001b[0m\u001b[0;34m,\u001b[0m \u001b[0me\u001b[0m\u001b[0;34m)\u001b[0m\u001b[0;34m\u001b[0m\u001b[0;34m\u001b[0m\u001b[0m\n\u001b[1;32m   2090\u001b[0m     \u001b[0;32mif\u001b[0m \u001b[0mconsolidate\u001b[0m\u001b[0;34m:\u001b[0m\u001b[0;34m\u001b[0m\u001b[0;34m\u001b[0m\u001b[0m\n\u001b[0;32m-> 2091\u001b[0;31m         \u001b[0mmgr\u001b[0m\u001b[0;34m.\u001b[0m\u001b[0m_consolidate_inplace\u001b[0m\u001b[0;34m(\u001b[0m\u001b[0;34m)\u001b[0m\u001b[0;34m\u001b[0m\u001b[0;34m\u001b[0m\u001b[0m\n\u001b[0m\u001b[1;32m   2092\u001b[0m     \u001b[0;32mreturn\u001b[0m \u001b[0mmgr\u001b[0m\u001b[0;34m\u001b[0m\u001b[0;34m\u001b[0m\u001b[0m\n\u001b[1;32m   2093\u001b[0m \u001b[0;34m\u001b[0m\u001b[0m\n",
            "\u001b[0;32m/usr/local/lib/python3.10/dist-packages/pandas/core/internals/managers.py\u001b[0m in \u001b[0;36m_consolidate_inplace\u001b[0;34m(self)\u001b[0m\n\u001b[1;32m   1748\u001b[0m         \u001b[0;31m#  BlockManager objects not yet attached to a DataFrame.\u001b[0m\u001b[0;34m\u001b[0m\u001b[0;34m\u001b[0m\u001b[0m\n\u001b[1;32m   1749\u001b[0m         \u001b[0;32mif\u001b[0m \u001b[0;32mnot\u001b[0m \u001b[0mself\u001b[0m\u001b[0;34m.\u001b[0m\u001b[0mis_consolidated\u001b[0m\u001b[0;34m(\u001b[0m\u001b[0;34m)\u001b[0m\u001b[0;34m:\u001b[0m\u001b[0;34m\u001b[0m\u001b[0;34m\u001b[0m\u001b[0m\n\u001b[0;32m-> 1750\u001b[0;31m             \u001b[0mself\u001b[0m\u001b[0;34m.\u001b[0m\u001b[0mblocks\u001b[0m \u001b[0;34m=\u001b[0m \u001b[0m_consolidate\u001b[0m\u001b[0;34m(\u001b[0m\u001b[0mself\u001b[0m\u001b[0;34m.\u001b[0m\u001b[0mblocks\u001b[0m\u001b[0;34m)\u001b[0m\u001b[0;34m\u001b[0m\u001b[0;34m\u001b[0m\u001b[0m\n\u001b[0m\u001b[1;32m   1751\u001b[0m             \u001b[0mself\u001b[0m\u001b[0;34m.\u001b[0m\u001b[0m_is_consolidated\u001b[0m \u001b[0;34m=\u001b[0m \u001b[0;32mTrue\u001b[0m\u001b[0;34m\u001b[0m\u001b[0;34m\u001b[0m\u001b[0m\n\u001b[1;32m   1752\u001b[0m             \u001b[0mself\u001b[0m\u001b[0;34m.\u001b[0m\u001b[0m_known_consolidated\u001b[0m \u001b[0;34m=\u001b[0m \u001b[0;32mTrue\u001b[0m\u001b[0;34m\u001b[0m\u001b[0;34m\u001b[0m\u001b[0m\n",
            "\u001b[0;32m/usr/local/lib/python3.10/dist-packages/pandas/core/internals/managers.py\u001b[0m in \u001b[0;36m_consolidate\u001b[0;34m(blocks)\u001b[0m\n\u001b[1;32m   2215\u001b[0m     \u001b[0mnew_blocks\u001b[0m\u001b[0;34m:\u001b[0m \u001b[0mlist\u001b[0m\u001b[0;34m[\u001b[0m\u001b[0mBlock\u001b[0m\u001b[0;34m]\u001b[0m \u001b[0;34m=\u001b[0m \u001b[0;34m[\u001b[0m\u001b[0;34m]\u001b[0m\u001b[0;34m\u001b[0m\u001b[0;34m\u001b[0m\u001b[0m\n\u001b[1;32m   2216\u001b[0m     \u001b[0;32mfor\u001b[0m \u001b[0;34m(\u001b[0m\u001b[0m_can_consolidate\u001b[0m\u001b[0;34m,\u001b[0m \u001b[0mdtype\u001b[0m\u001b[0;34m)\u001b[0m\u001b[0;34m,\u001b[0m \u001b[0mgroup_blocks\u001b[0m \u001b[0;32min\u001b[0m \u001b[0mgrouper\u001b[0m\u001b[0;34m:\u001b[0m\u001b[0;34m\u001b[0m\u001b[0;34m\u001b[0m\u001b[0m\n\u001b[0;32m-> 2217\u001b[0;31m         merged_blocks, _ = _merge_blocks(\n\u001b[0m\u001b[1;32m   2218\u001b[0m             \u001b[0mlist\u001b[0m\u001b[0;34m(\u001b[0m\u001b[0mgroup_blocks\u001b[0m\u001b[0;34m)\u001b[0m\u001b[0;34m,\u001b[0m \u001b[0mdtype\u001b[0m\u001b[0;34m=\u001b[0m\u001b[0mdtype\u001b[0m\u001b[0;34m,\u001b[0m \u001b[0mcan_consolidate\u001b[0m\u001b[0;34m=\u001b[0m\u001b[0m_can_consolidate\u001b[0m\u001b[0;34m\u001b[0m\u001b[0;34m\u001b[0m\u001b[0m\n\u001b[1;32m   2219\u001b[0m         )\n",
            "\u001b[0;32m/usr/local/lib/python3.10/dist-packages/pandas/core/internals/managers.py\u001b[0m in \u001b[0;36m_merge_blocks\u001b[0;34m(blocks, dtype, can_consolidate)\u001b[0m\n\u001b[1;32m   2250\u001b[0m         \u001b[0mnew_mgr_locs\u001b[0m \u001b[0;34m=\u001b[0m \u001b[0mnew_mgr_locs\u001b[0m\u001b[0;34m[\u001b[0m\u001b[0margsort\u001b[0m\u001b[0;34m]\u001b[0m\u001b[0;34m\u001b[0m\u001b[0;34m\u001b[0m\u001b[0m\n\u001b[1;32m   2251\u001b[0m \u001b[0;34m\u001b[0m\u001b[0m\n\u001b[0;32m-> 2252\u001b[0;31m         \u001b[0mbp\u001b[0m \u001b[0;34m=\u001b[0m \u001b[0mBlockPlacement\u001b[0m\u001b[0;34m(\u001b[0m\u001b[0mnew_mgr_locs\u001b[0m\u001b[0;34m)\u001b[0m\u001b[0;34m\u001b[0m\u001b[0;34m\u001b[0m\u001b[0m\n\u001b[0m\u001b[1;32m   2253\u001b[0m         \u001b[0;32mreturn\u001b[0m \u001b[0;34m[\u001b[0m\u001b[0mnew_block_2d\u001b[0m\u001b[0;34m(\u001b[0m\u001b[0mnew_values\u001b[0m\u001b[0;34m,\u001b[0m \u001b[0mplacement\u001b[0m\u001b[0;34m=\u001b[0m\u001b[0mbp\u001b[0m\u001b[0;34m)\u001b[0m\u001b[0;34m]\u001b[0m\u001b[0;34m,\u001b[0m \u001b[0;32mTrue\u001b[0m\u001b[0;34m\u001b[0m\u001b[0;34m\u001b[0m\u001b[0m\n\u001b[1;32m   2254\u001b[0m \u001b[0;34m\u001b[0m\u001b[0m\n",
            "\u001b[0;31mKeyboardInterrupt\u001b[0m: "
          ]
        }
      ]
    },
    {
      "cell_type": "markdown",
      "source": [
        "What?)\n",
        "\n",
        "![](https://media1.tenor.com/m/6aPIEyt7K3IAAAAC/why-monkey.gif)"
      ],
      "metadata": {
        "id": "pq0A6rGLu8jK"
      }
    },
    {
      "cell_type": "markdown",
      "source": [
        "## Bonus &#x1F381; - CuML\n",
        "[GitHub](https://github.com/rapidsai/cuml/tree/branch-24.10)"
      ],
      "metadata": {
        "id": "Mwgrar_IvaYx"
      }
    },
    {
      "cell_type": "code",
      "source": [
        "import locale\n",
        "def getpreferredencoding(do_setlocale = True):\n",
        "    return \"UTF-8\"\n",
        "locale.getpreferredencoding = getpreferredencoding"
      ],
      "metadata": {
        "id": "tWTsJbAbwj62"
      },
      "execution_count": null,
      "outputs": []
    },
    {
      "cell_type": "code",
      "source": [
        "!pip install \\\n",
        "    --extra-index-url=https://pypi.nvidia.com \\\n",
        "    cuml-cu12==24.8.*"
      ],
      "metadata": {
        "colab": {
          "base_uri": "https://localhost:8080/"
        },
        "id": "Rpt1vARswIAV",
        "outputId": "084d1fb1-43a1-4b9c-f911-9ae23de303c6"
      },
      "execution_count": null,
      "outputs": [
        {
          "output_type": "stream",
          "name": "stdout",
          "text": [
            "Looking in indexes: https://pypi.org/simple, https://pypi.nvidia.com\n",
            "Requirement already satisfied: cuml-cu12==24.8.* in /usr/local/lib/python3.10/dist-packages (24.8.0)\n",
            "Requirement already satisfied: cudf-cu12==24.8.* in /usr/local/lib/python3.10/dist-packages (from cuml-cu12==24.8.*) (24.8.2)\n",
            "Requirement already satisfied: cupy-cuda12x>=12.0.0 in /usr/local/lib/python3.10/dist-packages (from cuml-cu12==24.8.*) (12.2.0)\n",
            "Requirement already satisfied: dask-cuda==24.8.* in /usr/local/lib/python3.10/dist-packages (from cuml-cu12==24.8.*) (24.8.2)\n",
            "Requirement already satisfied: dask-cudf-cu12==24.8.* in /usr/local/lib/python3.10/dist-packages (from cuml-cu12==24.8.*) (24.8.2)\n",
            "Requirement already satisfied: joblib>=0.11 in /usr/local/lib/python3.10/dist-packages (from cuml-cu12==24.8.*) (1.4.2)\n",
            "Requirement already satisfied: numba>=0.57 in /usr/local/lib/python3.10/dist-packages (from cuml-cu12==24.8.*) (0.60.0)\n",
            "Requirement already satisfied: packaging in /usr/local/lib/python3.10/dist-packages (from cuml-cu12==24.8.*) (24.1)\n",
            "Requirement already satisfied: pylibraft-cu12==24.8.* in /usr/local/lib/python3.10/dist-packages (from cuml-cu12==24.8.*) (24.8.1)\n",
            "Requirement already satisfied: raft-dask-cu12==24.8.* in /usr/local/lib/python3.10/dist-packages (from cuml-cu12==24.8.*) (24.8.1)\n",
            "Requirement already satisfied: rapids-dask-dependency==24.8.* in /usr/local/lib/python3.10/dist-packages (from cuml-cu12==24.8.*) (24.8.0)\n",
            "Requirement already satisfied: rmm-cu12==24.8.* in /usr/local/lib/python3.10/dist-packages (from cuml-cu12==24.8.*) (24.8.2)\n",
            "Requirement already satisfied: scipy>=1.8.0 in /usr/local/lib/python3.10/dist-packages (from cuml-cu12==24.8.*) (1.13.1)\n",
            "Requirement already satisfied: treelite==4.3.0 in /usr/local/lib/python3.10/dist-packages (from cuml-cu12==24.8.*) (4.3.0)\n",
            "Requirement already satisfied: cachetools in /usr/local/lib/python3.10/dist-packages (from cudf-cu12==24.8.*->cuml-cu12==24.8.*) (5.4.0)\n",
            "Requirement already satisfied: cuda-python<13.0a0,>=12.0 in /usr/local/lib/python3.10/dist-packages (from cudf-cu12==24.8.*->cuml-cu12==24.8.*) (12.2.1)\n",
            "Requirement already satisfied: fsspec>=0.6.0 in /usr/local/lib/python3.10/dist-packages (from cudf-cu12==24.8.*->cuml-cu12==24.8.*) (2024.6.1)\n",
            "Requirement already satisfied: numpy<2.0a0,>=1.23 in /usr/local/lib/python3.10/dist-packages (from cudf-cu12==24.8.*->cuml-cu12==24.8.*) (1.26.4)\n",
            "Requirement already satisfied: nvtx>=0.2.1 in /usr/local/lib/python3.10/dist-packages (from cudf-cu12==24.8.*->cuml-cu12==24.8.*) (0.2.10)\n",
            "Requirement already satisfied: pandas<2.2.3dev0,>=2.0 in /usr/local/lib/python3.10/dist-packages (from cudf-cu12==24.8.*->cuml-cu12==24.8.*) (2.1.4)\n",
            "Requirement already satisfied: pyarrow<16.2.0a0,>=16.1.0 in /usr/local/lib/python3.10/dist-packages (from cudf-cu12==24.8.*->cuml-cu12==24.8.*) (16.1.0)\n",
            "Requirement already satisfied: pynvjitlink-cu12 in /usr/local/lib/python3.10/dist-packages (from cudf-cu12==24.8.*->cuml-cu12==24.8.*) (0.3.0)\n",
            "Requirement already satisfied: rich in /usr/local/lib/python3.10/dist-packages (from cudf-cu12==24.8.*->cuml-cu12==24.8.*) (13.7.1)\n",
            "Requirement already satisfied: typing_extensions>=4.0.0 in /usr/local/lib/python3.10/dist-packages (from cudf-cu12==24.8.*->cuml-cu12==24.8.*) (4.12.2)\n",
            "Requirement already satisfied: click>=8.1 in /usr/local/lib/python3.10/dist-packages (from dask-cuda==24.8.*->cuml-cu12==24.8.*) (8.1.7)\n",
            "Requirement already satisfied: pynvml<11.5,>=11.0.0 in /usr/local/lib/python3.10/dist-packages (from dask-cuda==24.8.*->cuml-cu12==24.8.*) (11.4.1)\n",
            "Requirement already satisfied: zict>=2.0.0 in /usr/local/lib/python3.10/dist-packages (from dask-cuda==24.8.*->cuml-cu12==24.8.*) (3.0.0)\n",
            "Requirement already satisfied: distributed-ucxx-cu12==0.39.* in /usr/local/lib/python3.10/dist-packages (from raft-dask-cu12==24.8.*->cuml-cu12==24.8.*) (0.39.1)\n",
            "Requirement already satisfied: ucx-py-cu12==0.39.* in /usr/local/lib/python3.10/dist-packages (from raft-dask-cu12==24.8.*->cuml-cu12==24.8.*) (0.39.2)\n",
            "Requirement already satisfied: dask==2024.7.1 in /usr/local/lib/python3.10/dist-packages (from rapids-dask-dependency==24.8.*->cuml-cu12==24.8.*) (2024.7.1)\n",
            "Requirement already satisfied: distributed==2024.7.1 in /usr/local/lib/python3.10/dist-packages (from rapids-dask-dependency==24.8.*->cuml-cu12==24.8.*) (2024.7.1)\n",
            "Requirement already satisfied: dask-expr in /usr/local/lib/python3.10/dist-packages (from rapids-dask-dependency==24.8.*->cuml-cu12==24.8.*) (1.1.9)\n",
            "Requirement already satisfied: cloudpickle>=1.5.0 in /usr/local/lib/python3.10/dist-packages (from dask==2024.7.1->rapids-dask-dependency==24.8.*->cuml-cu12==24.8.*) (2.2.1)\n",
            "Requirement already satisfied: partd>=1.4.0 in /usr/local/lib/python3.10/dist-packages (from dask==2024.7.1->rapids-dask-dependency==24.8.*->cuml-cu12==24.8.*) (1.4.2)\n",
            "Requirement already satisfied: pyyaml>=5.3.1 in /usr/local/lib/python3.10/dist-packages (from dask==2024.7.1->rapids-dask-dependency==24.8.*->cuml-cu12==24.8.*) (6.0.2)\n",
            "Requirement already satisfied: toolz>=0.10.0 in /usr/local/lib/python3.10/dist-packages (from dask==2024.7.1->rapids-dask-dependency==24.8.*->cuml-cu12==24.8.*) (0.12.1)\n",
            "Requirement already satisfied: importlib-metadata>=4.13.0 in /usr/local/lib/python3.10/dist-packages (from dask==2024.7.1->rapids-dask-dependency==24.8.*->cuml-cu12==24.8.*) (8.2.0)\n",
            "Requirement already satisfied: jinja2>=2.10.3 in /usr/local/lib/python3.10/dist-packages (from distributed==2024.7.1->rapids-dask-dependency==24.8.*->cuml-cu12==24.8.*) (3.1.4)\n",
            "Requirement already satisfied: locket>=1.0.0 in /usr/local/lib/python3.10/dist-packages (from distributed==2024.7.1->rapids-dask-dependency==24.8.*->cuml-cu12==24.8.*) (1.0.0)\n",
            "Requirement already satisfied: msgpack>=1.0.0 in /usr/local/lib/python3.10/dist-packages (from distributed==2024.7.1->rapids-dask-dependency==24.8.*->cuml-cu12==24.8.*) (1.0.8)\n",
            "Requirement already satisfied: psutil>=5.7.2 in /usr/local/lib/python3.10/dist-packages (from distributed==2024.7.1->rapids-dask-dependency==24.8.*->cuml-cu12==24.8.*) (5.9.5)\n",
            "Requirement already satisfied: sortedcontainers>=2.0.5 in /usr/local/lib/python3.10/dist-packages (from distributed==2024.7.1->rapids-dask-dependency==24.8.*->cuml-cu12==24.8.*) (2.4.0)\n",
            "Requirement already satisfied: tblib>=1.6.0 in /usr/local/lib/python3.10/dist-packages (from distributed==2024.7.1->rapids-dask-dependency==24.8.*->cuml-cu12==24.8.*) (3.0.0)\n",
            "Requirement already satisfied: tornado>=6.0.4 in /usr/local/lib/python3.10/dist-packages (from distributed==2024.7.1->rapids-dask-dependency==24.8.*->cuml-cu12==24.8.*) (6.3.3)\n",
            "Requirement already satisfied: urllib3>=1.24.3 in /usr/local/lib/python3.10/dist-packages (from distributed==2024.7.1->rapids-dask-dependency==24.8.*->cuml-cu12==24.8.*) (2.0.7)\n",
            "Requirement already satisfied: ucxx-cu12==0.39.* in /usr/local/lib/python3.10/dist-packages (from distributed-ucxx-cu12==0.39.*->raft-dask-cu12==24.8.*->cuml-cu12==24.8.*) (0.39.1)\n",
            "Requirement already satisfied: libucx-cu12<1.16,>=1.15.0 in /usr/local/lib/python3.10/dist-packages (from ucx-py-cu12==0.39.*->raft-dask-cu12==24.8.*->cuml-cu12==24.8.*) (1.15.0.post1)\n",
            "Requirement already satisfied: fastrlock>=0.5 in /usr/local/lib/python3.10/dist-packages (from cupy-cuda12x>=12.0.0->cuml-cu12==24.8.*) (0.8.2)\n",
            "Requirement already satisfied: llvmlite<0.44,>=0.43.0dev0 in /usr/local/lib/python3.10/dist-packages (from numba>=0.57->cuml-cu12==24.8.*) (0.43.0)\n",
            "Requirement already satisfied: cython in /usr/local/lib/python3.10/dist-packages (from cuda-python<13.0a0,>=12.0->cudf-cu12==24.8.*->cuml-cu12==24.8.*) (3.0.11)\n",
            "Requirement already satisfied: python-dateutil>=2.8.2 in /usr/local/lib/python3.10/dist-packages (from pandas<2.2.3dev0,>=2.0->cudf-cu12==24.8.*->cuml-cu12==24.8.*) (2.8.2)\n",
            "Requirement already satisfied: pytz>=2020.1 in /usr/local/lib/python3.10/dist-packages (from pandas<2.2.3dev0,>=2.0->cudf-cu12==24.8.*->cuml-cu12==24.8.*) (2024.1)\n",
            "Requirement already satisfied: tzdata>=2022.1 in /usr/local/lib/python3.10/dist-packages (from pandas<2.2.3dev0,>=2.0->cudf-cu12==24.8.*->cuml-cu12==24.8.*) (2024.1)\n",
            "Requirement already satisfied: markdown-it-py>=2.2.0 in /usr/local/lib/python3.10/dist-packages (from rich->cudf-cu12==24.8.*->cuml-cu12==24.8.*) (3.0.0)\n",
            "Requirement already satisfied: pygments<3.0.0,>=2.13.0 in /usr/local/lib/python3.10/dist-packages (from rich->cudf-cu12==24.8.*->cuml-cu12==24.8.*) (2.16.1)\n",
            "Requirement already satisfied: zipp>=0.5 in /usr/local/lib/python3.10/dist-packages (from importlib-metadata>=4.13.0->dask==2024.7.1->rapids-dask-dependency==24.8.*->cuml-cu12==24.8.*) (3.19.2)\n",
            "Requirement already satisfied: MarkupSafe>=2.0 in /usr/local/lib/python3.10/dist-packages (from jinja2>=2.10.3->distributed==2024.7.1->rapids-dask-dependency==24.8.*->cuml-cu12==24.8.*) (2.1.5)\n",
            "Requirement already satisfied: mdurl~=0.1 in /usr/local/lib/python3.10/dist-packages (from markdown-it-py>=2.2.0->rich->cudf-cu12==24.8.*->cuml-cu12==24.8.*) (0.1.2)\n",
            "Requirement already satisfied: six>=1.5 in /usr/local/lib/python3.10/dist-packages (from python-dateutil>=2.8.2->pandas<2.2.3dev0,>=2.0->cudf-cu12==24.8.*->cuml-cu12==24.8.*) (1.16.0)\n"
          ]
        }
      ]
    },
    {
      "cell_type": "code",
      "source": [
        "from cuml.ensemble import RandomForestRegressor as curfr\n",
        "from cuml.metrics import accuracy_score\n",
        "\n",
        "from sklearn.ensemble import RandomForestRegressor as skrfr"
      ],
      "metadata": {
        "id": "PONPhSGMg25W"
      },
      "execution_count": null,
      "outputs": []
    },
    {
      "cell_type": "code",
      "source": [
        "import cudf\n",
        "df = cudf.read_csv(\"drive/MyDrive/dummy_dataset.csv\").sample(1_000_000, random_state=77)"
      ],
      "metadata": {
        "id": "kzQj48nl0qzY"
      },
      "execution_count": null,
      "outputs": []
    },
    {
      "cell_type": "code",
      "source": [
        "num_cols = df.select_dtypes(include='number').columns"
      ],
      "metadata": {
        "id": "iTthy0oI03c_"
      },
      "execution_count": null,
      "outputs": []
    },
    {
      "cell_type": "code",
      "source": [
        "x = df[num_cols].drop(columns=\"balance\")\n",
        "y = df[\"balance\"]"
      ],
      "metadata": {
        "id": "v1mU8Av_wDyN"
      },
      "execution_count": null,
      "outputs": []
    },
    {
      "cell_type": "code",
      "source": [
        "%%time\n",
        "curfr().fit(x, y)"
      ],
      "metadata": {
        "colab": {
          "base_uri": "https://localhost:8080/",
          "height": 162
        },
        "id": "h1bIAnhR0-TO",
        "outputId": "9b2a440f-0973-4f0f-c485-1a7eaa2c5202"
      },
      "execution_count": null,
      "outputs": [
        {
          "output_type": "stream",
          "name": "stderr",
          "text": [
            "/usr/local/lib/python3.10/dist-packages/cuml/internals/api_decorators.py:188: UserWarning: To use pickling first train using float32 data to fit the estimator\n",
            "  ret = func(*args, **kwargs)\n"
          ]
        },
        {
          "output_type": "stream",
          "name": "stdout",
          "text": [
            "CPU times: user 7.12 s, sys: 4.79 s, total: 11.9 s\n",
            "Wall time: 7.09 s\n"
          ]
        },
        {
          "output_type": "execute_result",
          "data": {
            "text/plain": [
              "RandomForestRegressor()"
            ],
            "text/html": [
              "<style>#sk-container-id-1 {color: black;}#sk-container-id-1 pre{padding: 0;}#sk-container-id-1 div.sk-toggleable {background-color: white;}#sk-container-id-1 label.sk-toggleable__label {cursor: pointer;display: block;width: 100%;margin-bottom: 0;padding: 0.3em;box-sizing: border-box;text-align: center;}#sk-container-id-1 label.sk-toggleable__label-arrow:before {content: \"▸\";float: left;margin-right: 0.25em;color: #696969;}#sk-container-id-1 label.sk-toggleable__label-arrow:hover:before {color: black;}#sk-container-id-1 div.sk-estimator:hover label.sk-toggleable__label-arrow:before {color: black;}#sk-container-id-1 div.sk-toggleable__content {max-height: 0;max-width: 0;overflow: hidden;text-align: left;background-color: #f0f8ff;}#sk-container-id-1 div.sk-toggleable__content pre {margin: 0.2em;color: black;border-radius: 0.25em;background-color: #f0f8ff;}#sk-container-id-1 input.sk-toggleable__control:checked~div.sk-toggleable__content {max-height: 200px;max-width: 100%;overflow: auto;}#sk-container-id-1 input.sk-toggleable__control:checked~label.sk-toggleable__label-arrow:before {content: \"▾\";}#sk-container-id-1 div.sk-estimator input.sk-toggleable__control:checked~label.sk-toggleable__label {background-color: #d4ebff;}#sk-container-id-1 div.sk-label input.sk-toggleable__control:checked~label.sk-toggleable__label {background-color: #d4ebff;}#sk-container-id-1 input.sk-hidden--visually {border: 0;clip: rect(1px 1px 1px 1px);clip: rect(1px, 1px, 1px, 1px);height: 1px;margin: -1px;overflow: hidden;padding: 0;position: absolute;width: 1px;}#sk-container-id-1 div.sk-estimator {font-family: monospace;background-color: #f0f8ff;border: 1px dotted black;border-radius: 0.25em;box-sizing: border-box;margin-bottom: 0.5em;}#sk-container-id-1 div.sk-estimator:hover {background-color: #d4ebff;}#sk-container-id-1 div.sk-parallel-item::after {content: \"\";width: 100%;border-bottom: 1px solid gray;flex-grow: 1;}#sk-container-id-1 div.sk-label:hover label.sk-toggleable__label {background-color: #d4ebff;}#sk-container-id-1 div.sk-serial::before {content: \"\";position: absolute;border-left: 1px solid gray;box-sizing: border-box;top: 0;bottom: 0;left: 50%;z-index: 0;}#sk-container-id-1 div.sk-serial {display: flex;flex-direction: column;align-items: center;background-color: white;padding-right: 0.2em;padding-left: 0.2em;position: relative;}#sk-container-id-1 div.sk-item {position: relative;z-index: 1;}#sk-container-id-1 div.sk-parallel {display: flex;align-items: stretch;justify-content: center;background-color: white;position: relative;}#sk-container-id-1 div.sk-item::before, #sk-container-id-1 div.sk-parallel-item::before {content: \"\";position: absolute;border-left: 1px solid gray;box-sizing: border-box;top: 0;bottom: 0;left: 50%;z-index: -1;}#sk-container-id-1 div.sk-parallel-item {display: flex;flex-direction: column;z-index: 1;position: relative;background-color: white;}#sk-container-id-1 div.sk-parallel-item:first-child::after {align-self: flex-end;width: 50%;}#sk-container-id-1 div.sk-parallel-item:last-child::after {align-self: flex-start;width: 50%;}#sk-container-id-1 div.sk-parallel-item:only-child::after {width: 0;}#sk-container-id-1 div.sk-dashed-wrapped {border: 1px dashed gray;margin: 0 0.4em 0.5em 0.4em;box-sizing: border-box;padding-bottom: 0.4em;background-color: white;}#sk-container-id-1 div.sk-label label {font-family: monospace;font-weight: bold;display: inline-block;line-height: 1.2em;}#sk-container-id-1 div.sk-label-container {text-align: center;}#sk-container-id-1 div.sk-container {/* jupyter's `normalize.less` sets `[hidden] { display: none; }` but bootstrap.min.css set `[hidden] { display: none !important; }` so we also need the `!important` here to be able to override the default hidden behavior on the sphinx rendered scikit-learn.org. See: https://github.com/scikit-learn/scikit-learn/issues/21755 */display: inline-block !important;position: relative;}#sk-container-id-1 div.sk-text-repr-fallback {display: none;}</style><div id=\"sk-container-id-1\" class=\"sk-top-container\"><div class=\"sk-text-repr-fallback\"><pre>RandomForestRegressor()</pre><b>In a Jupyter environment, please rerun this cell to show the HTML representation or trust the notebook. <br />On GitHub, the HTML representation is unable to render, please try loading this page with nbviewer.org.</b></div><div class=\"sk-container\" hidden><div class=\"sk-item\"><div class=\"sk-estimator sk-toggleable\"><input class=\"sk-toggleable__control sk-hidden--visually\" id=\"sk-estimator-id-1\" type=\"checkbox\" checked><label for=\"sk-estimator-id-1\" class=\"sk-toggleable__label sk-toggleable__label-arrow\">RandomForestRegressor</label><div class=\"sk-toggleable__content\"><pre>RandomForestRegressor()</pre></div></div></div></div></div>"
            ]
          },
          "metadata": {},
          "execution_count": 9
        }
      ]
    },
    {
      "cell_type": "code",
      "source": [
        "x_nu = x.sample(100_000).to_numpy()\n",
        "y_nu = y.sample(100_000).to_numpy()"
      ],
      "metadata": {
        "id": "wWE7wr2G1gkO"
      },
      "execution_count": null,
      "outputs": []
    },
    {
      "cell_type": "code",
      "source": [
        "%%time\n",
        "skrfr().fit(x_nu, y_nu)"
      ],
      "metadata": {
        "colab": {
          "base_uri": "https://localhost:8080/",
          "height": 108
        },
        "id": "jm3a1wMg1Rbf",
        "outputId": "5cd493e5-633b-454a-9563-e25c754bb7e5"
      },
      "execution_count": null,
      "outputs": [
        {
          "output_type": "stream",
          "name": "stdout",
          "text": [
            "CPU times: user 3min 8s, sys: 2.47 s, total: 3min 11s\n",
            "Wall time: 3min 7s\n"
          ]
        },
        {
          "output_type": "execute_result",
          "data": {
            "text/plain": [
              "RandomForestRegressor()"
            ],
            "text/html": [
              "<style>#sk-container-id-2 {color: black;}#sk-container-id-2 pre{padding: 0;}#sk-container-id-2 div.sk-toggleable {background-color: white;}#sk-container-id-2 label.sk-toggleable__label {cursor: pointer;display: block;width: 100%;margin-bottom: 0;padding: 0.3em;box-sizing: border-box;text-align: center;}#sk-container-id-2 label.sk-toggleable__label-arrow:before {content: \"▸\";float: left;margin-right: 0.25em;color: #696969;}#sk-container-id-2 label.sk-toggleable__label-arrow:hover:before {color: black;}#sk-container-id-2 div.sk-estimator:hover label.sk-toggleable__label-arrow:before {color: black;}#sk-container-id-2 div.sk-toggleable__content {max-height: 0;max-width: 0;overflow: hidden;text-align: left;background-color: #f0f8ff;}#sk-container-id-2 div.sk-toggleable__content pre {margin: 0.2em;color: black;border-radius: 0.25em;background-color: #f0f8ff;}#sk-container-id-2 input.sk-toggleable__control:checked~div.sk-toggleable__content {max-height: 200px;max-width: 100%;overflow: auto;}#sk-container-id-2 input.sk-toggleable__control:checked~label.sk-toggleable__label-arrow:before {content: \"▾\";}#sk-container-id-2 div.sk-estimator input.sk-toggleable__control:checked~label.sk-toggleable__label {background-color: #d4ebff;}#sk-container-id-2 div.sk-label input.sk-toggleable__control:checked~label.sk-toggleable__label {background-color: #d4ebff;}#sk-container-id-2 input.sk-hidden--visually {border: 0;clip: rect(1px 1px 1px 1px);clip: rect(1px, 1px, 1px, 1px);height: 1px;margin: -1px;overflow: hidden;padding: 0;position: absolute;width: 1px;}#sk-container-id-2 div.sk-estimator {font-family: monospace;background-color: #f0f8ff;border: 1px dotted black;border-radius: 0.25em;box-sizing: border-box;margin-bottom: 0.5em;}#sk-container-id-2 div.sk-estimator:hover {background-color: #d4ebff;}#sk-container-id-2 div.sk-parallel-item::after {content: \"\";width: 100%;border-bottom: 1px solid gray;flex-grow: 1;}#sk-container-id-2 div.sk-label:hover label.sk-toggleable__label {background-color: #d4ebff;}#sk-container-id-2 div.sk-serial::before {content: \"\";position: absolute;border-left: 1px solid gray;box-sizing: border-box;top: 0;bottom: 0;left: 50%;z-index: 0;}#sk-container-id-2 div.sk-serial {display: flex;flex-direction: column;align-items: center;background-color: white;padding-right: 0.2em;padding-left: 0.2em;position: relative;}#sk-container-id-2 div.sk-item {position: relative;z-index: 1;}#sk-container-id-2 div.sk-parallel {display: flex;align-items: stretch;justify-content: center;background-color: white;position: relative;}#sk-container-id-2 div.sk-item::before, #sk-container-id-2 div.sk-parallel-item::before {content: \"\";position: absolute;border-left: 1px solid gray;box-sizing: border-box;top: 0;bottom: 0;left: 50%;z-index: -1;}#sk-container-id-2 div.sk-parallel-item {display: flex;flex-direction: column;z-index: 1;position: relative;background-color: white;}#sk-container-id-2 div.sk-parallel-item:first-child::after {align-self: flex-end;width: 50%;}#sk-container-id-2 div.sk-parallel-item:last-child::after {align-self: flex-start;width: 50%;}#sk-container-id-2 div.sk-parallel-item:only-child::after {width: 0;}#sk-container-id-2 div.sk-dashed-wrapped {border: 1px dashed gray;margin: 0 0.4em 0.5em 0.4em;box-sizing: border-box;padding-bottom: 0.4em;background-color: white;}#sk-container-id-2 div.sk-label label {font-family: monospace;font-weight: bold;display: inline-block;line-height: 1.2em;}#sk-container-id-2 div.sk-label-container {text-align: center;}#sk-container-id-2 div.sk-container {/* jupyter's `normalize.less` sets `[hidden] { display: none; }` but bootstrap.min.css set `[hidden] { display: none !important; }` so we also need the `!important` here to be able to override the default hidden behavior on the sphinx rendered scikit-learn.org. See: https://github.com/scikit-learn/scikit-learn/issues/21755 */display: inline-block !important;position: relative;}#sk-container-id-2 div.sk-text-repr-fallback {display: none;}</style><div id=\"sk-container-id-2\" class=\"sk-top-container\"><div class=\"sk-text-repr-fallback\"><pre>RandomForestRegressor()</pre><b>In a Jupyter environment, please rerun this cell to show the HTML representation or trust the notebook. <br />On GitHub, the HTML representation is unable to render, please try loading this page with nbviewer.org.</b></div><div class=\"sk-container\" hidden><div class=\"sk-item\"><div class=\"sk-estimator sk-toggleable\"><input class=\"sk-toggleable__control sk-hidden--visually\" id=\"sk-estimator-id-2\" type=\"checkbox\" checked><label for=\"sk-estimator-id-2\" class=\"sk-toggleable__label sk-toggleable__label-arrow\">RandomForestRegressor</label><div class=\"sk-toggleable__content\"><pre>RandomForestRegressor()</pre></div></div></div></div></div>"
            ]
          },
          "metadata": {},
          "execution_count": 15
        }
      ]
    },
    {
      "cell_type": "code",
      "source": [],
      "metadata": {
        "id": "U1fmDUYC4mZB"
      },
      "execution_count": null,
      "outputs": []
    }
  ]
}