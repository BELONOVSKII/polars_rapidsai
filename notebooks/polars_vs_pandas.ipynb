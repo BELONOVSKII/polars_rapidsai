{
 "cells": [
  {
   "cell_type": "code",
   "execution_count": 1,
   "id": "3d0917c9-2785-4c16-9eab-f2f02617eea8",
   "metadata": {},
   "outputs": [],
   "source": [
    "import gc\n",
    "import random\n",
    "\n",
    "import polars as pl\n",
    "import polars.selectors as cs\n",
    "import pandas as pd\n",
    "import numpy as np\n",
    "from tqdm.auto import tqdm"
   ]
  },
  {
   "cell_type": "markdown",
   "id": "edca8a50-75db-4210-bcfd-24b6c08d5a7c",
   "metadata": {},
   "source": [
    "### Время осознать истинную мощь Polars &#x1F4A3;"
   ]
  },
  {
   "cell_type": "markdown",
   "id": "4c79930c-e103-4f8c-9f7d-7f5b4135889a",
   "metadata": {},
   "source": [
    "#### Reading the data"
   ]
  },
  {
   "cell_type": "code",
   "execution_count": 5,
   "id": "887a33b7-125e-4ac6-8356-f7d5a5b32750",
   "metadata": {},
   "outputs": [
    {
     "name": "stdout",
     "output_type": "stream",
     "text": [
      "CPU times: user 9.35 s, sys: 799 ms, total: 10.2 s\n",
      "Wall time: 1.59 s\n"
     ]
    },
    {
     "data": {
      "text/plain": [
       "0"
      ]
     },
     "execution_count": 5,
     "metadata": {},
     "output_type": "execute_result"
    }
   ],
   "source": [
    "%%time\n",
    "df = pl.read_csv(\"data/dummy_dataset.csv\")\n",
    "del df\n",
    "gc.collect()"
   ]
  },
  {
   "cell_type": "code",
   "execution_count": 6,
   "id": "e4db34c1-fb25-4cff-be15-f1f95607266a",
   "metadata": {},
   "outputs": [
    {
     "name": "stdout",
     "output_type": "stream",
     "text": [
      "CPU times: user 19.2 s, sys: 1.59 s, total: 20.8 s\n",
      "Wall time: 21 s\n"
     ]
    },
    {
     "data": {
      "text/plain": [
       "0"
      ]
     },
     "execution_count": 6,
     "metadata": {},
     "output_type": "execute_result"
    }
   ],
   "source": [
    "%%time\n",
    "df_pd = pd.read_csv(\"data/dummy_dataset.csv\")\n",
    "del df_pd\n",
    "gc.collect()"
   ]
  },
  {
   "cell_type": "markdown",
   "id": "8b25f19a-1d5c-461d-858f-ab0082b725c1",
   "metadata": {},
   "source": [
    "![](https://media1.tenor.com/m/csmPA2hAwK0AAAAC/monkey-spin.gif)"
   ]
  },
  {
   "cell_type": "code",
   "execution_count": 7,
   "id": "0f4b7e40-7a2c-4a6e-8ade-7ac35dcd8213",
   "metadata": {},
   "outputs": [
    {
     "name": "stdout",
     "output_type": "stream",
     "text": [
      "Polars memoru usage: 0.997 GB\n",
      "Pandas memoru usage: 4.718 GB\n"
     ]
    }
   ],
   "source": [
    "df = pl.read_csv(\"data/dummy_dataset.csv\")\n",
    "print(f\"Polars memoru usage: {df.estimated_size(unit='gb'):.3f} GB\")\n",
    "df_pd = pd.read_csv(\"data/dummy_dataset.csv\")\n",
    "print(\n",
    "    f\"Pandas memoru usage: {df_pd.memory_usage(deep=True).sum() / (1024 * 1024 * 1024):.3f} GB\"\n",
    ")"
   ]
  },
  {
   "cell_type": "code",
   "execution_count": 8,
   "id": "1ec2462b-2ac9-4a83-a421-2f902ecce975",
   "metadata": {},
   "outputs": [
    {
     "name": "stdout",
     "output_type": "stream",
     "text": [
      "CPU times: user 3.99 s, sys: 856 ms, total: 4.84 s\n",
      "Wall time: 861 ms\n"
     ]
    },
    {
     "data": {
      "text/html": [
       "<div><style>\n",
       ".dataframe > thead > tr,\n",
       ".dataframe > tbody > tr {\n",
       "  text-align: right;\n",
       "  white-space: pre-wrap;\n",
       "}\n",
       "</style>\n",
       "<small>shape: (9, 25)</small><table border=\"1\" class=\"dataframe\"><thead><tr><th>statistic</th><th>id</th><th>name</th><th>birth_date</th><th>hair_color</th><th>is_MU_fan</th><th>iq</th><th>accession_month</th><th>balance</th><th>debt</th><th>country</th><th>city</th><th>street_name</th><th>building_number</th><th>coordinate</th><th>license_plate</th><th>vin</th><th>swift</th><th>company_name</th><th>company_suffix</th><th>job_name</th><th>credit_card_expire</th><th>credit_card_number</th><th>credit_card_security_code</th><th>currency</th></tr><tr><td>str</td><td>f64</td><td>str</td><td>str</td><td>str</td><td>f64</td><td>f64</td><td>f64</td><td>f64</td><td>f64</td><td>str</td><td>str</td><td>str</td><td>f64</td><td>f64</td><td>str</td><td>str</td><td>str</td><td>str</td><td>str</td><td>str</td><td>str</td><td>f64</td><td>f64</td><td>str</td></tr></thead><tbody><tr><td>&quot;count&quot;</td><td>5.000005e6</td><td>&quot;5000005&quot;</td><td>&quot;5000005&quot;</td><td>&quot;5000005&quot;</td><td>5.000005e6</td><td>5.000005e6</td><td>5.000005e6</td><td>5.000005e6</td><td>5.000005e6</td><td>&quot;5000005&quot;</td><td>&quot;5000005&quot;</td><td>&quot;5000005&quot;</td><td>5.000005e6</td><td>5.000005e6</td><td>&quot;5000005&quot;</td><td>&quot;5000005&quot;</td><td>&quot;5000005&quot;</td><td>&quot;5000005&quot;</td><td>&quot;5000005&quot;</td><td>&quot;5000005&quot;</td><td>&quot;5000005&quot;</td><td>5.000005e6</td><td>5.000005e6</td><td>&quot;5000005&quot;</td></tr><tr><td>&quot;null_count&quot;</td><td>0.0</td><td>&quot;0&quot;</td><td>&quot;0&quot;</td><td>&quot;0&quot;</td><td>0.0</td><td>0.0</td><td>0.0</td><td>0.0</td><td>0.0</td><td>&quot;0&quot;</td><td>&quot;0&quot;</td><td>&quot;0&quot;</td><td>0.0</td><td>0.0</td><td>&quot;0&quot;</td><td>&quot;0&quot;</td><td>&quot;0&quot;</td><td>&quot;0&quot;</td><td>&quot;0&quot;</td><td>&quot;0&quot;</td><td>&quot;0&quot;</td><td>0.0</td><td>0.0</td><td>&quot;0&quot;</td></tr><tr><td>&quot;mean&quot;</td><td>4997.99319</td><td>null</td><td>null</td><td>null</td><td>0.500334</td><td>499.568274</td><td>6.498762</td><td>4.9986e8</td><td>4.9996e9</td><td>null</td><td>null</td><td>null</td><td>18498.602239</td><td>0.001235</td><td>null</td><td>null</td><td>null</td><td>null</td><td>null</td><td>null</td><td>null</td><td>3.7672e17</td><td>874.367594</td><td>null</td></tr><tr><td>&quot;std&quot;</td><td>2885.534873</td><td>null</td><td>null</td><td>null</td><td>null</td><td>288.726905</td><td>3.44521</td><td>2.8861e8</td><td>2.8883e9</td><td>null</td><td>null</td><td>null</td><td>27921.598079</td><td>103.915211</td><td>null</td><td>null</td><td>null</td><td>null</td><td>null</td><td>null</td><td>null</td><td>1.2452e18</td><td>1521.526748</td><td>null</td></tr><tr><td>&quot;min&quot;</td><td>0.0</td><td>&quot;Aaron&quot;</td><td>&quot;1994-08-14&quot;</td><td>&quot;AliceBlue&quot;</td><td>0.0</td><td>0.0</td><td>1.0</td><td>192.502858</td><td>418.515157</td><td>&quot;Afghanistan&quot;</td><td>&quot;Aaronberg&quot;</td><td>&quot;Aaron Alley&quot;</td><td>0.0</td><td>-179.99998</td><td>&quot;0-00001H&quot;</td><td>&quot;000010JS3ZKE9HRG1&quot;</td><td>&quot;AAAAGB08&quot;</td><td>&quot;Abbott Group&quot;</td><td>&quot;Group&quot;</td><td>&quot;Academic librarian&quot;</td><td>&quot;01/25&quot;</td><td>6.0400e10</td><td>0.0</td><td>&quot;AED&quot;</td></tr><tr><td>&quot;25%&quot;</td><td>2500.0</td><td>null</td><td>null</td><td>null</td><td>null</td><td>249.0</td><td>4.0</td><td>2.4998e8</td><td>2.4960e9</td><td>null</td><td>null</td><td>null</td><td>675.0</td><td>-90.022236</td><td>null</td><td>null</td><td>null</td><td>null</td><td>null</td><td>null</td><td>null</td><td>1.8000e14</td><td>269.0</td><td>null</td></tr><tr><td>&quot;50%&quot;</td><td>4997.0</td><td>null</td><td>null</td><td>null</td><td>null</td><td>500.0</td><td>7.0</td><td>4.9992e8</td><td>4.9995e9</td><td>null</td><td>null</td><td>null</td><td>4546.0</td><td>0.014419</td><td>null</td><td>null</td><td>null</td><td>null</td><td>null</td><td>null</td><td>null</td><td>3.5124e15</td><td>540.0</td><td>null</td></tr><tr><td>&quot;75%&quot;</td><td>7495.0</td><td>null</td><td>null</td><td>null</td><td>null</td><td>750.0</td><td>9.0</td><td>7.4955e8</td><td>7.5008e9</td><td>null</td><td>null</td><td>null</td><td>25052.0</td><td>89.977051</td><td>null</td><td>null</td><td>null</td><td>null</td><td>null</td><td>null</td><td>null</td><td>4.6242e15</td><td>810.0</td><td>null</td></tr><tr><td>&quot;max&quot;</td><td>9999.0</td><td>&quot;Zoe&quot;</td><td>&quot;2024-08-13&quot;</td><td>&quot;YellowGreen&quot;</td><td>1.0</td><td>999.0</td><td>12.0</td><td>1.0000e9</td><td>1.0000e10</td><td>&quot;Zimbabwe&quot;</td><td>&quot;Zunigaville&quot;</td><td>&quot;Zuniga Wells&quot;</td><td>99999.0</td><td>179.999937</td><td>&quot;ZZZ8110&quot;</td><td>&quot;ZZZZT77A8RXP8FH7H&quot;</td><td>&quot;ZZZZGBT1&quot;</td><td>&quot;Zuniga-Zuniga&quot;</td><td>&quot;and Sons&quot;</td><td>&quot;Youth worker&quot;</td><td>&quot;12/33&quot;</td><td>5.0000e18</td><td>9999.0</td><td>&quot;ZWD&quot;</td></tr></tbody></table></div>"
      ],
      "text/plain": [
       "shape: (9, 25)\n",
       "┌────────────┬────────────┬─────────┬───────────┬───┬───────────┬───────────┬───────────┬──────────┐\n",
       "│ statistic  ┆ id         ┆ name    ┆ birth_dat ┆ … ┆ credit_ca ┆ credit_ca ┆ credit_ca ┆ currency │\n",
       "│ ---        ┆ ---        ┆ ---     ┆ e         ┆   ┆ rd_expire ┆ rd_number ┆ rd_securi ┆ ---      │\n",
       "│ str        ┆ f64        ┆ str     ┆ ---       ┆   ┆ ---       ┆ ---       ┆ ty_code   ┆ str      │\n",
       "│            ┆            ┆         ┆ str       ┆   ┆ str       ┆ f64       ┆ ---       ┆          │\n",
       "│            ┆            ┆         ┆           ┆   ┆           ┆           ┆ f64       ┆          │\n",
       "╞════════════╪════════════╪═════════╪═══════════╪═══╪═══════════╪═══════════╪═══════════╪══════════╡\n",
       "│ count      ┆ 5.000005e6 ┆ 5000005 ┆ 5000005   ┆ … ┆ 5000005   ┆ 5.000005e ┆ 5.000005e ┆ 5000005  │\n",
       "│            ┆            ┆         ┆           ┆   ┆           ┆ 6         ┆ 6         ┆          │\n",
       "│ null_count ┆ 0.0        ┆ 0       ┆ 0         ┆ … ┆ 0         ┆ 0.0       ┆ 0.0       ┆ 0        │\n",
       "│ mean       ┆ 4997.99319 ┆ null    ┆ null      ┆ … ┆ null      ┆ 3.7672e17 ┆ 874.36759 ┆ null     │\n",
       "│            ┆            ┆         ┆           ┆   ┆           ┆           ┆ 4         ┆          │\n",
       "│ std        ┆ 2885.53487 ┆ null    ┆ null      ┆ … ┆ null      ┆ 1.2452e18 ┆ 1521.5267 ┆ null     │\n",
       "│            ┆ 3          ┆         ┆           ┆   ┆           ┆           ┆ 48        ┆          │\n",
       "│ min        ┆ 0.0        ┆ Aaron   ┆ 1994-08-1 ┆ … ┆ 01/25     ┆ 6.0400e10 ┆ 0.0       ┆ AED      │\n",
       "│            ┆            ┆         ┆ 4         ┆   ┆           ┆           ┆           ┆          │\n",
       "│ 25%        ┆ 2500.0     ┆ null    ┆ null      ┆ … ┆ null      ┆ 1.8000e14 ┆ 269.0     ┆ null     │\n",
       "│ 50%        ┆ 4997.0     ┆ null    ┆ null      ┆ … ┆ null      ┆ 3.5124e15 ┆ 540.0     ┆ null     │\n",
       "│ 75%        ┆ 7495.0     ┆ null    ┆ null      ┆ … ┆ null      ┆ 4.6242e15 ┆ 810.0     ┆ null     │\n",
       "│ max        ┆ 9999.0     ┆ Zoe     ┆ 2024-08-1 ┆ … ┆ 12/33     ┆ 5.0000e18 ┆ 9999.0    ┆ ZWD      │\n",
       "│            ┆            ┆         ┆ 3         ┆   ┆           ┆           ┆           ┆          │\n",
       "└────────────┴────────────┴─────────┴───────────┴───┴───────────┴───────────┴───────────┴──────────┘"
      ]
     },
     "execution_count": 8,
     "metadata": {},
     "output_type": "execute_result"
    }
   ],
   "source": [
    "%%time\n",
    "df.describe()"
   ]
  },
  {
   "cell_type": "code",
   "execution_count": 6,
   "id": "02d52429-b047-419f-96a3-5d91b8572bb5",
   "metadata": {},
   "outputs": [
    {
     "name": "stdout",
     "output_type": "stream",
     "text": [
      "CPU times: user 1.34 s, sys: 252 ms, total: 1.6 s\n",
      "Wall time: 1.76 s\n"
     ]
    },
    {
     "data": {
      "text/html": [
       "<div>\n",
       "<style scoped>\n",
       "    .dataframe tbody tr th:only-of-type {\n",
       "        vertical-align: middle;\n",
       "    }\n",
       "\n",
       "    .dataframe tbody tr th {\n",
       "        vertical-align: top;\n",
       "    }\n",
       "\n",
       "    .dataframe thead th {\n",
       "        text-align: right;\n",
       "    }\n",
       "</style>\n",
       "<table border=\"1\" class=\"dataframe\">\n",
       "  <thead>\n",
       "    <tr style=\"text-align: right;\">\n",
       "      <th></th>\n",
       "      <th>id</th>\n",
       "      <th>iq</th>\n",
       "      <th>accession_month</th>\n",
       "      <th>balance</th>\n",
       "      <th>debt</th>\n",
       "      <th>building_number</th>\n",
       "      <th>coordinate</th>\n",
       "      <th>credit_card_number</th>\n",
       "      <th>credit_card_security_code</th>\n",
       "    </tr>\n",
       "  </thead>\n",
       "  <tbody>\n",
       "    <tr>\n",
       "      <th>count</th>\n",
       "      <td>5.000005e+06</td>\n",
       "      <td>5.000005e+06</td>\n",
       "      <td>5.000005e+06</td>\n",
       "      <td>5.000005e+06</td>\n",
       "      <td>5.000005e+06</td>\n",
       "      <td>5.000005e+06</td>\n",
       "      <td>5.000005e+06</td>\n",
       "      <td>5.000005e+06</td>\n",
       "      <td>5.000005e+06</td>\n",
       "    </tr>\n",
       "    <tr>\n",
       "      <th>mean</th>\n",
       "      <td>4.997993e+03</td>\n",
       "      <td>4.995683e+02</td>\n",
       "      <td>6.498762e+00</td>\n",
       "      <td>4.998573e+08</td>\n",
       "      <td>4.999578e+09</td>\n",
       "      <td>1.849860e+04</td>\n",
       "      <td>1.235371e-03</td>\n",
       "      <td>3.767211e+17</td>\n",
       "      <td>8.743676e+02</td>\n",
       "    </tr>\n",
       "    <tr>\n",
       "      <th>std</th>\n",
       "      <td>2.885535e+03</td>\n",
       "      <td>2.887269e+02</td>\n",
       "      <td>3.445210e+00</td>\n",
       "      <td>2.886076e+08</td>\n",
       "      <td>2.888256e+09</td>\n",
       "      <td>2.792160e+04</td>\n",
       "      <td>1.039152e+02</td>\n",
       "      <td>1.245163e+18</td>\n",
       "      <td>1.521527e+03</td>\n",
       "    </tr>\n",
       "    <tr>\n",
       "      <th>min</th>\n",
       "      <td>0.000000e+00</td>\n",
       "      <td>0.000000e+00</td>\n",
       "      <td>1.000000e+00</td>\n",
       "      <td>1.925029e+02</td>\n",
       "      <td>4.185152e+02</td>\n",
       "      <td>0.000000e+00</td>\n",
       "      <td>-1.800000e+02</td>\n",
       "      <td>6.040000e+10</td>\n",
       "      <td>0.000000e+00</td>\n",
       "    </tr>\n",
       "    <tr>\n",
       "      <th>25%</th>\n",
       "      <td>2.500000e+03</td>\n",
       "      <td>2.490000e+02</td>\n",
       "      <td>4.000000e+00</td>\n",
       "      <td>2.499838e+08</td>\n",
       "      <td>2.496024e+09</td>\n",
       "      <td>6.750000e+02</td>\n",
       "      <td>-9.002224e+01</td>\n",
       "      <td>1.800002e+14</td>\n",
       "      <td>2.690000e+02</td>\n",
       "    </tr>\n",
       "    <tr>\n",
       "      <th>50%</th>\n",
       "      <td>4.997000e+03</td>\n",
       "      <td>5.000000e+02</td>\n",
       "      <td>7.000000e+00</td>\n",
       "      <td>4.999208e+08</td>\n",
       "      <td>4.999505e+09</td>\n",
       "      <td>4.546000e+03</td>\n",
       "      <td>1.441900e-02</td>\n",
       "      <td>3.512421e+15</td>\n",
       "      <td>5.400000e+02</td>\n",
       "    </tr>\n",
       "    <tr>\n",
       "      <th>75%</th>\n",
       "      <td>7.495000e+03</td>\n",
       "      <td>7.500000e+02</td>\n",
       "      <td>9.000000e+00</td>\n",
       "      <td>7.495478e+08</td>\n",
       "      <td>7.500798e+09</td>\n",
       "      <td>2.505200e+04</td>\n",
       "      <td>8.997705e+01</td>\n",
       "      <td>4.624171e+15</td>\n",
       "      <td>8.100000e+02</td>\n",
       "    </tr>\n",
       "    <tr>\n",
       "      <th>max</th>\n",
       "      <td>9.999000e+03</td>\n",
       "      <td>9.990000e+02</td>\n",
       "      <td>1.200000e+01</td>\n",
       "      <td>9.999997e+08</td>\n",
       "      <td>1.000000e+10</td>\n",
       "      <td>9.999900e+04</td>\n",
       "      <td>1.799999e+02</td>\n",
       "      <td>4.999998e+18</td>\n",
       "      <td>9.999000e+03</td>\n",
       "    </tr>\n",
       "  </tbody>\n",
       "</table>\n",
       "</div>"
      ],
      "text/plain": [
       "                 id            iq  accession_month       balance  \\\n",
       "count  5.000005e+06  5.000005e+06     5.000005e+06  5.000005e+06   \n",
       "mean   4.997993e+03  4.995683e+02     6.498762e+00  4.998573e+08   \n",
       "std    2.885535e+03  2.887269e+02     3.445210e+00  2.886076e+08   \n",
       "min    0.000000e+00  0.000000e+00     1.000000e+00  1.925029e+02   \n",
       "25%    2.500000e+03  2.490000e+02     4.000000e+00  2.499838e+08   \n",
       "50%    4.997000e+03  5.000000e+02     7.000000e+00  4.999208e+08   \n",
       "75%    7.495000e+03  7.500000e+02     9.000000e+00  7.495478e+08   \n",
       "max    9.999000e+03  9.990000e+02     1.200000e+01  9.999997e+08   \n",
       "\n",
       "               debt  building_number    coordinate  credit_card_number  \\\n",
       "count  5.000005e+06     5.000005e+06  5.000005e+06        5.000005e+06   \n",
       "mean   4.999578e+09     1.849860e+04  1.235371e-03        3.767211e+17   \n",
       "std    2.888256e+09     2.792160e+04  1.039152e+02        1.245163e+18   \n",
       "min    4.185152e+02     0.000000e+00 -1.800000e+02        6.040000e+10   \n",
       "25%    2.496024e+09     6.750000e+02 -9.002224e+01        1.800002e+14   \n",
       "50%    4.999505e+09     4.546000e+03  1.441900e-02        3.512421e+15   \n",
       "75%    7.500798e+09     2.505200e+04  8.997705e+01        4.624171e+15   \n",
       "max    1.000000e+10     9.999900e+04  1.799999e+02        4.999998e+18   \n",
       "\n",
       "       credit_card_security_code  \n",
       "count               5.000005e+06  \n",
       "mean                8.743676e+02  \n",
       "std                 1.521527e+03  \n",
       "min                 0.000000e+00  \n",
       "25%                 2.690000e+02  \n",
       "50%                 5.400000e+02  \n",
       "75%                 8.100000e+02  \n",
       "max                 9.999000e+03  "
      ]
     },
     "execution_count": 6,
     "metadata": {},
     "output_type": "execute_result"
    }
   ],
   "source": [
    "%%time\n",
    "df_pd.describe()"
   ]
  },
  {
   "cell_type": "markdown",
   "id": "0a61bfc8-fd57-4a4f-b0c0-a2c82ebd3edb",
   "metadata": {},
   "source": [
    "#### Groupping"
   ]
  },
  {
   "cell_type": "code",
   "execution_count": 7,
   "id": "4743f50f-6bbd-4c36-b8e1-5f02de928acf",
   "metadata": {},
   "outputs": [
    {
     "data": {
      "text/html": [
       "<div><style>\n",
       ".dataframe > thead > tr,\n",
       ".dataframe > tbody > tr {\n",
       "  text-align: right;\n",
       "  white-space: pre-wrap;\n",
       "}\n",
       "</style>\n",
       "<small>shape: (690, 22)</small><table border=\"1\" class=\"dataframe\"><thead><tr><th>name</th><th>balance_avg</th><th>debt_avg</th><th>building_number_avg</th><th>credit_card_number_avg</th><th>credit_card_security_code_avg</th><th>coordinate_avg</th><th>balance_std</th><th>debt_std</th><th>building_number_std</th><th>credit_card_number_std</th><th>credit_card_security_code_std</th><th>coordinate_std</th><th>balance_median</th><th>debt_median</th><th>building_number_median</th><th>credit_card_number_median</th><th>credit_card_security_code_median</th><th>coordinate_median</th><th>country_mode</th><th>street_name_mode</th><th>credit_card_expire_mode</th></tr><tr><td>str</td><td>f64</td><td>f64</td><td>f64</td><td>f64</td><td>f64</td><td>f64</td><td>f64</td><td>f64</td><td>f64</td><td>f64</td><td>f64</td><td>f64</td><td>f64</td><td>f64</td><td>f64</td><td>f64</td><td>f64</td><td>f64</td><td>str</td><td>str</td><td>str</td></tr></thead><tbody><tr><td>&quot;Rickey&quot;</td><td>5.1210e8</td><td>4.9930e9</td><td>18296.096091</td><td>4.3568e17</td><td>756.26873</td><td>-0.026451</td><td>2.8581e8</td><td>2.7637e9</td><td>27856.898073</td><td>1.3453e18</td><td>1174.245561</td><td>101.795071</td><td>5.2950e8</td><td>4.9390e9</td><td>4031.5</td><td>3.5049e15</td><td>535.5</td><td>1.681911</td><td>&quot;Nicaragua&quot;</td><td>&quot;Williams Expressway&quot;</td><td>&quot;10/25&quot;</td></tr><tr><td>&quot;Debra&quot;</td><td>5.0311e8</td><td>4.9880e9</td><td>18859.38333</td><td>3.7167e17</td><td>850.378181</td><td>-0.090819</td><td>2.8860e8</td><td>2.9013e9</td><td>28210.803402</td><td>1.2377e18</td><td>1480.660039</td><td>103.604484</td><td>5.0896e8</td><td>5.0032e9</td><td>4668.5</td><td>3.5100e15</td><td>533.5</td><td>1.620669</td><td>&quot;Congo&quot;</td><td>&quot;Smith Square&quot;</td><td>&quot;03/31&quot;</td></tr><tr><td>&quot;Travis&quot;</td><td>4.9522e8</td><td>4.9952e9</td><td>18449.438772</td><td>3.7177e17</td><td>892.879807</td><td>-0.267829</td><td>2.8839e8</td><td>2.8909e9</td><td>28191.760521</td><td>1.2377e18</td><td>1550.740545</td><td>103.484138</td><td>4.9205e8</td><td>5.0175e9</td><td>4185.0</td><td>3.5155e15</td><td>544.0</td><td>-0.631944</td><td>&quot;Congo&quot;</td><td>&quot;Christopher Islands&quot;</td><td>&quot;10/24&quot;</td></tr><tr><td>&quot;Whitney&quot;</td><td>5.0952e8</td><td>4.9804e9</td><td>18844.158577</td><td>3.8525e17</td><td>836.235156</td><td>1.700718</td><td>2.8894e8</td><td>2.8860e9</td><td>28203.954169</td><td>1.2638e18</td><td>1431.933426</td><td>103.515747</td><td>5.1888e8</td><td>4.9513e9</td><td>4591.0</td><td>3.5171e15</td><td>544.0</td><td>4.723871</td><td>&quot;Korea&quot;</td><td>&quot;Smith Isle&quot;</td><td>&quot;05/27&quot;</td></tr><tr><td>&quot;Geoffrey&quot;</td><td>5.0721e8</td><td>4.9723e9</td><td>17749.273059</td><td>3.6979e17</td><td>838.471233</td><td>-0.357873</td><td>2.9131e8</td><td>2.8701e9</td><td>27054.501021</td><td>1.2308e18</td><td>1421.421416</td><td>103.508626</td><td>5.1591e8</td><td>4.9248e9</td><td>4596.0</td><td>3.5187e15</td><td>519.0</td><td>3.113072</td><td>&quot;Korea&quot;</td><td>&quot;Michael Heights&quot;</td><td>&quot;06/28&quot;</td></tr><tr><td>&hellip;</td><td>&hellip;</td><td>&hellip;</td><td>&hellip;</td><td>&hellip;</td><td>&hellip;</td><td>&hellip;</td><td>&hellip;</td><td>&hellip;</td><td>&hellip;</td><td>&hellip;</td><td>&hellip;</td><td>&hellip;</td><td>&hellip;</td><td>&hellip;</td><td>&hellip;</td><td>&hellip;</td><td>&hellip;</td><td>&hellip;</td><td>&hellip;</td><td>&hellip;</td><td>&hellip;</td></tr><tr><td>&quot;Cassandra&quot;</td><td>5.0253e8</td><td>5.0364e9</td><td>18267.537155</td><td>3.9286e17</td><td>886.00127</td><td>0.083164</td><td>2.8759e8</td><td>2.8797e9</td><td>27709.987812</td><td>1.2702e18</td><td>1553.786291</td><td>104.213801</td><td>5.0403e8</td><td>5.0556e9</td><td>4414.5</td><td>3.5150e15</td><td>546.0</td><td>2.477512</td><td>&quot;Congo&quot;</td><td>&quot;Jeffrey Run&quot;</td><td>&quot;11/29&quot;</td></tr><tr><td>&quot;Benjamin&quot;</td><td>5.0088e8</td><td>5.0100e9</td><td>18656.637876</td><td>3.7351e17</td><td>878.917184</td><td>-0.63615</td><td>2.8663e8</td><td>2.8906e9</td><td>28104.565321</td><td>1.2414e18</td><td>1527.218829</td><td>104.254524</td><td>5.0134e8</td><td>5.0300e9</td><td>4525.0</td><td>3.5146e15</td><td>540.0</td><td>-1.356776</td><td>&quot;Korea&quot;</td><td>&quot;Michael Well&quot;</td><td>&quot;01/27&quot;</td></tr><tr><td>&quot;Jeremy&quot;</td><td>5.0177e8</td><td>4.9490e9</td><td>18412.446195</td><td>3.8940e17</td><td>869.173135</td><td>0.119967</td><td>2.8942e8</td><td>2.8980e9</td><td>27802.141185</td><td>1.2637e18</td><td>1501.79161</td><td>103.528885</td><td>5.0468e8</td><td>4.9541e9</td><td>4497.0</td><td>3.5141e15</td><td>545.0</td><td>0.122004</td><td>&quot;Korea&quot;</td><td>&quot;Michael Plains&quot;</td><td>&quot;11/26&quot;</td></tr><tr><td>&quot;Cassie&quot;</td><td>4.7972e8</td><td>4.8537e9</td><td>17193.802879</td><td>4.7605e17</td><td>913.449612</td><td>7.533024</td><td>2.7785e8</td><td>2.8334e9</td><td>27084.350983</td><td>1.3848e18</td><td>1615.491842</td><td>105.363543</td><td>4.6473e8</td><td>4.8626e9</td><td>4756.0</td><td>3.5357e15</td><td>548.0</td><td>9.205185</td><td>&quot;Congo&quot;</td><td>&quot;Michelle Loop&quot;</td><td>&quot;03/33&quot;</td></tr><tr><td>&quot;Herbert&quot;</td><td>4.9910e8</td><td>5.1515e9</td><td>19432.926702</td><td>3.8358e17</td><td>768.539267</td><td>-0.529469</td><td>2.8881e8</td><td>2.8945e9</td><td>27992.211654</td><td>1.2505e18</td><td>1260.511013</td><td>102.673636</td><td>5.0024e8</td><td>5.1297e9</td><td>5488.0</td><td>2.3704e15</td><td>521.0</td><td>2.467747</td><td>&quot;American Samoa&quot;</td><td>&quot;Anna Springs&quot;</td><td>&quot;12/31&quot;</td></tr></tbody></table></div>"
      ],
      "text/plain": [
       "shape: (690, 22)\n",
       "┌───────────┬───────────┬──────────┬───────────┬───┬───────────┬───────────┬───────────┬───────────┐\n",
       "│ name      ┆ balance_a ┆ debt_avg ┆ building_ ┆ … ┆ coordinat ┆ country_m ┆ street_na ┆ credit_ca │\n",
       "│ ---       ┆ vg        ┆ ---      ┆ number_av ┆   ┆ e_median  ┆ ode       ┆ me_mode   ┆ rd_expire │\n",
       "│ str       ┆ ---       ┆ f64      ┆ g         ┆   ┆ ---       ┆ ---       ┆ ---       ┆ _mode     │\n",
       "│           ┆ f64       ┆          ┆ ---       ┆   ┆ f64       ┆ str       ┆ str       ┆ ---       │\n",
       "│           ┆           ┆          ┆ f64       ┆   ┆           ┆           ┆           ┆ str       │\n",
       "╞═══════════╪═══════════╪══════════╪═══════════╪═══╪═══════════╪═══════════╪═══════════╪═══════════╡\n",
       "│ Rickey    ┆ 5.1210e8  ┆ 4.9930e9 ┆ 18296.096 ┆ … ┆ 1.681911  ┆ Nicaragua ┆ Williams  ┆ 10/25     │\n",
       "│           ┆           ┆          ┆ 091       ┆   ┆           ┆           ┆ Expresswa ┆           │\n",
       "│           ┆           ┆          ┆           ┆   ┆           ┆           ┆ y         ┆           │\n",
       "│ Debra     ┆ 5.0311e8  ┆ 4.9880e9 ┆ 18859.383 ┆ … ┆ 1.620669  ┆ Congo     ┆ Smith     ┆ 03/31     │\n",
       "│           ┆           ┆          ┆ 33        ┆   ┆           ┆           ┆ Square    ┆           │\n",
       "│ Travis    ┆ 4.9522e8  ┆ 4.9952e9 ┆ 18449.438 ┆ … ┆ -0.631944 ┆ Congo     ┆ Christoph ┆ 10/24     │\n",
       "│           ┆           ┆          ┆ 772       ┆   ┆           ┆           ┆ er        ┆           │\n",
       "│           ┆           ┆          ┆           ┆   ┆           ┆           ┆ Islands   ┆           │\n",
       "│ Whitney   ┆ 5.0952e8  ┆ 4.9804e9 ┆ 18844.158 ┆ … ┆ 4.723871  ┆ Korea     ┆ Smith     ┆ 05/27     │\n",
       "│           ┆           ┆          ┆ 577       ┆   ┆           ┆           ┆ Isle      ┆           │\n",
       "│ Geoffrey  ┆ 5.0721e8  ┆ 4.9723e9 ┆ 17749.273 ┆ … ┆ 3.113072  ┆ Korea     ┆ Michael   ┆ 06/28     │\n",
       "│           ┆           ┆          ┆ 059       ┆   ┆           ┆           ┆ Heights   ┆           │\n",
       "│ …         ┆ …         ┆ …        ┆ …         ┆ … ┆ …         ┆ …         ┆ …         ┆ …         │\n",
       "│ Cassandra ┆ 5.0253e8  ┆ 5.0364e9 ┆ 18267.537 ┆ … ┆ 2.477512  ┆ Congo     ┆ Jeffrey   ┆ 11/29     │\n",
       "│           ┆           ┆          ┆ 155       ┆   ┆           ┆           ┆ Run       ┆           │\n",
       "│ Benjamin  ┆ 5.0088e8  ┆ 5.0100e9 ┆ 18656.637 ┆ … ┆ -1.356776 ┆ Korea     ┆ Michael   ┆ 01/27     │\n",
       "│           ┆           ┆          ┆ 876       ┆   ┆           ┆           ┆ Well      ┆           │\n",
       "│ Jeremy    ┆ 5.0177e8  ┆ 4.9490e9 ┆ 18412.446 ┆ … ┆ 0.122004  ┆ Korea     ┆ Michael   ┆ 11/26     │\n",
       "│           ┆           ┆          ┆ 195       ┆   ┆           ┆           ┆ Plains    ┆           │\n",
       "│ Cassie    ┆ 4.7972e8  ┆ 4.8537e9 ┆ 17193.802 ┆ … ┆ 9.205185  ┆ Congo     ┆ Michelle  ┆ 03/33     │\n",
       "│           ┆           ┆          ┆ 879       ┆   ┆           ┆           ┆ Loop      ┆           │\n",
       "│ Herbert   ┆ 4.9910e8  ┆ 5.1515e9 ┆ 19432.926 ┆ … ┆ 2.467747  ┆ American  ┆ Anna      ┆ 12/31     │\n",
       "│           ┆           ┆          ┆ 702       ┆   ┆           ┆ Samoa     ┆ Springs   ┆           │\n",
       "└───────────┴───────────┴──────────┴───────────┴───┴───────────┴───────────┴───────────┴───────────┘"
      ]
     },
     "execution_count": 7,
     "metadata": {},
     "output_type": "execute_result"
    }
   ],
   "source": [
    "cols_for_groupping = [\n",
    "    \"name\",\n",
    "    \"hair_color\",\n",
    "    \"accession_month\",\n",
    "    \"credit_card_expire\",\n",
    "    \"currency\",\n",
    "    \"city\",\n",
    "]\n",
    "cols_for_aggregation_num = [\n",
    "    \"balance\",\n",
    "    \"debt\",\n",
    "    \"building_number\",\n",
    "    \"credit_card_number\",\n",
    "    \"credit_card_security_code\",\n",
    "    \"coordinate\",\n",
    "]\n",
    "cols_for_aggregation_cat = [\"country\", \"street_name\", \"credit_card_expire\"]\n",
    "df.group_by(cols_for_groupping[0]).agg(\n",
    "    *[pl.mean(num).alias(f\"{num}_avg\") for num in cols_for_aggregation_num],\n",
    "    *[pl.std(num).alias(f\"{num}_std\") for num in cols_for_aggregation_num],\n",
    "    *[pl.median(num).alias(f\"{num}_median\") for num in cols_for_aggregation_num],\n",
    "    *[\n",
    "        pl.col(cat).mode().first().alias(f\"{cat}_mode\")\n",
    "        for cat in cols_for_aggregation_cat\n",
    "    ],\n",
    ")"
   ]
  },
  {
   "cell_type": "code",
   "execution_count": 8,
   "id": "18ef5460-90cc-4a19-9964-4d852ab7e37f",
   "metadata": {},
   "outputs": [
    {
     "data": {
      "text/html": [
       "<div><style>\n",
       ".dataframe > thead > tr,\n",
       ".dataframe > tbody > tr {\n",
       "  text-align: right;\n",
       "  white-space: pre-wrap;\n",
       "}\n",
       "</style>\n",
       "<small>shape: (1, 6)</small><table border=\"1\" class=\"dataframe\"><thead><tr><th>name</th><th>hair_color</th><th>accession_month</th><th>credit_card_expire</th><th>currency</th><th>city</th></tr><tr><td>u32</td><td>u32</td><td>u32</td><td>u32</td><td>u32</td><td>u32</td></tr></thead><tbody><tr><td>690</td><td>140</td><td>12</td><td>121</td><td>164</td><td>116088</td></tr></tbody></table></div>"
      ],
      "text/plain": [
       "shape: (1, 6)\n",
       "┌──────┬────────────┬─────────────────┬────────────────────┬──────────┬────────┐\n",
       "│ name ┆ hair_color ┆ accession_month ┆ credit_card_expire ┆ currency ┆ city   │\n",
       "│ ---  ┆ ---        ┆ ---             ┆ ---                ┆ ---      ┆ ---    │\n",
       "│ u32  ┆ u32        ┆ u32             ┆ u32                ┆ u32      ┆ u32    │\n",
       "╞══════╪════════════╪═════════════════╪════════════════════╪══════════╪════════╡\n",
       "│ 690  ┆ 140        ┆ 12              ┆ 121                ┆ 164      ┆ 116088 │\n",
       "└──────┴────────────┴─────────────────┴────────────────────┴──────────┴────────┘"
      ]
     },
     "execution_count": 8,
     "metadata": {},
     "output_type": "execute_result"
    }
   ],
   "source": [
    "df.select([pl.col(col).n_unique() for col in cols_for_groupping])"
   ]
  },
  {
   "cell_type": "code",
   "execution_count": 9,
   "id": "a3e479a3-91bc-47d0-a0d9-3fa6c8063ba7",
   "metadata": {},
   "outputs": [
    {
     "data": {
      "text/plain": [
       "0"
      ]
     },
     "execution_count": 9,
     "metadata": {},
     "output_type": "execute_result"
    }
   ],
   "source": [
    "del df_pd\n",
    "gc.collect()"
   ]
  },
  {
   "cell_type": "code",
   "execution_count": 10,
   "id": "13b2bc8c-c488-4787-a1b8-783318823154",
   "metadata": {},
   "outputs": [
    {
     "data": {
      "application/vnd.jupyter.widget-view+json": {
       "model_id": "ba485c7b66174c0c964c50977d8cf425",
       "version_major": 2,
       "version_minor": 0
      },
      "text/plain": [
       "  0%|          | 0/6 [00:00<?, ?it/s]"
      ]
     },
     "metadata": {},
     "output_type": "display_data"
    },
    {
     "name": "stdout",
     "output_type": "stream",
     "text": [
      "CPU times: user 27.2 s, sys: 2.23 s, total: 29.4 s\n",
      "Wall time: 8.14 s\n"
     ]
    }
   ],
   "source": [
    "%%time\n",
    "cols_for_groupping = [\n",
    "    \"name\",\n",
    "    \"hair_color\",\n",
    "    \"accession_month\",\n",
    "    \"credit_card_expire\",\n",
    "    \"currency\",\n",
    "    \"city\",\n",
    "]\n",
    "cols_for_aggregation_num = [\n",
    "    \"balance\",\n",
    "    \"debt\",\n",
    "    \"building_number\",\n",
    "    \"credit_card_number\",\n",
    "    \"credit_card_security_code\",\n",
    "    \"coordinate\",\n",
    "]\n",
    "cols_for_aggregation_cat = [\"country\", \"street_name\", \"credit_card_expire\"]\n",
    "\n",
    "for col in tqdm(cols_for_groupping):\n",
    "    temp = df.group_by(col).agg(\n",
    "        *[pl.mean(num).alias(f\"{num}_avg\") for num in cols_for_aggregation_num],\n",
    "        *[pl.std(num).alias(f\"{num}_std\") for num in cols_for_aggregation_num],\n",
    "        *[pl.median(num).alias(f\"{num}_median\") for num in cols_for_aggregation_num],\n",
    "        *[\n",
    "            pl.col(cat).mode().first().alias(f\"{cat}_mode\")\n",
    "            for cat in cols_for_aggregation_cat\n",
    "        ],\n",
    "    )\n",
    "    del temp"
   ]
  },
  {
   "cell_type": "code",
   "execution_count": 11,
   "id": "3981da2d-7bb0-4a0c-a2fd-c28f646f67a4",
   "metadata": {},
   "outputs": [
    {
     "data": {
      "application/vnd.jupyter.widget-view+json": {
       "model_id": "2ace57ae20d745d790a6e91bd6d67d33",
       "version_major": 2,
       "version_minor": 0
      },
      "text/plain": [
       "  0%|          | 0/6 [00:00<?, ?it/s]"
      ]
     },
     "metadata": {},
     "output_type": "display_data"
    },
    {
     "name": "stdout",
     "output_type": "stream",
     "text": [
      "CPU times: user 26 s, sys: 1.86 s, total: 27.9 s\n",
      "Wall time: 5.92 s\n"
     ]
    }
   ],
   "source": [
    "%%time\n",
    "cols_for_groupping = [\n",
    "    \"name\",\n",
    "    \"hair_color\",\n",
    "    \"accession_month\",\n",
    "    \"credit_card_expire\",\n",
    "    \"currency\",\n",
    "    \"city\",\n",
    "]\n",
    "cols_for_aggregation_num = [\n",
    "    \"balance\",\n",
    "    \"debt\",\n",
    "    \"building_number\",\n",
    "    \"credit_card_number\",\n",
    "    \"credit_card_security_code\",\n",
    "    \"coordinate\",\n",
    "]\n",
    "cols_for_aggregation_cat = [\"country\", \"street_name\", \"credit_card_expire\"]\n",
    "for col in tqdm(cols_for_groupping):\n",
    "    temp = (\n",
    "        df.lazy()\n",
    "        .group_by(col)\n",
    "        .agg(\n",
    "            *[pl.mean(num).alias(f\"{num}_avg\") for num in cols_for_aggregation_num],\n",
    "            *[pl.std(num).alias(f\"{num}_std\") for num in cols_for_aggregation_num],\n",
    "            *[\n",
    "                pl.median(num).alias(f\"{num}_median\")\n",
    "                for num in cols_for_aggregation_num\n",
    "            ],\n",
    "            *[\n",
    "                pl.col(cat).mode().first().alias(f\"{cat}_mode\")\n",
    "                for cat in cols_for_aggregation_cat\n",
    "            ],\n",
    "        )\n",
    "    )\n",
    "    temp.collect()\n",
    "    del temp"
   ]
  },
  {
   "cell_type": "code",
   "execution_count": 12,
   "id": "6ed32be4-b4a4-43a4-87f0-116973fc9a84",
   "metadata": {},
   "outputs": [
    {
     "data": {
      "text/plain": [
       "41"
      ]
     },
     "execution_count": 12,
     "metadata": {},
     "output_type": "execute_result"
    }
   ],
   "source": [
    "del df\n",
    "gc.collect()"
   ]
  },
  {
   "cell_type": "code",
   "execution_count": 13,
   "id": "6422e1e4-05a0-4ff3-af3e-9dc7e5ae0ce1",
   "metadata": {},
   "outputs": [],
   "source": [
    "df_pd = pd.read_csv(\"data/dummy_dataset.csv\")"
   ]
  },
  {
   "cell_type": "code",
   "execution_count": 14,
   "id": "93331d0e-77a5-406b-9f57-0aa1ea7a5086",
   "metadata": {},
   "outputs": [
    {
     "data": {
      "application/vnd.jupyter.widget-view+json": {
       "model_id": "890b653b2e754fe8b7a9746253afce82",
       "version_major": 2,
       "version_minor": 0
      },
      "text/plain": [
       "  0%|          | 0/6 [00:00<?, ?it/s]"
      ]
     },
     "metadata": {},
     "output_type": "display_data"
    },
    {
     "name": "stdout",
     "output_type": "stream",
     "text": [
      "CPU times: user 40.6 s, sys: 1.81 s, total: 42.4 s\n",
      "Wall time: 42 s\n"
     ]
    }
   ],
   "source": [
    "%%time\n",
    "cols_for_groupping = [\n",
    "    \"name\",\n",
    "    \"hair_color\",\n",
    "    \"accession_month\",\n",
    "    \"credit_card_expire\",\n",
    "    \"currency\",\n",
    "    \"city\",\n",
    "]\n",
    "cols_for_aggregation_num = [\n",
    "    \"balance\",\n",
    "    \"debt\",\n",
    "    \"building_number\",\n",
    "    \"credit_card_number\",\n",
    "    \"credit_card_security_code\",\n",
    "    \"coordinate\",\n",
    "]\n",
    "cols_for_aggregation_cat = [\"country\", \"street_name\", \"credit_card_expire\"]\n",
    "for col in tqdm(cols_for_groupping):\n",
    "    aggs = {num: [\"mean\", \"median\", \"std\"] for num in cols_for_aggregation_num}\n",
    "    aggs.update({cat: pd.Series.mode for cat in cols_for_aggregation_cat})\n",
    "    temp = df_pd.groupby(by=col).agg(aggs)\n",
    "    del temp"
   ]
  },
  {
   "cell_type": "markdown",
   "id": "71da5d7f-8342-4c09-b939-b7ca9e394838",
   "metadata": {},
   "source": [
    "#### Joins"
   ]
  },
  {
   "cell_type": "code",
   "execution_count": 15,
   "id": "c073984f-4e4b-422b-bbd6-646f1c50d80e",
   "metadata": {},
   "outputs": [],
   "source": [
    "cols_for_groupping = [\n",
    "    \"name\",\n",
    "    \"hair_color\",\n",
    "    \"city\",\n",
    "    \"credit_card_expire\",\n",
    "    \"currency\",\n",
    "    \"accession_month\",\n",
    "]\n",
    "cols_for_aggregation_num = [\n",
    "    \"balance\",\n",
    "    \"debt\",\n",
    "    \"building_number\",\n",
    "    \"credit_card_number\",\n",
    "    \"credit_card_security_code\",\n",
    "    \"coordinate\",\n",
    "]\n",
    "cols_for_aggregation_cat = [\"country\", \"street_name\", \"credit_card_expire\"]"
   ]
  },
  {
   "cell_type": "code",
   "execution_count": 16,
   "id": "07032499-48f8-4eca-8bc9-0fa0e9b0d9b7",
   "metadata": {},
   "outputs": [
    {
     "data": {
      "text/plain": [
       "21"
      ]
     },
     "execution_count": 16,
     "metadata": {},
     "output_type": "execute_result"
    }
   ],
   "source": [
    "del df_pd\n",
    "gc.collect()"
   ]
  },
  {
   "cell_type": "code",
   "execution_count": 17,
   "id": "0bbdb01b-f96d-4713-87c5-b22503eec02c",
   "metadata": {},
   "outputs": [],
   "source": [
    "df = pl.read_csv(\"data/dummy_dataset.csv\")"
   ]
  },
  {
   "cell_type": "code",
   "execution_count": 18,
   "id": "2fd6b94c-8b3b-4b10-a080-8b4b760db936",
   "metadata": {},
   "outputs": [],
   "source": [
    "arr = [\n",
    "    df.group_by(cols_for_groupping[i]).agg(\n",
    "        *[pl.mean(num).alias(f\"{num}_avg_{i}\") for num in cols_for_aggregation_num],\n",
    "        *[pl.std(num).alias(f\"{num}_std_{i}\") for num in cols_for_aggregation_num],\n",
    "        *[\n",
    "            pl.median(num).alias(f\"{num}_median_{i}\")\n",
    "            for num in cols_for_aggregation_num\n",
    "        ],\n",
    "        *[\n",
    "            pl.col(cat).mode().first().alias(f\"{cat}_mode_{i}\")\n",
    "            for cat in cols_for_aggregation_cat\n",
    "        ],\n",
    "    )\n",
    "    for i in range(3)\n",
    "]"
   ]
  },
  {
   "cell_type": "code",
   "execution_count": 19,
   "id": "8f8ea329-964c-40f3-94b4-41cba76eb7b4",
   "metadata": {},
   "outputs": [
    {
     "data": {
      "application/vnd.jupyter.widget-view+json": {
       "model_id": "17c1388609eb4e7d8aa71f4424cf28b6",
       "version_major": 2,
       "version_minor": 0
      },
      "text/plain": [
       "  0%|          | 0/3 [00:00<?, ?it/s]"
      ]
     },
     "metadata": {},
     "output_type": "display_data"
    },
    {
     "name": "stdout",
     "output_type": "stream",
     "text": [
      "CPU times: user 1.83 s, sys: 1.08 s, total: 2.91 s\n",
      "Wall time: 1.47 s\n"
     ]
    }
   ],
   "source": [
    "%%time\n",
    "for i in tqdm(range(3)):\n",
    "    df = df.join(arr[i], on=cols_for_groupping[i], how=\"left\")"
   ]
  },
  {
   "cell_type": "code",
   "execution_count": 20,
   "id": "a3e0c699-092c-4a23-81a1-a795d6c165b6",
   "metadata": {},
   "outputs": [
    {
     "data": {
      "text/plain": [
       "19"
      ]
     },
     "execution_count": 20,
     "metadata": {},
     "output_type": "execute_result"
    }
   ],
   "source": [
    "del arr\n",
    "del df\n",
    "gc.collect()"
   ]
  },
  {
   "cell_type": "code",
   "execution_count": 21,
   "id": "d8bf1959-0bd8-48db-ac1d-edc509de4de3",
   "metadata": {},
   "outputs": [],
   "source": [
    "df = pl.read_csv(\"data/dummy_dataset.csv\")\n",
    "\n",
    "arr = [\n",
    "    df.group_by(cols_for_groupping[i])\n",
    "    .agg(\n",
    "        *[pl.mean(num).alias(f\"{num}_avg_{i}\") for num in cols_for_aggregation_num],\n",
    "        *[pl.std(num).alias(f\"{num}_std_{i}\") for num in cols_for_aggregation_num],\n",
    "        *[\n",
    "            pl.median(num).alias(f\"{num}_median_{i}\")\n",
    "            for num in cols_for_aggregation_num\n",
    "        ],\n",
    "        *[\n",
    "            pl.col(cat).mode().first().alias(f\"{cat}_mode_{i}\")\n",
    "            for cat in cols_for_aggregation_cat\n",
    "        ],\n",
    "    )\n",
    "    .lazy()\n",
    "    for i in range(3)\n",
    "]\n",
    "df = df.lazy()"
   ]
  },
  {
   "cell_type": "code",
   "execution_count": 22,
   "id": "9ba1340a-533c-433f-b4bd-97a08af7c6d7",
   "metadata": {},
   "outputs": [
    {
     "data": {
      "application/vnd.jupyter.widget-view+json": {
       "model_id": "c9484d408d294ee8a6eb4905ce3ebb73",
       "version_major": 2,
       "version_minor": 0
      },
      "text/plain": [
       "  0%|          | 0/3 [00:00<?, ?it/s]"
      ]
     },
     "metadata": {},
     "output_type": "display_data"
    },
    {
     "name": "stdout",
     "output_type": "stream",
     "text": [
      "CPU times: user 1.7 s, sys: 911 ms, total: 2.61 s\n",
      "Wall time: 1.56 s\n"
     ]
    }
   ],
   "source": [
    "%%time\n",
    "for i in tqdm(range(3)):\n",
    "    df = df.join(arr[i], on=cols_for_groupping[i], how=\"left\")\n",
    "df = df.collect()\n",
    "\n"
   ]
  },
  {
   "cell_type": "code",
   "execution_count": 23,
   "id": "d6a2f040-e38e-48c3-8286-bb1725061913",
   "metadata": {},
   "outputs": [
    {
     "data": {
      "text/plain": [
       "19"
      ]
     },
     "execution_count": 23,
     "metadata": {},
     "output_type": "execute_result"
    }
   ],
   "source": [
    "del arr\n",
    "del df\n",
    "gc.collect()"
   ]
  },
  {
   "cell_type": "code",
   "execution_count": 24,
   "id": "ff5214eb-4648-46d8-adfa-d7e4654625b9",
   "metadata": {},
   "outputs": [],
   "source": [
    "df_pd = pd.read_csv(\"data/dummy_dataset.csv\")\n",
    "\n",
    "arr = []\n",
    "for i in range(3):\n",
    "    aggs = {num: [\"mean\", \"median\", \"std\"] for num in cols_for_aggregation_num}\n",
    "    aggs.update({cat: pd.Series.mode for cat in cols_for_aggregation_cat})\n",
    "    arr.append(\n",
    "        df_pd.groupby(by=cols_for_groupping[i], as_index=False)\n",
    "        .agg(aggs)\n",
    "        .droplevel(level=0, axis=1)\n",
    "        .rename(\n",
    "            columns=lambda x: (\n",
    "                x + f\"_{i}_{random.random()}\" if x != \"\" else cols_for_groupping[i]\n",
    "            )\n",
    "        )\n",
    "    )"
   ]
  },
  {
   "cell_type": "code",
   "execution_count": 25,
   "id": "7d41bddc-ce97-4df3-8f5a-9423a83edd63",
   "metadata": {},
   "outputs": [
    {
     "data": {
      "application/vnd.jupyter.widget-view+json": {
       "model_id": "bcdbfa23bacc424eab85d840f6c0b500",
       "version_major": 2,
       "version_minor": 0
      },
      "text/plain": [
       "  0%|          | 0/3 [00:00<?, ?it/s]"
      ]
     },
     "metadata": {},
     "output_type": "display_data"
    },
    {
     "name": "stdout",
     "output_type": "stream",
     "text": [
      "CPU times: user 7.6 s, sys: 6.31 s, total: 13.9 s\n",
      "Wall time: 17.3 s\n"
     ]
    }
   ],
   "source": [
    "%%time\n",
    "for i in tqdm(range(3)):\n",
    "    df_pd = df_pd.merge(arr[i], on=cols_for_groupping[i], how=\"left\")"
   ]
  },
  {
   "cell_type": "code",
   "execution_count": 26,
   "id": "b8d81a9e-2a1c-4f21-b60f-78236d2ff9bb",
   "metadata": {},
   "outputs": [
    {
     "data": {
      "text/plain": [
       "19"
      ]
     },
     "execution_count": 26,
     "metadata": {},
     "output_type": "execute_result"
    }
   ],
   "source": [
    "del arr\n",
    "del df_pd\n",
    "gc.collect()"
   ]
  },
  {
   "cell_type": "markdown",
   "id": "f6a526f4-05ff-499d-88a1-d9c7c5bd662e",
   "metadata": {},
   "source": [
    "### Assignation"
   ]
  },
  {
   "cell_type": "code",
   "execution_count": 27,
   "id": "cc9f4985-ac92-446e-9224-b124a81e665a",
   "metadata": {
    "scrolled": true
   },
   "outputs": [],
   "source": [
    "df = pl.read_csv(\"data/dummy_dataset.csv\")"
   ]
  },
  {
   "cell_type": "code",
   "execution_count": 28,
   "id": "55f518d0-24f4-4269-a7dc-790a417a39c2",
   "metadata": {},
   "outputs": [],
   "source": [
    "num_cols = df.select(cs.numeric()).columns\n",
    "cat_cols = df.select(cs.string()).columns"
   ]
  },
  {
   "cell_type": "code",
   "execution_count": 29,
   "id": "379aa94c-ee31-49f0-9284-fd1672086613",
   "metadata": {
    "scrolled": true
   },
   "outputs": [
    {
     "name": "stdout",
     "output_type": "stream",
     "text": [
      "CPU times: user 2.67 s, sys: 646 ms, total: 3.32 s\n",
      "Wall time: 516 ms\n"
     ]
    },
    {
     "data": {
      "text/html": [
       "<div><style>\n",
       ".dataframe > thead > tr,\n",
       ".dataframe > tbody > tr {\n",
       "  text-align: right;\n",
       "  white-space: pre-wrap;\n",
       "}\n",
       "</style>\n",
       "<small>shape: (5_000_005, 65)</small><table border=\"1\" class=\"dataframe\"><thead><tr><th>id</th><th>name</th><th>birth_date</th><th>hair_color</th><th>is_MU_fan</th><th>iq</th><th>accession_month</th><th>balance</th><th>debt</th><th>country</th><th>city</th><th>street_name</th><th>building_number</th><th>coordinate</th><th>license_plate</th><th>vin</th><th>swift</th><th>company_name</th><th>company_suffix</th><th>job_name</th><th>credit_card_expire</th><th>credit_card_number</th><th>credit_card_security_code</th><th>currency</th><th>id_sqrt</th><th>iq_sqrt</th><th>accession_month_sqrt</th><th>balance_sqrt</th><th>debt_sqrt</th><th>building_number_sqrt</th><th>coordinate_sqrt</th><th>credit_card_number_sqrt</th><th>credit_card_security_code_sqrt</th><th>id_sin</th><th>iq_sin</th><th>accession_month_sin</th><th>balance_sin</th><th>debt_sin</th><th>building_number_sin</th><th>coordinate_sin</th><th>credit_card_number_sin</th><th>credit_card_security_code_sin</th><th>id_add</th><th>iq_add</th><th>accession_month_add</th><th>balance_add</th><th>debt_add</th><th>building_number_add</th><th>coordinate_add</th><th>credit_card_number_add</th><th>credit_card_security_code_add</th><th>name_tail</th><th>birth_date_tail</th><th>hair_color_tail</th><th>country_tail</th><th>city_tail</th><th>street_name_tail</th><th>license_plate_tail</th><th>vin_tail</th><th>swift_tail</th><th>company_name_tail</th><th>company_suffix_tail</th><th>job_name_tail</th><th>credit_card_expire_tail</th><th>currency_tail</th></tr><tr><td>i64</td><td>str</td><td>str</td><td>str</td><td>bool</td><td>i64</td><td>i64</td><td>f64</td><td>f64</td><td>str</td><td>str</td><td>str</td><td>i64</td><td>f64</td><td>str</td><td>str</td><td>str</td><td>str</td><td>str</td><td>str</td><td>str</td><td>i64</td><td>i64</td><td>str</td><td>f64</td><td>f64</td><td>f64</td><td>f64</td><td>f64</td><td>f64</td><td>f64</td><td>f64</td><td>f64</td><td>f64</td><td>f64</td><td>f64</td><td>f64</td><td>f64</td><td>f64</td><td>f64</td><td>f64</td><td>f64</td><td>i64</td><td>i64</td><td>i64</td><td>f64</td><td>f64</td><td>i64</td><td>f64</td><td>i64</td><td>i64</td><td>str</td><td>str</td><td>str</td><td>str</td><td>str</td><td>str</td><td>str</td><td>str</td><td>str</td><td>str</td><td>str</td><td>str</td><td>str</td><td>str</td></tr></thead><tbody><tr><td>1984</td><td>&quot;Jennifer&quot;</td><td>&quot;2006-05-24&quot;</td><td>&quot;PaleGoldenRod&quot;</td><td>true</td><td>906</td><td>7</td><td>9.7458e8</td><td>9.6302e9</td><td>&quot;Bolivia&quot;</td><td>&quot;Lake Jeffrey&quot;</td><td>&quot;Alison Underpass&quot;</td><td>602</td><td>-134.798172</td><td>&quot;3CD16&quot;</td><td>&quot;GZMAE9F91PXWCUH9R&quot;</td><td>&quot;DWBDGB73&quot;</td><td>&quot;Salazar PLC&quot;</td><td>&quot;PLC&quot;</td><td>&quot;Biomedical scientist&quot;</td><td>&quot;03/28&quot;</td><td>213141891186046</td><td>5</td><td>&quot;NAD&quot;</td><td>44.542115</td><td>30.099834</td><td>2.645751</td><td>31218.311267</td><td>98133.349158</td><td>24.535688</td><td>NaN</td><td>1.4599e7</td><td>2.236068</td><td>-0.996454</td><td>0.939551</td><td>0.656987</td><td>0.989182</td><td>0.80225</td><td>-0.926796</td><td>-0.286251</td><td>0.583621</td><td>-0.958924</td><td>1989</td><td>911</td><td>12</td><td>9.7458e8</td><td>9.6302e9</td><td>607</td><td>-129.798172</td><td>213141891186051</td><td>10</td><td>&quot;fer&quot;</td><td>&quot;-24&quot;</td><td>&quot;Rod&quot;</td><td>&quot;via&quot;</td><td>&quot;rey&quot;</td><td>&quot;ass&quot;</td><td>&quot;D16&quot;</td><td>&quot;H9R&quot;</td><td>&quot;B73&quot;</td><td>&quot;PLC&quot;</td><td>&quot;PLC&quot;</td><td>&quot;ist&quot;</td><td>&quot;/28&quot;</td><td>&quot;NAD&quot;</td></tr><tr><td>4377</td><td>&quot;John&quot;</td><td>&quot;2022-03-15&quot;</td><td>&quot;Sienna&quot;</td><td>false</td><td>235</td><td>1</td><td>5.7888e8</td><td>2.9483e9</td><td>&quot;Egypt&quot;</td><td>&quot;Kellyborough&quot;</td><td>&quot;Heather Dale&quot;</td><td>38153</td><td>42.986348</td><td>&quot;90-ZJ96&quot;</td><td>&quot;GUGTCFXK934FD4MM8&quot;</td><td>&quot;IBBRGBPC&quot;</td><td>&quot;Payne Group&quot;</td><td>&quot;PLC&quot;</td><td>&quot;Amenity horticulturist&quot;</td><td>&quot;08/32&quot;</td><td>30234030061112</td><td>436</td><td>&quot;TOP&quot;</td><td>66.1589</td><td>15.32971</td><td>1.0</td><td>24059.825451</td><td>54298.345758</td><td>195.327929</td><td>6.556397</td><td>5.4985e6</td><td>20.880613</td><td>-0.68996</td><td>0.580587</td><td>0.841471</td><td>-0.730068</td><td>0.966013</td><td>0.99741</td><td>-0.839275</td><td>-0.407383</td><td>0.629865</td><td>4382</td><td>240</td><td>6</td><td>5.7888e8</td><td>2.9483e9</td><td>38158</td><td>47.986348</td><td>30234030061117</td><td>441</td><td>&quot;ohn&quot;</td><td>&quot;-15&quot;</td><td>&quot;nna&quot;</td><td>&quot;ypt&quot;</td><td>&quot;ugh&quot;</td><td>&quot;ale&quot;</td><td>&quot;J96&quot;</td><td>&quot;MM8&quot;</td><td>&quot;BPC&quot;</td><td>&quot;oup&quot;</td><td>&quot;PLC&quot;</td><td>&quot;ist&quot;</td><td>&quot;/32&quot;</td><td>&quot;TOP&quot;</td></tr><tr><td>1668</td><td>&quot;April&quot;</td><td>&quot;2022-02-20&quot;</td><td>&quot;DodgerBlue&quot;</td><td>false</td><td>387</td><td>2</td><td>3.6455e7</td><td>1.1997e9</td><td>&quot;Namibia&quot;</td><td>&quot;Port Dillonland&quot;</td><td>&quot;Jimmy Lock&quot;</td><td>876</td><td>46.57002</td><td>&quot;GBB 810&quot;</td><td>&quot;RN4FHXMX723BLLLLW&quot;</td><td>&quot;VLPDGBAD&quot;</td><td>&quot;Gordon, Saunders and Jimenez&quot;</td><td>&quot;Group&quot;</td><td>&quot;Production assistant, radio&quot;</td><td>&quot;10/32&quot;</td><td>4239854219348534</td><td>311</td><td>&quot;MXN&quot;</td><td>40.841156</td><td>19.672316</td><td>1.414214</td><td>6037.78174</td><td>34636.080016</td><td>29.597297</td><td>6.824223</td><td>6.5114e7</td><td>17.635192</td><td>0.184634</td><td>-0.551452</td><td>0.909297</td><td>-0.326152</td><td>-0.574312</td><td>0.483239</td><td>0.525982</td><td>0.999822</td><td>0.017672</td><td>1673</td><td>392</td><td>7</td><td>3.6455e7</td><td>1.1997e9</td><td>881</td><td>51.57002</td><td>4239854219348539</td><td>316</td><td>&quot;ril&quot;</td><td>&quot;-20&quot;</td><td>&quot;lue&quot;</td><td>&quot;bia&quot;</td><td>&quot;and&quot;</td><td>&quot;ock&quot;</td><td>&quot;810&quot;</td><td>&quot;LLW&quot;</td><td>&quot;BAD&quot;</td><td>&quot;nez&quot;</td><td>&quot;oup&quot;</td><td>&quot;dio&quot;</td><td>&quot;/32&quot;</td><td>&quot;MXN&quot;</td></tr><tr><td>1304</td><td>&quot;Nathan&quot;</td><td>&quot;2013-06-07&quot;</td><td>&quot;MintCream&quot;</td><td>true</td><td>320</td><td>5</td><td>7.1056e8</td><td>9.1401e8</td><td>&quot;Switzerland&quot;</td><td>&quot;Lake Nicholeville&quot;</td><td>&quot;Jon Streets&quot;</td><td>214</td><td>115.053304</td><td>&quot;OD 93833&quot;</td><td>&quot;JE195THF0L8WJZCTG&quot;</td><td>&quot;LYEUGBTX&quot;</td><td>&quot;Cherry Inc&quot;</td><td>&quot;Inc&quot;</td><td>&quot;Outdoor activities/education m…</td><td>&quot;07/33&quot;</td><td>180075318572801</td><td>5179</td><td>&quot;NIS&quot;</td><td>36.11094</td><td>17.888544</td><td>2.236068</td><td>26656.260448</td><td>30232.673363</td><td>14.628739</td><td>10.72629</td><td>1.3419e7</td><td>71.965269</td><td>-0.236779</td><td>-0.428155</td><td>-0.958924</td><td>-0.446853</td><td>-0.634985</td><td>0.363199</td><td>0.926734</td><td>0.405029</td><td>0.996431</td><td>1309</td><td>325</td><td>10</td><td>7.1056e8</td><td>9.1401e8</td><td>219</td><td>120.053304</td><td>180075318572806</td><td>5184</td><td>&quot;han&quot;</td><td>&quot;-07&quot;</td><td>&quot;eam&quot;</td><td>&quot;and&quot;</td><td>&quot;lle&quot;</td><td>&quot;ets&quot;</td><td>&quot;833&quot;</td><td>&quot;CTG&quot;</td><td>&quot;BTX&quot;</td><td>&quot;Inc&quot;</td><td>&quot;Inc&quot;</td><td>&quot;ger&quot;</td><td>&quot;/33&quot;</td><td>&quot;NIS&quot;</td></tr><tr><td>8154</td><td>&quot;Cynthia&quot;</td><td>&quot;2023-11-14&quot;</td><td>&quot;DarkSalmon&quot;</td><td>false</td><td>891</td><td>9</td><td>5.9632e8</td><td>4.1042e9</td><td>&quot;Greece&quot;</td><td>&quot;South Ronaldhaven&quot;</td><td>&quot;Brent Prairie&quot;</td><td>50038</td><td>55.289272</td><td>&quot;7I RW552&quot;</td><td>&quot;VF2HLEMD1690DK17P&quot;</td><td>&quot;AFOLGBH4&quot;</td><td>&quot;Cruz Ltd&quot;</td><td>&quot;Group&quot;</td><td>&quot;Engineer, automotive&quot;</td><td>&quot;09/28&quot;</td><td>4993489088320546606</td><td>353</td><td>&quot;BAM&quot;</td><td>90.299502</td><td>29.849623</td><td>3.0</td><td>24419.582472</td><td>64064.207644</td><td>223.691752</td><td>7.435676</td><td>2.2346e9</td><td>18.788294</td><td>-0.999993</td><td>-0.93643</td><td>0.412118</td><td>0.869352</td><td>0.440658</td><td>-0.960219</td><td>-0.951905</td><td>-0.840214</td><td>0.90931</td><td>8159</td><td>896</td><td>14</td><td>5.9632e8</td><td>4.1042e9</td><td>50043</td><td>60.289272</td><td>4993489088320546611</td><td>358</td><td>&quot;hia&quot;</td><td>&quot;-14&quot;</td><td>&quot;mon&quot;</td><td>&quot;ece&quot;</td><td>&quot;ven&quot;</td><td>&quot;rie&quot;</td><td>&quot;552&quot;</td><td>&quot;17P&quot;</td><td>&quot;BH4&quot;</td><td>&quot;Ltd&quot;</td><td>&quot;oup&quot;</td><td>&quot;ive&quot;</td><td>&quot;/28&quot;</td><td>&quot;BAM&quot;</td></tr><tr><td>&hellip;</td><td>&hellip;</td><td>&hellip;</td><td>&hellip;</td><td>&hellip;</td><td>&hellip;</td><td>&hellip;</td><td>&hellip;</td><td>&hellip;</td><td>&hellip;</td><td>&hellip;</td><td>&hellip;</td><td>&hellip;</td><td>&hellip;</td><td>&hellip;</td><td>&hellip;</td><td>&hellip;</td><td>&hellip;</td><td>&hellip;</td><td>&hellip;</td><td>&hellip;</td><td>&hellip;</td><td>&hellip;</td><td>&hellip;</td><td>&hellip;</td><td>&hellip;</td><td>&hellip;</td><td>&hellip;</td><td>&hellip;</td><td>&hellip;</td><td>&hellip;</td><td>&hellip;</td><td>&hellip;</td><td>&hellip;</td><td>&hellip;</td><td>&hellip;</td><td>&hellip;</td><td>&hellip;</td><td>&hellip;</td><td>&hellip;</td><td>&hellip;</td><td>&hellip;</td><td>&hellip;</td><td>&hellip;</td><td>&hellip;</td><td>&hellip;</td><td>&hellip;</td><td>&hellip;</td><td>&hellip;</td><td>&hellip;</td><td>&hellip;</td><td>&hellip;</td><td>&hellip;</td><td>&hellip;</td><td>&hellip;</td><td>&hellip;</td><td>&hellip;</td><td>&hellip;</td><td>&hellip;</td><td>&hellip;</td><td>&hellip;</td><td>&hellip;</td><td>&hellip;</td><td>&hellip;</td><td>&hellip;</td></tr><tr><td>4922</td><td>&quot;Alexis&quot;</td><td>&quot;2024-03-24&quot;</td><td>&quot;Green&quot;</td><td>true</td><td>167</td><td>5</td><td>3.9597e8</td><td>9.3008e8</td><td>&quot;Saint Martin&quot;</td><td>&quot;Lake Tara&quot;</td><td>&quot;Donna Harbors&quot;</td><td>241</td><td>-119.632217</td><td>&quot;MVK 678&quot;</td><td>&quot;6R243FV412SPK04A8&quot;</td><td>&quot;OEBIGBIZ&quot;</td><td>&quot;Gutierrez-Davidson&quot;</td><td>&quot;PLC&quot;</td><td>&quot;Clinical scientist, histocompa…</td><td>&quot;04/34&quot;</td><td>4317515348040111</td><td>519</td><td>&quot;KZT&quot;</td><td>70.156967</td><td>12.922848</td><td>2.236068</td><td>19898.898164</td><td>30497.290579</td><td>15.524175</td><td>NaN</td><td>6.5708e7</td><td>22.781571</td><td>0.767984</td><td>-0.47555</td><td>-0.958924</td><td>-0.99032</td><td>-0.936647</td><td>0.784962</td><td>-0.249047</td><td>-0.312088</td><td>-0.594957</td><td>4927</td><td>172</td><td>10</td><td>3.9597e8</td><td>9.3008e8</td><td>246</td><td>-114.632217</td><td>4317515348040116</td><td>524</td><td>&quot;xis&quot;</td><td>&quot;-24&quot;</td><td>&quot;een&quot;</td><td>&quot;tin&quot;</td><td>&quot;ara&quot;</td><td>&quot;ors&quot;</td><td>&quot;678&quot;</td><td>&quot;4A8&quot;</td><td>&quot;BIZ&quot;</td><td>&quot;son&quot;</td><td>&quot;PLC&quot;</td><td>&quot;ics&quot;</td><td>&quot;/34&quot;</td><td>&quot;KZT&quot;</td></tr><tr><td>7522</td><td>&quot;Karen&quot;</td><td>&quot;2017-10-31&quot;</td><td>&quot;Olive&quot;</td><td>false</td><td>227</td><td>10</td><td>3.4249e8</td><td>9.2168e9</td><td>&quot;Belarus&quot;</td><td>&quot;Brownfurt&quot;</td><td>&quot;Frank Wall&quot;</td><td>0</td><td>-50.525241</td><td>&quot;39-KM46&quot;</td><td>&quot;DEDZ4TY44LZT2GL3L&quot;</td><td>&quot;RRMSGB64&quot;</td><td>&quot;Klein-Miller&quot;</td><td>&quot;Inc&quot;</td><td>&quot;Forensic psychologist&quot;</td><td>&quot;04/28&quot;</td><td>2233322460028841</td><td>0</td><td>&quot;VND&quot;</td><td>86.729464</td><td>15.066519</td><td>3.162278</td><td>18506.433395</td><td>96004.345463</td><td>0.0</td><td>NaN</td><td>4.7258e7</td><td>0.0</td><td>0.855848</td><td>0.721059</td><td>-0.544021</td><td>0.573631</td><td>0.630359</td><td>0.0</td><td>-0.256847</td><td>-0.66105</td><td>0.0</td><td>7527</td><td>232</td><td>15</td><td>3.4249e8</td><td>9.2168e9</td><td>5</td><td>-45.525241</td><td>2233322460028846</td><td>5</td><td>&quot;ren&quot;</td><td>&quot;-31&quot;</td><td>&quot;ive&quot;</td><td>&quot;rus&quot;</td><td>&quot;urt&quot;</td><td>&quot;all&quot;</td><td>&quot;M46&quot;</td><td>&quot;L3L&quot;</td><td>&quot;B64&quot;</td><td>&quot;ler&quot;</td><td>&quot;Inc&quot;</td><td>&quot;ist&quot;</td><td>&quot;/28&quot;</td><td>&quot;VND&quot;</td></tr><tr><td>1896</td><td>&quot;Danielle&quot;</td><td>&quot;1998-07-14&quot;</td><td>&quot;HotPink&quot;</td><td>true</td><td>675</td><td>8</td><td>7.7132e8</td><td>5.3113e9</td><td>&quot;Saint Barthelemy&quot;</td><td>&quot;East Robert&quot;</td><td>&quot;Kayla Key&quot;</td><td>49032</td><td>86.667822</td><td>&quot;9S230&quot;</td><td>&quot;LCW80LB322VPX1A8U&quot;</td><td>&quot;ZXCDGBZR&quot;</td><td>&quot;Walton LLC&quot;</td><td>&quot;Ltd&quot;</td><td>&quot;Tax adviser&quot;</td><td>&quot;10/27&quot;</td><td>2696106733714620</td><td>420</td><td>&quot;TTD&quot;</td><td>43.543082</td><td>25.980762</td><td>2.828427</td><td>27772.653048</td><td>72878.477102</td><td>221.431705</td><td>9.309555</td><td>5.1924e7</td><td>20.493902</td><td>-0.998808</td><td>0.428128</td><td>0.989358</td><td>-0.83639</td><td>0.005103</td><td>-0.918178</td><td>-0.96269</td><td>0.837288</td><td>-0.826812</td><td>1901</td><td>680</td><td>13</td><td>7.7132e8</td><td>5.3113e9</td><td>49037</td><td>91.667822</td><td>2696106733714625</td><td>425</td><td>&quot;lle&quot;</td><td>&quot;-14&quot;</td><td>&quot;ink&quot;</td><td>&quot;emy&quot;</td><td>&quot;ert&quot;</td><td>&quot;Key&quot;</td><td>&quot;230&quot;</td><td>&quot;A8U&quot;</td><td>&quot;BZR&quot;</td><td>&quot;LLC&quot;</td><td>&quot;Ltd&quot;</td><td>&quot;ser&quot;</td><td>&quot;/27&quot;</td><td>&quot;TTD&quot;</td></tr><tr><td>6060</td><td>&quot;Mary&quot;</td><td>&quot;1994-10-10&quot;</td><td>&quot;Aqua&quot;</td><td>true</td><td>483</td><td>2</td><td>7.6923e8</td><td>6.7472e9</td><td>&quot;Israel&quot;</td><td>&quot;Mullenmouth&quot;</td><td>&quot;Derrick Rapids&quot;</td><td>9632</td><td>-152.370592</td><td>&quot;ZZR 9029&quot;</td><td>&quot;C8HJX0SW3AGH6TJC0&quot;</td><td>&quot;THUVGBWB&quot;</td><td>&quot;Rivera, Lewis and Miller&quot;</td><td>&quot;LLC&quot;</td><td>&quot;Multimedia specialist&quot;</td><td>&quot;10/27&quot;</td><td>4361042620080</td><td>380</td><td>&quot;ALL&quot;</td><td>77.846002</td><td>21.977261</td><td>1.414214</td><td>27735.059944</td><td>82141.20015</td><td>98.142753</td><td>NaN</td><td>2.0883e6</td><td>19.493589</td><td>0.131844</td><td>-0.721017</td><td>0.909297</td><td>-0.646136</td><td>-0.547439</td><td>-0.122765</td><td>-0.999994</td><td>0.852743</td><td>0.132322</td><td>6065</td><td>488</td><td>7</td><td>7.6923e8</td><td>6.7472e9</td><td>9637</td><td>-147.370592</td><td>4361042620085</td><td>385</td><td>&quot;ary&quot;</td><td>&quot;-10&quot;</td><td>&quot;qua&quot;</td><td>&quot;ael&quot;</td><td>&quot;uth&quot;</td><td>&quot;ids&quot;</td><td>&quot;029&quot;</td><td>&quot;JC0&quot;</td><td>&quot;BWB&quot;</td><td>&quot;ler&quot;</td><td>&quot;LLC&quot;</td><td>&quot;ist&quot;</td><td>&quot;/27&quot;</td><td>&quot;ALL&quot;</td></tr><tr><td>3388</td><td>&quot;Lauren&quot;</td><td>&quot;1996-12-22&quot;</td><td>&quot;DimGray&quot;</td><td>true</td><td>441</td><td>4</td><td>6.3486e7</td><td>7.4084e9</td><td>&quot;Sri Lanka&quot;</td><td>&quot;East Cathy&quot;</td><td>&quot;William Pass&quot;</td><td>493</td><td>-77.921783</td><td>&quot;034 AQC&quot;</td><td>&quot;RPNN1GRWXPBGTUS21&quot;</td><td>&quot;WHEEGBZ8&quot;</td><td>&quot;Harris-King&quot;</td><td>&quot;Ltd&quot;</td><td>&quot;Conservation officer, nature&quot;</td><td>&quot;06/26&quot;</td><td>4405332990603317890</td><td>8932</td><td>&quot;ISK&quot;</td><td>58.206529</td><td>21.0</td><td>2.0</td><td>7967.830888</td><td>86072.282244</td><td>22.203603</td><td>NaN</td><td>2.0989e9</td><td>94.509259</td><td>0.978513</td><td>0.92347</td><td>-0.756802</td><td>0.524353</td><td>-0.981723</td><td>0.228023</td><td>-0.579433</td><td>0.302559</td><td>-0.436843</td><td>3393</td><td>446</td><td>9</td><td>6.3486e7</td><td>7.4084e9</td><td>498</td><td>-72.921783</td><td>4405332990603317895</td><td>8937</td><td>&quot;ren&quot;</td><td>&quot;-22&quot;</td><td>&quot;ray&quot;</td><td>&quot;nka&quot;</td><td>&quot;thy&quot;</td><td>&quot;ass&quot;</td><td>&quot;AQC&quot;</td><td>&quot;S21&quot;</td><td>&quot;BZ8&quot;</td><td>&quot;ing&quot;</td><td>&quot;Ltd&quot;</td><td>&quot;ure&quot;</td><td>&quot;/26&quot;</td><td>&quot;ISK&quot;</td></tr></tbody></table></div>"
      ],
      "text/plain": [
       "shape: (5_000_005, 65)\n",
       "┌──────┬──────────┬────────────┬────────────┬───┬────────────┬────────────┬────────────┬───────────┐\n",
       "│ id   ┆ name     ┆ birth_date ┆ hair_color ┆ … ┆ company_su ┆ job_name_t ┆ credit_car ┆ currency_ │\n",
       "│ ---  ┆ ---      ┆ ---        ┆ ---        ┆   ┆ ffix_tail  ┆ ail        ┆ d_expire_t ┆ tail      │\n",
       "│ i64  ┆ str      ┆ str        ┆ str        ┆   ┆ ---        ┆ ---        ┆ ail        ┆ ---       │\n",
       "│      ┆          ┆            ┆            ┆   ┆ str        ┆ str        ┆ ---        ┆ str       │\n",
       "│      ┆          ┆            ┆            ┆   ┆            ┆            ┆ str        ┆           │\n",
       "╞══════╪══════════╪════════════╪════════════╪═══╪════════════╪════════════╪════════════╪═══════════╡\n",
       "│ 1984 ┆ Jennifer ┆ 2006-05-24 ┆ PaleGolden ┆ … ┆ PLC        ┆ ist        ┆ /28        ┆ NAD       │\n",
       "│      ┆          ┆            ┆ Rod        ┆   ┆            ┆            ┆            ┆           │\n",
       "│ 4377 ┆ John     ┆ 2022-03-15 ┆ Sienna     ┆ … ┆ PLC        ┆ ist        ┆ /32        ┆ TOP       │\n",
       "│ 1668 ┆ April    ┆ 2022-02-20 ┆ DodgerBlue ┆ … ┆ oup        ┆ dio        ┆ /32        ┆ MXN       │\n",
       "│ 1304 ┆ Nathan   ┆ 2013-06-07 ┆ MintCream  ┆ … ┆ Inc        ┆ ger        ┆ /33        ┆ NIS       │\n",
       "│ 8154 ┆ Cynthia  ┆ 2023-11-14 ┆ DarkSalmon ┆ … ┆ oup        ┆ ive        ┆ /28        ┆ BAM       │\n",
       "│ …    ┆ …        ┆ …          ┆ …          ┆ … ┆ …          ┆ …          ┆ …          ┆ …         │\n",
       "│ 4922 ┆ Alexis   ┆ 2024-03-24 ┆ Green      ┆ … ┆ PLC        ┆ ics        ┆ /34        ┆ KZT       │\n",
       "│ 7522 ┆ Karen    ┆ 2017-10-31 ┆ Olive      ┆ … ┆ Inc        ┆ ist        ┆ /28        ┆ VND       │\n",
       "│ 1896 ┆ Danielle ┆ 1998-07-14 ┆ HotPink    ┆ … ┆ Ltd        ┆ ser        ┆ /27        ┆ TTD       │\n",
       "│ 6060 ┆ Mary     ┆ 1994-10-10 ┆ Aqua       ┆ … ┆ LLC        ┆ ist        ┆ /27        ┆ ALL       │\n",
       "│ 3388 ┆ Lauren   ┆ 1996-12-22 ┆ DimGray    ┆ … ┆ Ltd        ┆ ure        ┆ /26        ┆ ISK       │\n",
       "└──────┴──────────┴────────────┴────────────┴───┴────────────┴────────────┴────────────┴───────────┘"
      ]
     },
     "execution_count": 29,
     "metadata": {},
     "output_type": "execute_result"
    }
   ],
   "source": [
    "%%time\n",
    "df.with_columns(\n",
    "    [pl.col(col).sqrt().alias(col + \"_sqrt\") for col in num_cols]\n",
    "    + [pl.col(col).sin().alias(col + \"_sin\") for col in num_cols]\n",
    "    + [(pl.col(col) + 5).alias(col + \"_add\") for col in num_cols]\n",
    "    + [pl.col(col).str.tail(3).alias(col + \"_tail\") for col in cat_cols]\n",
    ")"
   ]
  },
  {
   "cell_type": "code",
   "execution_count": 30,
   "id": "9e7f68bb-efb7-4d0d-a854-d700393e54b0",
   "metadata": {},
   "outputs": [],
   "source": [
    "df = df.lazy()"
   ]
  },
  {
   "cell_type": "code",
   "execution_count": 31,
   "id": "f170d1b0-b7a5-4009-a7a9-f99e88c57c6d",
   "metadata": {},
   "outputs": [
    {
     "name": "stdout",
     "output_type": "stream",
     "text": [
      "CPU times: user 2.7 s, sys: 591 ms, total: 3.29 s\n",
      "Wall time: 660 ms\n"
     ]
    },
    {
     "data": {
      "text/html": [
       "<div><style>\n",
       ".dataframe > thead > tr,\n",
       ".dataframe > tbody > tr {\n",
       "  text-align: right;\n",
       "  white-space: pre-wrap;\n",
       "}\n",
       "</style>\n",
       "<small>shape: (5_000_005, 65)</small><table border=\"1\" class=\"dataframe\"><thead><tr><th>id</th><th>name</th><th>birth_date</th><th>hair_color</th><th>is_MU_fan</th><th>iq</th><th>accession_month</th><th>balance</th><th>debt</th><th>country</th><th>city</th><th>street_name</th><th>building_number</th><th>coordinate</th><th>license_plate</th><th>vin</th><th>swift</th><th>company_name</th><th>company_suffix</th><th>job_name</th><th>credit_card_expire</th><th>credit_card_number</th><th>credit_card_security_code</th><th>currency</th><th>id_sqrt</th><th>iq_sqrt</th><th>accession_month_sqrt</th><th>balance_sqrt</th><th>debt_sqrt</th><th>building_number_sqrt</th><th>coordinate_sqrt</th><th>credit_card_number_sqrt</th><th>credit_card_security_code_sqrt</th><th>id_sin</th><th>iq_sin</th><th>accession_month_sin</th><th>balance_sin</th><th>debt_sin</th><th>building_number_sin</th><th>coordinate_sin</th><th>credit_card_number_sin</th><th>credit_card_security_code_sin</th><th>id_add</th><th>iq_add</th><th>accession_month_add</th><th>balance_add</th><th>debt_add</th><th>building_number_add</th><th>coordinate_add</th><th>credit_card_number_add</th><th>credit_card_security_code_add</th><th>name_tail</th><th>birth_date_tail</th><th>hair_color_tail</th><th>country_tail</th><th>city_tail</th><th>street_name_tail</th><th>license_plate_tail</th><th>vin_tail</th><th>swift_tail</th><th>company_name_tail</th><th>company_suffix_tail</th><th>job_name_tail</th><th>credit_card_expire_tail</th><th>currency_tail</th></tr><tr><td>i64</td><td>str</td><td>str</td><td>str</td><td>bool</td><td>i64</td><td>i64</td><td>f64</td><td>f64</td><td>str</td><td>str</td><td>str</td><td>i64</td><td>f64</td><td>str</td><td>str</td><td>str</td><td>str</td><td>str</td><td>str</td><td>str</td><td>i64</td><td>i64</td><td>str</td><td>f64</td><td>f64</td><td>f64</td><td>f64</td><td>f64</td><td>f64</td><td>f64</td><td>f64</td><td>f64</td><td>f64</td><td>f64</td><td>f64</td><td>f64</td><td>f64</td><td>f64</td><td>f64</td><td>f64</td><td>f64</td><td>i64</td><td>i64</td><td>i64</td><td>f64</td><td>f64</td><td>i64</td><td>f64</td><td>i64</td><td>i64</td><td>str</td><td>str</td><td>str</td><td>str</td><td>str</td><td>str</td><td>str</td><td>str</td><td>str</td><td>str</td><td>str</td><td>str</td><td>str</td><td>str</td></tr></thead><tbody><tr><td>1984</td><td>&quot;Jennifer&quot;</td><td>&quot;2006-05-24&quot;</td><td>&quot;PaleGoldenRod&quot;</td><td>true</td><td>906</td><td>7</td><td>9.7458e8</td><td>9.6302e9</td><td>&quot;Bolivia&quot;</td><td>&quot;Lake Jeffrey&quot;</td><td>&quot;Alison Underpass&quot;</td><td>602</td><td>-134.798172</td><td>&quot;3CD16&quot;</td><td>&quot;GZMAE9F91PXWCUH9R&quot;</td><td>&quot;DWBDGB73&quot;</td><td>&quot;Salazar PLC&quot;</td><td>&quot;PLC&quot;</td><td>&quot;Biomedical scientist&quot;</td><td>&quot;03/28&quot;</td><td>213141891186046</td><td>5</td><td>&quot;NAD&quot;</td><td>44.542115</td><td>30.099834</td><td>2.645751</td><td>31218.311267</td><td>98133.349158</td><td>24.535688</td><td>NaN</td><td>1.4599e7</td><td>2.236068</td><td>-0.996454</td><td>0.939551</td><td>0.656987</td><td>0.989182</td><td>0.80225</td><td>-0.926796</td><td>-0.286251</td><td>0.583621</td><td>-0.958924</td><td>1989</td><td>911</td><td>12</td><td>9.7458e8</td><td>9.6302e9</td><td>607</td><td>-129.798172</td><td>213141891186051</td><td>10</td><td>&quot;fer&quot;</td><td>&quot;-24&quot;</td><td>&quot;Rod&quot;</td><td>&quot;via&quot;</td><td>&quot;rey&quot;</td><td>&quot;ass&quot;</td><td>&quot;D16&quot;</td><td>&quot;H9R&quot;</td><td>&quot;B73&quot;</td><td>&quot;PLC&quot;</td><td>&quot;PLC&quot;</td><td>&quot;ist&quot;</td><td>&quot;/28&quot;</td><td>&quot;NAD&quot;</td></tr><tr><td>4377</td><td>&quot;John&quot;</td><td>&quot;2022-03-15&quot;</td><td>&quot;Sienna&quot;</td><td>false</td><td>235</td><td>1</td><td>5.7888e8</td><td>2.9483e9</td><td>&quot;Egypt&quot;</td><td>&quot;Kellyborough&quot;</td><td>&quot;Heather Dale&quot;</td><td>38153</td><td>42.986348</td><td>&quot;90-ZJ96&quot;</td><td>&quot;GUGTCFXK934FD4MM8&quot;</td><td>&quot;IBBRGBPC&quot;</td><td>&quot;Payne Group&quot;</td><td>&quot;PLC&quot;</td><td>&quot;Amenity horticulturist&quot;</td><td>&quot;08/32&quot;</td><td>30234030061112</td><td>436</td><td>&quot;TOP&quot;</td><td>66.1589</td><td>15.32971</td><td>1.0</td><td>24059.825451</td><td>54298.345758</td><td>195.327929</td><td>6.556397</td><td>5.4985e6</td><td>20.880613</td><td>-0.68996</td><td>0.580587</td><td>0.841471</td><td>-0.730068</td><td>0.966013</td><td>0.99741</td><td>-0.839275</td><td>-0.407383</td><td>0.629865</td><td>4382</td><td>240</td><td>6</td><td>5.7888e8</td><td>2.9483e9</td><td>38158</td><td>47.986348</td><td>30234030061117</td><td>441</td><td>&quot;ohn&quot;</td><td>&quot;-15&quot;</td><td>&quot;nna&quot;</td><td>&quot;ypt&quot;</td><td>&quot;ugh&quot;</td><td>&quot;ale&quot;</td><td>&quot;J96&quot;</td><td>&quot;MM8&quot;</td><td>&quot;BPC&quot;</td><td>&quot;oup&quot;</td><td>&quot;PLC&quot;</td><td>&quot;ist&quot;</td><td>&quot;/32&quot;</td><td>&quot;TOP&quot;</td></tr><tr><td>1668</td><td>&quot;April&quot;</td><td>&quot;2022-02-20&quot;</td><td>&quot;DodgerBlue&quot;</td><td>false</td><td>387</td><td>2</td><td>3.6455e7</td><td>1.1997e9</td><td>&quot;Namibia&quot;</td><td>&quot;Port Dillonland&quot;</td><td>&quot;Jimmy Lock&quot;</td><td>876</td><td>46.57002</td><td>&quot;GBB 810&quot;</td><td>&quot;RN4FHXMX723BLLLLW&quot;</td><td>&quot;VLPDGBAD&quot;</td><td>&quot;Gordon, Saunders and Jimenez&quot;</td><td>&quot;Group&quot;</td><td>&quot;Production assistant, radio&quot;</td><td>&quot;10/32&quot;</td><td>4239854219348534</td><td>311</td><td>&quot;MXN&quot;</td><td>40.841156</td><td>19.672316</td><td>1.414214</td><td>6037.78174</td><td>34636.080016</td><td>29.597297</td><td>6.824223</td><td>6.5114e7</td><td>17.635192</td><td>0.184634</td><td>-0.551452</td><td>0.909297</td><td>-0.326152</td><td>-0.574312</td><td>0.483239</td><td>0.525982</td><td>0.999822</td><td>0.017672</td><td>1673</td><td>392</td><td>7</td><td>3.6455e7</td><td>1.1997e9</td><td>881</td><td>51.57002</td><td>4239854219348539</td><td>316</td><td>&quot;ril&quot;</td><td>&quot;-20&quot;</td><td>&quot;lue&quot;</td><td>&quot;bia&quot;</td><td>&quot;and&quot;</td><td>&quot;ock&quot;</td><td>&quot;810&quot;</td><td>&quot;LLW&quot;</td><td>&quot;BAD&quot;</td><td>&quot;nez&quot;</td><td>&quot;oup&quot;</td><td>&quot;dio&quot;</td><td>&quot;/32&quot;</td><td>&quot;MXN&quot;</td></tr><tr><td>1304</td><td>&quot;Nathan&quot;</td><td>&quot;2013-06-07&quot;</td><td>&quot;MintCream&quot;</td><td>true</td><td>320</td><td>5</td><td>7.1056e8</td><td>9.1401e8</td><td>&quot;Switzerland&quot;</td><td>&quot;Lake Nicholeville&quot;</td><td>&quot;Jon Streets&quot;</td><td>214</td><td>115.053304</td><td>&quot;OD 93833&quot;</td><td>&quot;JE195THF0L8WJZCTG&quot;</td><td>&quot;LYEUGBTX&quot;</td><td>&quot;Cherry Inc&quot;</td><td>&quot;Inc&quot;</td><td>&quot;Outdoor activities/education m…</td><td>&quot;07/33&quot;</td><td>180075318572801</td><td>5179</td><td>&quot;NIS&quot;</td><td>36.11094</td><td>17.888544</td><td>2.236068</td><td>26656.260448</td><td>30232.673363</td><td>14.628739</td><td>10.72629</td><td>1.3419e7</td><td>71.965269</td><td>-0.236779</td><td>-0.428155</td><td>-0.958924</td><td>-0.446853</td><td>-0.634985</td><td>0.363199</td><td>0.926734</td><td>0.405029</td><td>0.996431</td><td>1309</td><td>325</td><td>10</td><td>7.1056e8</td><td>9.1401e8</td><td>219</td><td>120.053304</td><td>180075318572806</td><td>5184</td><td>&quot;han&quot;</td><td>&quot;-07&quot;</td><td>&quot;eam&quot;</td><td>&quot;and&quot;</td><td>&quot;lle&quot;</td><td>&quot;ets&quot;</td><td>&quot;833&quot;</td><td>&quot;CTG&quot;</td><td>&quot;BTX&quot;</td><td>&quot;Inc&quot;</td><td>&quot;Inc&quot;</td><td>&quot;ger&quot;</td><td>&quot;/33&quot;</td><td>&quot;NIS&quot;</td></tr><tr><td>8154</td><td>&quot;Cynthia&quot;</td><td>&quot;2023-11-14&quot;</td><td>&quot;DarkSalmon&quot;</td><td>false</td><td>891</td><td>9</td><td>5.9632e8</td><td>4.1042e9</td><td>&quot;Greece&quot;</td><td>&quot;South Ronaldhaven&quot;</td><td>&quot;Brent Prairie&quot;</td><td>50038</td><td>55.289272</td><td>&quot;7I RW552&quot;</td><td>&quot;VF2HLEMD1690DK17P&quot;</td><td>&quot;AFOLGBH4&quot;</td><td>&quot;Cruz Ltd&quot;</td><td>&quot;Group&quot;</td><td>&quot;Engineer, automotive&quot;</td><td>&quot;09/28&quot;</td><td>4993489088320546606</td><td>353</td><td>&quot;BAM&quot;</td><td>90.299502</td><td>29.849623</td><td>3.0</td><td>24419.582472</td><td>64064.207644</td><td>223.691752</td><td>7.435676</td><td>2.2346e9</td><td>18.788294</td><td>-0.999993</td><td>-0.93643</td><td>0.412118</td><td>0.869352</td><td>0.440658</td><td>-0.960219</td><td>-0.951905</td><td>-0.840214</td><td>0.90931</td><td>8159</td><td>896</td><td>14</td><td>5.9632e8</td><td>4.1042e9</td><td>50043</td><td>60.289272</td><td>4993489088320546611</td><td>358</td><td>&quot;hia&quot;</td><td>&quot;-14&quot;</td><td>&quot;mon&quot;</td><td>&quot;ece&quot;</td><td>&quot;ven&quot;</td><td>&quot;rie&quot;</td><td>&quot;552&quot;</td><td>&quot;17P&quot;</td><td>&quot;BH4&quot;</td><td>&quot;Ltd&quot;</td><td>&quot;oup&quot;</td><td>&quot;ive&quot;</td><td>&quot;/28&quot;</td><td>&quot;BAM&quot;</td></tr><tr><td>&hellip;</td><td>&hellip;</td><td>&hellip;</td><td>&hellip;</td><td>&hellip;</td><td>&hellip;</td><td>&hellip;</td><td>&hellip;</td><td>&hellip;</td><td>&hellip;</td><td>&hellip;</td><td>&hellip;</td><td>&hellip;</td><td>&hellip;</td><td>&hellip;</td><td>&hellip;</td><td>&hellip;</td><td>&hellip;</td><td>&hellip;</td><td>&hellip;</td><td>&hellip;</td><td>&hellip;</td><td>&hellip;</td><td>&hellip;</td><td>&hellip;</td><td>&hellip;</td><td>&hellip;</td><td>&hellip;</td><td>&hellip;</td><td>&hellip;</td><td>&hellip;</td><td>&hellip;</td><td>&hellip;</td><td>&hellip;</td><td>&hellip;</td><td>&hellip;</td><td>&hellip;</td><td>&hellip;</td><td>&hellip;</td><td>&hellip;</td><td>&hellip;</td><td>&hellip;</td><td>&hellip;</td><td>&hellip;</td><td>&hellip;</td><td>&hellip;</td><td>&hellip;</td><td>&hellip;</td><td>&hellip;</td><td>&hellip;</td><td>&hellip;</td><td>&hellip;</td><td>&hellip;</td><td>&hellip;</td><td>&hellip;</td><td>&hellip;</td><td>&hellip;</td><td>&hellip;</td><td>&hellip;</td><td>&hellip;</td><td>&hellip;</td><td>&hellip;</td><td>&hellip;</td><td>&hellip;</td><td>&hellip;</td></tr><tr><td>4922</td><td>&quot;Alexis&quot;</td><td>&quot;2024-03-24&quot;</td><td>&quot;Green&quot;</td><td>true</td><td>167</td><td>5</td><td>3.9597e8</td><td>9.3008e8</td><td>&quot;Saint Martin&quot;</td><td>&quot;Lake Tara&quot;</td><td>&quot;Donna Harbors&quot;</td><td>241</td><td>-119.632217</td><td>&quot;MVK 678&quot;</td><td>&quot;6R243FV412SPK04A8&quot;</td><td>&quot;OEBIGBIZ&quot;</td><td>&quot;Gutierrez-Davidson&quot;</td><td>&quot;PLC&quot;</td><td>&quot;Clinical scientist, histocompa…</td><td>&quot;04/34&quot;</td><td>4317515348040111</td><td>519</td><td>&quot;KZT&quot;</td><td>70.156967</td><td>12.922848</td><td>2.236068</td><td>19898.898164</td><td>30497.290579</td><td>15.524175</td><td>NaN</td><td>6.5708e7</td><td>22.781571</td><td>0.767984</td><td>-0.47555</td><td>-0.958924</td><td>-0.99032</td><td>-0.936647</td><td>0.784962</td><td>-0.249047</td><td>-0.312088</td><td>-0.594957</td><td>4927</td><td>172</td><td>10</td><td>3.9597e8</td><td>9.3008e8</td><td>246</td><td>-114.632217</td><td>4317515348040116</td><td>524</td><td>&quot;xis&quot;</td><td>&quot;-24&quot;</td><td>&quot;een&quot;</td><td>&quot;tin&quot;</td><td>&quot;ara&quot;</td><td>&quot;ors&quot;</td><td>&quot;678&quot;</td><td>&quot;4A8&quot;</td><td>&quot;BIZ&quot;</td><td>&quot;son&quot;</td><td>&quot;PLC&quot;</td><td>&quot;ics&quot;</td><td>&quot;/34&quot;</td><td>&quot;KZT&quot;</td></tr><tr><td>7522</td><td>&quot;Karen&quot;</td><td>&quot;2017-10-31&quot;</td><td>&quot;Olive&quot;</td><td>false</td><td>227</td><td>10</td><td>3.4249e8</td><td>9.2168e9</td><td>&quot;Belarus&quot;</td><td>&quot;Brownfurt&quot;</td><td>&quot;Frank Wall&quot;</td><td>0</td><td>-50.525241</td><td>&quot;39-KM46&quot;</td><td>&quot;DEDZ4TY44LZT2GL3L&quot;</td><td>&quot;RRMSGB64&quot;</td><td>&quot;Klein-Miller&quot;</td><td>&quot;Inc&quot;</td><td>&quot;Forensic psychologist&quot;</td><td>&quot;04/28&quot;</td><td>2233322460028841</td><td>0</td><td>&quot;VND&quot;</td><td>86.729464</td><td>15.066519</td><td>3.162278</td><td>18506.433395</td><td>96004.345463</td><td>0.0</td><td>NaN</td><td>4.7258e7</td><td>0.0</td><td>0.855848</td><td>0.721059</td><td>-0.544021</td><td>0.573631</td><td>0.630359</td><td>0.0</td><td>-0.256847</td><td>-0.66105</td><td>0.0</td><td>7527</td><td>232</td><td>15</td><td>3.4249e8</td><td>9.2168e9</td><td>5</td><td>-45.525241</td><td>2233322460028846</td><td>5</td><td>&quot;ren&quot;</td><td>&quot;-31&quot;</td><td>&quot;ive&quot;</td><td>&quot;rus&quot;</td><td>&quot;urt&quot;</td><td>&quot;all&quot;</td><td>&quot;M46&quot;</td><td>&quot;L3L&quot;</td><td>&quot;B64&quot;</td><td>&quot;ler&quot;</td><td>&quot;Inc&quot;</td><td>&quot;ist&quot;</td><td>&quot;/28&quot;</td><td>&quot;VND&quot;</td></tr><tr><td>1896</td><td>&quot;Danielle&quot;</td><td>&quot;1998-07-14&quot;</td><td>&quot;HotPink&quot;</td><td>true</td><td>675</td><td>8</td><td>7.7132e8</td><td>5.3113e9</td><td>&quot;Saint Barthelemy&quot;</td><td>&quot;East Robert&quot;</td><td>&quot;Kayla Key&quot;</td><td>49032</td><td>86.667822</td><td>&quot;9S230&quot;</td><td>&quot;LCW80LB322VPX1A8U&quot;</td><td>&quot;ZXCDGBZR&quot;</td><td>&quot;Walton LLC&quot;</td><td>&quot;Ltd&quot;</td><td>&quot;Tax adviser&quot;</td><td>&quot;10/27&quot;</td><td>2696106733714620</td><td>420</td><td>&quot;TTD&quot;</td><td>43.543082</td><td>25.980762</td><td>2.828427</td><td>27772.653048</td><td>72878.477102</td><td>221.431705</td><td>9.309555</td><td>5.1924e7</td><td>20.493902</td><td>-0.998808</td><td>0.428128</td><td>0.989358</td><td>-0.83639</td><td>0.005103</td><td>-0.918178</td><td>-0.96269</td><td>0.837288</td><td>-0.826812</td><td>1901</td><td>680</td><td>13</td><td>7.7132e8</td><td>5.3113e9</td><td>49037</td><td>91.667822</td><td>2696106733714625</td><td>425</td><td>&quot;lle&quot;</td><td>&quot;-14&quot;</td><td>&quot;ink&quot;</td><td>&quot;emy&quot;</td><td>&quot;ert&quot;</td><td>&quot;Key&quot;</td><td>&quot;230&quot;</td><td>&quot;A8U&quot;</td><td>&quot;BZR&quot;</td><td>&quot;LLC&quot;</td><td>&quot;Ltd&quot;</td><td>&quot;ser&quot;</td><td>&quot;/27&quot;</td><td>&quot;TTD&quot;</td></tr><tr><td>6060</td><td>&quot;Mary&quot;</td><td>&quot;1994-10-10&quot;</td><td>&quot;Aqua&quot;</td><td>true</td><td>483</td><td>2</td><td>7.6923e8</td><td>6.7472e9</td><td>&quot;Israel&quot;</td><td>&quot;Mullenmouth&quot;</td><td>&quot;Derrick Rapids&quot;</td><td>9632</td><td>-152.370592</td><td>&quot;ZZR 9029&quot;</td><td>&quot;C8HJX0SW3AGH6TJC0&quot;</td><td>&quot;THUVGBWB&quot;</td><td>&quot;Rivera, Lewis and Miller&quot;</td><td>&quot;LLC&quot;</td><td>&quot;Multimedia specialist&quot;</td><td>&quot;10/27&quot;</td><td>4361042620080</td><td>380</td><td>&quot;ALL&quot;</td><td>77.846002</td><td>21.977261</td><td>1.414214</td><td>27735.059944</td><td>82141.20015</td><td>98.142753</td><td>NaN</td><td>2.0883e6</td><td>19.493589</td><td>0.131844</td><td>-0.721017</td><td>0.909297</td><td>-0.646136</td><td>-0.547439</td><td>-0.122765</td><td>-0.999994</td><td>0.852743</td><td>0.132322</td><td>6065</td><td>488</td><td>7</td><td>7.6923e8</td><td>6.7472e9</td><td>9637</td><td>-147.370592</td><td>4361042620085</td><td>385</td><td>&quot;ary&quot;</td><td>&quot;-10&quot;</td><td>&quot;qua&quot;</td><td>&quot;ael&quot;</td><td>&quot;uth&quot;</td><td>&quot;ids&quot;</td><td>&quot;029&quot;</td><td>&quot;JC0&quot;</td><td>&quot;BWB&quot;</td><td>&quot;ler&quot;</td><td>&quot;LLC&quot;</td><td>&quot;ist&quot;</td><td>&quot;/27&quot;</td><td>&quot;ALL&quot;</td></tr><tr><td>3388</td><td>&quot;Lauren&quot;</td><td>&quot;1996-12-22&quot;</td><td>&quot;DimGray&quot;</td><td>true</td><td>441</td><td>4</td><td>6.3486e7</td><td>7.4084e9</td><td>&quot;Sri Lanka&quot;</td><td>&quot;East Cathy&quot;</td><td>&quot;William Pass&quot;</td><td>493</td><td>-77.921783</td><td>&quot;034 AQC&quot;</td><td>&quot;RPNN1GRWXPBGTUS21&quot;</td><td>&quot;WHEEGBZ8&quot;</td><td>&quot;Harris-King&quot;</td><td>&quot;Ltd&quot;</td><td>&quot;Conservation officer, nature&quot;</td><td>&quot;06/26&quot;</td><td>4405332990603317890</td><td>8932</td><td>&quot;ISK&quot;</td><td>58.206529</td><td>21.0</td><td>2.0</td><td>7967.830888</td><td>86072.282244</td><td>22.203603</td><td>NaN</td><td>2.0989e9</td><td>94.509259</td><td>0.978513</td><td>0.92347</td><td>-0.756802</td><td>0.524353</td><td>-0.981723</td><td>0.228023</td><td>-0.579433</td><td>0.302559</td><td>-0.436843</td><td>3393</td><td>446</td><td>9</td><td>6.3486e7</td><td>7.4084e9</td><td>498</td><td>-72.921783</td><td>4405332990603317895</td><td>8937</td><td>&quot;ren&quot;</td><td>&quot;-22&quot;</td><td>&quot;ray&quot;</td><td>&quot;nka&quot;</td><td>&quot;thy&quot;</td><td>&quot;ass&quot;</td><td>&quot;AQC&quot;</td><td>&quot;S21&quot;</td><td>&quot;BZ8&quot;</td><td>&quot;ing&quot;</td><td>&quot;Ltd&quot;</td><td>&quot;ure&quot;</td><td>&quot;/26&quot;</td><td>&quot;ISK&quot;</td></tr></tbody></table></div>"
      ],
      "text/plain": [
       "shape: (5_000_005, 65)\n",
       "┌──────┬──────────┬────────────┬────────────┬───┬────────────┬────────────┬────────────┬───────────┐\n",
       "│ id   ┆ name     ┆ birth_date ┆ hair_color ┆ … ┆ company_su ┆ job_name_t ┆ credit_car ┆ currency_ │\n",
       "│ ---  ┆ ---      ┆ ---        ┆ ---        ┆   ┆ ffix_tail  ┆ ail        ┆ d_expire_t ┆ tail      │\n",
       "│ i64  ┆ str      ┆ str        ┆ str        ┆   ┆ ---        ┆ ---        ┆ ail        ┆ ---       │\n",
       "│      ┆          ┆            ┆            ┆   ┆ str        ┆ str        ┆ ---        ┆ str       │\n",
       "│      ┆          ┆            ┆            ┆   ┆            ┆            ┆ str        ┆           │\n",
       "╞══════╪══════════╪════════════╪════════════╪═══╪════════════╪════════════╪════════════╪═══════════╡\n",
       "│ 1984 ┆ Jennifer ┆ 2006-05-24 ┆ PaleGolden ┆ … ┆ PLC        ┆ ist        ┆ /28        ┆ NAD       │\n",
       "│      ┆          ┆            ┆ Rod        ┆   ┆            ┆            ┆            ┆           │\n",
       "│ 4377 ┆ John     ┆ 2022-03-15 ┆ Sienna     ┆ … ┆ PLC        ┆ ist        ┆ /32        ┆ TOP       │\n",
       "│ 1668 ┆ April    ┆ 2022-02-20 ┆ DodgerBlue ┆ … ┆ oup        ┆ dio        ┆ /32        ┆ MXN       │\n",
       "│ 1304 ┆ Nathan   ┆ 2013-06-07 ┆ MintCream  ┆ … ┆ Inc        ┆ ger        ┆ /33        ┆ NIS       │\n",
       "│ 8154 ┆ Cynthia  ┆ 2023-11-14 ┆ DarkSalmon ┆ … ┆ oup        ┆ ive        ┆ /28        ┆ BAM       │\n",
       "│ …    ┆ …        ┆ …          ┆ …          ┆ … ┆ …          ┆ …          ┆ …          ┆ …         │\n",
       "│ 4922 ┆ Alexis   ┆ 2024-03-24 ┆ Green      ┆ … ┆ PLC        ┆ ics        ┆ /34        ┆ KZT       │\n",
       "│ 7522 ┆ Karen    ┆ 2017-10-31 ┆ Olive      ┆ … ┆ Inc        ┆ ist        ┆ /28        ┆ VND       │\n",
       "│ 1896 ┆ Danielle ┆ 1998-07-14 ┆ HotPink    ┆ … ┆ Ltd        ┆ ser        ┆ /27        ┆ TTD       │\n",
       "│ 6060 ┆ Mary     ┆ 1994-10-10 ┆ Aqua       ┆ … ┆ LLC        ┆ ist        ┆ /27        ┆ ALL       │\n",
       "│ 3388 ┆ Lauren   ┆ 1996-12-22 ┆ DimGray    ┆ … ┆ Ltd        ┆ ure        ┆ /26        ┆ ISK       │\n",
       "└──────┴──────────┴────────────┴────────────┴───┴────────────┴────────────┴────────────┴───────────┘"
      ]
     },
     "execution_count": 31,
     "metadata": {},
     "output_type": "execute_result"
    }
   ],
   "source": [
    "%%time\n",
    "\n",
    "df.with_columns(\n",
    "    [pl.col(col).sqrt().alias(col + \"_sqrt\") for col in num_cols]\n",
    "    + [pl.col(col).sin().alias(col + \"_sin\") for col in num_cols]\n",
    "    + [(pl.col(col) + 5).alias(col + \"_add\") for col in num_cols]\n",
    "    + [pl.col(col).str.tail(3).alias(col + \"_tail\") for col in cat_cols]\n",
    ").collect()"
   ]
  },
  {
   "cell_type": "code",
   "execution_count": 32,
   "id": "40e3ab29-3801-4f91-b43e-c5e78491b4e2",
   "metadata": {},
   "outputs": [],
   "source": [
    "del df"
   ]
  },
  {
   "cell_type": "code",
   "execution_count": 33,
   "id": "28c79aa3-5e45-4d3e-80c8-e7bffb7a0958",
   "metadata": {},
   "outputs": [],
   "source": [
    "df_pd = pd.read_csv(\"data/dummy_dataset.csv\")"
   ]
  },
  {
   "cell_type": "code",
   "execution_count": 34,
   "id": "202b1b52-6c10-4486-8d8e-026ab7c89ec5",
   "metadata": {},
   "outputs": [
    {
     "name": "stderr",
     "output_type": "stream",
     "text": [
      "/Users/ptrbelonovsky/Library/Caches/pypoetry/virtualenvs/polars-rapidsai-WltIunKW-py3.10/lib/python3.10/site-packages/pandas/core/internals/blocks.py:393: RuntimeWarning: invalid value encountered in sqrt\n",
      "  result = func(self.values, **kwargs)\n"
     ]
    },
    {
     "name": "stdout",
     "output_type": "stream",
     "text": [
      "CPU times: user 10.9 s, sys: 5.95 s, total: 16.9 s\n",
      "Wall time: 19.2 s\n"
     ]
    },
    {
     "data": {
      "text/html": [
       "<div>\n",
       "<style scoped>\n",
       "    .dataframe tbody tr th:only-of-type {\n",
       "        vertical-align: middle;\n",
       "    }\n",
       "\n",
       "    .dataframe tbody tr th {\n",
       "        vertical-align: top;\n",
       "    }\n",
       "\n",
       "    .dataframe thead th {\n",
       "        text-align: right;\n",
       "    }\n",
       "</style>\n",
       "<table border=\"1\" class=\"dataframe\">\n",
       "  <thead>\n",
       "    <tr style=\"text-align: right;\">\n",
       "      <th></th>\n",
       "      <th>id</th>\n",
       "      <th>name</th>\n",
       "      <th>birth_date</th>\n",
       "      <th>hair_color</th>\n",
       "      <th>is_MU_fan</th>\n",
       "      <th>iq</th>\n",
       "      <th>accession_month</th>\n",
       "      <th>balance</th>\n",
       "      <th>debt</th>\n",
       "      <th>country</th>\n",
       "      <th>...</th>\n",
       "      <th>city_tail</th>\n",
       "      <th>street_name_tail</th>\n",
       "      <th>license_plate_tail</th>\n",
       "      <th>vin_tail</th>\n",
       "      <th>swift_tail</th>\n",
       "      <th>company_name_tail</th>\n",
       "      <th>company_suffix_tail</th>\n",
       "      <th>job_name_tail</th>\n",
       "      <th>credit_card_expire_tail</th>\n",
       "      <th>currency_tail</th>\n",
       "    </tr>\n",
       "  </thead>\n",
       "  <tbody>\n",
       "    <tr>\n",
       "      <th>0</th>\n",
       "      <td>1984</td>\n",
       "      <td>Jennifer</td>\n",
       "      <td>2006-05-24</td>\n",
       "      <td>PaleGoldenRod</td>\n",
       "      <td>True</td>\n",
       "      <td>906</td>\n",
       "      <td>7</td>\n",
       "      <td>9.745830e+08</td>\n",
       "      <td>9.630154e+09</td>\n",
       "      <td>Bolivia</td>\n",
       "      <td>...</td>\n",
       "      <td>rey</td>\n",
       "      <td>ass</td>\n",
       "      <td>D16</td>\n",
       "      <td>H9R</td>\n",
       "      <td>B73</td>\n",
       "      <td>PLC</td>\n",
       "      <td>PLC</td>\n",
       "      <td>ist</td>\n",
       "      <td>/28</td>\n",
       "      <td>NAD</td>\n",
       "    </tr>\n",
       "    <tr>\n",
       "      <th>1</th>\n",
       "      <td>4377</td>\n",
       "      <td>John</td>\n",
       "      <td>2022-03-15</td>\n",
       "      <td>Sienna</td>\n",
       "      <td>False</td>\n",
       "      <td>235</td>\n",
       "      <td>1</td>\n",
       "      <td>5.788752e+08</td>\n",
       "      <td>2.948310e+09</td>\n",
       "      <td>Egypt</td>\n",
       "      <td>...</td>\n",
       "      <td>ugh</td>\n",
       "      <td>ale</td>\n",
       "      <td>J96</td>\n",
       "      <td>MM8</td>\n",
       "      <td>BPC</td>\n",
       "      <td>oup</td>\n",
       "      <td>PLC</td>\n",
       "      <td>ist</td>\n",
       "      <td>/32</td>\n",
       "      <td>TOP</td>\n",
       "    </tr>\n",
       "    <tr>\n",
       "      <th>2</th>\n",
       "      <td>1668</td>\n",
       "      <td>April</td>\n",
       "      <td>2022-02-20</td>\n",
       "      <td>DodgerBlue</td>\n",
       "      <td>False</td>\n",
       "      <td>387</td>\n",
       "      <td>2</td>\n",
       "      <td>3.645481e+07</td>\n",
       "      <td>1.199658e+09</td>\n",
       "      <td>Namibia</td>\n",
       "      <td>...</td>\n",
       "      <td>and</td>\n",
       "      <td>ock</td>\n",
       "      <td>810</td>\n",
       "      <td>LLW</td>\n",
       "      <td>BAD</td>\n",
       "      <td>nez</td>\n",
       "      <td>oup</td>\n",
       "      <td>dio</td>\n",
       "      <td>/32</td>\n",
       "      <td>MXN</td>\n",
       "    </tr>\n",
       "    <tr>\n",
       "      <th>3</th>\n",
       "      <td>1304</td>\n",
       "      <td>Nathan</td>\n",
       "      <td>2013-06-07</td>\n",
       "      <td>MintCream</td>\n",
       "      <td>True</td>\n",
       "      <td>320</td>\n",
       "      <td>5</td>\n",
       "      <td>7.105562e+08</td>\n",
       "      <td>9.140145e+08</td>\n",
       "      <td>Switzerland</td>\n",
       "      <td>...</td>\n",
       "      <td>lle</td>\n",
       "      <td>ets</td>\n",
       "      <td>833</td>\n",
       "      <td>CTG</td>\n",
       "      <td>BTX</td>\n",
       "      <td>Inc</td>\n",
       "      <td>Inc</td>\n",
       "      <td>ger</td>\n",
       "      <td>/33</td>\n",
       "      <td>NIS</td>\n",
       "    </tr>\n",
       "    <tr>\n",
       "      <th>4</th>\n",
       "      <td>8154</td>\n",
       "      <td>Cynthia</td>\n",
       "      <td>2023-11-14</td>\n",
       "      <td>DarkSalmon</td>\n",
       "      <td>False</td>\n",
       "      <td>891</td>\n",
       "      <td>9</td>\n",
       "      <td>5.963160e+08</td>\n",
       "      <td>4.104223e+09</td>\n",
       "      <td>Greece</td>\n",
       "      <td>...</td>\n",
       "      <td>ven</td>\n",
       "      <td>rie</td>\n",
       "      <td>552</td>\n",
       "      <td>17P</td>\n",
       "      <td>BH4</td>\n",
       "      <td>Ltd</td>\n",
       "      <td>oup</td>\n",
       "      <td>ive</td>\n",
       "      <td>/28</td>\n",
       "      <td>BAM</td>\n",
       "    </tr>\n",
       "    <tr>\n",
       "      <th>...</th>\n",
       "      <td>...</td>\n",
       "      <td>...</td>\n",
       "      <td>...</td>\n",
       "      <td>...</td>\n",
       "      <td>...</td>\n",
       "      <td>...</td>\n",
       "      <td>...</td>\n",
       "      <td>...</td>\n",
       "      <td>...</td>\n",
       "      <td>...</td>\n",
       "      <td>...</td>\n",
       "      <td>...</td>\n",
       "      <td>...</td>\n",
       "      <td>...</td>\n",
       "      <td>...</td>\n",
       "      <td>...</td>\n",
       "      <td>...</td>\n",
       "      <td>...</td>\n",
       "      <td>...</td>\n",
       "      <td>...</td>\n",
       "      <td>...</td>\n",
       "    </tr>\n",
       "    <tr>\n",
       "      <th>5000000</th>\n",
       "      <td>4922</td>\n",
       "      <td>Alexis</td>\n",
       "      <td>2024-03-24</td>\n",
       "      <td>Green</td>\n",
       "      <td>True</td>\n",
       "      <td>167</td>\n",
       "      <td>5</td>\n",
       "      <td>3.959661e+08</td>\n",
       "      <td>9.300847e+08</td>\n",
       "      <td>Saint Martin</td>\n",
       "      <td>...</td>\n",
       "      <td>ara</td>\n",
       "      <td>ors</td>\n",
       "      <td>678</td>\n",
       "      <td>4A8</td>\n",
       "      <td>BIZ</td>\n",
       "      <td>son</td>\n",
       "      <td>PLC</td>\n",
       "      <td>ics</td>\n",
       "      <td>/34</td>\n",
       "      <td>KZT</td>\n",
       "    </tr>\n",
       "    <tr>\n",
       "      <th>5000001</th>\n",
       "      <td>7522</td>\n",
       "      <td>Karen</td>\n",
       "      <td>2017-10-31</td>\n",
       "      <td>Olive</td>\n",
       "      <td>False</td>\n",
       "      <td>227</td>\n",
       "      <td>10</td>\n",
       "      <td>3.424881e+08</td>\n",
       "      <td>9.216834e+09</td>\n",
       "      <td>Belarus</td>\n",
       "      <td>...</td>\n",
       "      <td>urt</td>\n",
       "      <td>all</td>\n",
       "      <td>M46</td>\n",
       "      <td>L3L</td>\n",
       "      <td>B64</td>\n",
       "      <td>ler</td>\n",
       "      <td>Inc</td>\n",
       "      <td>ist</td>\n",
       "      <td>/28</td>\n",
       "      <td>VND</td>\n",
       "    </tr>\n",
       "    <tr>\n",
       "      <th>5000002</th>\n",
       "      <td>1896</td>\n",
       "      <td>Danielle</td>\n",
       "      <td>1998-07-14</td>\n",
       "      <td>HotPink</td>\n",
       "      <td>True</td>\n",
       "      <td>675</td>\n",
       "      <td>8</td>\n",
       "      <td>7.713203e+08</td>\n",
       "      <td>5.311272e+09</td>\n",
       "      <td>Saint Barthelemy</td>\n",
       "      <td>...</td>\n",
       "      <td>ert</td>\n",
       "      <td>Key</td>\n",
       "      <td>230</td>\n",
       "      <td>A8U</td>\n",
       "      <td>BZR</td>\n",
       "      <td>LLC</td>\n",
       "      <td>Ltd</td>\n",
       "      <td>ser</td>\n",
       "      <td>/27</td>\n",
       "      <td>TTD</td>\n",
       "    </tr>\n",
       "    <tr>\n",
       "      <th>5000003</th>\n",
       "      <td>6060</td>\n",
       "      <td>Mary</td>\n",
       "      <td>1994-10-10</td>\n",
       "      <td>Aqua</td>\n",
       "      <td>True</td>\n",
       "      <td>483</td>\n",
       "      <td>2</td>\n",
       "      <td>7.692336e+08</td>\n",
       "      <td>6.747177e+09</td>\n",
       "      <td>Israel</td>\n",
       "      <td>...</td>\n",
       "      <td>uth</td>\n",
       "      <td>ids</td>\n",
       "      <td>029</td>\n",
       "      <td>JC0</td>\n",
       "      <td>BWB</td>\n",
       "      <td>ler</td>\n",
       "      <td>LLC</td>\n",
       "      <td>ist</td>\n",
       "      <td>/27</td>\n",
       "      <td>ALL</td>\n",
       "    </tr>\n",
       "    <tr>\n",
       "      <th>5000004</th>\n",
       "      <td>3388</td>\n",
       "      <td>Lauren</td>\n",
       "      <td>1996-12-22</td>\n",
       "      <td>DimGray</td>\n",
       "      <td>True</td>\n",
       "      <td>441</td>\n",
       "      <td>4</td>\n",
       "      <td>6.348633e+07</td>\n",
       "      <td>7.408438e+09</td>\n",
       "      <td>Sri Lanka</td>\n",
       "      <td>...</td>\n",
       "      <td>thy</td>\n",
       "      <td>ass</td>\n",
       "      <td>AQC</td>\n",
       "      <td>S21</td>\n",
       "      <td>BZ8</td>\n",
       "      <td>ing</td>\n",
       "      <td>Ltd</td>\n",
       "      <td>ure</td>\n",
       "      <td>/26</td>\n",
       "      <td>ISK</td>\n",
       "    </tr>\n",
       "  </tbody>\n",
       "</table>\n",
       "<p>5000005 rows × 65 columns</p>\n",
       "</div>"
      ],
      "text/plain": [
       "           id      name  birth_date     hair_color  is_MU_fan   iq  \\\n",
       "0        1984  Jennifer  2006-05-24  PaleGoldenRod       True  906   \n",
       "1        4377      John  2022-03-15         Sienna      False  235   \n",
       "2        1668     April  2022-02-20     DodgerBlue      False  387   \n",
       "3        1304    Nathan  2013-06-07      MintCream       True  320   \n",
       "4        8154   Cynthia  2023-11-14     DarkSalmon      False  891   \n",
       "...       ...       ...         ...            ...        ...  ...   \n",
       "5000000  4922    Alexis  2024-03-24          Green       True  167   \n",
       "5000001  7522     Karen  2017-10-31          Olive      False  227   \n",
       "5000002  1896  Danielle  1998-07-14        HotPink       True  675   \n",
       "5000003  6060      Mary  1994-10-10           Aqua       True  483   \n",
       "5000004  3388    Lauren  1996-12-22        DimGray       True  441   \n",
       "\n",
       "         accession_month       balance          debt           country  ...  \\\n",
       "0                      7  9.745830e+08  9.630154e+09           Bolivia  ...   \n",
       "1                      1  5.788752e+08  2.948310e+09             Egypt  ...   \n",
       "2                      2  3.645481e+07  1.199658e+09           Namibia  ...   \n",
       "3                      5  7.105562e+08  9.140145e+08       Switzerland  ...   \n",
       "4                      9  5.963160e+08  4.104223e+09            Greece  ...   \n",
       "...                  ...           ...           ...               ...  ...   \n",
       "5000000                5  3.959661e+08  9.300847e+08      Saint Martin  ...   \n",
       "5000001               10  3.424881e+08  9.216834e+09           Belarus  ...   \n",
       "5000002                8  7.713203e+08  5.311272e+09  Saint Barthelemy  ...   \n",
       "5000003                2  7.692336e+08  6.747177e+09            Israel  ...   \n",
       "5000004                4  6.348633e+07  7.408438e+09         Sri Lanka  ...   \n",
       "\n",
       "        city_tail street_name_tail  license_plate_tail  vin_tail swift_tail  \\\n",
       "0             rey              ass                 D16       H9R        B73   \n",
       "1             ugh              ale                 J96       MM8        BPC   \n",
       "2             and              ock                 810       LLW        BAD   \n",
       "3             lle              ets                 833       CTG        BTX   \n",
       "4             ven              rie                 552       17P        BH4   \n",
       "...           ...              ...                 ...       ...        ...   \n",
       "5000000       ara              ors                 678       4A8        BIZ   \n",
       "5000001       urt              all                 M46       L3L        B64   \n",
       "5000002       ert              Key                 230       A8U        BZR   \n",
       "5000003       uth              ids                 029       JC0        BWB   \n",
       "5000004       thy              ass                 AQC       S21        BZ8   \n",
       "\n",
       "        company_name_tail company_suffix_tail job_name_tail  \\\n",
       "0                     PLC                 PLC           ist   \n",
       "1                     oup                 PLC           ist   \n",
       "2                     nez                 oup           dio   \n",
       "3                     Inc                 Inc           ger   \n",
       "4                     Ltd                 oup           ive   \n",
       "...                   ...                 ...           ...   \n",
       "5000000               son                 PLC           ics   \n",
       "5000001               ler                 Inc           ist   \n",
       "5000002               LLC                 Ltd           ser   \n",
       "5000003               ler                 LLC           ist   \n",
       "5000004               ing                 Ltd           ure   \n",
       "\n",
       "        credit_card_expire_tail currency_tail  \n",
       "0                           /28           NAD  \n",
       "1                           /32           TOP  \n",
       "2                           /32           MXN  \n",
       "3                           /33           NIS  \n",
       "4                           /28           BAM  \n",
       "...                         ...           ...  \n",
       "5000000                     /34           KZT  \n",
       "5000001                     /28           VND  \n",
       "5000002                     /27           TTD  \n",
       "5000003                     /27           ALL  \n",
       "5000004                     /26           ISK  \n",
       "\n",
       "[5000005 rows x 65 columns]"
      ]
     },
     "execution_count": 34,
     "metadata": {},
     "output_type": "execute_result"
    }
   ],
   "source": [
    "%%time\n",
    "df_pd[[col + \"_sqrt\" for col in num_cols]] = np.sqrt(df_pd[num_cols])\n",
    "df_pd[[col + \"_sin\" for col in num_cols]] = np.sin(df_pd[num_cols])\n",
    "df_pd[[col + \"_add\" for col in num_cols]] = df_pd[num_cols] + 5\n",
    "df_pd.assign(**{col + \"_tail\": df_pd[col].str[-3:] for col in cat_cols})"
   ]
  },
  {
   "cell_type": "code",
   "execution_count": 35,
   "id": "8f180027-4379-47e7-bec5-31d1a5dc8fcf",
   "metadata": {},
   "outputs": [
    {
     "data": {
      "text/plain": [
       "258"
      ]
     },
     "execution_count": 35,
     "metadata": {},
     "output_type": "execute_result"
    }
   ],
   "source": [
    "del df_pd\n",
    "gc.collect()"
   ]
  },
  {
   "cell_type": "markdown",
   "id": "adf5449c-3e23-43f0-b6a3-e101763865a3",
   "metadata": {},
   "source": [
    "**How poeple that use polars feel like:**\n",
    "\n",
    "![](https://media1.tenor.com/m/fx8F06O7lQsAAAAd/monkey-monkey-funny.gif)\n",
    "\n",
    "\n",
    "**How poeple that use pandas feel like:**\n",
    "\n",
    "![](https://media1.tenor.com/m/78_RIrgHwnkAAAAd/monkey-sad-monkey.gif)"
   ]
  },
  {
   "cell_type": "code",
   "execution_count": null,
   "id": "5a46f3a2-d95d-4caf-b324-4e309f67669e",
   "metadata": {},
   "outputs": [],
   "source": []
  }
 ],
 "metadata": {
  "kernelspec": {
   "display_name": "Python 3 (ipykernel)",
   "language": "python",
   "name": "python3"
  },
  "language_info": {
   "codemirror_mode": {
    "name": "ipython",
    "version": 3
   },
   "file_extension": ".py",
   "mimetype": "text/x-python",
   "name": "python",
   "nbconvert_exporter": "python",
   "pygments_lexer": "ipython3",
   "version": "3.10.13"
  }
 },
 "nbformat": 4,
 "nbformat_minor": 5
}
